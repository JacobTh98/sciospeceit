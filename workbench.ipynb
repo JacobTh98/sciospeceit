{
 "cells": [
  {
   "cell_type": "code",
   "execution_count": 1,
   "metadata": {},
   "outputs": [],
   "source": [
    "import sciopy as scpy"
   ]
  },
  {
   "cell_type": "code",
   "execution_count": 2,
   "metadata": {},
   "outputs": [
    {
     "name": "stdout",
     "output_type": "stream",
     "text": [
      "Saved Settings: 0x90\n"
     ]
    }
   ],
   "source": [
    "scpy.save_settings()"
   ]
  },
  {
   "cell_type": "code",
   "execution_count": 3,
   "metadata": {},
   "outputs": [
    {
     "name": "stdout",
     "output_type": "stream",
     "text": [
      "Software reset: 0xA1\n"
     ]
    }
   ],
   "source": [
    "scpy.software_reset()"
   ]
  },
  {
   "cell_type": "code",
   "execution_count": 5,
   "metadata": {},
   "outputs": [
    {
     "name": "stdout",
     "output_type": "stream",
     "text": [
      "Communication-frames with incorrect syntax will cause a “Frame-Not-Acknowledge” message\n",
      "If the transmission of a communication-frame is interrupted for more than 10 ms a “Timeout” message is send\n",
      "Every invalid command-tag will cause a “Not-Acknowledge” message\n",
      "Every valid command is acknowledged with an acknowledge command [ACK]\n",
      "For commands with a return value the returning frame comes before the acknowledge message\n",
      "When commands are sent during the current measurements, measurement data can be transmitted between the command and the following returning frame and the acknowledge-message (commands are handled asynchronously)\n",
      "Before sending a new command, the resulting acknowledge or not acknowledge of the previous command has to be awaited.\n"
     ]
    }
   ],
   "source": [
    "scpy.acknowledge_messages()"
   ]
  },
  {
   "cell_type": "code",
   "execution_count": null,
   "metadata": {},
   "outputs": [],
   "source": []
  }
 ],
 "metadata": {
  "kernelspec": {
   "display_name": "Python 3",
   "language": "python",
   "name": "python3"
  },
  "language_info": {
   "codemirror_mode": {
    "name": "ipython",
    "version": 3
   },
   "file_extension": ".py",
   "mimetype": "text/x-python",
   "name": "python",
   "nbconvert_exporter": "python",
   "pygments_lexer": "ipython3",
   "version": "3.11.1"
  },
  "orig_nbformat": 4,
  "vscode": {
   "interpreter": {
    "hash": "3763944a4a3920393802e3ea07712e60c320e6d6d7c6984563aa6b68a161f9d3"
   }
  }
 },
 "nbformat": 4,
 "nbformat_minor": 2
}
