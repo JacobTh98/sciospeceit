{
 "cells": [
  {
   "cell_type": "code",
   "execution_count": 1,
   "id": "5d3d0d3f",
   "metadata": {
    "vscode": {
     "languageId": "plaintext"
    }
   },
   "outputs": [],
   "source": [
    "import numpy as np\n",
    "import sciopy as sc"
   ]
  },
  {
   "cell_type": "code",
   "execution_count": 2,
   "id": "07164164",
   "metadata": {
    "vscode": {
     "languageId": "plaintext"
    }
   },
   "outputs": [
    {
     "name": "stdout",
     "output_type": "stream",
     "text": [
      "Connection to COM3 is established.\n"
     ]
    }
   ],
   "source": [
    "ser = sc.connect_COM_port()"
   ]
  },
  {
   "cell_type": "code",
   "execution_count": 3,
   "id": "65d156fa-79e6-4989-b49c-ba4f3c5bd263",
   "metadata": {},
   "outputs": [],
   "source": [
    "def GeneralSystemMessages(serial) -> str:\n",
    "    \"\"\"Reads the message buffer of a serial connection. Also prints out the general system message.\"\"\"\n",
    "    msg_dict = {\n",
    "        b\"\\x02\": \"Timeout: Communication-timeout (less data than expected)\",\n",
    "        b\"\\x04\": \"Wake-Up Message: System boot ready\",\n",
    "        b\"\\x11\": \"TCP-Socket: Valid TCP client-socket connection\",\n",
    "        b\"\\x81\": \"Not-Acknowledge: Command has not been executed\",\n",
    "        b\"\\x82\": \"Not-Acknowledge: Command could not be recognized\",\n",
    "        b\"\\x83\": \"Command-Acknowledge: Command has been executed successfully\",\n",
    "        b\"\\x84\": \"System-Ready Message: System is operational and ready to receive data\",\n",
    "        b\"\\x91\": \"Data holdup: Measurement data could not be sent via the master interface\",\n",
    "    }\n",
    "    start_cmd_tag = serial.read()\n",
    "    cmd_msg_len = serial.read()\n",
    "    if int.from_bytes(cmd_msg_len, \"big\") == 1:\n",
    "        msg = msg_dict[serial.read()]\n",
    "    else:\n",
    "        msg = [serial.read() for i in range(int.from_bytes(cmd_msg_len, \"big\"))]    \n",
    "        msg = [int.from_bytes(m, \"big\") for m in msg]\n",
    "    if start_cmd_tag == serial.read():\n",
    "        return msg"
   ]
  },
  {
   "cell_type": "code",
   "execution_count": 4,
   "id": "653bd1df-3875-471c-a2d9-e8f1d0e8c427",
   "metadata": {},
   "outputs": [],
   "source": [
    "def GetFirmwareIDs(serial) -> None:\n",
    "    \"\"\"Get firmware IDs\"\"\"\n",
    "    serial.write(bytearray([0xD2, 0x00, 0xD2]))\n",
    "    callback = GeneralSystemMessages(serial)\n",
    "    print(callback)"
   ]
  },
  {
   "cell_type": "code",
   "execution_count": 7,
   "id": "62d9f2d5-2f6e-427b-9d95-c3233dbe79e2",
   "metadata": {},
   "outputs": [
    {
     "name": "stdout",
     "output_type": "stream",
     "text": [
      "[1, 17, 0, 25, 0, 11, 64, 0, 9, 0, 37, 2, 201, 0, 15, 1, 17, 0, 25, 0, 11, 64, 0, 9, 0, 37, 2, 201, 0, 15]\n"
     ]
    }
   ],
   "source": [
    "GetFirmwareIDs(ser)"
   ]
  },
  {
   "cell_type": "code",
   "execution_count": 6,
   "id": "8e8fb52e-7718-4de2-97e1-dd6dcfef9be3",
   "metadata": {},
   "outputs": [],
   "source": [
    "def SoftwareReset(serial) -> None:\n",
    "    serial.write(bytearray([0xA1, 0x00, 0xA1]))\n",
    "    callback = GeneralSystemMessages(serial)\n",
    "    print(callback)"
   ]
  },
  {
   "cell_type": "code",
   "execution_count": 8,
   "id": "0f619c59-fb96-4c86-8dcc-fe0646ba2861",
   "metadata": {},
   "outputs": [],
   "source": [
    "def ResetMeasurementSetup(serial):\n",
    "    serial.write(bytearray([0xB0, 0x01, 0x01, 0xB0]))\n",
    "    callback = GeneralSystemMessages(serial)\n",
    "    print(callback)"
   ]
  },
  {
   "cell_type": "code",
   "execution_count": 18,
   "id": "135d771a-45a5-44e8-9eb2-6f2eadd23cbf",
   "metadata": {},
   "outputs": [
    {
     "name": "stdout",
     "output_type": "stream",
     "text": [
      "Command-Acknowledge: Command has been executed successfully\n"
     ]
    }
   ],
   "source": [
    "ResetMeasurementSetup(ser)"
   ]
  },
  {
   "cell_type": "markdown",
   "id": "b2a9ba54-0e5d-4738-b8b5-7143ab63de9c",
   "metadata": {},
   "source": [
    "# Final Running schedule"
   ]
  },
  {
   "cell_type": "code",
   "execution_count": 3,
   "id": "df94e7a6-3858-4d81-a945-d30b83bc4905",
   "metadata": {},
   "outputs": [],
   "source": [
    "def Config_01(serial) -> None:\n",
    "    serial.write(bytearray([0xB0, 0x01, 0x01, 0xB0]))\n",
    "    serial.write(bytearray([0xB0, 0x03, 0x02, 0x00, 0x09, 0xB0]))\n",
    "    serial.write(\n",
    "        bytearray(\n",
    "            [0xB0, 0x09, 0x05, 0x3F, 0x50, 0x62, 0x4D, 0xD2, 0xF1, 0xA9, 0xFC, 0xB0]\n",
    "        )\n",
    "    )\n",
    "    serial.write(bytearray([0xB0, 0x02, 0x0D, 0x01, 0xB0]))\n",
    "    serial.write(bytearray([0xB0, 0x03, 0x09, 0x01, 0x00, 0xB0]))\n",
    "    serial.write(bytearray([0xB0, 0x03, 0x08, 0x01, 0x01, 0xB0]))\n",
    "    serial.write(bytearray([0xB0, 0x02, 0x0C, 0x01, 0xB0]))\n",
    "    serial.write(bytearray([0xB0, 0x05, 0x03, 0x40, 0x00, 0x00, 0x00, 0xB0]))\n",
    "    serial.write(\n",
    "        bytearray(\n",
    "            [\n",
    "                0xB0,\n",
    "                0x0C,\n",
    "                0x04,\n",
    "                0x44,\n",
    "                0x7A,\n",
    "                0x00,\n",
    "                0x00,\n",
    "                0x44,\n",
    "                0x7A,\n",
    "                0x00,\n",
    "                0x00,\n",
    "                0x00,\n",
    "                0x01,\n",
    "                0x00,\n",
    "                0xB0,\n",
    "            ]\n",
    "        )\n",
    "    )\n",
    "    serial.write(bytearray([0xB0, 0x03, 0x06, 0x01, 0x02, 0xB0]))\n",
    "    serial.write(bytearray([0xB0, 0x03, 0x06, 0x02, 0x03, 0xB0]))\n",
    "    serial.write(bytearray([0xB0, 0x03, 0x06, 0x03, 0x04, 0xB0]))\n",
    "    serial.write(bytearray([0xB0, 0x03, 0x06, 0x04, 0x05, 0xB0]))\n",
    "    serial.write(bytearray([0xB0, 0x03, 0x06, 0x05, 0x06, 0xB0]))\n",
    "    serial.write(bytearray([0xB0, 0x03, 0x06, 0x06, 0x07, 0xB0]))\n",
    "    serial.write(bytearray([0xB0, 0x03, 0x06, 0x07, 0x08, 0xB0]))\n",
    "    serial.write(bytearray([0xB0, 0x03, 0x06, 0x08, 0x09, 0xB0]))\n",
    "    serial.write(bytearray([0xB0, 0x03, 0x06, 0x09, 0x0A, 0xB0]))\n",
    "    serial.write(bytearray([0xB0, 0x03, 0x06, 0x0A, 0x0B, 0xB0]))\n",
    "    serial.write(bytearray([0xB0, 0x03, 0x06, 0x0B, 0x0C, 0xB0]))\n",
    "    serial.write(bytearray([0xB0, 0x03, 0x06, 0x0C, 0x0D, 0xB0]))\n",
    "    serial.write(bytearray([0xB0, 0x03, 0x06, 0x0D, 0x0E, 0xB0]))\n",
    "    serial.write(bytearray([0xB0, 0x03, 0x06, 0x0E, 0x0F, 0xB0]))\n",
    "    serial.write(bytearray([0xB0, 0x03, 0x06, 0x0F, 0x10, 0xB0]))\n",
    "    serial.write(bytearray([0xB0, 0x03, 0x06, 0x10, 0x11, 0xB0]))\n",
    "    serial.write(bytearray([0xB0, 0x03, 0x06, 0x11, 0x12, 0xB0]))\n",
    "    serial.write(bytearray([0xB0, 0x03, 0x06, 0x12, 0x13, 0xB0]))\n",
    "    serial.write(bytearray([0xB0, 0x03, 0x06, 0x13, 0x14, 0xB0]))\n",
    "    serial.write(bytearray([0xB0, 0x03, 0x06, 0x14, 0x15, 0xB0]))\n",
    "    serial.write(bytearray([0xB0, 0x03, 0x06, 0x15, 0x16, 0xB0]))\n",
    "    serial.write(bytearray([0xB0, 0x03, 0x06, 0x16, 0x17, 0xB0]))\n",
    "    serial.write(bytearray([0xB0, 0x03, 0x06, 0x17, 0x18, 0xB0]))\n",
    "    serial.write(bytearray([0xB0, 0x03, 0x06, 0x18, 0x19, 0xB0]))\n",
    "    serial.write(bytearray([0xB0, 0x03, 0x06, 0x19, 0x1A, 0xB0]))\n",
    "    serial.write(bytearray([0xB0, 0x03, 0x06, 0x1A, 0x1B, 0xB0]))\n",
    "    serial.write(bytearray([0xB0, 0x03, 0x06, 0x1B, 0x1C, 0xB0]))\n",
    "    serial.write(bytearray([0xB0, 0x03, 0x06, 0x1C, 0x1D, 0xB0]))\n",
    "    serial.write(bytearray([0xB0, 0x03, 0x06, 0x1D, 0x1E, 0xB0]))\n",
    "    serial.write(bytearray([0xB0, 0x03, 0x06, 0x1E, 0x1F, 0xB0]))\n",
    "    serial.write(bytearray([0xB0, 0x03, 0x06, 0x1F, 0x20, 0xB0]))\n",
    "    serial.write(bytearray([0xB0, 0x03, 0x06, 0x20, 0x01, 0xB0]))\n",
    "    serial.write(bytearray([0xB1, 0x01, 0x03, 0xB1]))\n",
    "    serial.write(bytearray([0xB2, 0x02, 0x01, 0x01, 0xB2]))\n",
    "    serial.write(bytearray([0xB2, 0x02, 0x03, 0x01, 0xB2]))\n",
    "    serial.write(bytearray([0xB2, 0x02, 0x02, 0x01, 0xB2]))\n",
    "    serial.write(bytearray([0xB4, 0x01, 0x01, 0xB4]))\n",
    "    sleep(10)\n",
    "    serial.write(bytearray([0xB4, 0x01, 0x00, 0xB4]))\n"
   ]
  },
  {
   "cell_type": "code",
   "execution_count": 5,
   "id": "5aca80ed-4fc9-42f6-949d-09227281f8dd",
   "metadata": {},
   "outputs": [],
   "source": [
    "from time import sleep\n",
    "Config_01(ser)"
   ]
  },
  {
   "cell_type": "code",
   "execution_count": null,
   "id": "8d842676-a13d-48f7-8db4-df038885046f",
   "metadata": {},
   "outputs": [],
   "source": []
  }
 ],
 "metadata": {
  "kernelspec": {
   "display_name": "Python 3 (ipykernel)",
   "language": "python",
   "name": "python3"
  },
  "language_info": {
   "codemirror_mode": {
    "name": "ipython",
    "version": 3
   },
   "file_extension": ".py",
   "mimetype": "text/x-python",
   "name": "python",
   "nbconvert_exporter": "python",
   "pygments_lexer": "ipython3",
   "version": "3.9.13"
  }
 },
 "nbformat": 4,
 "nbformat_minor": 5
}
