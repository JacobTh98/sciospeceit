{
 "cells": [
  {
   "cell_type": "code",
   "execution_count": 1,
   "id": "5d3d0d3f",
   "metadata": {
    "vscode": {
     "languageId": "plaintext"
    }
   },
   "outputs": [],
   "source": [
    "import numpy as np\n",
    "import sciopy as sc"
   ]
  },
  {
   "cell_type": "code",
   "execution_count": 2,
   "id": "5c6477da-353d-44a7-b506-ee788e8383c6",
   "metadata": {},
   "outputs": [
    {
     "data": {
      "text/plain": [
       "['COM1', 'COM3']"
      ]
     },
     "execution_count": 2,
     "metadata": {},
     "output_type": "execute_result"
    }
   ],
   "source": [
    "sc.available_serial_ports()"
   ]
  },
  {
   "cell_type": "code",
   "execution_count": 3,
   "id": "07164164",
   "metadata": {
    "vscode": {
     "languageId": "plaintext"
    }
   },
   "outputs": [
    {
     "name": "stdout",
     "output_type": "stream",
     "text": [
      "Connection to COM3 is established.\n"
     ]
    }
   ],
   "source": [
    "ser = sc.connect_COM_port('COM3')"
   ]
  },
  {
   "cell_type": "code",
   "execution_count": 4,
   "id": "65d156fa-79e6-4989-b49c-ba4f3c5bd263",
   "metadata": {},
   "outputs": [],
   "source": [
    "def GeneralSystemMessages(serial, msg_old:list=[]): # Why returns this function none?!?!?!\n",
    "    \"\"\"Reads the message buffer of a serial connection. Also prints out the general system message.\"\"\"\n",
    "    msg_dict = {\n",
    "        b\"\\x02\": \"Timeout: Communication-timeout (less data than expected)\",\n",
    "        b\"\\x04\": \"Wake-Up Message: System boot ready\",\n",
    "        b\"\\x11\": \"TCP-Socket: Valid TCP client-socket connection\",\n",
    "        b\"\\x81\": \"Not-Acknowledge: Command has not been executed\",\n",
    "        b\"\\x82\": \"Not-Acknowledge: Command could not be recognized\",\n",
    "        b\"\\x83\": \"Command-Acknowledge: Command has been executed successfully\",\n",
    "        b\"\\x84\": \"System-Ready Message: System is operational and ready to receive data\",\n",
    "        b\"\\x91\": \"Data holdup: Measurement data could not be sent via the master interface\",\n",
    "    }\n",
    "    msg_new = []\n",
    "   \n",
    "    start_cmd_tag = serial.read() # Read start tag.\n",
    "    cmd_msg_len = int.from_bytes(serial.read(), \"big\") # Read length of the message.\n",
    "    if msg_old: # msg_old has elements:\n",
    "        #msg_new.extend(start_cmd_tag)\n",
    "        msg_new.extend([serial.read() for i in range(cmd_msg_len)])\n",
    "        end_cmd_tag = serial.read()# Read message end tag.\n",
    "        #msg_new.extend(end_cmd_tag)\n",
    "        msg_old.extend(msg_new) # Reads the serial message in Hex and adds to msg_old\n",
    "    else:\n",
    "        #msg_new.extend(start_cmd_tag)\n",
    "        msg_new.extend([serial.read() for i in range(cmd_msg_len)]) # Reads the serial message in Hex.  \n",
    "        end_cmd_tag = serial.read()# Read message end tag.\n",
    "        #msg_new.extend(end_cmd_tag)\n",
    "        msg_old = []\n",
    "        msg_old = msg_new\n",
    "    #msg_new = [int.from_bytes(m, \"big\") for m in msg_new] # Convert message to integer.\n",
    "    #if start_cmd_tag == end_cmd_tag: # Concludes with the comparison of start and end tag   \n",
    "    #print(\"start tag:\",start_cmd_tag)\n",
    "    #print(\"msg_new len:\",cmd_msg_len)\n",
    "    #print(\"end tag:\",end_cmd_tag)\n",
    "\n",
    "    if end_cmd_tag != b'\\x18':\n",
    "        print(\"Recall GeneralSystemMessages(serial, msg_new)\\n\")\n",
    "        GeneralSystemMessages(serial, msg_new)\n",
    "    else:\n",
    "        print(msg_dict[msg_new[0]])\n",
    "        print(\"msg_new:\",msg_new)\n",
    "        print(\"msg_old:\",msg_old)\n",
    "        return msg_old"
   ]
  },
  {
   "cell_type": "code",
   "execution_count": 5,
   "id": "653bd1df-3875-471c-a2d9-e8f1d0e8c427",
   "metadata": {},
   "outputs": [],
   "source": [
    "def GetFirmwareIDs(serial):\n",
    "    \"\"\"Get firmware IDs\"\"\"\n",
    "    serial.write(bytearray([0xD2, 0x00, 0xD2]))\n",
    "    GeneralSystemMessages(serial)"
   ]
  },
  {
   "cell_type": "code",
   "execution_count": 6,
   "id": "62d9f2d5-2f6e-427b-9d95-c3233dbe79e2",
   "metadata": {},
   "outputs": [
    {
     "name": "stdout",
     "output_type": "stream",
     "text": [
      "Recall GeneralSystemMessages(serial, msg_new)\n",
      "\n",
      "Command-Acknowledge: Command has been executed successfully\n",
      "msg_new: [b'\\x83']\n",
      "msg_old: [b'\\x01', b'\\x11', b'\\x00', b'\\x19', b'\\x00', b'\\x0b', b'@', b'\\x00', b'\\t', b'\\x00', b'%', b'\\x02', b'\\xc9', b'\\x00', b'\\x0f', b'\\x01', b'\\x11', b'\\x00', b'\\x19', b'\\x00', b'\\x0b', b'@', b'\\x00', b'\\t', b'\\x00', b'%', b'\\x02', b'\\xc9', b'\\x00', b'\\x0f', b'\\x83']\n"
     ]
    }
   ],
   "source": [
    "GetFirmwareIDs(ser)"
   ]
  },
  {
   "cell_type": "code",
   "execution_count": 67,
   "id": "8e8fb52e-7718-4de2-97e1-dd6dcfef9be3",
   "metadata": {},
   "outputs": [],
   "source": [
    "def SoftwareReset(serial):\n",
    "    serial.write(bytearray([0xA1, 0x00, 0xA1]))\n",
    "    GeneralSystemMessages(serial)"
   ]
  },
  {
   "cell_type": "code",
   "execution_count": 68,
   "id": "2f4fcb3f-e300-4cda-a1ec-924c40ef0c95",
   "metadata": {},
   "outputs": [
    {
     "name": "stdout",
     "output_type": "stream",
     "text": [
      "Command-Acknowledge: Command has been executed successfully\n",
      "msg_new: [b'\\x83']\n",
      "msg_old: [b'\\x83']\n"
     ]
    }
   ],
   "source": [
    "SoftwareReset(ser)"
   ]
  },
  {
   "cell_type": "code",
   "execution_count": 69,
   "id": "0f619c59-fb96-4c86-8dcc-fe0646ba2861",
   "metadata": {},
   "outputs": [],
   "source": [
    "def ResetMeasurementSetup(serial):\n",
    "    serial.write(bytearray([0xB0, 0x01, 0x01, 0xB0]))\n",
    "    callback = GeneralSystemMessages(serial)\n",
    "    print(callback)"
   ]
  },
  {
   "cell_type": "code",
   "execution_count": 70,
   "id": "135d771a-45a5-44e8-9eb2-6f2eadd23cbf",
   "metadata": {},
   "outputs": [
    {
     "ename": "SerialException",
     "evalue": "WriteFile failed (PermissionError(13, 'Das Gerät erkennt den Befehl nicht.', None, 22))",
     "output_type": "error",
     "traceback": [
      "\u001b[1;31m---------------------------------------------------------------------------\u001b[0m",
      "\u001b[1;31mSerialException\u001b[0m                           Traceback (most recent call last)",
      "\u001b[1;32m~\\AppData\\Local\\Temp\\ipykernel_10364\\1169192300.py\u001b[0m in \u001b[0;36m<module>\u001b[1;34m\u001b[0m\n\u001b[1;32m----> 1\u001b[1;33m \u001b[0mResetMeasurementSetup\u001b[0m\u001b[1;33m(\u001b[0m\u001b[0mser\u001b[0m\u001b[1;33m)\u001b[0m\u001b[1;33m\u001b[0m\u001b[1;33m\u001b[0m\u001b[0m\n\u001b[0m",
      "\u001b[1;32m~\\AppData\\Local\\Temp\\ipykernel_10364\\4041891354.py\u001b[0m in \u001b[0;36mResetMeasurementSetup\u001b[1;34m(serial)\u001b[0m\n\u001b[0;32m      1\u001b[0m \u001b[1;32mdef\u001b[0m \u001b[0mResetMeasurementSetup\u001b[0m\u001b[1;33m(\u001b[0m\u001b[0mserial\u001b[0m\u001b[1;33m)\u001b[0m\u001b[1;33m:\u001b[0m\u001b[1;33m\u001b[0m\u001b[1;33m\u001b[0m\u001b[0m\n\u001b[1;32m----> 2\u001b[1;33m     \u001b[0mserial\u001b[0m\u001b[1;33m.\u001b[0m\u001b[0mwrite\u001b[0m\u001b[1;33m(\u001b[0m\u001b[0mbytearray\u001b[0m\u001b[1;33m(\u001b[0m\u001b[1;33m[\u001b[0m\u001b[1;36m0xB0\u001b[0m\u001b[1;33m,\u001b[0m \u001b[1;36m0x01\u001b[0m\u001b[1;33m,\u001b[0m \u001b[1;36m0x01\u001b[0m\u001b[1;33m,\u001b[0m \u001b[1;36m0xB0\u001b[0m\u001b[1;33m]\u001b[0m\u001b[1;33m)\u001b[0m\u001b[1;33m)\u001b[0m\u001b[1;33m\u001b[0m\u001b[1;33m\u001b[0m\u001b[0m\n\u001b[0m\u001b[0;32m      3\u001b[0m     \u001b[0mcallback\u001b[0m \u001b[1;33m=\u001b[0m \u001b[0mGeneralSystemMessages\u001b[0m\u001b[1;33m(\u001b[0m\u001b[0mserial\u001b[0m\u001b[1;33m)\u001b[0m\u001b[1;33m\u001b[0m\u001b[1;33m\u001b[0m\u001b[0m\n\u001b[0;32m      4\u001b[0m     \u001b[0mprint\u001b[0m\u001b[1;33m(\u001b[0m\u001b[0mcallback\u001b[0m\u001b[1;33m)\u001b[0m\u001b[1;33m\u001b[0m\u001b[1;33m\u001b[0m\u001b[0m\n",
      "\u001b[1;32m~\\AppData\\Roaming\\Python\\Python39\\site-packages\\serial\\serialwin32.py\u001b[0m in \u001b[0;36mwrite\u001b[1;34m(self, data)\u001b[0m\n\u001b[0;32m    315\u001b[0m             \u001b[1;32mif\u001b[0m \u001b[0mself\u001b[0m\u001b[1;33m.\u001b[0m\u001b[0m_write_timeout\u001b[0m \u001b[1;33m!=\u001b[0m \u001b[1;36m0\u001b[0m\u001b[1;33m:\u001b[0m  \u001b[1;31m# if blocking (None) or w/ write timeout (>0)\u001b[0m\u001b[1;33m\u001b[0m\u001b[1;33m\u001b[0m\u001b[0m\n\u001b[0;32m    316\u001b[0m                 \u001b[1;32mif\u001b[0m \u001b[1;32mnot\u001b[0m \u001b[0msuccess\u001b[0m \u001b[1;32mand\u001b[0m \u001b[0mwin32\u001b[0m\u001b[1;33m.\u001b[0m\u001b[0mGetLastError\u001b[0m\u001b[1;33m(\u001b[0m\u001b[1;33m)\u001b[0m \u001b[1;32mnot\u001b[0m \u001b[1;32min\u001b[0m \u001b[1;33m(\u001b[0m\u001b[0mwin32\u001b[0m\u001b[1;33m.\u001b[0m\u001b[0mERROR_SUCCESS\u001b[0m\u001b[1;33m,\u001b[0m \u001b[0mwin32\u001b[0m\u001b[1;33m.\u001b[0m\u001b[0mERROR_IO_PENDING\u001b[0m\u001b[1;33m)\u001b[0m\u001b[1;33m:\u001b[0m\u001b[1;33m\u001b[0m\u001b[1;33m\u001b[0m\u001b[0m\n\u001b[1;32m--> 317\u001b[1;33m                     \u001b[1;32mraise\u001b[0m \u001b[0mSerialException\u001b[0m\u001b[1;33m(\u001b[0m\u001b[1;34m\"WriteFile failed ({!r})\"\u001b[0m\u001b[1;33m.\u001b[0m\u001b[0mformat\u001b[0m\u001b[1;33m(\u001b[0m\u001b[0mctypes\u001b[0m\u001b[1;33m.\u001b[0m\u001b[0mWinError\u001b[0m\u001b[1;33m(\u001b[0m\u001b[1;33m)\u001b[0m\u001b[1;33m)\u001b[0m\u001b[1;33m)\u001b[0m\u001b[1;33m\u001b[0m\u001b[1;33m\u001b[0m\u001b[0m\n\u001b[0m\u001b[0;32m    318\u001b[0m \u001b[1;33m\u001b[0m\u001b[0m\n\u001b[0;32m    319\u001b[0m                 \u001b[1;31m# Wait for the write to complete.\u001b[0m\u001b[1;33m\u001b[0m\u001b[1;33m\u001b[0m\u001b[0m\n",
      "\u001b[1;31mSerialException\u001b[0m: WriteFile failed (PermissionError(13, 'Das Gerät erkennt den Befehl nicht.', None, 22))"
     ]
    }
   ],
   "source": [
    "ResetMeasurementSetup(ser)"
   ]
  },
  {
   "cell_type": "markdown",
   "id": "b2a9ba54-0e5d-4738-b8b5-7143ab63de9c",
   "metadata": {},
   "source": [
    "# Final Running schedule"
   ]
  },
  {
   "cell_type": "code",
   "execution_count": 7,
   "id": "df94e7a6-3858-4d81-a945-d30b83bc4905",
   "metadata": {},
   "outputs": [],
   "source": [
    "def Config_01(serial) -> None:\n",
    "    serial.write(bytearray([0xB0, 0x01, 0x01, 0xB0]))\n",
    "    GeneralSystemMessages(ser)\n",
    "    serial.write(bytearray([0xB0, 0x03, 0x02, 0x00, 0x01, 0xB0])) # Burst count\n",
    "    GeneralSystemMessages(ser)\n",
    "    serial.write(\n",
    "        bytearray(\n",
    "            [0xB0, 0x09, 0x05, 0x3F, 0x50, 0x62, 0x4D, 0xD2, 0xF1, 0xA9, 0xFC, 0xB0]\n",
    "        )\n",
    "    )\n",
    "    GeneralSystemMessages(ser)\n",
    "    serial.write(bytearray([0xB0, 0x02, 0x0D, 0x01, 0xB0]))\n",
    "    GeneralSystemMessages(ser)\n",
    "    serial.write(bytearray([0xB0, 0x03, 0x09, 0x01, 0x00, 0xB0]))\n",
    "    GeneralSystemMessages(ser)\n",
    "    serial.write(bytearray([0xB0, 0x03, 0x08, 0x01, 0x01, 0xB0]))\n",
    "    GeneralSystemMessages(ser)\n",
    "    serial.write(bytearray([0xB0, 0x02, 0x0C, 0x01, 0xB0]))\n",
    "    GeneralSystemMessages(ser)\n",
    "    serial.write(bytearray([0xB0, 0x05, 0x03, 0x40, 0x00, 0x00, 0x00, 0xB0]))\n",
    "    GeneralSystemMessages(ser)\n",
    "    serial.write(\n",
    "        bytearray(\n",
    "            [\n",
    "                0xB0,\n",
    "                0x0C,\n",
    "                0x04,\n",
    "                0x44,\n",
    "                0x7A,\n",
    "                0x00,\n",
    "                0x00,\n",
    "                0x44,\n",
    "                0x7A,\n",
    "                0x00,\n",
    "                0x00,\n",
    "                0x00,\n",
    "                0x01,\n",
    "                0x00,\n",
    "                0xB0,\n",
    "            ]\n",
    "        )\n",
    "    )\n",
    "    GeneralSystemMessages(ser)\n",
    "    serial.write(bytearray([0xB0, 0x03, 0x06, 0x01, 0x02, 0xB0]))\n",
    "    GeneralSystemMessages(ser)\n",
    "    serial.write(bytearray([0xB0, 0x03, 0x06, 0x02, 0x03, 0xB0]))\n",
    "    GeneralSystemMessages(ser) \n",
    "    serial.write(bytearray([0xB0, 0x03, 0x06, 0x03, 0x04, 0xB0]))\n",
    "    GeneralSystemMessages(ser)\n",
    "    serial.write(bytearray([0xB0, 0x03, 0x06, 0x04, 0x05, 0xB0]))\n",
    "    GeneralSystemMessages(ser)\n",
    "    serial.write(bytearray([0xB0, 0x03, 0x06, 0x05, 0x06, 0xB0]))\n",
    "    GeneralSystemMessages(ser)\n",
    "    serial.write(bytearray([0xB0, 0x03, 0x06, 0x06, 0x07, 0xB0]))\n",
    "    GeneralSystemMessages(ser)\n",
    "    serial.write(bytearray([0xB0, 0x03, 0x06, 0x07, 0x08, 0xB0]))\n",
    "    GeneralSystemMessages(ser)\n",
    "    serial.write(bytearray([0xB0, 0x03, 0x06, 0x08, 0x09, 0xB0]))\n",
    "    GeneralSystemMessages(ser)\n",
    "    serial.write(bytearray([0xB0, 0x03, 0x06, 0x09, 0x0A, 0xB0]))\n",
    "    GeneralSystemMessages(ser)\n",
    "    serial.write(bytearray([0xB0, 0x03, 0x06, 0x0A, 0x0B, 0xB0]))\n",
    "    GeneralSystemMessages(ser)\n",
    "    serial.write(bytearray([0xB0, 0x03, 0x06, 0x0B, 0x0C, 0xB0]))\n",
    "    GeneralSystemMessages(ser)\n",
    "    serial.write(bytearray([0xB0, 0x03, 0x06, 0x0C, 0x0D, 0xB0]))\n",
    "    GeneralSystemMessages(ser)\n",
    "    serial.write(bytearray([0xB0, 0x03, 0x06, 0x0D, 0x0E, 0xB0]))\n",
    "    GeneralSystemMessages(ser)\n",
    "    serial.write(bytearray([0xB0, 0x03, 0x06, 0x0E, 0x0F, 0xB0]))\n",
    "    GeneralSystemMessages(ser)\n",
    "    serial.write(bytearray([0xB0, 0x03, 0x06, 0x0F, 0x10, 0xB0]))\n",
    "    GeneralSystemMessages(ser)\n",
    "    serial.write(bytearray([0xB0, 0x03, 0x06, 0x10, 0x11, 0xB0]))\n",
    "    GeneralSystemMessages(ser)\n",
    "    serial.write(bytearray([0xB0, 0x03, 0x06, 0x11, 0x12, 0xB0]))\n",
    "    GeneralSystemMessages(ser)\n",
    "    serial.write(bytearray([0xB0, 0x03, 0x06, 0x12, 0x13, 0xB0]))\n",
    "    GeneralSystemMessages(ser)\n",
    "    serial.write(bytearray([0xB0, 0x03, 0x06, 0x13, 0x14, 0xB0]))\n",
    "    GeneralSystemMessages(ser)\n",
    "    serial.write(bytearray([0xB0, 0x03, 0x06, 0x14, 0x15, 0xB0]))\n",
    "    GeneralSystemMessages(ser)\n",
    "    serial.write(bytearray([0xB0, 0x03, 0x06, 0x15, 0x16, 0xB0]))\n",
    "    GeneralSystemMessages(ser)\n",
    "    serial.write(bytearray([0xB0, 0x03, 0x06, 0x16, 0x17, 0xB0]))\n",
    "    GeneralSystemMessages(ser)\n",
    "    serial.write(bytearray([0xB0, 0x03, 0x06, 0x17, 0x18, 0xB0]))\n",
    "    GeneralSystemMessages(ser)\n",
    "    serial.write(bytearray([0xB0, 0x03, 0x06, 0x18, 0x19, 0xB0]))\n",
    "    GeneralSystemMessages(ser)\n",
    "    serial.write(bytearray([0xB0, 0x03, 0x06, 0x19, 0x1A, 0xB0]))\n",
    "    GeneralSystemMessages(ser)\n",
    "    serial.write(bytearray([0xB0, 0x03, 0x06, 0x1A, 0x1B, 0xB0]))\n",
    "    GeneralSystemMessages(ser)\n",
    "    serial.write(bytearray([0xB0, 0x03, 0x06, 0x1B, 0x1C, 0xB0]))\n",
    "    GeneralSystemMessages\n",
    "    serial.write(bytearray([0xB0, 0x03, 0x06, 0x1C, 0x1D, 0xB0]))\n",
    "    GeneralSystemMessages(ser)\n",
    "    serial.write(bytearray([0xB0, 0x03, 0x06, 0x1D, 0x1E, 0xB0]))\n",
    "    GeneralSystemMessages(ser)\n",
    "    serial.write(bytearray([0xB0, 0x03, 0x06, 0x1E, 0x1F, 0xB0]))\n",
    "    GeneralSystemMessages(ser)\n",
    "    serial.write(bytearray([0xB0, 0x03, 0x06, 0x1F, 0x20, 0xB0]))\n",
    "    GeneralSystemMessages(ser)\n",
    "    serial.write(bytearray([0xB0, 0x03, 0x06, 0x20, 0x01, 0xB0]))\n",
    "    GeneralSystemMessages(ser)\n",
    "    serial.write(bytearray([0xB1, 0x01, 0x03, 0xB1]))\n",
    "    GeneralSystemMessages(ser)\n",
    "    serial.write(bytearray([0xB2, 0x02, 0x01, 0x01, 0xB2]))\n",
    "    GeneralSystemMessages(ser)\n",
    "    serial.write(bytearray([0xB2, 0x02, 0x03, 0x01, 0xB2]))\n",
    "    GeneralSystemMessages(ser)\n",
    "    serial.write(bytearray([0xB2, 0x02, 0x02, 0x01, 0xB2]))\n",
    "    GeneralSystemMessages(ser)\n",
    "    GeneralSystemMessages(ser)\n",
    "    #serial.write(bytearray([0xB4, 0x01, 0x01, 0xB4]))\n",
    "    #sleep(10)\n",
    "    #serial.write(bytearray([0xB4, 0x01, 0x00, 0xB4]))\n"
   ]
  },
  {
   "cell_type": "code",
   "execution_count": 8,
   "id": "99c37ac3-cc33-4359-a83c-d4d052ea21f9",
   "metadata": {},
   "outputs": [],
   "source": [
    "import time\n",
    "def StartStopMeasurement(serial):\n",
    "    serial.write(bytearray([0xB4, 0x01, 0x01, 0xB4]))\n",
    "    callback = GeneralSystemMessages(serial)\n",
    "    print(callback)\n",
    "    time.sleep(5)\n",
    "    serial.write(bytearray([0xB4, 0x01, 0x00, 0xB4]))\n",
    "    GeneralSystemMessages(serial)\n",
    "    \n",
    "def StopMeasurement(serial):\n",
    "    serial.write(bytearray([0xB4, 0x01, 0x00, 0xB4]))\n",
    "    GeneralSystemMessages(serial)"
   ]
  },
  {
   "cell_type": "code",
   "execution_count": 9,
   "id": "5aca80ed-4fc9-42f6-949d-09227281f8dd",
   "metadata": {},
   "outputs": [
    {
     "name": "stdout",
     "output_type": "stream",
     "text": [
      "Command-Acknowledge: Command has been executed successfully\n",
      "msg_new: [b'\\x83']\n",
      "msg_old: [b'\\x83']\n",
      "Command-Acknowledge: Command has been executed successfully\n",
      "msg_new: [b'\\x83']\n",
      "msg_old: [b'\\x83']\n",
      "Command-Acknowledge: Command has been executed successfully\n",
      "msg_new: [b'\\x83']\n",
      "msg_old: [b'\\x83']\n",
      "Command-Acknowledge: Command has been executed successfully\n",
      "msg_new: [b'\\x83']\n",
      "msg_old: [b'\\x83']\n",
      "Command-Acknowledge: Command has been executed successfully\n",
      "msg_new: [b'\\x83']\n",
      "msg_old: [b'\\x83']\n",
      "Command-Acknowledge: Command has been executed successfully\n",
      "msg_new: [b'\\x83']\n",
      "msg_old: [b'\\x83']\n",
      "Command-Acknowledge: Command has been executed successfully\n",
      "msg_new: [b'\\x83']\n",
      "msg_old: [b'\\x83']\n",
      "Command-Acknowledge: Command has been executed successfully\n",
      "msg_new: [b'\\x83']\n",
      "msg_old: [b'\\x83']\n",
      "Command-Acknowledge: Command has been executed successfully\n",
      "msg_new: [b'\\x83']\n",
      "msg_old: [b'\\x83']\n",
      "Command-Acknowledge: Command has been executed successfully\n",
      "msg_new: [b'\\x83']\n",
      "msg_old: [b'\\x83']\n",
      "Command-Acknowledge: Command has been executed successfully\n",
      "msg_new: [b'\\x83']\n",
      "msg_old: [b'\\x83']\n",
      "Command-Acknowledge: Command has been executed successfully\n",
      "msg_new: [b'\\x83']\n",
      "msg_old: [b'\\x83']\n",
      "Command-Acknowledge: Command has been executed successfully\n",
      "msg_new: [b'\\x83']\n",
      "msg_old: [b'\\x83']\n",
      "Command-Acknowledge: Command has been executed successfully\n",
      "msg_new: [b'\\x83']\n",
      "msg_old: [b'\\x83']\n",
      "Command-Acknowledge: Command has been executed successfully\n",
      "msg_new: [b'\\x83']\n",
      "msg_old: [b'\\x83']\n",
      "Command-Acknowledge: Command has been executed successfully\n",
      "msg_new: [b'\\x83']\n",
      "msg_old: [b'\\x83']\n",
      "Command-Acknowledge: Command has been executed successfully\n",
      "msg_new: [b'\\x83']\n",
      "msg_old: [b'\\x83']\n",
      "Command-Acknowledge: Command has been executed successfully\n",
      "msg_new: [b'\\x83']\n",
      "msg_old: [b'\\x83']\n",
      "Command-Acknowledge: Command has been executed successfully\n",
      "msg_new: [b'\\x83']\n",
      "msg_old: [b'\\x83']\n",
      "Command-Acknowledge: Command has been executed successfully\n",
      "msg_new: [b'\\x83']\n",
      "msg_old: [b'\\x83']\n",
      "Command-Acknowledge: Command has been executed successfully\n",
      "msg_new: [b'\\x83']\n",
      "msg_old: [b'\\x83']\n",
      "Command-Acknowledge: Command has been executed successfully\n",
      "msg_new: [b'\\x83']\n",
      "msg_old: [b'\\x83']\n",
      "Command-Acknowledge: Command has been executed successfully\n",
      "msg_new: [b'\\x83']\n",
      "msg_old: [b'\\x83']\n",
      "Command-Acknowledge: Command has been executed successfully\n",
      "msg_new: [b'\\x83']\n",
      "msg_old: [b'\\x83']\n",
      "Command-Acknowledge: Command has been executed successfully\n",
      "msg_new: [b'\\x83']\n",
      "msg_old: [b'\\x83']\n",
      "Command-Acknowledge: Command has been executed successfully\n",
      "msg_new: [b'\\x83']\n",
      "msg_old: [b'\\x83']\n",
      "Command-Acknowledge: Command has been executed successfully\n",
      "msg_new: [b'\\x83']\n",
      "msg_old: [b'\\x83']\n",
      "Command-Acknowledge: Command has been executed successfully\n",
      "msg_new: [b'\\x83']\n",
      "msg_old: [b'\\x83']\n",
      "Command-Acknowledge: Command has been executed successfully\n",
      "msg_new: [b'\\x83']\n",
      "msg_old: [b'\\x83']\n",
      "Command-Acknowledge: Command has been executed successfully\n",
      "msg_new: [b'\\x83']\n",
      "msg_old: [b'\\x83']\n",
      "Command-Acknowledge: Command has been executed successfully\n",
      "msg_new: [b'\\x83']\n",
      "msg_old: [b'\\x83']\n",
      "Command-Acknowledge: Command has been executed successfully\n",
      "msg_new: [b'\\x83']\n",
      "msg_old: [b'\\x83']\n",
      "Command-Acknowledge: Command has been executed successfully\n",
      "msg_new: [b'\\x83']\n",
      "msg_old: [b'\\x83']\n",
      "Command-Acknowledge: Command has been executed successfully\n",
      "msg_new: [b'\\x83']\n",
      "msg_old: [b'\\x83']\n",
      "Command-Acknowledge: Command has been executed successfully\n",
      "msg_new: [b'\\x83']\n",
      "msg_old: [b'\\x83']\n",
      "Command-Acknowledge: Command has been executed successfully\n",
      "msg_new: [b'\\x83']\n",
      "msg_old: [b'\\x83']\n",
      "Command-Acknowledge: Command has been executed successfully\n",
      "msg_new: [b'\\x83']\n",
      "msg_old: [b'\\x83']\n",
      "Command-Acknowledge: Command has been executed successfully\n",
      "msg_new: [b'\\x83']\n",
      "msg_old: [b'\\x83']\n",
      "Command-Acknowledge: Command has been executed successfully\n",
      "msg_new: [b'\\x83']\n",
      "msg_old: [b'\\x83']\n",
      "Command-Acknowledge: Command has been executed successfully\n",
      "msg_new: [b'\\x83']\n",
      "msg_old: [b'\\x83']\n",
      "Command-Acknowledge: Command has been executed successfully\n",
      "msg_new: [b'\\x83']\n",
      "msg_old: [b'\\x83']\n",
      "Recall GeneralSystemMessages(serial, msg_new)\n",
      "\n",
      "Command-Acknowledge: Command has been executed successfully\n",
      "msg_new: [b'\\x83']\n",
      "msg_old: [b'\\x03', b'@', b'\\x00', b'\\x00', b'\\x00', b'\\x83']\n",
      "Command-Acknowledge: Command has been executed successfully\n",
      "msg_new: [b'\\x83']\n",
      "msg_old: [b'\\x83']\n",
      "Command-Acknowledge: Command has been executed successfully\n",
      "msg_new: [b'\\x83']\n",
      "msg_old: [b'\\x83']\n",
      "Command-Acknowledge: Command has been executed successfully\n",
      "msg_new: [b'\\x83']\n",
      "msg_old: [b'\\x83']\n"
     ]
    }
   ],
   "source": [
    "Config_01(ser)"
   ]
  },
  {
   "cell_type": "code",
   "execution_count": 10,
   "id": "685999b1-2b92-4c9d-8a57-1753f2354cf2",
   "metadata": {},
   "outputs": [],
   "source": [
    "#GeneralSystemMessages(ser)"
   ]
  },
  {
   "cell_type": "code",
   "execution_count": 11,
   "id": "9e188c44-b37e-403c-8cab-95b246fa3fcd",
   "metadata": {},
   "outputs": [],
   "source": [
    "#ser.read()"
   ]
  },
  {
   "cell_type": "code",
   "execution_count": 12,
   "id": "34fc96be-29a6-4c3c-9d69-687695f251ec",
   "metadata": {},
   "outputs": [
    {
     "name": "stdout",
     "output_type": "stream",
     "text": [
      "Command-Acknowledge: Command has been executed successfully\n",
      "msg_new: [b'\\x83']\n",
      "msg_old: [b'\\x83']\n",
      "[b'\\x83']\n",
      "Recall GeneralSystemMessages(serial, msg_new)\n",
      "\n",
      "Recall GeneralSystemMessages(serial, msg_new)\n",
      "\n",
      "Recall GeneralSystemMessages(serial, msg_new)\n",
      "\n",
      "Recall GeneralSystemMessages(serial, msg_new)\n",
      "\n",
      "Recall GeneralSystemMessages(serial, msg_new)\n",
      "\n",
      "Recall GeneralSystemMessages(serial, msg_new)\n",
      "\n",
      "Recall GeneralSystemMessages(serial, msg_new)\n",
      "\n",
      "Recall GeneralSystemMessages(serial, msg_new)\n",
      "\n",
      "Recall GeneralSystemMessages(serial, msg_new)\n",
      "\n",
      "Recall GeneralSystemMessages(serial, msg_new)\n",
      "\n",
      "Recall GeneralSystemMessages(serial, msg_new)\n",
      "\n",
      "Recall GeneralSystemMessages(serial, msg_new)\n",
      "\n",
      "Recall GeneralSystemMessages(serial, msg_new)\n",
      "\n",
      "Recall GeneralSystemMessages(serial, msg_new)\n",
      "\n",
      "Recall GeneralSystemMessages(serial, msg_new)\n",
      "\n",
      "Recall GeneralSystemMessages(serial, msg_new)\n",
      "\n",
      "Recall GeneralSystemMessages(serial, msg_new)\n",
      "\n",
      "Recall GeneralSystemMessages(serial, msg_new)\n",
      "\n",
      "Recall GeneralSystemMessages(serial, msg_new)\n",
      "\n",
      "Recall GeneralSystemMessages(serial, msg_new)\n",
      "\n",
      "Recall GeneralSystemMessages(serial, msg_new)\n",
      "\n",
      "Recall GeneralSystemMessages(serial, msg_new)\n",
      "\n",
      "Recall GeneralSystemMessages(serial, msg_new)\n",
      "\n",
      "Recall GeneralSystemMessages(serial, msg_new)\n",
      "\n",
      "Recall GeneralSystemMessages(serial, msg_new)\n",
      "\n",
      "Recall GeneralSystemMessages(serial, msg_new)\n",
      "\n",
      "Recall GeneralSystemMessages(serial, msg_new)\n",
      "\n",
      "Recall GeneralSystemMessages(serial, msg_new)\n",
      "\n",
      "Recall GeneralSystemMessages(serial, msg_new)\n",
      "\n",
      "Recall GeneralSystemMessages(serial, msg_new)\n",
      "\n",
      "Recall GeneralSystemMessages(serial, msg_new)\n",
      "\n",
      "Recall GeneralSystemMessages(serial, msg_new)\n",
      "\n",
      "Recall GeneralSystemMessages(serial, msg_new)\n",
      "\n",
      "Recall GeneralSystemMessages(serial, msg_new)\n",
      "\n",
      "Recall GeneralSystemMessages(serial, msg_new)\n",
      "\n",
      "Recall GeneralSystemMessages(serial, msg_new)\n",
      "\n",
      "Recall GeneralSystemMessages(serial, msg_new)\n",
      "\n",
      "Recall GeneralSystemMessages(serial, msg_new)\n",
      "\n",
      "Recall GeneralSystemMessages(serial, msg_new)\n",
      "\n",
      "Recall GeneralSystemMessages(serial, msg_new)\n",
      "\n",
      "Recall GeneralSystemMessages(serial, msg_new)\n",
      "\n",
      "Recall GeneralSystemMessages(serial, msg_new)\n",
      "\n",
      "Recall GeneralSystemMessages(serial, msg_new)\n",
      "\n",
      "Recall GeneralSystemMessages(serial, msg_new)\n",
      "\n",
      "Recall GeneralSystemMessages(serial, msg_new)\n",
      "\n",
      "Recall GeneralSystemMessages(serial, msg_new)\n",
      "\n",
      "Recall GeneralSystemMessages(serial, msg_new)\n",
      "\n",
      "Recall GeneralSystemMessages(serial, msg_new)\n",
      "\n",
      "Recall GeneralSystemMessages(serial, msg_new)\n",
      "\n",
      "Recall GeneralSystemMessages(serial, msg_new)\n",
      "\n",
      "Recall GeneralSystemMessages(serial, msg_new)\n",
      "\n",
      "Recall GeneralSystemMessages(serial, msg_new)\n",
      "\n",
      "Recall GeneralSystemMessages(serial, msg_new)\n",
      "\n",
      "Recall GeneralSystemMessages(serial, msg_new)\n",
      "\n",
      "Recall GeneralSystemMessages(serial, msg_new)\n",
      "\n",
      "Recall GeneralSystemMessages(serial, msg_new)\n",
      "\n",
      "Recall GeneralSystemMessages(serial, msg_new)\n",
      "\n",
      "Recall GeneralSystemMessages(serial, msg_new)\n",
      "\n",
      "Recall GeneralSystemMessages(serial, msg_new)\n",
      "\n",
      "Recall GeneralSystemMessages(serial, msg_new)\n",
      "\n",
      "Recall GeneralSystemMessages(serial, msg_new)\n",
      "\n",
      "Recall GeneralSystemMessages(serial, msg_new)\n",
      "\n",
      "Recall GeneralSystemMessages(serial, msg_new)\n",
      "\n",
      "Recall GeneralSystemMessages(serial, msg_new)\n",
      "\n",
      "Recall GeneralSystemMessages(serial, msg_new)\n",
      "\n",
      "Recall GeneralSystemMessages(serial, msg_new)\n",
      "\n",
      "Recall GeneralSystemMessages(serial, msg_new)\n",
      "\n",
      "Recall GeneralSystemMessages(serial, msg_new)\n",
      "\n",
      "Recall GeneralSystemMessages(serial, msg_new)\n",
      "\n",
      "Recall GeneralSystemMessages(serial, msg_new)\n",
      "\n",
      "Recall GeneralSystemMessages(serial, msg_new)\n",
      "\n",
      "Recall GeneralSystemMessages(serial, msg_new)\n",
      "\n",
      "Recall GeneralSystemMessages(serial, msg_new)\n",
      "\n",
      "Recall GeneralSystemMessages(serial, msg_new)\n",
      "\n",
      "Recall GeneralSystemMessages(serial, msg_new)\n",
      "\n",
      "Recall GeneralSystemMessages(serial, msg_new)\n",
      "\n",
      "Recall GeneralSystemMessages(serial, msg_new)\n",
      "\n",
      "Recall GeneralSystemMessages(serial, msg_new)\n",
      "\n",
      "Recall GeneralSystemMessages(serial, msg_new)\n",
      "\n",
      "Recall GeneralSystemMessages(serial, msg_new)\n",
      "\n",
      "Recall GeneralSystemMessages(serial, msg_new)\n",
      "\n",
      "Recall GeneralSystemMessages(serial, msg_new)\n",
      "\n",
      "Recall GeneralSystemMessages(serial, msg_new)\n",
      "\n",
      "Recall GeneralSystemMessages(serial, msg_new)\n",
      "\n",
      "Recall GeneralSystemMessages(serial, msg_new)\n",
      "\n",
      "Recall GeneralSystemMessages(serial, msg_new)\n",
      "\n",
      "Recall GeneralSystemMessages(serial, msg_new)\n",
      "\n",
      "Recall GeneralSystemMessages(serial, msg_new)\n",
      "\n",
      "Recall GeneralSystemMessages(serial, msg_new)\n",
      "\n",
      "Recall GeneralSystemMessages(serial, msg_new)\n",
      "\n",
      "Recall GeneralSystemMessages(serial, msg_new)\n",
      "\n",
      "Recall GeneralSystemMessages(serial, msg_new)\n",
      "\n"
     ]
    },
    {
     "ename": "KeyError",
     "evalue": "b'\\x92'",
     "output_type": "error",
     "traceback": [
      "\u001b[1;31m---------------------------------------------------------------------------\u001b[0m",
      "\u001b[1;31mKeyError\u001b[0m                                  Traceback (most recent call last)",
      "\u001b[1;32m~\\AppData\\Local\\Temp\\ipykernel_12544\\1853614324.py\u001b[0m in \u001b[0;36m<module>\u001b[1;34m\u001b[0m\n\u001b[1;32m----> 1\u001b[1;33m \u001b[0mStartStopMeasurement\u001b[0m\u001b[1;33m(\u001b[0m\u001b[0mser\u001b[0m\u001b[1;33m)\u001b[0m\u001b[1;33m\u001b[0m\u001b[1;33m\u001b[0m\u001b[0m\n\u001b[0m",
      "\u001b[1;32m~\\AppData\\Local\\Temp\\ipykernel_12544\\3653085179.py\u001b[0m in \u001b[0;36mStartStopMeasurement\u001b[1;34m(serial)\u001b[0m\n\u001b[0;32m      6\u001b[0m     \u001b[0mtime\u001b[0m\u001b[1;33m.\u001b[0m\u001b[0msleep\u001b[0m\u001b[1;33m(\u001b[0m\u001b[1;36m5\u001b[0m\u001b[1;33m)\u001b[0m\u001b[1;33m\u001b[0m\u001b[1;33m\u001b[0m\u001b[0m\n\u001b[0;32m      7\u001b[0m     \u001b[0mserial\u001b[0m\u001b[1;33m.\u001b[0m\u001b[0mwrite\u001b[0m\u001b[1;33m(\u001b[0m\u001b[0mbytearray\u001b[0m\u001b[1;33m(\u001b[0m\u001b[1;33m[\u001b[0m\u001b[1;36m0xB4\u001b[0m\u001b[1;33m,\u001b[0m \u001b[1;36m0x01\u001b[0m\u001b[1;33m,\u001b[0m \u001b[1;36m0x00\u001b[0m\u001b[1;33m,\u001b[0m \u001b[1;36m0xB4\u001b[0m\u001b[1;33m]\u001b[0m\u001b[1;33m)\u001b[0m\u001b[1;33m)\u001b[0m\u001b[1;33m\u001b[0m\u001b[1;33m\u001b[0m\u001b[0m\n\u001b[1;32m----> 8\u001b[1;33m     \u001b[0mGeneralSystemMessages\u001b[0m\u001b[1;33m(\u001b[0m\u001b[0mserial\u001b[0m\u001b[1;33m)\u001b[0m\u001b[1;33m\u001b[0m\u001b[1;33m\u001b[0m\u001b[0m\n\u001b[0m\u001b[0;32m      9\u001b[0m \u001b[1;33m\u001b[0m\u001b[0m\n\u001b[0;32m     10\u001b[0m \u001b[1;32mdef\u001b[0m \u001b[0mStopMeasurement\u001b[0m\u001b[1;33m(\u001b[0m\u001b[0mserial\u001b[0m\u001b[1;33m)\u001b[0m\u001b[1;33m:\u001b[0m\u001b[1;33m\u001b[0m\u001b[1;33m\u001b[0m\u001b[0m\n",
      "\u001b[1;32m~\\AppData\\Local\\Temp\\ipykernel_12544\\3248315472.py\u001b[0m in \u001b[0;36mGeneralSystemMessages\u001b[1;34m(serial, msg_old)\u001b[0m\n\u001b[0;32m     36\u001b[0m     \u001b[1;32mif\u001b[0m \u001b[0mend_cmd_tag\u001b[0m \u001b[1;33m!=\u001b[0m \u001b[1;34mb'\\x18'\u001b[0m\u001b[1;33m:\u001b[0m\u001b[1;33m\u001b[0m\u001b[1;33m\u001b[0m\u001b[0m\n\u001b[0;32m     37\u001b[0m         \u001b[0mprint\u001b[0m\u001b[1;33m(\u001b[0m\u001b[1;34m\"Recall GeneralSystemMessages(serial, msg_new)\\n\"\u001b[0m\u001b[1;33m)\u001b[0m\u001b[1;33m\u001b[0m\u001b[1;33m\u001b[0m\u001b[0m\n\u001b[1;32m---> 38\u001b[1;33m         \u001b[0mGeneralSystemMessages\u001b[0m\u001b[1;33m(\u001b[0m\u001b[0mserial\u001b[0m\u001b[1;33m,\u001b[0m \u001b[0mmsg_new\u001b[0m\u001b[1;33m)\u001b[0m\u001b[1;33m\u001b[0m\u001b[1;33m\u001b[0m\u001b[0m\n\u001b[0m\u001b[0;32m     39\u001b[0m     \u001b[1;32melse\u001b[0m\u001b[1;33m:\u001b[0m\u001b[1;33m\u001b[0m\u001b[1;33m\u001b[0m\u001b[0m\n\u001b[0;32m     40\u001b[0m         \u001b[0mprint\u001b[0m\u001b[1;33m(\u001b[0m\u001b[0mmsg_dict\u001b[0m\u001b[1;33m[\u001b[0m\u001b[0mmsg_new\u001b[0m\u001b[1;33m[\u001b[0m\u001b[1;36m0\u001b[0m\u001b[1;33m]\u001b[0m\u001b[1;33m]\u001b[0m\u001b[1;33m)\u001b[0m\u001b[1;33m\u001b[0m\u001b[1;33m\u001b[0m\u001b[0m\n",
      "\u001b[1;32m~\\AppData\\Local\\Temp\\ipykernel_12544\\3248315472.py\u001b[0m in \u001b[0;36mGeneralSystemMessages\u001b[1;34m(serial, msg_old)\u001b[0m\n\u001b[0;32m     36\u001b[0m     \u001b[1;32mif\u001b[0m \u001b[0mend_cmd_tag\u001b[0m \u001b[1;33m!=\u001b[0m \u001b[1;34mb'\\x18'\u001b[0m\u001b[1;33m:\u001b[0m\u001b[1;33m\u001b[0m\u001b[1;33m\u001b[0m\u001b[0m\n\u001b[0;32m     37\u001b[0m         \u001b[0mprint\u001b[0m\u001b[1;33m(\u001b[0m\u001b[1;34m\"Recall GeneralSystemMessages(serial, msg_new)\\n\"\u001b[0m\u001b[1;33m)\u001b[0m\u001b[1;33m\u001b[0m\u001b[1;33m\u001b[0m\u001b[0m\n\u001b[1;32m---> 38\u001b[1;33m         \u001b[0mGeneralSystemMessages\u001b[0m\u001b[1;33m(\u001b[0m\u001b[0mserial\u001b[0m\u001b[1;33m,\u001b[0m \u001b[0mmsg_new\u001b[0m\u001b[1;33m)\u001b[0m\u001b[1;33m\u001b[0m\u001b[1;33m\u001b[0m\u001b[0m\n\u001b[0m\u001b[0;32m     39\u001b[0m     \u001b[1;32melse\u001b[0m\u001b[1;33m:\u001b[0m\u001b[1;33m\u001b[0m\u001b[1;33m\u001b[0m\u001b[0m\n\u001b[0;32m     40\u001b[0m         \u001b[0mprint\u001b[0m\u001b[1;33m(\u001b[0m\u001b[0mmsg_dict\u001b[0m\u001b[1;33m[\u001b[0m\u001b[0mmsg_new\u001b[0m\u001b[1;33m[\u001b[0m\u001b[1;36m0\u001b[0m\u001b[1;33m]\u001b[0m\u001b[1;33m]\u001b[0m\u001b[1;33m)\u001b[0m\u001b[1;33m\u001b[0m\u001b[1;33m\u001b[0m\u001b[0m\n",
      "\u001b[1;32m~\\AppData\\Local\\Temp\\ipykernel_12544\\3248315472.py\u001b[0m in \u001b[0;36mGeneralSystemMessages\u001b[1;34m(serial, msg_old)\u001b[0m\n\u001b[0;32m     36\u001b[0m     \u001b[1;32mif\u001b[0m \u001b[0mend_cmd_tag\u001b[0m \u001b[1;33m!=\u001b[0m \u001b[1;34mb'\\x18'\u001b[0m\u001b[1;33m:\u001b[0m\u001b[1;33m\u001b[0m\u001b[1;33m\u001b[0m\u001b[0m\n\u001b[0;32m     37\u001b[0m         \u001b[0mprint\u001b[0m\u001b[1;33m(\u001b[0m\u001b[1;34m\"Recall GeneralSystemMessages(serial, msg_new)\\n\"\u001b[0m\u001b[1;33m)\u001b[0m\u001b[1;33m\u001b[0m\u001b[1;33m\u001b[0m\u001b[0m\n\u001b[1;32m---> 38\u001b[1;33m         \u001b[0mGeneralSystemMessages\u001b[0m\u001b[1;33m(\u001b[0m\u001b[0mserial\u001b[0m\u001b[1;33m,\u001b[0m \u001b[0mmsg_new\u001b[0m\u001b[1;33m)\u001b[0m\u001b[1;33m\u001b[0m\u001b[1;33m\u001b[0m\u001b[0m\n\u001b[0m\u001b[0;32m     39\u001b[0m     \u001b[1;32melse\u001b[0m\u001b[1;33m:\u001b[0m\u001b[1;33m\u001b[0m\u001b[1;33m\u001b[0m\u001b[0m\n\u001b[0;32m     40\u001b[0m         \u001b[0mprint\u001b[0m\u001b[1;33m(\u001b[0m\u001b[0mmsg_dict\u001b[0m\u001b[1;33m[\u001b[0m\u001b[0mmsg_new\u001b[0m\u001b[1;33m[\u001b[0m\u001b[1;36m0\u001b[0m\u001b[1;33m]\u001b[0m\u001b[1;33m]\u001b[0m\u001b[1;33m)\u001b[0m\u001b[1;33m\u001b[0m\u001b[1;33m\u001b[0m\u001b[0m\n",
      "\u001b[1;32m~\\AppData\\Local\\Temp\\ipykernel_12544\\3248315472.py\u001b[0m in \u001b[0;36mGeneralSystemMessages\u001b[1;34m(serial, msg_old)\u001b[0m\n\u001b[0;32m     36\u001b[0m     \u001b[1;32mif\u001b[0m \u001b[0mend_cmd_tag\u001b[0m \u001b[1;33m!=\u001b[0m \u001b[1;34mb'\\x18'\u001b[0m\u001b[1;33m:\u001b[0m\u001b[1;33m\u001b[0m\u001b[1;33m\u001b[0m\u001b[0m\n\u001b[0;32m     37\u001b[0m         \u001b[0mprint\u001b[0m\u001b[1;33m(\u001b[0m\u001b[1;34m\"Recall GeneralSystemMessages(serial, msg_new)\\n\"\u001b[0m\u001b[1;33m)\u001b[0m\u001b[1;33m\u001b[0m\u001b[1;33m\u001b[0m\u001b[0m\n\u001b[1;32m---> 38\u001b[1;33m         \u001b[0mGeneralSystemMessages\u001b[0m\u001b[1;33m(\u001b[0m\u001b[0mserial\u001b[0m\u001b[1;33m,\u001b[0m \u001b[0mmsg_new\u001b[0m\u001b[1;33m)\u001b[0m\u001b[1;33m\u001b[0m\u001b[1;33m\u001b[0m\u001b[0m\n\u001b[0m\u001b[0;32m     39\u001b[0m     \u001b[1;32melse\u001b[0m\u001b[1;33m:\u001b[0m\u001b[1;33m\u001b[0m\u001b[1;33m\u001b[0m\u001b[0m\n\u001b[0;32m     40\u001b[0m         \u001b[0mprint\u001b[0m\u001b[1;33m(\u001b[0m\u001b[0mmsg_dict\u001b[0m\u001b[1;33m[\u001b[0m\u001b[0mmsg_new\u001b[0m\u001b[1;33m[\u001b[0m\u001b[1;36m0\u001b[0m\u001b[1;33m]\u001b[0m\u001b[1;33m]\u001b[0m\u001b[1;33m)\u001b[0m\u001b[1;33m\u001b[0m\u001b[1;33m\u001b[0m\u001b[0m\n",
      "\u001b[1;32m~\\AppData\\Local\\Temp\\ipykernel_12544\\3248315472.py\u001b[0m in \u001b[0;36mGeneralSystemMessages\u001b[1;34m(serial, msg_old)\u001b[0m\n\u001b[0;32m     36\u001b[0m     \u001b[1;32mif\u001b[0m \u001b[0mend_cmd_tag\u001b[0m \u001b[1;33m!=\u001b[0m \u001b[1;34mb'\\x18'\u001b[0m\u001b[1;33m:\u001b[0m\u001b[1;33m\u001b[0m\u001b[1;33m\u001b[0m\u001b[0m\n\u001b[0;32m     37\u001b[0m         \u001b[0mprint\u001b[0m\u001b[1;33m(\u001b[0m\u001b[1;34m\"Recall GeneralSystemMessages(serial, msg_new)\\n\"\u001b[0m\u001b[1;33m)\u001b[0m\u001b[1;33m\u001b[0m\u001b[1;33m\u001b[0m\u001b[0m\n\u001b[1;32m---> 38\u001b[1;33m         \u001b[0mGeneralSystemMessages\u001b[0m\u001b[1;33m(\u001b[0m\u001b[0mserial\u001b[0m\u001b[1;33m,\u001b[0m \u001b[0mmsg_new\u001b[0m\u001b[1;33m)\u001b[0m\u001b[1;33m\u001b[0m\u001b[1;33m\u001b[0m\u001b[0m\n\u001b[0m\u001b[0;32m     39\u001b[0m     \u001b[1;32melse\u001b[0m\u001b[1;33m:\u001b[0m\u001b[1;33m\u001b[0m\u001b[1;33m\u001b[0m\u001b[0m\n\u001b[0;32m     40\u001b[0m         \u001b[0mprint\u001b[0m\u001b[1;33m(\u001b[0m\u001b[0mmsg_dict\u001b[0m\u001b[1;33m[\u001b[0m\u001b[0mmsg_new\u001b[0m\u001b[1;33m[\u001b[0m\u001b[1;36m0\u001b[0m\u001b[1;33m]\u001b[0m\u001b[1;33m]\u001b[0m\u001b[1;33m)\u001b[0m\u001b[1;33m\u001b[0m\u001b[1;33m\u001b[0m\u001b[0m\n",
      "\u001b[1;32m~\\AppData\\Local\\Temp\\ipykernel_12544\\3248315472.py\u001b[0m in \u001b[0;36mGeneralSystemMessages\u001b[1;34m(serial, msg_old)\u001b[0m\n\u001b[0;32m     36\u001b[0m     \u001b[1;32mif\u001b[0m \u001b[0mend_cmd_tag\u001b[0m \u001b[1;33m!=\u001b[0m \u001b[1;34mb'\\x18'\u001b[0m\u001b[1;33m:\u001b[0m\u001b[1;33m\u001b[0m\u001b[1;33m\u001b[0m\u001b[0m\n\u001b[0;32m     37\u001b[0m         \u001b[0mprint\u001b[0m\u001b[1;33m(\u001b[0m\u001b[1;34m\"Recall GeneralSystemMessages(serial, msg_new)\\n\"\u001b[0m\u001b[1;33m)\u001b[0m\u001b[1;33m\u001b[0m\u001b[1;33m\u001b[0m\u001b[0m\n\u001b[1;32m---> 38\u001b[1;33m         \u001b[0mGeneralSystemMessages\u001b[0m\u001b[1;33m(\u001b[0m\u001b[0mserial\u001b[0m\u001b[1;33m,\u001b[0m \u001b[0mmsg_new\u001b[0m\u001b[1;33m)\u001b[0m\u001b[1;33m\u001b[0m\u001b[1;33m\u001b[0m\u001b[0m\n\u001b[0m\u001b[0;32m     39\u001b[0m     \u001b[1;32melse\u001b[0m\u001b[1;33m:\u001b[0m\u001b[1;33m\u001b[0m\u001b[1;33m\u001b[0m\u001b[0m\n\u001b[0;32m     40\u001b[0m         \u001b[0mprint\u001b[0m\u001b[1;33m(\u001b[0m\u001b[0mmsg_dict\u001b[0m\u001b[1;33m[\u001b[0m\u001b[0mmsg_new\u001b[0m\u001b[1;33m[\u001b[0m\u001b[1;36m0\u001b[0m\u001b[1;33m]\u001b[0m\u001b[1;33m]\u001b[0m\u001b[1;33m)\u001b[0m\u001b[1;33m\u001b[0m\u001b[1;33m\u001b[0m\u001b[0m\n",
      "\u001b[1;32m~\\AppData\\Local\\Temp\\ipykernel_12544\\3248315472.py\u001b[0m in \u001b[0;36mGeneralSystemMessages\u001b[1;34m(serial, msg_old)\u001b[0m\n\u001b[0;32m     36\u001b[0m     \u001b[1;32mif\u001b[0m \u001b[0mend_cmd_tag\u001b[0m \u001b[1;33m!=\u001b[0m \u001b[1;34mb'\\x18'\u001b[0m\u001b[1;33m:\u001b[0m\u001b[1;33m\u001b[0m\u001b[1;33m\u001b[0m\u001b[0m\n\u001b[0;32m     37\u001b[0m         \u001b[0mprint\u001b[0m\u001b[1;33m(\u001b[0m\u001b[1;34m\"Recall GeneralSystemMessages(serial, msg_new)\\n\"\u001b[0m\u001b[1;33m)\u001b[0m\u001b[1;33m\u001b[0m\u001b[1;33m\u001b[0m\u001b[0m\n\u001b[1;32m---> 38\u001b[1;33m         \u001b[0mGeneralSystemMessages\u001b[0m\u001b[1;33m(\u001b[0m\u001b[0mserial\u001b[0m\u001b[1;33m,\u001b[0m \u001b[0mmsg_new\u001b[0m\u001b[1;33m)\u001b[0m\u001b[1;33m\u001b[0m\u001b[1;33m\u001b[0m\u001b[0m\n\u001b[0m\u001b[0;32m     39\u001b[0m     \u001b[1;32melse\u001b[0m\u001b[1;33m:\u001b[0m\u001b[1;33m\u001b[0m\u001b[1;33m\u001b[0m\u001b[0m\n\u001b[0;32m     40\u001b[0m         \u001b[0mprint\u001b[0m\u001b[1;33m(\u001b[0m\u001b[0mmsg_dict\u001b[0m\u001b[1;33m[\u001b[0m\u001b[0mmsg_new\u001b[0m\u001b[1;33m[\u001b[0m\u001b[1;36m0\u001b[0m\u001b[1;33m]\u001b[0m\u001b[1;33m]\u001b[0m\u001b[1;33m)\u001b[0m\u001b[1;33m\u001b[0m\u001b[1;33m\u001b[0m\u001b[0m\n",
      "\u001b[1;32m~\\AppData\\Local\\Temp\\ipykernel_12544\\3248315472.py\u001b[0m in \u001b[0;36mGeneralSystemMessages\u001b[1;34m(serial, msg_old)\u001b[0m\n\u001b[0;32m     36\u001b[0m     \u001b[1;32mif\u001b[0m \u001b[0mend_cmd_tag\u001b[0m \u001b[1;33m!=\u001b[0m \u001b[1;34mb'\\x18'\u001b[0m\u001b[1;33m:\u001b[0m\u001b[1;33m\u001b[0m\u001b[1;33m\u001b[0m\u001b[0m\n\u001b[0;32m     37\u001b[0m         \u001b[0mprint\u001b[0m\u001b[1;33m(\u001b[0m\u001b[1;34m\"Recall GeneralSystemMessages(serial, msg_new)\\n\"\u001b[0m\u001b[1;33m)\u001b[0m\u001b[1;33m\u001b[0m\u001b[1;33m\u001b[0m\u001b[0m\n\u001b[1;32m---> 38\u001b[1;33m         \u001b[0mGeneralSystemMessages\u001b[0m\u001b[1;33m(\u001b[0m\u001b[0mserial\u001b[0m\u001b[1;33m,\u001b[0m \u001b[0mmsg_new\u001b[0m\u001b[1;33m)\u001b[0m\u001b[1;33m\u001b[0m\u001b[1;33m\u001b[0m\u001b[0m\n\u001b[0m\u001b[0;32m     39\u001b[0m     \u001b[1;32melse\u001b[0m\u001b[1;33m:\u001b[0m\u001b[1;33m\u001b[0m\u001b[1;33m\u001b[0m\u001b[0m\n\u001b[0;32m     40\u001b[0m         \u001b[0mprint\u001b[0m\u001b[1;33m(\u001b[0m\u001b[0mmsg_dict\u001b[0m\u001b[1;33m[\u001b[0m\u001b[0mmsg_new\u001b[0m\u001b[1;33m[\u001b[0m\u001b[1;36m0\u001b[0m\u001b[1;33m]\u001b[0m\u001b[1;33m]\u001b[0m\u001b[1;33m)\u001b[0m\u001b[1;33m\u001b[0m\u001b[1;33m\u001b[0m\u001b[0m\n",
      "\u001b[1;32m~\\AppData\\Local\\Temp\\ipykernel_12544\\3248315472.py\u001b[0m in \u001b[0;36mGeneralSystemMessages\u001b[1;34m(serial, msg_old)\u001b[0m\n\u001b[0;32m     36\u001b[0m     \u001b[1;32mif\u001b[0m \u001b[0mend_cmd_tag\u001b[0m \u001b[1;33m!=\u001b[0m \u001b[1;34mb'\\x18'\u001b[0m\u001b[1;33m:\u001b[0m\u001b[1;33m\u001b[0m\u001b[1;33m\u001b[0m\u001b[0m\n\u001b[0;32m     37\u001b[0m         \u001b[0mprint\u001b[0m\u001b[1;33m(\u001b[0m\u001b[1;34m\"Recall GeneralSystemMessages(serial, msg_new)\\n\"\u001b[0m\u001b[1;33m)\u001b[0m\u001b[1;33m\u001b[0m\u001b[1;33m\u001b[0m\u001b[0m\n\u001b[1;32m---> 38\u001b[1;33m         \u001b[0mGeneralSystemMessages\u001b[0m\u001b[1;33m(\u001b[0m\u001b[0mserial\u001b[0m\u001b[1;33m,\u001b[0m \u001b[0mmsg_new\u001b[0m\u001b[1;33m)\u001b[0m\u001b[1;33m\u001b[0m\u001b[1;33m\u001b[0m\u001b[0m\n\u001b[0m\u001b[0;32m     39\u001b[0m     \u001b[1;32melse\u001b[0m\u001b[1;33m:\u001b[0m\u001b[1;33m\u001b[0m\u001b[1;33m\u001b[0m\u001b[0m\n\u001b[0;32m     40\u001b[0m         \u001b[0mprint\u001b[0m\u001b[1;33m(\u001b[0m\u001b[0mmsg_dict\u001b[0m\u001b[1;33m[\u001b[0m\u001b[0mmsg_new\u001b[0m\u001b[1;33m[\u001b[0m\u001b[1;36m0\u001b[0m\u001b[1;33m]\u001b[0m\u001b[1;33m]\u001b[0m\u001b[1;33m)\u001b[0m\u001b[1;33m\u001b[0m\u001b[1;33m\u001b[0m\u001b[0m\n",
      "\u001b[1;32m~\\AppData\\Local\\Temp\\ipykernel_12544\\3248315472.py\u001b[0m in \u001b[0;36mGeneralSystemMessages\u001b[1;34m(serial, msg_old)\u001b[0m\n\u001b[0;32m     36\u001b[0m     \u001b[1;32mif\u001b[0m \u001b[0mend_cmd_tag\u001b[0m \u001b[1;33m!=\u001b[0m \u001b[1;34mb'\\x18'\u001b[0m\u001b[1;33m:\u001b[0m\u001b[1;33m\u001b[0m\u001b[1;33m\u001b[0m\u001b[0m\n\u001b[0;32m     37\u001b[0m         \u001b[0mprint\u001b[0m\u001b[1;33m(\u001b[0m\u001b[1;34m\"Recall GeneralSystemMessages(serial, msg_new)\\n\"\u001b[0m\u001b[1;33m)\u001b[0m\u001b[1;33m\u001b[0m\u001b[1;33m\u001b[0m\u001b[0m\n\u001b[1;32m---> 38\u001b[1;33m         \u001b[0mGeneralSystemMessages\u001b[0m\u001b[1;33m(\u001b[0m\u001b[0mserial\u001b[0m\u001b[1;33m,\u001b[0m \u001b[0mmsg_new\u001b[0m\u001b[1;33m)\u001b[0m\u001b[1;33m\u001b[0m\u001b[1;33m\u001b[0m\u001b[0m\n\u001b[0m\u001b[0;32m     39\u001b[0m     \u001b[1;32melse\u001b[0m\u001b[1;33m:\u001b[0m\u001b[1;33m\u001b[0m\u001b[1;33m\u001b[0m\u001b[0m\n\u001b[0;32m     40\u001b[0m         \u001b[0mprint\u001b[0m\u001b[1;33m(\u001b[0m\u001b[0mmsg_dict\u001b[0m\u001b[1;33m[\u001b[0m\u001b[0mmsg_new\u001b[0m\u001b[1;33m[\u001b[0m\u001b[1;36m0\u001b[0m\u001b[1;33m]\u001b[0m\u001b[1;33m]\u001b[0m\u001b[1;33m)\u001b[0m\u001b[1;33m\u001b[0m\u001b[1;33m\u001b[0m\u001b[0m\n",
      "\u001b[1;32m~\\AppData\\Local\\Temp\\ipykernel_12544\\3248315472.py\u001b[0m in \u001b[0;36mGeneralSystemMessages\u001b[1;34m(serial, msg_old)\u001b[0m\n\u001b[0;32m     36\u001b[0m     \u001b[1;32mif\u001b[0m \u001b[0mend_cmd_tag\u001b[0m \u001b[1;33m!=\u001b[0m \u001b[1;34mb'\\x18'\u001b[0m\u001b[1;33m:\u001b[0m\u001b[1;33m\u001b[0m\u001b[1;33m\u001b[0m\u001b[0m\n\u001b[0;32m     37\u001b[0m         \u001b[0mprint\u001b[0m\u001b[1;33m(\u001b[0m\u001b[1;34m\"Recall GeneralSystemMessages(serial, msg_new)\\n\"\u001b[0m\u001b[1;33m)\u001b[0m\u001b[1;33m\u001b[0m\u001b[1;33m\u001b[0m\u001b[0m\n\u001b[1;32m---> 38\u001b[1;33m         \u001b[0mGeneralSystemMessages\u001b[0m\u001b[1;33m(\u001b[0m\u001b[0mserial\u001b[0m\u001b[1;33m,\u001b[0m \u001b[0mmsg_new\u001b[0m\u001b[1;33m)\u001b[0m\u001b[1;33m\u001b[0m\u001b[1;33m\u001b[0m\u001b[0m\n\u001b[0m\u001b[0;32m     39\u001b[0m     \u001b[1;32melse\u001b[0m\u001b[1;33m:\u001b[0m\u001b[1;33m\u001b[0m\u001b[1;33m\u001b[0m\u001b[0m\n\u001b[0;32m     40\u001b[0m         \u001b[0mprint\u001b[0m\u001b[1;33m(\u001b[0m\u001b[0mmsg_dict\u001b[0m\u001b[1;33m[\u001b[0m\u001b[0mmsg_new\u001b[0m\u001b[1;33m[\u001b[0m\u001b[1;36m0\u001b[0m\u001b[1;33m]\u001b[0m\u001b[1;33m]\u001b[0m\u001b[1;33m)\u001b[0m\u001b[1;33m\u001b[0m\u001b[1;33m\u001b[0m\u001b[0m\n",
      "\u001b[1;32m~\\AppData\\Local\\Temp\\ipykernel_12544\\3248315472.py\u001b[0m in \u001b[0;36mGeneralSystemMessages\u001b[1;34m(serial, msg_old)\u001b[0m\n\u001b[0;32m     36\u001b[0m     \u001b[1;32mif\u001b[0m \u001b[0mend_cmd_tag\u001b[0m \u001b[1;33m!=\u001b[0m \u001b[1;34mb'\\x18'\u001b[0m\u001b[1;33m:\u001b[0m\u001b[1;33m\u001b[0m\u001b[1;33m\u001b[0m\u001b[0m\n\u001b[0;32m     37\u001b[0m         \u001b[0mprint\u001b[0m\u001b[1;33m(\u001b[0m\u001b[1;34m\"Recall GeneralSystemMessages(serial, msg_new)\\n\"\u001b[0m\u001b[1;33m)\u001b[0m\u001b[1;33m\u001b[0m\u001b[1;33m\u001b[0m\u001b[0m\n\u001b[1;32m---> 38\u001b[1;33m         \u001b[0mGeneralSystemMessages\u001b[0m\u001b[1;33m(\u001b[0m\u001b[0mserial\u001b[0m\u001b[1;33m,\u001b[0m \u001b[0mmsg_new\u001b[0m\u001b[1;33m)\u001b[0m\u001b[1;33m\u001b[0m\u001b[1;33m\u001b[0m\u001b[0m\n\u001b[0m\u001b[0;32m     39\u001b[0m     \u001b[1;32melse\u001b[0m\u001b[1;33m:\u001b[0m\u001b[1;33m\u001b[0m\u001b[1;33m\u001b[0m\u001b[0m\n\u001b[0;32m     40\u001b[0m         \u001b[0mprint\u001b[0m\u001b[1;33m(\u001b[0m\u001b[0mmsg_dict\u001b[0m\u001b[1;33m[\u001b[0m\u001b[0mmsg_new\u001b[0m\u001b[1;33m[\u001b[0m\u001b[1;36m0\u001b[0m\u001b[1;33m]\u001b[0m\u001b[1;33m]\u001b[0m\u001b[1;33m)\u001b[0m\u001b[1;33m\u001b[0m\u001b[1;33m\u001b[0m\u001b[0m\n",
      "\u001b[1;32m~\\AppData\\Local\\Temp\\ipykernel_12544\\3248315472.py\u001b[0m in \u001b[0;36mGeneralSystemMessages\u001b[1;34m(serial, msg_old)\u001b[0m\n\u001b[0;32m     36\u001b[0m     \u001b[1;32mif\u001b[0m \u001b[0mend_cmd_tag\u001b[0m \u001b[1;33m!=\u001b[0m \u001b[1;34mb'\\x18'\u001b[0m\u001b[1;33m:\u001b[0m\u001b[1;33m\u001b[0m\u001b[1;33m\u001b[0m\u001b[0m\n\u001b[0;32m     37\u001b[0m         \u001b[0mprint\u001b[0m\u001b[1;33m(\u001b[0m\u001b[1;34m\"Recall GeneralSystemMessages(serial, msg_new)\\n\"\u001b[0m\u001b[1;33m)\u001b[0m\u001b[1;33m\u001b[0m\u001b[1;33m\u001b[0m\u001b[0m\n\u001b[1;32m---> 38\u001b[1;33m         \u001b[0mGeneralSystemMessages\u001b[0m\u001b[1;33m(\u001b[0m\u001b[0mserial\u001b[0m\u001b[1;33m,\u001b[0m \u001b[0mmsg_new\u001b[0m\u001b[1;33m)\u001b[0m\u001b[1;33m\u001b[0m\u001b[1;33m\u001b[0m\u001b[0m\n\u001b[0m\u001b[0;32m     39\u001b[0m     \u001b[1;32melse\u001b[0m\u001b[1;33m:\u001b[0m\u001b[1;33m\u001b[0m\u001b[1;33m\u001b[0m\u001b[0m\n\u001b[0;32m     40\u001b[0m         \u001b[0mprint\u001b[0m\u001b[1;33m(\u001b[0m\u001b[0mmsg_dict\u001b[0m\u001b[1;33m[\u001b[0m\u001b[0mmsg_new\u001b[0m\u001b[1;33m[\u001b[0m\u001b[1;36m0\u001b[0m\u001b[1;33m]\u001b[0m\u001b[1;33m]\u001b[0m\u001b[1;33m)\u001b[0m\u001b[1;33m\u001b[0m\u001b[1;33m\u001b[0m\u001b[0m\n",
      "\u001b[1;32m~\\AppData\\Local\\Temp\\ipykernel_12544\\3248315472.py\u001b[0m in \u001b[0;36mGeneralSystemMessages\u001b[1;34m(serial, msg_old)\u001b[0m\n\u001b[0;32m     36\u001b[0m     \u001b[1;32mif\u001b[0m \u001b[0mend_cmd_tag\u001b[0m \u001b[1;33m!=\u001b[0m \u001b[1;34mb'\\x18'\u001b[0m\u001b[1;33m:\u001b[0m\u001b[1;33m\u001b[0m\u001b[1;33m\u001b[0m\u001b[0m\n\u001b[0;32m     37\u001b[0m         \u001b[0mprint\u001b[0m\u001b[1;33m(\u001b[0m\u001b[1;34m\"Recall GeneralSystemMessages(serial, msg_new)\\n\"\u001b[0m\u001b[1;33m)\u001b[0m\u001b[1;33m\u001b[0m\u001b[1;33m\u001b[0m\u001b[0m\n\u001b[1;32m---> 38\u001b[1;33m         \u001b[0mGeneralSystemMessages\u001b[0m\u001b[1;33m(\u001b[0m\u001b[0mserial\u001b[0m\u001b[1;33m,\u001b[0m \u001b[0mmsg_new\u001b[0m\u001b[1;33m)\u001b[0m\u001b[1;33m\u001b[0m\u001b[1;33m\u001b[0m\u001b[0m\n\u001b[0m\u001b[0;32m     39\u001b[0m     \u001b[1;32melse\u001b[0m\u001b[1;33m:\u001b[0m\u001b[1;33m\u001b[0m\u001b[1;33m\u001b[0m\u001b[0m\n\u001b[0;32m     40\u001b[0m         \u001b[0mprint\u001b[0m\u001b[1;33m(\u001b[0m\u001b[0mmsg_dict\u001b[0m\u001b[1;33m[\u001b[0m\u001b[0mmsg_new\u001b[0m\u001b[1;33m[\u001b[0m\u001b[1;36m0\u001b[0m\u001b[1;33m]\u001b[0m\u001b[1;33m]\u001b[0m\u001b[1;33m)\u001b[0m\u001b[1;33m\u001b[0m\u001b[1;33m\u001b[0m\u001b[0m\n",
      "\u001b[1;32m~\\AppData\\Local\\Temp\\ipykernel_12544\\3248315472.py\u001b[0m in \u001b[0;36mGeneralSystemMessages\u001b[1;34m(serial, msg_old)\u001b[0m\n\u001b[0;32m     36\u001b[0m     \u001b[1;32mif\u001b[0m \u001b[0mend_cmd_tag\u001b[0m \u001b[1;33m!=\u001b[0m \u001b[1;34mb'\\x18'\u001b[0m\u001b[1;33m:\u001b[0m\u001b[1;33m\u001b[0m\u001b[1;33m\u001b[0m\u001b[0m\n\u001b[0;32m     37\u001b[0m         \u001b[0mprint\u001b[0m\u001b[1;33m(\u001b[0m\u001b[1;34m\"Recall GeneralSystemMessages(serial, msg_new)\\n\"\u001b[0m\u001b[1;33m)\u001b[0m\u001b[1;33m\u001b[0m\u001b[1;33m\u001b[0m\u001b[0m\n\u001b[1;32m---> 38\u001b[1;33m         \u001b[0mGeneralSystemMessages\u001b[0m\u001b[1;33m(\u001b[0m\u001b[0mserial\u001b[0m\u001b[1;33m,\u001b[0m \u001b[0mmsg_new\u001b[0m\u001b[1;33m)\u001b[0m\u001b[1;33m\u001b[0m\u001b[1;33m\u001b[0m\u001b[0m\n\u001b[0m\u001b[0;32m     39\u001b[0m     \u001b[1;32melse\u001b[0m\u001b[1;33m:\u001b[0m\u001b[1;33m\u001b[0m\u001b[1;33m\u001b[0m\u001b[0m\n\u001b[0;32m     40\u001b[0m         \u001b[0mprint\u001b[0m\u001b[1;33m(\u001b[0m\u001b[0mmsg_dict\u001b[0m\u001b[1;33m[\u001b[0m\u001b[0mmsg_new\u001b[0m\u001b[1;33m[\u001b[0m\u001b[1;36m0\u001b[0m\u001b[1;33m]\u001b[0m\u001b[1;33m]\u001b[0m\u001b[1;33m)\u001b[0m\u001b[1;33m\u001b[0m\u001b[1;33m\u001b[0m\u001b[0m\n",
      "\u001b[1;32m~\\AppData\\Local\\Temp\\ipykernel_12544\\3248315472.py\u001b[0m in \u001b[0;36mGeneralSystemMessages\u001b[1;34m(serial, msg_old)\u001b[0m\n\u001b[0;32m     36\u001b[0m     \u001b[1;32mif\u001b[0m \u001b[0mend_cmd_tag\u001b[0m \u001b[1;33m!=\u001b[0m \u001b[1;34mb'\\x18'\u001b[0m\u001b[1;33m:\u001b[0m\u001b[1;33m\u001b[0m\u001b[1;33m\u001b[0m\u001b[0m\n\u001b[0;32m     37\u001b[0m         \u001b[0mprint\u001b[0m\u001b[1;33m(\u001b[0m\u001b[1;34m\"Recall GeneralSystemMessages(serial, msg_new)\\n\"\u001b[0m\u001b[1;33m)\u001b[0m\u001b[1;33m\u001b[0m\u001b[1;33m\u001b[0m\u001b[0m\n\u001b[1;32m---> 38\u001b[1;33m         \u001b[0mGeneralSystemMessages\u001b[0m\u001b[1;33m(\u001b[0m\u001b[0mserial\u001b[0m\u001b[1;33m,\u001b[0m \u001b[0mmsg_new\u001b[0m\u001b[1;33m)\u001b[0m\u001b[1;33m\u001b[0m\u001b[1;33m\u001b[0m\u001b[0m\n\u001b[0m\u001b[0;32m     39\u001b[0m     \u001b[1;32melse\u001b[0m\u001b[1;33m:\u001b[0m\u001b[1;33m\u001b[0m\u001b[1;33m\u001b[0m\u001b[0m\n\u001b[0;32m     40\u001b[0m         \u001b[0mprint\u001b[0m\u001b[1;33m(\u001b[0m\u001b[0mmsg_dict\u001b[0m\u001b[1;33m[\u001b[0m\u001b[0mmsg_new\u001b[0m\u001b[1;33m[\u001b[0m\u001b[1;36m0\u001b[0m\u001b[1;33m]\u001b[0m\u001b[1;33m]\u001b[0m\u001b[1;33m)\u001b[0m\u001b[1;33m\u001b[0m\u001b[1;33m\u001b[0m\u001b[0m\n",
      "\u001b[1;32m~\\AppData\\Local\\Temp\\ipykernel_12544\\3248315472.py\u001b[0m in \u001b[0;36mGeneralSystemMessages\u001b[1;34m(serial, msg_old)\u001b[0m\n\u001b[0;32m     36\u001b[0m     \u001b[1;32mif\u001b[0m \u001b[0mend_cmd_tag\u001b[0m \u001b[1;33m!=\u001b[0m \u001b[1;34mb'\\x18'\u001b[0m\u001b[1;33m:\u001b[0m\u001b[1;33m\u001b[0m\u001b[1;33m\u001b[0m\u001b[0m\n\u001b[0;32m     37\u001b[0m         \u001b[0mprint\u001b[0m\u001b[1;33m(\u001b[0m\u001b[1;34m\"Recall GeneralSystemMessages(serial, msg_new)\\n\"\u001b[0m\u001b[1;33m)\u001b[0m\u001b[1;33m\u001b[0m\u001b[1;33m\u001b[0m\u001b[0m\n\u001b[1;32m---> 38\u001b[1;33m         \u001b[0mGeneralSystemMessages\u001b[0m\u001b[1;33m(\u001b[0m\u001b[0mserial\u001b[0m\u001b[1;33m,\u001b[0m \u001b[0mmsg_new\u001b[0m\u001b[1;33m)\u001b[0m\u001b[1;33m\u001b[0m\u001b[1;33m\u001b[0m\u001b[0m\n\u001b[0m\u001b[0;32m     39\u001b[0m     \u001b[1;32melse\u001b[0m\u001b[1;33m:\u001b[0m\u001b[1;33m\u001b[0m\u001b[1;33m\u001b[0m\u001b[0m\n\u001b[0;32m     40\u001b[0m         \u001b[0mprint\u001b[0m\u001b[1;33m(\u001b[0m\u001b[0mmsg_dict\u001b[0m\u001b[1;33m[\u001b[0m\u001b[0mmsg_new\u001b[0m\u001b[1;33m[\u001b[0m\u001b[1;36m0\u001b[0m\u001b[1;33m]\u001b[0m\u001b[1;33m]\u001b[0m\u001b[1;33m)\u001b[0m\u001b[1;33m\u001b[0m\u001b[1;33m\u001b[0m\u001b[0m\n",
      "\u001b[1;32m~\\AppData\\Local\\Temp\\ipykernel_12544\\3248315472.py\u001b[0m in \u001b[0;36mGeneralSystemMessages\u001b[1;34m(serial, msg_old)\u001b[0m\n\u001b[0;32m     36\u001b[0m     \u001b[1;32mif\u001b[0m \u001b[0mend_cmd_tag\u001b[0m \u001b[1;33m!=\u001b[0m \u001b[1;34mb'\\x18'\u001b[0m\u001b[1;33m:\u001b[0m\u001b[1;33m\u001b[0m\u001b[1;33m\u001b[0m\u001b[0m\n\u001b[0;32m     37\u001b[0m         \u001b[0mprint\u001b[0m\u001b[1;33m(\u001b[0m\u001b[1;34m\"Recall GeneralSystemMessages(serial, msg_new)\\n\"\u001b[0m\u001b[1;33m)\u001b[0m\u001b[1;33m\u001b[0m\u001b[1;33m\u001b[0m\u001b[0m\n\u001b[1;32m---> 38\u001b[1;33m         \u001b[0mGeneralSystemMessages\u001b[0m\u001b[1;33m(\u001b[0m\u001b[0mserial\u001b[0m\u001b[1;33m,\u001b[0m \u001b[0mmsg_new\u001b[0m\u001b[1;33m)\u001b[0m\u001b[1;33m\u001b[0m\u001b[1;33m\u001b[0m\u001b[0m\n\u001b[0m\u001b[0;32m     39\u001b[0m     \u001b[1;32melse\u001b[0m\u001b[1;33m:\u001b[0m\u001b[1;33m\u001b[0m\u001b[1;33m\u001b[0m\u001b[0m\n\u001b[0;32m     40\u001b[0m         \u001b[0mprint\u001b[0m\u001b[1;33m(\u001b[0m\u001b[0mmsg_dict\u001b[0m\u001b[1;33m[\u001b[0m\u001b[0mmsg_new\u001b[0m\u001b[1;33m[\u001b[0m\u001b[1;36m0\u001b[0m\u001b[1;33m]\u001b[0m\u001b[1;33m]\u001b[0m\u001b[1;33m)\u001b[0m\u001b[1;33m\u001b[0m\u001b[1;33m\u001b[0m\u001b[0m\n",
      "\u001b[1;32m~\\AppData\\Local\\Temp\\ipykernel_12544\\3248315472.py\u001b[0m in \u001b[0;36mGeneralSystemMessages\u001b[1;34m(serial, msg_old)\u001b[0m\n\u001b[0;32m     36\u001b[0m     \u001b[1;32mif\u001b[0m \u001b[0mend_cmd_tag\u001b[0m \u001b[1;33m!=\u001b[0m \u001b[1;34mb'\\x18'\u001b[0m\u001b[1;33m:\u001b[0m\u001b[1;33m\u001b[0m\u001b[1;33m\u001b[0m\u001b[0m\n\u001b[0;32m     37\u001b[0m         \u001b[0mprint\u001b[0m\u001b[1;33m(\u001b[0m\u001b[1;34m\"Recall GeneralSystemMessages(serial, msg_new)\\n\"\u001b[0m\u001b[1;33m)\u001b[0m\u001b[1;33m\u001b[0m\u001b[1;33m\u001b[0m\u001b[0m\n\u001b[1;32m---> 38\u001b[1;33m         \u001b[0mGeneralSystemMessages\u001b[0m\u001b[1;33m(\u001b[0m\u001b[0mserial\u001b[0m\u001b[1;33m,\u001b[0m \u001b[0mmsg_new\u001b[0m\u001b[1;33m)\u001b[0m\u001b[1;33m\u001b[0m\u001b[1;33m\u001b[0m\u001b[0m\n\u001b[0m\u001b[0;32m     39\u001b[0m     \u001b[1;32melse\u001b[0m\u001b[1;33m:\u001b[0m\u001b[1;33m\u001b[0m\u001b[1;33m\u001b[0m\u001b[0m\n\u001b[0;32m     40\u001b[0m         \u001b[0mprint\u001b[0m\u001b[1;33m(\u001b[0m\u001b[0mmsg_dict\u001b[0m\u001b[1;33m[\u001b[0m\u001b[0mmsg_new\u001b[0m\u001b[1;33m[\u001b[0m\u001b[1;36m0\u001b[0m\u001b[1;33m]\u001b[0m\u001b[1;33m]\u001b[0m\u001b[1;33m)\u001b[0m\u001b[1;33m\u001b[0m\u001b[1;33m\u001b[0m\u001b[0m\n",
      "\u001b[1;32m~\\AppData\\Local\\Temp\\ipykernel_12544\\3248315472.py\u001b[0m in \u001b[0;36mGeneralSystemMessages\u001b[1;34m(serial, msg_old)\u001b[0m\n\u001b[0;32m     36\u001b[0m     \u001b[1;32mif\u001b[0m \u001b[0mend_cmd_tag\u001b[0m \u001b[1;33m!=\u001b[0m \u001b[1;34mb'\\x18'\u001b[0m\u001b[1;33m:\u001b[0m\u001b[1;33m\u001b[0m\u001b[1;33m\u001b[0m\u001b[0m\n\u001b[0;32m     37\u001b[0m         \u001b[0mprint\u001b[0m\u001b[1;33m(\u001b[0m\u001b[1;34m\"Recall GeneralSystemMessages(serial, msg_new)\\n\"\u001b[0m\u001b[1;33m)\u001b[0m\u001b[1;33m\u001b[0m\u001b[1;33m\u001b[0m\u001b[0m\n\u001b[1;32m---> 38\u001b[1;33m         \u001b[0mGeneralSystemMessages\u001b[0m\u001b[1;33m(\u001b[0m\u001b[0mserial\u001b[0m\u001b[1;33m,\u001b[0m \u001b[0mmsg_new\u001b[0m\u001b[1;33m)\u001b[0m\u001b[1;33m\u001b[0m\u001b[1;33m\u001b[0m\u001b[0m\n\u001b[0m\u001b[0;32m     39\u001b[0m     \u001b[1;32melse\u001b[0m\u001b[1;33m:\u001b[0m\u001b[1;33m\u001b[0m\u001b[1;33m\u001b[0m\u001b[0m\n\u001b[0;32m     40\u001b[0m         \u001b[0mprint\u001b[0m\u001b[1;33m(\u001b[0m\u001b[0mmsg_dict\u001b[0m\u001b[1;33m[\u001b[0m\u001b[0mmsg_new\u001b[0m\u001b[1;33m[\u001b[0m\u001b[1;36m0\u001b[0m\u001b[1;33m]\u001b[0m\u001b[1;33m]\u001b[0m\u001b[1;33m)\u001b[0m\u001b[1;33m\u001b[0m\u001b[1;33m\u001b[0m\u001b[0m\n",
      "\u001b[1;32m~\\AppData\\Local\\Temp\\ipykernel_12544\\3248315472.py\u001b[0m in \u001b[0;36mGeneralSystemMessages\u001b[1;34m(serial, msg_old)\u001b[0m\n\u001b[0;32m     36\u001b[0m     \u001b[1;32mif\u001b[0m \u001b[0mend_cmd_tag\u001b[0m \u001b[1;33m!=\u001b[0m \u001b[1;34mb'\\x18'\u001b[0m\u001b[1;33m:\u001b[0m\u001b[1;33m\u001b[0m\u001b[1;33m\u001b[0m\u001b[0m\n\u001b[0;32m     37\u001b[0m         \u001b[0mprint\u001b[0m\u001b[1;33m(\u001b[0m\u001b[1;34m\"Recall GeneralSystemMessages(serial, msg_new)\\n\"\u001b[0m\u001b[1;33m)\u001b[0m\u001b[1;33m\u001b[0m\u001b[1;33m\u001b[0m\u001b[0m\n\u001b[1;32m---> 38\u001b[1;33m         \u001b[0mGeneralSystemMessages\u001b[0m\u001b[1;33m(\u001b[0m\u001b[0mserial\u001b[0m\u001b[1;33m,\u001b[0m \u001b[0mmsg_new\u001b[0m\u001b[1;33m)\u001b[0m\u001b[1;33m\u001b[0m\u001b[1;33m\u001b[0m\u001b[0m\n\u001b[0m\u001b[0;32m     39\u001b[0m     \u001b[1;32melse\u001b[0m\u001b[1;33m:\u001b[0m\u001b[1;33m\u001b[0m\u001b[1;33m\u001b[0m\u001b[0m\n\u001b[0;32m     40\u001b[0m         \u001b[0mprint\u001b[0m\u001b[1;33m(\u001b[0m\u001b[0mmsg_dict\u001b[0m\u001b[1;33m[\u001b[0m\u001b[0mmsg_new\u001b[0m\u001b[1;33m[\u001b[0m\u001b[1;36m0\u001b[0m\u001b[1;33m]\u001b[0m\u001b[1;33m]\u001b[0m\u001b[1;33m)\u001b[0m\u001b[1;33m\u001b[0m\u001b[1;33m\u001b[0m\u001b[0m\n",
      "\u001b[1;32m~\\AppData\\Local\\Temp\\ipykernel_12544\\3248315472.py\u001b[0m in \u001b[0;36mGeneralSystemMessages\u001b[1;34m(serial, msg_old)\u001b[0m\n\u001b[0;32m     36\u001b[0m     \u001b[1;32mif\u001b[0m \u001b[0mend_cmd_tag\u001b[0m \u001b[1;33m!=\u001b[0m \u001b[1;34mb'\\x18'\u001b[0m\u001b[1;33m:\u001b[0m\u001b[1;33m\u001b[0m\u001b[1;33m\u001b[0m\u001b[0m\n\u001b[0;32m     37\u001b[0m         \u001b[0mprint\u001b[0m\u001b[1;33m(\u001b[0m\u001b[1;34m\"Recall GeneralSystemMessages(serial, msg_new)\\n\"\u001b[0m\u001b[1;33m)\u001b[0m\u001b[1;33m\u001b[0m\u001b[1;33m\u001b[0m\u001b[0m\n\u001b[1;32m---> 38\u001b[1;33m         \u001b[0mGeneralSystemMessages\u001b[0m\u001b[1;33m(\u001b[0m\u001b[0mserial\u001b[0m\u001b[1;33m,\u001b[0m \u001b[0mmsg_new\u001b[0m\u001b[1;33m)\u001b[0m\u001b[1;33m\u001b[0m\u001b[1;33m\u001b[0m\u001b[0m\n\u001b[0m\u001b[0;32m     39\u001b[0m     \u001b[1;32melse\u001b[0m\u001b[1;33m:\u001b[0m\u001b[1;33m\u001b[0m\u001b[1;33m\u001b[0m\u001b[0m\n\u001b[0;32m     40\u001b[0m         \u001b[0mprint\u001b[0m\u001b[1;33m(\u001b[0m\u001b[0mmsg_dict\u001b[0m\u001b[1;33m[\u001b[0m\u001b[0mmsg_new\u001b[0m\u001b[1;33m[\u001b[0m\u001b[1;36m0\u001b[0m\u001b[1;33m]\u001b[0m\u001b[1;33m]\u001b[0m\u001b[1;33m)\u001b[0m\u001b[1;33m\u001b[0m\u001b[1;33m\u001b[0m\u001b[0m\n",
      "\u001b[1;32m~\\AppData\\Local\\Temp\\ipykernel_12544\\3248315472.py\u001b[0m in \u001b[0;36mGeneralSystemMessages\u001b[1;34m(serial, msg_old)\u001b[0m\n\u001b[0;32m     36\u001b[0m     \u001b[1;32mif\u001b[0m \u001b[0mend_cmd_tag\u001b[0m \u001b[1;33m!=\u001b[0m \u001b[1;34mb'\\x18'\u001b[0m\u001b[1;33m:\u001b[0m\u001b[1;33m\u001b[0m\u001b[1;33m\u001b[0m\u001b[0m\n\u001b[0;32m     37\u001b[0m         \u001b[0mprint\u001b[0m\u001b[1;33m(\u001b[0m\u001b[1;34m\"Recall GeneralSystemMessages(serial, msg_new)\\n\"\u001b[0m\u001b[1;33m)\u001b[0m\u001b[1;33m\u001b[0m\u001b[1;33m\u001b[0m\u001b[0m\n\u001b[1;32m---> 38\u001b[1;33m         \u001b[0mGeneralSystemMessages\u001b[0m\u001b[1;33m(\u001b[0m\u001b[0mserial\u001b[0m\u001b[1;33m,\u001b[0m \u001b[0mmsg_new\u001b[0m\u001b[1;33m)\u001b[0m\u001b[1;33m\u001b[0m\u001b[1;33m\u001b[0m\u001b[0m\n\u001b[0m\u001b[0;32m     39\u001b[0m     \u001b[1;32melse\u001b[0m\u001b[1;33m:\u001b[0m\u001b[1;33m\u001b[0m\u001b[1;33m\u001b[0m\u001b[0m\n\u001b[0;32m     40\u001b[0m         \u001b[0mprint\u001b[0m\u001b[1;33m(\u001b[0m\u001b[0mmsg_dict\u001b[0m\u001b[1;33m[\u001b[0m\u001b[0mmsg_new\u001b[0m\u001b[1;33m[\u001b[0m\u001b[1;36m0\u001b[0m\u001b[1;33m]\u001b[0m\u001b[1;33m]\u001b[0m\u001b[1;33m)\u001b[0m\u001b[1;33m\u001b[0m\u001b[1;33m\u001b[0m\u001b[0m\n",
      "\u001b[1;32m~\\AppData\\Local\\Temp\\ipykernel_12544\\3248315472.py\u001b[0m in \u001b[0;36mGeneralSystemMessages\u001b[1;34m(serial, msg_old)\u001b[0m\n\u001b[0;32m     36\u001b[0m     \u001b[1;32mif\u001b[0m \u001b[0mend_cmd_tag\u001b[0m \u001b[1;33m!=\u001b[0m \u001b[1;34mb'\\x18'\u001b[0m\u001b[1;33m:\u001b[0m\u001b[1;33m\u001b[0m\u001b[1;33m\u001b[0m\u001b[0m\n\u001b[0;32m     37\u001b[0m         \u001b[0mprint\u001b[0m\u001b[1;33m(\u001b[0m\u001b[1;34m\"Recall GeneralSystemMessages(serial, msg_new)\\n\"\u001b[0m\u001b[1;33m)\u001b[0m\u001b[1;33m\u001b[0m\u001b[1;33m\u001b[0m\u001b[0m\n\u001b[1;32m---> 38\u001b[1;33m         \u001b[0mGeneralSystemMessages\u001b[0m\u001b[1;33m(\u001b[0m\u001b[0mserial\u001b[0m\u001b[1;33m,\u001b[0m \u001b[0mmsg_new\u001b[0m\u001b[1;33m)\u001b[0m\u001b[1;33m\u001b[0m\u001b[1;33m\u001b[0m\u001b[0m\n\u001b[0m\u001b[0;32m     39\u001b[0m     \u001b[1;32melse\u001b[0m\u001b[1;33m:\u001b[0m\u001b[1;33m\u001b[0m\u001b[1;33m\u001b[0m\u001b[0m\n\u001b[0;32m     40\u001b[0m         \u001b[0mprint\u001b[0m\u001b[1;33m(\u001b[0m\u001b[0mmsg_dict\u001b[0m\u001b[1;33m[\u001b[0m\u001b[0mmsg_new\u001b[0m\u001b[1;33m[\u001b[0m\u001b[1;36m0\u001b[0m\u001b[1;33m]\u001b[0m\u001b[1;33m]\u001b[0m\u001b[1;33m)\u001b[0m\u001b[1;33m\u001b[0m\u001b[1;33m\u001b[0m\u001b[0m\n",
      "\u001b[1;32m~\\AppData\\Local\\Temp\\ipykernel_12544\\3248315472.py\u001b[0m in \u001b[0;36mGeneralSystemMessages\u001b[1;34m(serial, msg_old)\u001b[0m\n\u001b[0;32m     36\u001b[0m     \u001b[1;32mif\u001b[0m \u001b[0mend_cmd_tag\u001b[0m \u001b[1;33m!=\u001b[0m \u001b[1;34mb'\\x18'\u001b[0m\u001b[1;33m:\u001b[0m\u001b[1;33m\u001b[0m\u001b[1;33m\u001b[0m\u001b[0m\n\u001b[0;32m     37\u001b[0m         \u001b[0mprint\u001b[0m\u001b[1;33m(\u001b[0m\u001b[1;34m\"Recall GeneralSystemMessages(serial, msg_new)\\n\"\u001b[0m\u001b[1;33m)\u001b[0m\u001b[1;33m\u001b[0m\u001b[1;33m\u001b[0m\u001b[0m\n\u001b[1;32m---> 38\u001b[1;33m         \u001b[0mGeneralSystemMessages\u001b[0m\u001b[1;33m(\u001b[0m\u001b[0mserial\u001b[0m\u001b[1;33m,\u001b[0m \u001b[0mmsg_new\u001b[0m\u001b[1;33m)\u001b[0m\u001b[1;33m\u001b[0m\u001b[1;33m\u001b[0m\u001b[0m\n\u001b[0m\u001b[0;32m     39\u001b[0m     \u001b[1;32melse\u001b[0m\u001b[1;33m:\u001b[0m\u001b[1;33m\u001b[0m\u001b[1;33m\u001b[0m\u001b[0m\n\u001b[0;32m     40\u001b[0m         \u001b[0mprint\u001b[0m\u001b[1;33m(\u001b[0m\u001b[0mmsg_dict\u001b[0m\u001b[1;33m[\u001b[0m\u001b[0mmsg_new\u001b[0m\u001b[1;33m[\u001b[0m\u001b[1;36m0\u001b[0m\u001b[1;33m]\u001b[0m\u001b[1;33m]\u001b[0m\u001b[1;33m)\u001b[0m\u001b[1;33m\u001b[0m\u001b[1;33m\u001b[0m\u001b[0m\n",
      "\u001b[1;32m~\\AppData\\Local\\Temp\\ipykernel_12544\\3248315472.py\u001b[0m in \u001b[0;36mGeneralSystemMessages\u001b[1;34m(serial, msg_old)\u001b[0m\n\u001b[0;32m     36\u001b[0m     \u001b[1;32mif\u001b[0m \u001b[0mend_cmd_tag\u001b[0m \u001b[1;33m!=\u001b[0m \u001b[1;34mb'\\x18'\u001b[0m\u001b[1;33m:\u001b[0m\u001b[1;33m\u001b[0m\u001b[1;33m\u001b[0m\u001b[0m\n\u001b[0;32m     37\u001b[0m         \u001b[0mprint\u001b[0m\u001b[1;33m(\u001b[0m\u001b[1;34m\"Recall GeneralSystemMessages(serial, msg_new)\\n\"\u001b[0m\u001b[1;33m)\u001b[0m\u001b[1;33m\u001b[0m\u001b[1;33m\u001b[0m\u001b[0m\n\u001b[1;32m---> 38\u001b[1;33m         \u001b[0mGeneralSystemMessages\u001b[0m\u001b[1;33m(\u001b[0m\u001b[0mserial\u001b[0m\u001b[1;33m,\u001b[0m \u001b[0mmsg_new\u001b[0m\u001b[1;33m)\u001b[0m\u001b[1;33m\u001b[0m\u001b[1;33m\u001b[0m\u001b[0m\n\u001b[0m\u001b[0;32m     39\u001b[0m     \u001b[1;32melse\u001b[0m\u001b[1;33m:\u001b[0m\u001b[1;33m\u001b[0m\u001b[1;33m\u001b[0m\u001b[0m\n\u001b[0;32m     40\u001b[0m         \u001b[0mprint\u001b[0m\u001b[1;33m(\u001b[0m\u001b[0mmsg_dict\u001b[0m\u001b[1;33m[\u001b[0m\u001b[0mmsg_new\u001b[0m\u001b[1;33m[\u001b[0m\u001b[1;36m0\u001b[0m\u001b[1;33m]\u001b[0m\u001b[1;33m]\u001b[0m\u001b[1;33m)\u001b[0m\u001b[1;33m\u001b[0m\u001b[1;33m\u001b[0m\u001b[0m\n",
      "\u001b[1;32m~\\AppData\\Local\\Temp\\ipykernel_12544\\3248315472.py\u001b[0m in \u001b[0;36mGeneralSystemMessages\u001b[1;34m(serial, msg_old)\u001b[0m\n\u001b[0;32m     36\u001b[0m     \u001b[1;32mif\u001b[0m \u001b[0mend_cmd_tag\u001b[0m \u001b[1;33m!=\u001b[0m \u001b[1;34mb'\\x18'\u001b[0m\u001b[1;33m:\u001b[0m\u001b[1;33m\u001b[0m\u001b[1;33m\u001b[0m\u001b[0m\n\u001b[0;32m     37\u001b[0m         \u001b[0mprint\u001b[0m\u001b[1;33m(\u001b[0m\u001b[1;34m\"Recall GeneralSystemMessages(serial, msg_new)\\n\"\u001b[0m\u001b[1;33m)\u001b[0m\u001b[1;33m\u001b[0m\u001b[1;33m\u001b[0m\u001b[0m\n\u001b[1;32m---> 38\u001b[1;33m         \u001b[0mGeneralSystemMessages\u001b[0m\u001b[1;33m(\u001b[0m\u001b[0mserial\u001b[0m\u001b[1;33m,\u001b[0m \u001b[0mmsg_new\u001b[0m\u001b[1;33m)\u001b[0m\u001b[1;33m\u001b[0m\u001b[1;33m\u001b[0m\u001b[0m\n\u001b[0m\u001b[0;32m     39\u001b[0m     \u001b[1;32melse\u001b[0m\u001b[1;33m:\u001b[0m\u001b[1;33m\u001b[0m\u001b[1;33m\u001b[0m\u001b[0m\n\u001b[0;32m     40\u001b[0m         \u001b[0mprint\u001b[0m\u001b[1;33m(\u001b[0m\u001b[0mmsg_dict\u001b[0m\u001b[1;33m[\u001b[0m\u001b[0mmsg_new\u001b[0m\u001b[1;33m[\u001b[0m\u001b[1;36m0\u001b[0m\u001b[1;33m]\u001b[0m\u001b[1;33m]\u001b[0m\u001b[1;33m)\u001b[0m\u001b[1;33m\u001b[0m\u001b[1;33m\u001b[0m\u001b[0m\n",
      "\u001b[1;32m~\\AppData\\Local\\Temp\\ipykernel_12544\\3248315472.py\u001b[0m in \u001b[0;36mGeneralSystemMessages\u001b[1;34m(serial, msg_old)\u001b[0m\n\u001b[0;32m     36\u001b[0m     \u001b[1;32mif\u001b[0m \u001b[0mend_cmd_tag\u001b[0m \u001b[1;33m!=\u001b[0m \u001b[1;34mb'\\x18'\u001b[0m\u001b[1;33m:\u001b[0m\u001b[1;33m\u001b[0m\u001b[1;33m\u001b[0m\u001b[0m\n\u001b[0;32m     37\u001b[0m         \u001b[0mprint\u001b[0m\u001b[1;33m(\u001b[0m\u001b[1;34m\"Recall GeneralSystemMessages(serial, msg_new)\\n\"\u001b[0m\u001b[1;33m)\u001b[0m\u001b[1;33m\u001b[0m\u001b[1;33m\u001b[0m\u001b[0m\n\u001b[1;32m---> 38\u001b[1;33m         \u001b[0mGeneralSystemMessages\u001b[0m\u001b[1;33m(\u001b[0m\u001b[0mserial\u001b[0m\u001b[1;33m,\u001b[0m \u001b[0mmsg_new\u001b[0m\u001b[1;33m)\u001b[0m\u001b[1;33m\u001b[0m\u001b[1;33m\u001b[0m\u001b[0m\n\u001b[0m\u001b[0;32m     39\u001b[0m     \u001b[1;32melse\u001b[0m\u001b[1;33m:\u001b[0m\u001b[1;33m\u001b[0m\u001b[1;33m\u001b[0m\u001b[0m\n\u001b[0;32m     40\u001b[0m         \u001b[0mprint\u001b[0m\u001b[1;33m(\u001b[0m\u001b[0mmsg_dict\u001b[0m\u001b[1;33m[\u001b[0m\u001b[0mmsg_new\u001b[0m\u001b[1;33m[\u001b[0m\u001b[1;36m0\u001b[0m\u001b[1;33m]\u001b[0m\u001b[1;33m]\u001b[0m\u001b[1;33m)\u001b[0m\u001b[1;33m\u001b[0m\u001b[1;33m\u001b[0m\u001b[0m\n",
      "\u001b[1;32m~\\AppData\\Local\\Temp\\ipykernel_12544\\3248315472.py\u001b[0m in \u001b[0;36mGeneralSystemMessages\u001b[1;34m(serial, msg_old)\u001b[0m\n\u001b[0;32m     36\u001b[0m     \u001b[1;32mif\u001b[0m \u001b[0mend_cmd_tag\u001b[0m \u001b[1;33m!=\u001b[0m \u001b[1;34mb'\\x18'\u001b[0m\u001b[1;33m:\u001b[0m\u001b[1;33m\u001b[0m\u001b[1;33m\u001b[0m\u001b[0m\n\u001b[0;32m     37\u001b[0m         \u001b[0mprint\u001b[0m\u001b[1;33m(\u001b[0m\u001b[1;34m\"Recall GeneralSystemMessages(serial, msg_new)\\n\"\u001b[0m\u001b[1;33m)\u001b[0m\u001b[1;33m\u001b[0m\u001b[1;33m\u001b[0m\u001b[0m\n\u001b[1;32m---> 38\u001b[1;33m         \u001b[0mGeneralSystemMessages\u001b[0m\u001b[1;33m(\u001b[0m\u001b[0mserial\u001b[0m\u001b[1;33m,\u001b[0m \u001b[0mmsg_new\u001b[0m\u001b[1;33m)\u001b[0m\u001b[1;33m\u001b[0m\u001b[1;33m\u001b[0m\u001b[0m\n\u001b[0m\u001b[0;32m     39\u001b[0m     \u001b[1;32melse\u001b[0m\u001b[1;33m:\u001b[0m\u001b[1;33m\u001b[0m\u001b[1;33m\u001b[0m\u001b[0m\n\u001b[0;32m     40\u001b[0m         \u001b[0mprint\u001b[0m\u001b[1;33m(\u001b[0m\u001b[0mmsg_dict\u001b[0m\u001b[1;33m[\u001b[0m\u001b[0mmsg_new\u001b[0m\u001b[1;33m[\u001b[0m\u001b[1;36m0\u001b[0m\u001b[1;33m]\u001b[0m\u001b[1;33m]\u001b[0m\u001b[1;33m)\u001b[0m\u001b[1;33m\u001b[0m\u001b[1;33m\u001b[0m\u001b[0m\n",
      "\u001b[1;32m~\\AppData\\Local\\Temp\\ipykernel_12544\\3248315472.py\u001b[0m in \u001b[0;36mGeneralSystemMessages\u001b[1;34m(serial, msg_old)\u001b[0m\n\u001b[0;32m     36\u001b[0m     \u001b[1;32mif\u001b[0m \u001b[0mend_cmd_tag\u001b[0m \u001b[1;33m!=\u001b[0m \u001b[1;34mb'\\x18'\u001b[0m\u001b[1;33m:\u001b[0m\u001b[1;33m\u001b[0m\u001b[1;33m\u001b[0m\u001b[0m\n\u001b[0;32m     37\u001b[0m         \u001b[0mprint\u001b[0m\u001b[1;33m(\u001b[0m\u001b[1;34m\"Recall GeneralSystemMessages(serial, msg_new)\\n\"\u001b[0m\u001b[1;33m)\u001b[0m\u001b[1;33m\u001b[0m\u001b[1;33m\u001b[0m\u001b[0m\n\u001b[1;32m---> 38\u001b[1;33m         \u001b[0mGeneralSystemMessages\u001b[0m\u001b[1;33m(\u001b[0m\u001b[0mserial\u001b[0m\u001b[1;33m,\u001b[0m \u001b[0mmsg_new\u001b[0m\u001b[1;33m)\u001b[0m\u001b[1;33m\u001b[0m\u001b[1;33m\u001b[0m\u001b[0m\n\u001b[0m\u001b[0;32m     39\u001b[0m     \u001b[1;32melse\u001b[0m\u001b[1;33m:\u001b[0m\u001b[1;33m\u001b[0m\u001b[1;33m\u001b[0m\u001b[0m\n\u001b[0;32m     40\u001b[0m         \u001b[0mprint\u001b[0m\u001b[1;33m(\u001b[0m\u001b[0mmsg_dict\u001b[0m\u001b[1;33m[\u001b[0m\u001b[0mmsg_new\u001b[0m\u001b[1;33m[\u001b[0m\u001b[1;36m0\u001b[0m\u001b[1;33m]\u001b[0m\u001b[1;33m]\u001b[0m\u001b[1;33m)\u001b[0m\u001b[1;33m\u001b[0m\u001b[1;33m\u001b[0m\u001b[0m\n",
      "\u001b[1;32m~\\AppData\\Local\\Temp\\ipykernel_12544\\3248315472.py\u001b[0m in \u001b[0;36mGeneralSystemMessages\u001b[1;34m(serial, msg_old)\u001b[0m\n\u001b[0;32m     36\u001b[0m     \u001b[1;32mif\u001b[0m \u001b[0mend_cmd_tag\u001b[0m \u001b[1;33m!=\u001b[0m \u001b[1;34mb'\\x18'\u001b[0m\u001b[1;33m:\u001b[0m\u001b[1;33m\u001b[0m\u001b[1;33m\u001b[0m\u001b[0m\n\u001b[0;32m     37\u001b[0m         \u001b[0mprint\u001b[0m\u001b[1;33m(\u001b[0m\u001b[1;34m\"Recall GeneralSystemMessages(serial, msg_new)\\n\"\u001b[0m\u001b[1;33m)\u001b[0m\u001b[1;33m\u001b[0m\u001b[1;33m\u001b[0m\u001b[0m\n\u001b[1;32m---> 38\u001b[1;33m         \u001b[0mGeneralSystemMessages\u001b[0m\u001b[1;33m(\u001b[0m\u001b[0mserial\u001b[0m\u001b[1;33m,\u001b[0m \u001b[0mmsg_new\u001b[0m\u001b[1;33m)\u001b[0m\u001b[1;33m\u001b[0m\u001b[1;33m\u001b[0m\u001b[0m\n\u001b[0m\u001b[0;32m     39\u001b[0m     \u001b[1;32melse\u001b[0m\u001b[1;33m:\u001b[0m\u001b[1;33m\u001b[0m\u001b[1;33m\u001b[0m\u001b[0m\n\u001b[0;32m     40\u001b[0m         \u001b[0mprint\u001b[0m\u001b[1;33m(\u001b[0m\u001b[0mmsg_dict\u001b[0m\u001b[1;33m[\u001b[0m\u001b[0mmsg_new\u001b[0m\u001b[1;33m[\u001b[0m\u001b[1;36m0\u001b[0m\u001b[1;33m]\u001b[0m\u001b[1;33m]\u001b[0m\u001b[1;33m)\u001b[0m\u001b[1;33m\u001b[0m\u001b[1;33m\u001b[0m\u001b[0m\n",
      "\u001b[1;32m~\\AppData\\Local\\Temp\\ipykernel_12544\\3248315472.py\u001b[0m in \u001b[0;36mGeneralSystemMessages\u001b[1;34m(serial, msg_old)\u001b[0m\n\u001b[0;32m     36\u001b[0m     \u001b[1;32mif\u001b[0m \u001b[0mend_cmd_tag\u001b[0m \u001b[1;33m!=\u001b[0m \u001b[1;34mb'\\x18'\u001b[0m\u001b[1;33m:\u001b[0m\u001b[1;33m\u001b[0m\u001b[1;33m\u001b[0m\u001b[0m\n\u001b[0;32m     37\u001b[0m         \u001b[0mprint\u001b[0m\u001b[1;33m(\u001b[0m\u001b[1;34m\"Recall GeneralSystemMessages(serial, msg_new)\\n\"\u001b[0m\u001b[1;33m)\u001b[0m\u001b[1;33m\u001b[0m\u001b[1;33m\u001b[0m\u001b[0m\n\u001b[1;32m---> 38\u001b[1;33m         \u001b[0mGeneralSystemMessages\u001b[0m\u001b[1;33m(\u001b[0m\u001b[0mserial\u001b[0m\u001b[1;33m,\u001b[0m \u001b[0mmsg_new\u001b[0m\u001b[1;33m)\u001b[0m\u001b[1;33m\u001b[0m\u001b[1;33m\u001b[0m\u001b[0m\n\u001b[0m\u001b[0;32m     39\u001b[0m     \u001b[1;32melse\u001b[0m\u001b[1;33m:\u001b[0m\u001b[1;33m\u001b[0m\u001b[1;33m\u001b[0m\u001b[0m\n\u001b[0;32m     40\u001b[0m         \u001b[0mprint\u001b[0m\u001b[1;33m(\u001b[0m\u001b[0mmsg_dict\u001b[0m\u001b[1;33m[\u001b[0m\u001b[0mmsg_new\u001b[0m\u001b[1;33m[\u001b[0m\u001b[1;36m0\u001b[0m\u001b[1;33m]\u001b[0m\u001b[1;33m]\u001b[0m\u001b[1;33m)\u001b[0m\u001b[1;33m\u001b[0m\u001b[1;33m\u001b[0m\u001b[0m\n",
      "\u001b[1;32m~\\AppData\\Local\\Temp\\ipykernel_12544\\3248315472.py\u001b[0m in \u001b[0;36mGeneralSystemMessages\u001b[1;34m(serial, msg_old)\u001b[0m\n\u001b[0;32m     36\u001b[0m     \u001b[1;32mif\u001b[0m \u001b[0mend_cmd_tag\u001b[0m \u001b[1;33m!=\u001b[0m \u001b[1;34mb'\\x18'\u001b[0m\u001b[1;33m:\u001b[0m\u001b[1;33m\u001b[0m\u001b[1;33m\u001b[0m\u001b[0m\n\u001b[0;32m     37\u001b[0m         \u001b[0mprint\u001b[0m\u001b[1;33m(\u001b[0m\u001b[1;34m\"Recall GeneralSystemMessages(serial, msg_new)\\n\"\u001b[0m\u001b[1;33m)\u001b[0m\u001b[1;33m\u001b[0m\u001b[1;33m\u001b[0m\u001b[0m\n\u001b[1;32m---> 38\u001b[1;33m         \u001b[0mGeneralSystemMessages\u001b[0m\u001b[1;33m(\u001b[0m\u001b[0mserial\u001b[0m\u001b[1;33m,\u001b[0m \u001b[0mmsg_new\u001b[0m\u001b[1;33m)\u001b[0m\u001b[1;33m\u001b[0m\u001b[1;33m\u001b[0m\u001b[0m\n\u001b[0m\u001b[0;32m     39\u001b[0m     \u001b[1;32melse\u001b[0m\u001b[1;33m:\u001b[0m\u001b[1;33m\u001b[0m\u001b[1;33m\u001b[0m\u001b[0m\n\u001b[0;32m     40\u001b[0m         \u001b[0mprint\u001b[0m\u001b[1;33m(\u001b[0m\u001b[0mmsg_dict\u001b[0m\u001b[1;33m[\u001b[0m\u001b[0mmsg_new\u001b[0m\u001b[1;33m[\u001b[0m\u001b[1;36m0\u001b[0m\u001b[1;33m]\u001b[0m\u001b[1;33m]\u001b[0m\u001b[1;33m)\u001b[0m\u001b[1;33m\u001b[0m\u001b[1;33m\u001b[0m\u001b[0m\n",
      "\u001b[1;32m~\\AppData\\Local\\Temp\\ipykernel_12544\\3248315472.py\u001b[0m in \u001b[0;36mGeneralSystemMessages\u001b[1;34m(serial, msg_old)\u001b[0m\n\u001b[0;32m     36\u001b[0m     \u001b[1;32mif\u001b[0m \u001b[0mend_cmd_tag\u001b[0m \u001b[1;33m!=\u001b[0m \u001b[1;34mb'\\x18'\u001b[0m\u001b[1;33m:\u001b[0m\u001b[1;33m\u001b[0m\u001b[1;33m\u001b[0m\u001b[0m\n\u001b[0;32m     37\u001b[0m         \u001b[0mprint\u001b[0m\u001b[1;33m(\u001b[0m\u001b[1;34m\"Recall GeneralSystemMessages(serial, msg_new)\\n\"\u001b[0m\u001b[1;33m)\u001b[0m\u001b[1;33m\u001b[0m\u001b[1;33m\u001b[0m\u001b[0m\n\u001b[1;32m---> 38\u001b[1;33m         \u001b[0mGeneralSystemMessages\u001b[0m\u001b[1;33m(\u001b[0m\u001b[0mserial\u001b[0m\u001b[1;33m,\u001b[0m \u001b[0mmsg_new\u001b[0m\u001b[1;33m)\u001b[0m\u001b[1;33m\u001b[0m\u001b[1;33m\u001b[0m\u001b[0m\n\u001b[0m\u001b[0;32m     39\u001b[0m     \u001b[1;32melse\u001b[0m\u001b[1;33m:\u001b[0m\u001b[1;33m\u001b[0m\u001b[1;33m\u001b[0m\u001b[0m\n\u001b[0;32m     40\u001b[0m         \u001b[0mprint\u001b[0m\u001b[1;33m(\u001b[0m\u001b[0mmsg_dict\u001b[0m\u001b[1;33m[\u001b[0m\u001b[0mmsg_new\u001b[0m\u001b[1;33m[\u001b[0m\u001b[1;36m0\u001b[0m\u001b[1;33m]\u001b[0m\u001b[1;33m]\u001b[0m\u001b[1;33m)\u001b[0m\u001b[1;33m\u001b[0m\u001b[1;33m\u001b[0m\u001b[0m\n",
      "\u001b[1;32m~\\AppData\\Local\\Temp\\ipykernel_12544\\3248315472.py\u001b[0m in \u001b[0;36mGeneralSystemMessages\u001b[1;34m(serial, msg_old)\u001b[0m\n\u001b[0;32m     36\u001b[0m     \u001b[1;32mif\u001b[0m \u001b[0mend_cmd_tag\u001b[0m \u001b[1;33m!=\u001b[0m \u001b[1;34mb'\\x18'\u001b[0m\u001b[1;33m:\u001b[0m\u001b[1;33m\u001b[0m\u001b[1;33m\u001b[0m\u001b[0m\n\u001b[0;32m     37\u001b[0m         \u001b[0mprint\u001b[0m\u001b[1;33m(\u001b[0m\u001b[1;34m\"Recall GeneralSystemMessages(serial, msg_new)\\n\"\u001b[0m\u001b[1;33m)\u001b[0m\u001b[1;33m\u001b[0m\u001b[1;33m\u001b[0m\u001b[0m\n\u001b[1;32m---> 38\u001b[1;33m         \u001b[0mGeneralSystemMessages\u001b[0m\u001b[1;33m(\u001b[0m\u001b[0mserial\u001b[0m\u001b[1;33m,\u001b[0m \u001b[0mmsg_new\u001b[0m\u001b[1;33m)\u001b[0m\u001b[1;33m\u001b[0m\u001b[1;33m\u001b[0m\u001b[0m\n\u001b[0m\u001b[0;32m     39\u001b[0m     \u001b[1;32melse\u001b[0m\u001b[1;33m:\u001b[0m\u001b[1;33m\u001b[0m\u001b[1;33m\u001b[0m\u001b[0m\n\u001b[0;32m     40\u001b[0m         \u001b[0mprint\u001b[0m\u001b[1;33m(\u001b[0m\u001b[0mmsg_dict\u001b[0m\u001b[1;33m[\u001b[0m\u001b[0mmsg_new\u001b[0m\u001b[1;33m[\u001b[0m\u001b[1;36m0\u001b[0m\u001b[1;33m]\u001b[0m\u001b[1;33m]\u001b[0m\u001b[1;33m)\u001b[0m\u001b[1;33m\u001b[0m\u001b[1;33m\u001b[0m\u001b[0m\n",
      "\u001b[1;32m~\\AppData\\Local\\Temp\\ipykernel_12544\\3248315472.py\u001b[0m in \u001b[0;36mGeneralSystemMessages\u001b[1;34m(serial, msg_old)\u001b[0m\n\u001b[0;32m     36\u001b[0m     \u001b[1;32mif\u001b[0m \u001b[0mend_cmd_tag\u001b[0m \u001b[1;33m!=\u001b[0m \u001b[1;34mb'\\x18'\u001b[0m\u001b[1;33m:\u001b[0m\u001b[1;33m\u001b[0m\u001b[1;33m\u001b[0m\u001b[0m\n\u001b[0;32m     37\u001b[0m         \u001b[0mprint\u001b[0m\u001b[1;33m(\u001b[0m\u001b[1;34m\"Recall GeneralSystemMessages(serial, msg_new)\\n\"\u001b[0m\u001b[1;33m)\u001b[0m\u001b[1;33m\u001b[0m\u001b[1;33m\u001b[0m\u001b[0m\n\u001b[1;32m---> 38\u001b[1;33m         \u001b[0mGeneralSystemMessages\u001b[0m\u001b[1;33m(\u001b[0m\u001b[0mserial\u001b[0m\u001b[1;33m,\u001b[0m \u001b[0mmsg_new\u001b[0m\u001b[1;33m)\u001b[0m\u001b[1;33m\u001b[0m\u001b[1;33m\u001b[0m\u001b[0m\n\u001b[0m\u001b[0;32m     39\u001b[0m     \u001b[1;32melse\u001b[0m\u001b[1;33m:\u001b[0m\u001b[1;33m\u001b[0m\u001b[1;33m\u001b[0m\u001b[0m\n\u001b[0;32m     40\u001b[0m         \u001b[0mprint\u001b[0m\u001b[1;33m(\u001b[0m\u001b[0mmsg_dict\u001b[0m\u001b[1;33m[\u001b[0m\u001b[0mmsg_new\u001b[0m\u001b[1;33m[\u001b[0m\u001b[1;36m0\u001b[0m\u001b[1;33m]\u001b[0m\u001b[1;33m]\u001b[0m\u001b[1;33m)\u001b[0m\u001b[1;33m\u001b[0m\u001b[1;33m\u001b[0m\u001b[0m\n",
      "\u001b[1;32m~\\AppData\\Local\\Temp\\ipykernel_12544\\3248315472.py\u001b[0m in \u001b[0;36mGeneralSystemMessages\u001b[1;34m(serial, msg_old)\u001b[0m\n\u001b[0;32m     36\u001b[0m     \u001b[1;32mif\u001b[0m \u001b[0mend_cmd_tag\u001b[0m \u001b[1;33m!=\u001b[0m \u001b[1;34mb'\\x18'\u001b[0m\u001b[1;33m:\u001b[0m\u001b[1;33m\u001b[0m\u001b[1;33m\u001b[0m\u001b[0m\n\u001b[0;32m     37\u001b[0m         \u001b[0mprint\u001b[0m\u001b[1;33m(\u001b[0m\u001b[1;34m\"Recall GeneralSystemMessages(serial, msg_new)\\n\"\u001b[0m\u001b[1;33m)\u001b[0m\u001b[1;33m\u001b[0m\u001b[1;33m\u001b[0m\u001b[0m\n\u001b[1;32m---> 38\u001b[1;33m         \u001b[0mGeneralSystemMessages\u001b[0m\u001b[1;33m(\u001b[0m\u001b[0mserial\u001b[0m\u001b[1;33m,\u001b[0m \u001b[0mmsg_new\u001b[0m\u001b[1;33m)\u001b[0m\u001b[1;33m\u001b[0m\u001b[1;33m\u001b[0m\u001b[0m\n\u001b[0m\u001b[0;32m     39\u001b[0m     \u001b[1;32melse\u001b[0m\u001b[1;33m:\u001b[0m\u001b[1;33m\u001b[0m\u001b[1;33m\u001b[0m\u001b[0m\n\u001b[0;32m     40\u001b[0m         \u001b[0mprint\u001b[0m\u001b[1;33m(\u001b[0m\u001b[0mmsg_dict\u001b[0m\u001b[1;33m[\u001b[0m\u001b[0mmsg_new\u001b[0m\u001b[1;33m[\u001b[0m\u001b[1;36m0\u001b[0m\u001b[1;33m]\u001b[0m\u001b[1;33m]\u001b[0m\u001b[1;33m)\u001b[0m\u001b[1;33m\u001b[0m\u001b[1;33m\u001b[0m\u001b[0m\n",
      "\u001b[1;32m~\\AppData\\Local\\Temp\\ipykernel_12544\\3248315472.py\u001b[0m in \u001b[0;36mGeneralSystemMessages\u001b[1;34m(serial, msg_old)\u001b[0m\n\u001b[0;32m     36\u001b[0m     \u001b[1;32mif\u001b[0m \u001b[0mend_cmd_tag\u001b[0m \u001b[1;33m!=\u001b[0m \u001b[1;34mb'\\x18'\u001b[0m\u001b[1;33m:\u001b[0m\u001b[1;33m\u001b[0m\u001b[1;33m\u001b[0m\u001b[0m\n\u001b[0;32m     37\u001b[0m         \u001b[0mprint\u001b[0m\u001b[1;33m(\u001b[0m\u001b[1;34m\"Recall GeneralSystemMessages(serial, msg_new)\\n\"\u001b[0m\u001b[1;33m)\u001b[0m\u001b[1;33m\u001b[0m\u001b[1;33m\u001b[0m\u001b[0m\n\u001b[1;32m---> 38\u001b[1;33m         \u001b[0mGeneralSystemMessages\u001b[0m\u001b[1;33m(\u001b[0m\u001b[0mserial\u001b[0m\u001b[1;33m,\u001b[0m \u001b[0mmsg_new\u001b[0m\u001b[1;33m)\u001b[0m\u001b[1;33m\u001b[0m\u001b[1;33m\u001b[0m\u001b[0m\n\u001b[0m\u001b[0;32m     39\u001b[0m     \u001b[1;32melse\u001b[0m\u001b[1;33m:\u001b[0m\u001b[1;33m\u001b[0m\u001b[1;33m\u001b[0m\u001b[0m\n\u001b[0;32m     40\u001b[0m         \u001b[0mprint\u001b[0m\u001b[1;33m(\u001b[0m\u001b[0mmsg_dict\u001b[0m\u001b[1;33m[\u001b[0m\u001b[0mmsg_new\u001b[0m\u001b[1;33m[\u001b[0m\u001b[1;36m0\u001b[0m\u001b[1;33m]\u001b[0m\u001b[1;33m]\u001b[0m\u001b[1;33m)\u001b[0m\u001b[1;33m\u001b[0m\u001b[1;33m\u001b[0m\u001b[0m\n",
      "\u001b[1;32m~\\AppData\\Local\\Temp\\ipykernel_12544\\3248315472.py\u001b[0m in \u001b[0;36mGeneralSystemMessages\u001b[1;34m(serial, msg_old)\u001b[0m\n\u001b[0;32m     36\u001b[0m     \u001b[1;32mif\u001b[0m \u001b[0mend_cmd_tag\u001b[0m \u001b[1;33m!=\u001b[0m \u001b[1;34mb'\\x18'\u001b[0m\u001b[1;33m:\u001b[0m\u001b[1;33m\u001b[0m\u001b[1;33m\u001b[0m\u001b[0m\n\u001b[0;32m     37\u001b[0m         \u001b[0mprint\u001b[0m\u001b[1;33m(\u001b[0m\u001b[1;34m\"Recall GeneralSystemMessages(serial, msg_new)\\n\"\u001b[0m\u001b[1;33m)\u001b[0m\u001b[1;33m\u001b[0m\u001b[1;33m\u001b[0m\u001b[0m\n\u001b[1;32m---> 38\u001b[1;33m         \u001b[0mGeneralSystemMessages\u001b[0m\u001b[1;33m(\u001b[0m\u001b[0mserial\u001b[0m\u001b[1;33m,\u001b[0m \u001b[0mmsg_new\u001b[0m\u001b[1;33m)\u001b[0m\u001b[1;33m\u001b[0m\u001b[1;33m\u001b[0m\u001b[0m\n\u001b[0m\u001b[0;32m     39\u001b[0m     \u001b[1;32melse\u001b[0m\u001b[1;33m:\u001b[0m\u001b[1;33m\u001b[0m\u001b[1;33m\u001b[0m\u001b[0m\n\u001b[0;32m     40\u001b[0m         \u001b[0mprint\u001b[0m\u001b[1;33m(\u001b[0m\u001b[0mmsg_dict\u001b[0m\u001b[1;33m[\u001b[0m\u001b[0mmsg_new\u001b[0m\u001b[1;33m[\u001b[0m\u001b[1;36m0\u001b[0m\u001b[1;33m]\u001b[0m\u001b[1;33m]\u001b[0m\u001b[1;33m)\u001b[0m\u001b[1;33m\u001b[0m\u001b[1;33m\u001b[0m\u001b[0m\n",
      "\u001b[1;32m~\\AppData\\Local\\Temp\\ipykernel_12544\\3248315472.py\u001b[0m in \u001b[0;36mGeneralSystemMessages\u001b[1;34m(serial, msg_old)\u001b[0m\n\u001b[0;32m     36\u001b[0m     \u001b[1;32mif\u001b[0m \u001b[0mend_cmd_tag\u001b[0m \u001b[1;33m!=\u001b[0m \u001b[1;34mb'\\x18'\u001b[0m\u001b[1;33m:\u001b[0m\u001b[1;33m\u001b[0m\u001b[1;33m\u001b[0m\u001b[0m\n\u001b[0;32m     37\u001b[0m         \u001b[0mprint\u001b[0m\u001b[1;33m(\u001b[0m\u001b[1;34m\"Recall GeneralSystemMessages(serial, msg_new)\\n\"\u001b[0m\u001b[1;33m)\u001b[0m\u001b[1;33m\u001b[0m\u001b[1;33m\u001b[0m\u001b[0m\n\u001b[1;32m---> 38\u001b[1;33m         \u001b[0mGeneralSystemMessages\u001b[0m\u001b[1;33m(\u001b[0m\u001b[0mserial\u001b[0m\u001b[1;33m,\u001b[0m \u001b[0mmsg_new\u001b[0m\u001b[1;33m)\u001b[0m\u001b[1;33m\u001b[0m\u001b[1;33m\u001b[0m\u001b[0m\n\u001b[0m\u001b[0;32m     39\u001b[0m     \u001b[1;32melse\u001b[0m\u001b[1;33m:\u001b[0m\u001b[1;33m\u001b[0m\u001b[1;33m\u001b[0m\u001b[0m\n\u001b[0;32m     40\u001b[0m         \u001b[0mprint\u001b[0m\u001b[1;33m(\u001b[0m\u001b[0mmsg_dict\u001b[0m\u001b[1;33m[\u001b[0m\u001b[0mmsg_new\u001b[0m\u001b[1;33m[\u001b[0m\u001b[1;36m0\u001b[0m\u001b[1;33m]\u001b[0m\u001b[1;33m]\u001b[0m\u001b[1;33m)\u001b[0m\u001b[1;33m\u001b[0m\u001b[1;33m\u001b[0m\u001b[0m\n",
      "\u001b[1;32m~\\AppData\\Local\\Temp\\ipykernel_12544\\3248315472.py\u001b[0m in \u001b[0;36mGeneralSystemMessages\u001b[1;34m(serial, msg_old)\u001b[0m\n\u001b[0;32m     36\u001b[0m     \u001b[1;32mif\u001b[0m \u001b[0mend_cmd_tag\u001b[0m \u001b[1;33m!=\u001b[0m \u001b[1;34mb'\\x18'\u001b[0m\u001b[1;33m:\u001b[0m\u001b[1;33m\u001b[0m\u001b[1;33m\u001b[0m\u001b[0m\n\u001b[0;32m     37\u001b[0m         \u001b[0mprint\u001b[0m\u001b[1;33m(\u001b[0m\u001b[1;34m\"Recall GeneralSystemMessages(serial, msg_new)\\n\"\u001b[0m\u001b[1;33m)\u001b[0m\u001b[1;33m\u001b[0m\u001b[1;33m\u001b[0m\u001b[0m\n\u001b[1;32m---> 38\u001b[1;33m         \u001b[0mGeneralSystemMessages\u001b[0m\u001b[1;33m(\u001b[0m\u001b[0mserial\u001b[0m\u001b[1;33m,\u001b[0m \u001b[0mmsg_new\u001b[0m\u001b[1;33m)\u001b[0m\u001b[1;33m\u001b[0m\u001b[1;33m\u001b[0m\u001b[0m\n\u001b[0m\u001b[0;32m     39\u001b[0m     \u001b[1;32melse\u001b[0m\u001b[1;33m:\u001b[0m\u001b[1;33m\u001b[0m\u001b[1;33m\u001b[0m\u001b[0m\n\u001b[0;32m     40\u001b[0m         \u001b[0mprint\u001b[0m\u001b[1;33m(\u001b[0m\u001b[0mmsg_dict\u001b[0m\u001b[1;33m[\u001b[0m\u001b[0mmsg_new\u001b[0m\u001b[1;33m[\u001b[0m\u001b[1;36m0\u001b[0m\u001b[1;33m]\u001b[0m\u001b[1;33m]\u001b[0m\u001b[1;33m)\u001b[0m\u001b[1;33m\u001b[0m\u001b[1;33m\u001b[0m\u001b[0m\n",
      "\u001b[1;32m~\\AppData\\Local\\Temp\\ipykernel_12544\\3248315472.py\u001b[0m in \u001b[0;36mGeneralSystemMessages\u001b[1;34m(serial, msg_old)\u001b[0m\n\u001b[0;32m     36\u001b[0m     \u001b[1;32mif\u001b[0m \u001b[0mend_cmd_tag\u001b[0m \u001b[1;33m!=\u001b[0m \u001b[1;34mb'\\x18'\u001b[0m\u001b[1;33m:\u001b[0m\u001b[1;33m\u001b[0m\u001b[1;33m\u001b[0m\u001b[0m\n\u001b[0;32m     37\u001b[0m         \u001b[0mprint\u001b[0m\u001b[1;33m(\u001b[0m\u001b[1;34m\"Recall GeneralSystemMessages(serial, msg_new)\\n\"\u001b[0m\u001b[1;33m)\u001b[0m\u001b[1;33m\u001b[0m\u001b[1;33m\u001b[0m\u001b[0m\n\u001b[1;32m---> 38\u001b[1;33m         \u001b[0mGeneralSystemMessages\u001b[0m\u001b[1;33m(\u001b[0m\u001b[0mserial\u001b[0m\u001b[1;33m,\u001b[0m \u001b[0mmsg_new\u001b[0m\u001b[1;33m)\u001b[0m\u001b[1;33m\u001b[0m\u001b[1;33m\u001b[0m\u001b[0m\n\u001b[0m\u001b[0;32m     39\u001b[0m     \u001b[1;32melse\u001b[0m\u001b[1;33m:\u001b[0m\u001b[1;33m\u001b[0m\u001b[1;33m\u001b[0m\u001b[0m\n\u001b[0;32m     40\u001b[0m         \u001b[0mprint\u001b[0m\u001b[1;33m(\u001b[0m\u001b[0mmsg_dict\u001b[0m\u001b[1;33m[\u001b[0m\u001b[0mmsg_new\u001b[0m\u001b[1;33m[\u001b[0m\u001b[1;36m0\u001b[0m\u001b[1;33m]\u001b[0m\u001b[1;33m]\u001b[0m\u001b[1;33m)\u001b[0m\u001b[1;33m\u001b[0m\u001b[1;33m\u001b[0m\u001b[0m\n",
      "\u001b[1;32m~\\AppData\\Local\\Temp\\ipykernel_12544\\3248315472.py\u001b[0m in \u001b[0;36mGeneralSystemMessages\u001b[1;34m(serial, msg_old)\u001b[0m\n\u001b[0;32m     36\u001b[0m     \u001b[1;32mif\u001b[0m \u001b[0mend_cmd_tag\u001b[0m \u001b[1;33m!=\u001b[0m \u001b[1;34mb'\\x18'\u001b[0m\u001b[1;33m:\u001b[0m\u001b[1;33m\u001b[0m\u001b[1;33m\u001b[0m\u001b[0m\n\u001b[0;32m     37\u001b[0m         \u001b[0mprint\u001b[0m\u001b[1;33m(\u001b[0m\u001b[1;34m\"Recall GeneralSystemMessages(serial, msg_new)\\n\"\u001b[0m\u001b[1;33m)\u001b[0m\u001b[1;33m\u001b[0m\u001b[1;33m\u001b[0m\u001b[0m\n\u001b[1;32m---> 38\u001b[1;33m         \u001b[0mGeneralSystemMessages\u001b[0m\u001b[1;33m(\u001b[0m\u001b[0mserial\u001b[0m\u001b[1;33m,\u001b[0m \u001b[0mmsg_new\u001b[0m\u001b[1;33m)\u001b[0m\u001b[1;33m\u001b[0m\u001b[1;33m\u001b[0m\u001b[0m\n\u001b[0m\u001b[0;32m     39\u001b[0m     \u001b[1;32melse\u001b[0m\u001b[1;33m:\u001b[0m\u001b[1;33m\u001b[0m\u001b[1;33m\u001b[0m\u001b[0m\n\u001b[0;32m     40\u001b[0m         \u001b[0mprint\u001b[0m\u001b[1;33m(\u001b[0m\u001b[0mmsg_dict\u001b[0m\u001b[1;33m[\u001b[0m\u001b[0mmsg_new\u001b[0m\u001b[1;33m[\u001b[0m\u001b[1;36m0\u001b[0m\u001b[1;33m]\u001b[0m\u001b[1;33m]\u001b[0m\u001b[1;33m)\u001b[0m\u001b[1;33m\u001b[0m\u001b[1;33m\u001b[0m\u001b[0m\n",
      "\u001b[1;32m~\\AppData\\Local\\Temp\\ipykernel_12544\\3248315472.py\u001b[0m in \u001b[0;36mGeneralSystemMessages\u001b[1;34m(serial, msg_old)\u001b[0m\n\u001b[0;32m     36\u001b[0m     \u001b[1;32mif\u001b[0m \u001b[0mend_cmd_tag\u001b[0m \u001b[1;33m!=\u001b[0m \u001b[1;34mb'\\x18'\u001b[0m\u001b[1;33m:\u001b[0m\u001b[1;33m\u001b[0m\u001b[1;33m\u001b[0m\u001b[0m\n\u001b[0;32m     37\u001b[0m         \u001b[0mprint\u001b[0m\u001b[1;33m(\u001b[0m\u001b[1;34m\"Recall GeneralSystemMessages(serial, msg_new)\\n\"\u001b[0m\u001b[1;33m)\u001b[0m\u001b[1;33m\u001b[0m\u001b[1;33m\u001b[0m\u001b[0m\n\u001b[1;32m---> 38\u001b[1;33m         \u001b[0mGeneralSystemMessages\u001b[0m\u001b[1;33m(\u001b[0m\u001b[0mserial\u001b[0m\u001b[1;33m,\u001b[0m \u001b[0mmsg_new\u001b[0m\u001b[1;33m)\u001b[0m\u001b[1;33m\u001b[0m\u001b[1;33m\u001b[0m\u001b[0m\n\u001b[0m\u001b[0;32m     39\u001b[0m     \u001b[1;32melse\u001b[0m\u001b[1;33m:\u001b[0m\u001b[1;33m\u001b[0m\u001b[1;33m\u001b[0m\u001b[0m\n\u001b[0;32m     40\u001b[0m         \u001b[0mprint\u001b[0m\u001b[1;33m(\u001b[0m\u001b[0mmsg_dict\u001b[0m\u001b[1;33m[\u001b[0m\u001b[0mmsg_new\u001b[0m\u001b[1;33m[\u001b[0m\u001b[1;36m0\u001b[0m\u001b[1;33m]\u001b[0m\u001b[1;33m]\u001b[0m\u001b[1;33m)\u001b[0m\u001b[1;33m\u001b[0m\u001b[1;33m\u001b[0m\u001b[0m\n",
      "\u001b[1;32m~\\AppData\\Local\\Temp\\ipykernel_12544\\3248315472.py\u001b[0m in \u001b[0;36mGeneralSystemMessages\u001b[1;34m(serial, msg_old)\u001b[0m\n\u001b[0;32m     36\u001b[0m     \u001b[1;32mif\u001b[0m \u001b[0mend_cmd_tag\u001b[0m \u001b[1;33m!=\u001b[0m \u001b[1;34mb'\\x18'\u001b[0m\u001b[1;33m:\u001b[0m\u001b[1;33m\u001b[0m\u001b[1;33m\u001b[0m\u001b[0m\n\u001b[0;32m     37\u001b[0m         \u001b[0mprint\u001b[0m\u001b[1;33m(\u001b[0m\u001b[1;34m\"Recall GeneralSystemMessages(serial, msg_new)\\n\"\u001b[0m\u001b[1;33m)\u001b[0m\u001b[1;33m\u001b[0m\u001b[1;33m\u001b[0m\u001b[0m\n\u001b[1;32m---> 38\u001b[1;33m         \u001b[0mGeneralSystemMessages\u001b[0m\u001b[1;33m(\u001b[0m\u001b[0mserial\u001b[0m\u001b[1;33m,\u001b[0m \u001b[0mmsg_new\u001b[0m\u001b[1;33m)\u001b[0m\u001b[1;33m\u001b[0m\u001b[1;33m\u001b[0m\u001b[0m\n\u001b[0m\u001b[0;32m     39\u001b[0m     \u001b[1;32melse\u001b[0m\u001b[1;33m:\u001b[0m\u001b[1;33m\u001b[0m\u001b[1;33m\u001b[0m\u001b[0m\n\u001b[0;32m     40\u001b[0m         \u001b[0mprint\u001b[0m\u001b[1;33m(\u001b[0m\u001b[0mmsg_dict\u001b[0m\u001b[1;33m[\u001b[0m\u001b[0mmsg_new\u001b[0m\u001b[1;33m[\u001b[0m\u001b[1;36m0\u001b[0m\u001b[1;33m]\u001b[0m\u001b[1;33m]\u001b[0m\u001b[1;33m)\u001b[0m\u001b[1;33m\u001b[0m\u001b[1;33m\u001b[0m\u001b[0m\n",
      "\u001b[1;32m~\\AppData\\Local\\Temp\\ipykernel_12544\\3248315472.py\u001b[0m in \u001b[0;36mGeneralSystemMessages\u001b[1;34m(serial, msg_old)\u001b[0m\n\u001b[0;32m     36\u001b[0m     \u001b[1;32mif\u001b[0m \u001b[0mend_cmd_tag\u001b[0m \u001b[1;33m!=\u001b[0m \u001b[1;34mb'\\x18'\u001b[0m\u001b[1;33m:\u001b[0m\u001b[1;33m\u001b[0m\u001b[1;33m\u001b[0m\u001b[0m\n\u001b[0;32m     37\u001b[0m         \u001b[0mprint\u001b[0m\u001b[1;33m(\u001b[0m\u001b[1;34m\"Recall GeneralSystemMessages(serial, msg_new)\\n\"\u001b[0m\u001b[1;33m)\u001b[0m\u001b[1;33m\u001b[0m\u001b[1;33m\u001b[0m\u001b[0m\n\u001b[1;32m---> 38\u001b[1;33m         \u001b[0mGeneralSystemMessages\u001b[0m\u001b[1;33m(\u001b[0m\u001b[0mserial\u001b[0m\u001b[1;33m,\u001b[0m \u001b[0mmsg_new\u001b[0m\u001b[1;33m)\u001b[0m\u001b[1;33m\u001b[0m\u001b[1;33m\u001b[0m\u001b[0m\n\u001b[0m\u001b[0;32m     39\u001b[0m     \u001b[1;32melse\u001b[0m\u001b[1;33m:\u001b[0m\u001b[1;33m\u001b[0m\u001b[1;33m\u001b[0m\u001b[0m\n\u001b[0;32m     40\u001b[0m         \u001b[0mprint\u001b[0m\u001b[1;33m(\u001b[0m\u001b[0mmsg_dict\u001b[0m\u001b[1;33m[\u001b[0m\u001b[0mmsg_new\u001b[0m\u001b[1;33m[\u001b[0m\u001b[1;36m0\u001b[0m\u001b[1;33m]\u001b[0m\u001b[1;33m]\u001b[0m\u001b[1;33m)\u001b[0m\u001b[1;33m\u001b[0m\u001b[1;33m\u001b[0m\u001b[0m\n",
      "\u001b[1;32m~\\AppData\\Local\\Temp\\ipykernel_12544\\3248315472.py\u001b[0m in \u001b[0;36mGeneralSystemMessages\u001b[1;34m(serial, msg_old)\u001b[0m\n\u001b[0;32m     36\u001b[0m     \u001b[1;32mif\u001b[0m \u001b[0mend_cmd_tag\u001b[0m \u001b[1;33m!=\u001b[0m \u001b[1;34mb'\\x18'\u001b[0m\u001b[1;33m:\u001b[0m\u001b[1;33m\u001b[0m\u001b[1;33m\u001b[0m\u001b[0m\n\u001b[0;32m     37\u001b[0m         \u001b[0mprint\u001b[0m\u001b[1;33m(\u001b[0m\u001b[1;34m\"Recall GeneralSystemMessages(serial, msg_new)\\n\"\u001b[0m\u001b[1;33m)\u001b[0m\u001b[1;33m\u001b[0m\u001b[1;33m\u001b[0m\u001b[0m\n\u001b[1;32m---> 38\u001b[1;33m         \u001b[0mGeneralSystemMessages\u001b[0m\u001b[1;33m(\u001b[0m\u001b[0mserial\u001b[0m\u001b[1;33m,\u001b[0m \u001b[0mmsg_new\u001b[0m\u001b[1;33m)\u001b[0m\u001b[1;33m\u001b[0m\u001b[1;33m\u001b[0m\u001b[0m\n\u001b[0m\u001b[0;32m     39\u001b[0m     \u001b[1;32melse\u001b[0m\u001b[1;33m:\u001b[0m\u001b[1;33m\u001b[0m\u001b[1;33m\u001b[0m\u001b[0m\n\u001b[0;32m     40\u001b[0m         \u001b[0mprint\u001b[0m\u001b[1;33m(\u001b[0m\u001b[0mmsg_dict\u001b[0m\u001b[1;33m[\u001b[0m\u001b[0mmsg_new\u001b[0m\u001b[1;33m[\u001b[0m\u001b[1;36m0\u001b[0m\u001b[1;33m]\u001b[0m\u001b[1;33m]\u001b[0m\u001b[1;33m)\u001b[0m\u001b[1;33m\u001b[0m\u001b[1;33m\u001b[0m\u001b[0m\n",
      "\u001b[1;32m~\\AppData\\Local\\Temp\\ipykernel_12544\\3248315472.py\u001b[0m in \u001b[0;36mGeneralSystemMessages\u001b[1;34m(serial, msg_old)\u001b[0m\n\u001b[0;32m     36\u001b[0m     \u001b[1;32mif\u001b[0m \u001b[0mend_cmd_tag\u001b[0m \u001b[1;33m!=\u001b[0m \u001b[1;34mb'\\x18'\u001b[0m\u001b[1;33m:\u001b[0m\u001b[1;33m\u001b[0m\u001b[1;33m\u001b[0m\u001b[0m\n\u001b[0;32m     37\u001b[0m         \u001b[0mprint\u001b[0m\u001b[1;33m(\u001b[0m\u001b[1;34m\"Recall GeneralSystemMessages(serial, msg_new)\\n\"\u001b[0m\u001b[1;33m)\u001b[0m\u001b[1;33m\u001b[0m\u001b[1;33m\u001b[0m\u001b[0m\n\u001b[1;32m---> 38\u001b[1;33m         \u001b[0mGeneralSystemMessages\u001b[0m\u001b[1;33m(\u001b[0m\u001b[0mserial\u001b[0m\u001b[1;33m,\u001b[0m \u001b[0mmsg_new\u001b[0m\u001b[1;33m)\u001b[0m\u001b[1;33m\u001b[0m\u001b[1;33m\u001b[0m\u001b[0m\n\u001b[0m\u001b[0;32m     39\u001b[0m     \u001b[1;32melse\u001b[0m\u001b[1;33m:\u001b[0m\u001b[1;33m\u001b[0m\u001b[1;33m\u001b[0m\u001b[0m\n\u001b[0;32m     40\u001b[0m         \u001b[0mprint\u001b[0m\u001b[1;33m(\u001b[0m\u001b[0mmsg_dict\u001b[0m\u001b[1;33m[\u001b[0m\u001b[0mmsg_new\u001b[0m\u001b[1;33m[\u001b[0m\u001b[1;36m0\u001b[0m\u001b[1;33m]\u001b[0m\u001b[1;33m]\u001b[0m\u001b[1;33m)\u001b[0m\u001b[1;33m\u001b[0m\u001b[1;33m\u001b[0m\u001b[0m\n",
      "\u001b[1;32m~\\AppData\\Local\\Temp\\ipykernel_12544\\3248315472.py\u001b[0m in \u001b[0;36mGeneralSystemMessages\u001b[1;34m(serial, msg_old)\u001b[0m\n\u001b[0;32m     36\u001b[0m     \u001b[1;32mif\u001b[0m \u001b[0mend_cmd_tag\u001b[0m \u001b[1;33m!=\u001b[0m \u001b[1;34mb'\\x18'\u001b[0m\u001b[1;33m:\u001b[0m\u001b[1;33m\u001b[0m\u001b[1;33m\u001b[0m\u001b[0m\n\u001b[0;32m     37\u001b[0m         \u001b[0mprint\u001b[0m\u001b[1;33m(\u001b[0m\u001b[1;34m\"Recall GeneralSystemMessages(serial, msg_new)\\n\"\u001b[0m\u001b[1;33m)\u001b[0m\u001b[1;33m\u001b[0m\u001b[1;33m\u001b[0m\u001b[0m\n\u001b[1;32m---> 38\u001b[1;33m         \u001b[0mGeneralSystemMessages\u001b[0m\u001b[1;33m(\u001b[0m\u001b[0mserial\u001b[0m\u001b[1;33m,\u001b[0m \u001b[0mmsg_new\u001b[0m\u001b[1;33m)\u001b[0m\u001b[1;33m\u001b[0m\u001b[1;33m\u001b[0m\u001b[0m\n\u001b[0m\u001b[0;32m     39\u001b[0m     \u001b[1;32melse\u001b[0m\u001b[1;33m:\u001b[0m\u001b[1;33m\u001b[0m\u001b[1;33m\u001b[0m\u001b[0m\n\u001b[0;32m     40\u001b[0m         \u001b[0mprint\u001b[0m\u001b[1;33m(\u001b[0m\u001b[0mmsg_dict\u001b[0m\u001b[1;33m[\u001b[0m\u001b[0mmsg_new\u001b[0m\u001b[1;33m[\u001b[0m\u001b[1;36m0\u001b[0m\u001b[1;33m]\u001b[0m\u001b[1;33m]\u001b[0m\u001b[1;33m)\u001b[0m\u001b[1;33m\u001b[0m\u001b[1;33m\u001b[0m\u001b[0m\n",
      "\u001b[1;32m~\\AppData\\Local\\Temp\\ipykernel_12544\\3248315472.py\u001b[0m in \u001b[0;36mGeneralSystemMessages\u001b[1;34m(serial, msg_old)\u001b[0m\n\u001b[0;32m     36\u001b[0m     \u001b[1;32mif\u001b[0m \u001b[0mend_cmd_tag\u001b[0m \u001b[1;33m!=\u001b[0m \u001b[1;34mb'\\x18'\u001b[0m\u001b[1;33m:\u001b[0m\u001b[1;33m\u001b[0m\u001b[1;33m\u001b[0m\u001b[0m\n\u001b[0;32m     37\u001b[0m         \u001b[0mprint\u001b[0m\u001b[1;33m(\u001b[0m\u001b[1;34m\"Recall GeneralSystemMessages(serial, msg_new)\\n\"\u001b[0m\u001b[1;33m)\u001b[0m\u001b[1;33m\u001b[0m\u001b[1;33m\u001b[0m\u001b[0m\n\u001b[1;32m---> 38\u001b[1;33m         \u001b[0mGeneralSystemMessages\u001b[0m\u001b[1;33m(\u001b[0m\u001b[0mserial\u001b[0m\u001b[1;33m,\u001b[0m \u001b[0mmsg_new\u001b[0m\u001b[1;33m)\u001b[0m\u001b[1;33m\u001b[0m\u001b[1;33m\u001b[0m\u001b[0m\n\u001b[0m\u001b[0;32m     39\u001b[0m     \u001b[1;32melse\u001b[0m\u001b[1;33m:\u001b[0m\u001b[1;33m\u001b[0m\u001b[1;33m\u001b[0m\u001b[0m\n\u001b[0;32m     40\u001b[0m         \u001b[0mprint\u001b[0m\u001b[1;33m(\u001b[0m\u001b[0mmsg_dict\u001b[0m\u001b[1;33m[\u001b[0m\u001b[0mmsg_new\u001b[0m\u001b[1;33m[\u001b[0m\u001b[1;36m0\u001b[0m\u001b[1;33m]\u001b[0m\u001b[1;33m]\u001b[0m\u001b[1;33m)\u001b[0m\u001b[1;33m\u001b[0m\u001b[1;33m\u001b[0m\u001b[0m\n",
      "\u001b[1;32m~\\AppData\\Local\\Temp\\ipykernel_12544\\3248315472.py\u001b[0m in \u001b[0;36mGeneralSystemMessages\u001b[1;34m(serial, msg_old)\u001b[0m\n\u001b[0;32m     36\u001b[0m     \u001b[1;32mif\u001b[0m \u001b[0mend_cmd_tag\u001b[0m \u001b[1;33m!=\u001b[0m \u001b[1;34mb'\\x18'\u001b[0m\u001b[1;33m:\u001b[0m\u001b[1;33m\u001b[0m\u001b[1;33m\u001b[0m\u001b[0m\n\u001b[0;32m     37\u001b[0m         \u001b[0mprint\u001b[0m\u001b[1;33m(\u001b[0m\u001b[1;34m\"Recall GeneralSystemMessages(serial, msg_new)\\n\"\u001b[0m\u001b[1;33m)\u001b[0m\u001b[1;33m\u001b[0m\u001b[1;33m\u001b[0m\u001b[0m\n\u001b[1;32m---> 38\u001b[1;33m         \u001b[0mGeneralSystemMessages\u001b[0m\u001b[1;33m(\u001b[0m\u001b[0mserial\u001b[0m\u001b[1;33m,\u001b[0m \u001b[0mmsg_new\u001b[0m\u001b[1;33m)\u001b[0m\u001b[1;33m\u001b[0m\u001b[1;33m\u001b[0m\u001b[0m\n\u001b[0m\u001b[0;32m     39\u001b[0m     \u001b[1;32melse\u001b[0m\u001b[1;33m:\u001b[0m\u001b[1;33m\u001b[0m\u001b[1;33m\u001b[0m\u001b[0m\n\u001b[0;32m     40\u001b[0m         \u001b[0mprint\u001b[0m\u001b[1;33m(\u001b[0m\u001b[0mmsg_dict\u001b[0m\u001b[1;33m[\u001b[0m\u001b[0mmsg_new\u001b[0m\u001b[1;33m[\u001b[0m\u001b[1;36m0\u001b[0m\u001b[1;33m]\u001b[0m\u001b[1;33m]\u001b[0m\u001b[1;33m)\u001b[0m\u001b[1;33m\u001b[0m\u001b[1;33m\u001b[0m\u001b[0m\n",
      "\u001b[1;32m~\\AppData\\Local\\Temp\\ipykernel_12544\\3248315472.py\u001b[0m in \u001b[0;36mGeneralSystemMessages\u001b[1;34m(serial, msg_old)\u001b[0m\n\u001b[0;32m     36\u001b[0m     \u001b[1;32mif\u001b[0m \u001b[0mend_cmd_tag\u001b[0m \u001b[1;33m!=\u001b[0m \u001b[1;34mb'\\x18'\u001b[0m\u001b[1;33m:\u001b[0m\u001b[1;33m\u001b[0m\u001b[1;33m\u001b[0m\u001b[0m\n\u001b[0;32m     37\u001b[0m         \u001b[0mprint\u001b[0m\u001b[1;33m(\u001b[0m\u001b[1;34m\"Recall GeneralSystemMessages(serial, msg_new)\\n\"\u001b[0m\u001b[1;33m)\u001b[0m\u001b[1;33m\u001b[0m\u001b[1;33m\u001b[0m\u001b[0m\n\u001b[1;32m---> 38\u001b[1;33m         \u001b[0mGeneralSystemMessages\u001b[0m\u001b[1;33m(\u001b[0m\u001b[0mserial\u001b[0m\u001b[1;33m,\u001b[0m \u001b[0mmsg_new\u001b[0m\u001b[1;33m)\u001b[0m\u001b[1;33m\u001b[0m\u001b[1;33m\u001b[0m\u001b[0m\n\u001b[0m\u001b[0;32m     39\u001b[0m     \u001b[1;32melse\u001b[0m\u001b[1;33m:\u001b[0m\u001b[1;33m\u001b[0m\u001b[1;33m\u001b[0m\u001b[0m\n\u001b[0;32m     40\u001b[0m         \u001b[0mprint\u001b[0m\u001b[1;33m(\u001b[0m\u001b[0mmsg_dict\u001b[0m\u001b[1;33m[\u001b[0m\u001b[0mmsg_new\u001b[0m\u001b[1;33m[\u001b[0m\u001b[1;36m0\u001b[0m\u001b[1;33m]\u001b[0m\u001b[1;33m]\u001b[0m\u001b[1;33m)\u001b[0m\u001b[1;33m\u001b[0m\u001b[1;33m\u001b[0m\u001b[0m\n",
      "\u001b[1;32m~\\AppData\\Local\\Temp\\ipykernel_12544\\3248315472.py\u001b[0m in \u001b[0;36mGeneralSystemMessages\u001b[1;34m(serial, msg_old)\u001b[0m\n\u001b[0;32m     36\u001b[0m     \u001b[1;32mif\u001b[0m \u001b[0mend_cmd_tag\u001b[0m \u001b[1;33m!=\u001b[0m \u001b[1;34mb'\\x18'\u001b[0m\u001b[1;33m:\u001b[0m\u001b[1;33m\u001b[0m\u001b[1;33m\u001b[0m\u001b[0m\n\u001b[0;32m     37\u001b[0m         \u001b[0mprint\u001b[0m\u001b[1;33m(\u001b[0m\u001b[1;34m\"Recall GeneralSystemMessages(serial, msg_new)\\n\"\u001b[0m\u001b[1;33m)\u001b[0m\u001b[1;33m\u001b[0m\u001b[1;33m\u001b[0m\u001b[0m\n\u001b[1;32m---> 38\u001b[1;33m         \u001b[0mGeneralSystemMessages\u001b[0m\u001b[1;33m(\u001b[0m\u001b[0mserial\u001b[0m\u001b[1;33m,\u001b[0m \u001b[0mmsg_new\u001b[0m\u001b[1;33m)\u001b[0m\u001b[1;33m\u001b[0m\u001b[1;33m\u001b[0m\u001b[0m\n\u001b[0m\u001b[0;32m     39\u001b[0m     \u001b[1;32melse\u001b[0m\u001b[1;33m:\u001b[0m\u001b[1;33m\u001b[0m\u001b[1;33m\u001b[0m\u001b[0m\n\u001b[0;32m     40\u001b[0m         \u001b[0mprint\u001b[0m\u001b[1;33m(\u001b[0m\u001b[0mmsg_dict\u001b[0m\u001b[1;33m[\u001b[0m\u001b[0mmsg_new\u001b[0m\u001b[1;33m[\u001b[0m\u001b[1;36m0\u001b[0m\u001b[1;33m]\u001b[0m\u001b[1;33m]\u001b[0m\u001b[1;33m)\u001b[0m\u001b[1;33m\u001b[0m\u001b[1;33m\u001b[0m\u001b[0m\n",
      "\u001b[1;32m~\\AppData\\Local\\Temp\\ipykernel_12544\\3248315472.py\u001b[0m in \u001b[0;36mGeneralSystemMessages\u001b[1;34m(serial, msg_old)\u001b[0m\n\u001b[0;32m     36\u001b[0m     \u001b[1;32mif\u001b[0m \u001b[0mend_cmd_tag\u001b[0m \u001b[1;33m!=\u001b[0m \u001b[1;34mb'\\x18'\u001b[0m\u001b[1;33m:\u001b[0m\u001b[1;33m\u001b[0m\u001b[1;33m\u001b[0m\u001b[0m\n\u001b[0;32m     37\u001b[0m         \u001b[0mprint\u001b[0m\u001b[1;33m(\u001b[0m\u001b[1;34m\"Recall GeneralSystemMessages(serial, msg_new)\\n\"\u001b[0m\u001b[1;33m)\u001b[0m\u001b[1;33m\u001b[0m\u001b[1;33m\u001b[0m\u001b[0m\n\u001b[1;32m---> 38\u001b[1;33m         \u001b[0mGeneralSystemMessages\u001b[0m\u001b[1;33m(\u001b[0m\u001b[0mserial\u001b[0m\u001b[1;33m,\u001b[0m \u001b[0mmsg_new\u001b[0m\u001b[1;33m)\u001b[0m\u001b[1;33m\u001b[0m\u001b[1;33m\u001b[0m\u001b[0m\n\u001b[0m\u001b[0;32m     39\u001b[0m     \u001b[1;32melse\u001b[0m\u001b[1;33m:\u001b[0m\u001b[1;33m\u001b[0m\u001b[1;33m\u001b[0m\u001b[0m\n\u001b[0;32m     40\u001b[0m         \u001b[0mprint\u001b[0m\u001b[1;33m(\u001b[0m\u001b[0mmsg_dict\u001b[0m\u001b[1;33m[\u001b[0m\u001b[0mmsg_new\u001b[0m\u001b[1;33m[\u001b[0m\u001b[1;36m0\u001b[0m\u001b[1;33m]\u001b[0m\u001b[1;33m]\u001b[0m\u001b[1;33m)\u001b[0m\u001b[1;33m\u001b[0m\u001b[1;33m\u001b[0m\u001b[0m\n",
      "\u001b[1;32m~\\AppData\\Local\\Temp\\ipykernel_12544\\3248315472.py\u001b[0m in \u001b[0;36mGeneralSystemMessages\u001b[1;34m(serial, msg_old)\u001b[0m\n\u001b[0;32m     36\u001b[0m     \u001b[1;32mif\u001b[0m \u001b[0mend_cmd_tag\u001b[0m \u001b[1;33m!=\u001b[0m \u001b[1;34mb'\\x18'\u001b[0m\u001b[1;33m:\u001b[0m\u001b[1;33m\u001b[0m\u001b[1;33m\u001b[0m\u001b[0m\n\u001b[0;32m     37\u001b[0m         \u001b[0mprint\u001b[0m\u001b[1;33m(\u001b[0m\u001b[1;34m\"Recall GeneralSystemMessages(serial, msg_new)\\n\"\u001b[0m\u001b[1;33m)\u001b[0m\u001b[1;33m\u001b[0m\u001b[1;33m\u001b[0m\u001b[0m\n\u001b[1;32m---> 38\u001b[1;33m         \u001b[0mGeneralSystemMessages\u001b[0m\u001b[1;33m(\u001b[0m\u001b[0mserial\u001b[0m\u001b[1;33m,\u001b[0m \u001b[0mmsg_new\u001b[0m\u001b[1;33m)\u001b[0m\u001b[1;33m\u001b[0m\u001b[1;33m\u001b[0m\u001b[0m\n\u001b[0m\u001b[0;32m     39\u001b[0m     \u001b[1;32melse\u001b[0m\u001b[1;33m:\u001b[0m\u001b[1;33m\u001b[0m\u001b[1;33m\u001b[0m\u001b[0m\n\u001b[0;32m     40\u001b[0m         \u001b[0mprint\u001b[0m\u001b[1;33m(\u001b[0m\u001b[0mmsg_dict\u001b[0m\u001b[1;33m[\u001b[0m\u001b[0mmsg_new\u001b[0m\u001b[1;33m[\u001b[0m\u001b[1;36m0\u001b[0m\u001b[1;33m]\u001b[0m\u001b[1;33m]\u001b[0m\u001b[1;33m)\u001b[0m\u001b[1;33m\u001b[0m\u001b[1;33m\u001b[0m\u001b[0m\n",
      "\u001b[1;32m~\\AppData\\Local\\Temp\\ipykernel_12544\\3248315472.py\u001b[0m in \u001b[0;36mGeneralSystemMessages\u001b[1;34m(serial, msg_old)\u001b[0m\n\u001b[0;32m     36\u001b[0m     \u001b[1;32mif\u001b[0m \u001b[0mend_cmd_tag\u001b[0m \u001b[1;33m!=\u001b[0m \u001b[1;34mb'\\x18'\u001b[0m\u001b[1;33m:\u001b[0m\u001b[1;33m\u001b[0m\u001b[1;33m\u001b[0m\u001b[0m\n\u001b[0;32m     37\u001b[0m         \u001b[0mprint\u001b[0m\u001b[1;33m(\u001b[0m\u001b[1;34m\"Recall GeneralSystemMessages(serial, msg_new)\\n\"\u001b[0m\u001b[1;33m)\u001b[0m\u001b[1;33m\u001b[0m\u001b[1;33m\u001b[0m\u001b[0m\n\u001b[1;32m---> 38\u001b[1;33m         \u001b[0mGeneralSystemMessages\u001b[0m\u001b[1;33m(\u001b[0m\u001b[0mserial\u001b[0m\u001b[1;33m,\u001b[0m \u001b[0mmsg_new\u001b[0m\u001b[1;33m)\u001b[0m\u001b[1;33m\u001b[0m\u001b[1;33m\u001b[0m\u001b[0m\n\u001b[0m\u001b[0;32m     39\u001b[0m     \u001b[1;32melse\u001b[0m\u001b[1;33m:\u001b[0m\u001b[1;33m\u001b[0m\u001b[1;33m\u001b[0m\u001b[0m\n\u001b[0;32m     40\u001b[0m         \u001b[0mprint\u001b[0m\u001b[1;33m(\u001b[0m\u001b[0mmsg_dict\u001b[0m\u001b[1;33m[\u001b[0m\u001b[0mmsg_new\u001b[0m\u001b[1;33m[\u001b[0m\u001b[1;36m0\u001b[0m\u001b[1;33m]\u001b[0m\u001b[1;33m]\u001b[0m\u001b[1;33m)\u001b[0m\u001b[1;33m\u001b[0m\u001b[1;33m\u001b[0m\u001b[0m\n",
      "\u001b[1;32m~\\AppData\\Local\\Temp\\ipykernel_12544\\3248315472.py\u001b[0m in \u001b[0;36mGeneralSystemMessages\u001b[1;34m(serial, msg_old)\u001b[0m\n\u001b[0;32m     36\u001b[0m     \u001b[1;32mif\u001b[0m \u001b[0mend_cmd_tag\u001b[0m \u001b[1;33m!=\u001b[0m \u001b[1;34mb'\\x18'\u001b[0m\u001b[1;33m:\u001b[0m\u001b[1;33m\u001b[0m\u001b[1;33m\u001b[0m\u001b[0m\n\u001b[0;32m     37\u001b[0m         \u001b[0mprint\u001b[0m\u001b[1;33m(\u001b[0m\u001b[1;34m\"Recall GeneralSystemMessages(serial, msg_new)\\n\"\u001b[0m\u001b[1;33m)\u001b[0m\u001b[1;33m\u001b[0m\u001b[1;33m\u001b[0m\u001b[0m\n\u001b[1;32m---> 38\u001b[1;33m         \u001b[0mGeneralSystemMessages\u001b[0m\u001b[1;33m(\u001b[0m\u001b[0mserial\u001b[0m\u001b[1;33m,\u001b[0m \u001b[0mmsg_new\u001b[0m\u001b[1;33m)\u001b[0m\u001b[1;33m\u001b[0m\u001b[1;33m\u001b[0m\u001b[0m\n\u001b[0m\u001b[0;32m     39\u001b[0m     \u001b[1;32melse\u001b[0m\u001b[1;33m:\u001b[0m\u001b[1;33m\u001b[0m\u001b[1;33m\u001b[0m\u001b[0m\n\u001b[0;32m     40\u001b[0m         \u001b[0mprint\u001b[0m\u001b[1;33m(\u001b[0m\u001b[0mmsg_dict\u001b[0m\u001b[1;33m[\u001b[0m\u001b[0mmsg_new\u001b[0m\u001b[1;33m[\u001b[0m\u001b[1;36m0\u001b[0m\u001b[1;33m]\u001b[0m\u001b[1;33m]\u001b[0m\u001b[1;33m)\u001b[0m\u001b[1;33m\u001b[0m\u001b[1;33m\u001b[0m\u001b[0m\n",
      "\u001b[1;32m~\\AppData\\Local\\Temp\\ipykernel_12544\\3248315472.py\u001b[0m in \u001b[0;36mGeneralSystemMessages\u001b[1;34m(serial, msg_old)\u001b[0m\n\u001b[0;32m     36\u001b[0m     \u001b[1;32mif\u001b[0m \u001b[0mend_cmd_tag\u001b[0m \u001b[1;33m!=\u001b[0m \u001b[1;34mb'\\x18'\u001b[0m\u001b[1;33m:\u001b[0m\u001b[1;33m\u001b[0m\u001b[1;33m\u001b[0m\u001b[0m\n\u001b[0;32m     37\u001b[0m         \u001b[0mprint\u001b[0m\u001b[1;33m(\u001b[0m\u001b[1;34m\"Recall GeneralSystemMessages(serial, msg_new)\\n\"\u001b[0m\u001b[1;33m)\u001b[0m\u001b[1;33m\u001b[0m\u001b[1;33m\u001b[0m\u001b[0m\n\u001b[1;32m---> 38\u001b[1;33m         \u001b[0mGeneralSystemMessages\u001b[0m\u001b[1;33m(\u001b[0m\u001b[0mserial\u001b[0m\u001b[1;33m,\u001b[0m \u001b[0mmsg_new\u001b[0m\u001b[1;33m)\u001b[0m\u001b[1;33m\u001b[0m\u001b[1;33m\u001b[0m\u001b[0m\n\u001b[0m\u001b[0;32m     39\u001b[0m     \u001b[1;32melse\u001b[0m\u001b[1;33m:\u001b[0m\u001b[1;33m\u001b[0m\u001b[1;33m\u001b[0m\u001b[0m\n\u001b[0;32m     40\u001b[0m         \u001b[0mprint\u001b[0m\u001b[1;33m(\u001b[0m\u001b[0mmsg_dict\u001b[0m\u001b[1;33m[\u001b[0m\u001b[0mmsg_new\u001b[0m\u001b[1;33m[\u001b[0m\u001b[1;36m0\u001b[0m\u001b[1;33m]\u001b[0m\u001b[1;33m]\u001b[0m\u001b[1;33m)\u001b[0m\u001b[1;33m\u001b[0m\u001b[1;33m\u001b[0m\u001b[0m\n",
      "\u001b[1;32m~\\AppData\\Local\\Temp\\ipykernel_12544\\3248315472.py\u001b[0m in \u001b[0;36mGeneralSystemMessages\u001b[1;34m(serial, msg_old)\u001b[0m\n\u001b[0;32m     36\u001b[0m     \u001b[1;32mif\u001b[0m \u001b[0mend_cmd_tag\u001b[0m \u001b[1;33m!=\u001b[0m \u001b[1;34mb'\\x18'\u001b[0m\u001b[1;33m:\u001b[0m\u001b[1;33m\u001b[0m\u001b[1;33m\u001b[0m\u001b[0m\n\u001b[0;32m     37\u001b[0m         \u001b[0mprint\u001b[0m\u001b[1;33m(\u001b[0m\u001b[1;34m\"Recall GeneralSystemMessages(serial, msg_new)\\n\"\u001b[0m\u001b[1;33m)\u001b[0m\u001b[1;33m\u001b[0m\u001b[1;33m\u001b[0m\u001b[0m\n\u001b[1;32m---> 38\u001b[1;33m         \u001b[0mGeneralSystemMessages\u001b[0m\u001b[1;33m(\u001b[0m\u001b[0mserial\u001b[0m\u001b[1;33m,\u001b[0m \u001b[0mmsg_new\u001b[0m\u001b[1;33m)\u001b[0m\u001b[1;33m\u001b[0m\u001b[1;33m\u001b[0m\u001b[0m\n\u001b[0m\u001b[0;32m     39\u001b[0m     \u001b[1;32melse\u001b[0m\u001b[1;33m:\u001b[0m\u001b[1;33m\u001b[0m\u001b[1;33m\u001b[0m\u001b[0m\n\u001b[0;32m     40\u001b[0m         \u001b[0mprint\u001b[0m\u001b[1;33m(\u001b[0m\u001b[0mmsg_dict\u001b[0m\u001b[1;33m[\u001b[0m\u001b[0mmsg_new\u001b[0m\u001b[1;33m[\u001b[0m\u001b[1;36m0\u001b[0m\u001b[1;33m]\u001b[0m\u001b[1;33m]\u001b[0m\u001b[1;33m)\u001b[0m\u001b[1;33m\u001b[0m\u001b[1;33m\u001b[0m\u001b[0m\n",
      "\u001b[1;32m~\\AppData\\Local\\Temp\\ipykernel_12544\\3248315472.py\u001b[0m in \u001b[0;36mGeneralSystemMessages\u001b[1;34m(serial, msg_old)\u001b[0m\n\u001b[0;32m     36\u001b[0m     \u001b[1;32mif\u001b[0m \u001b[0mend_cmd_tag\u001b[0m \u001b[1;33m!=\u001b[0m \u001b[1;34mb'\\x18'\u001b[0m\u001b[1;33m:\u001b[0m\u001b[1;33m\u001b[0m\u001b[1;33m\u001b[0m\u001b[0m\n\u001b[0;32m     37\u001b[0m         \u001b[0mprint\u001b[0m\u001b[1;33m(\u001b[0m\u001b[1;34m\"Recall GeneralSystemMessages(serial, msg_new)\\n\"\u001b[0m\u001b[1;33m)\u001b[0m\u001b[1;33m\u001b[0m\u001b[1;33m\u001b[0m\u001b[0m\n\u001b[1;32m---> 38\u001b[1;33m         \u001b[0mGeneralSystemMessages\u001b[0m\u001b[1;33m(\u001b[0m\u001b[0mserial\u001b[0m\u001b[1;33m,\u001b[0m \u001b[0mmsg_new\u001b[0m\u001b[1;33m)\u001b[0m\u001b[1;33m\u001b[0m\u001b[1;33m\u001b[0m\u001b[0m\n\u001b[0m\u001b[0;32m     39\u001b[0m     \u001b[1;32melse\u001b[0m\u001b[1;33m:\u001b[0m\u001b[1;33m\u001b[0m\u001b[1;33m\u001b[0m\u001b[0m\n\u001b[0;32m     40\u001b[0m         \u001b[0mprint\u001b[0m\u001b[1;33m(\u001b[0m\u001b[0mmsg_dict\u001b[0m\u001b[1;33m[\u001b[0m\u001b[0mmsg_new\u001b[0m\u001b[1;33m[\u001b[0m\u001b[1;36m0\u001b[0m\u001b[1;33m]\u001b[0m\u001b[1;33m]\u001b[0m\u001b[1;33m)\u001b[0m\u001b[1;33m\u001b[0m\u001b[1;33m\u001b[0m\u001b[0m\n",
      "\u001b[1;32m~\\AppData\\Local\\Temp\\ipykernel_12544\\3248315472.py\u001b[0m in \u001b[0;36mGeneralSystemMessages\u001b[1;34m(serial, msg_old)\u001b[0m\n\u001b[0;32m     36\u001b[0m     \u001b[1;32mif\u001b[0m \u001b[0mend_cmd_tag\u001b[0m \u001b[1;33m!=\u001b[0m \u001b[1;34mb'\\x18'\u001b[0m\u001b[1;33m:\u001b[0m\u001b[1;33m\u001b[0m\u001b[1;33m\u001b[0m\u001b[0m\n\u001b[0;32m     37\u001b[0m         \u001b[0mprint\u001b[0m\u001b[1;33m(\u001b[0m\u001b[1;34m\"Recall GeneralSystemMessages(serial, msg_new)\\n\"\u001b[0m\u001b[1;33m)\u001b[0m\u001b[1;33m\u001b[0m\u001b[1;33m\u001b[0m\u001b[0m\n\u001b[1;32m---> 38\u001b[1;33m         \u001b[0mGeneralSystemMessages\u001b[0m\u001b[1;33m(\u001b[0m\u001b[0mserial\u001b[0m\u001b[1;33m,\u001b[0m \u001b[0mmsg_new\u001b[0m\u001b[1;33m)\u001b[0m\u001b[1;33m\u001b[0m\u001b[1;33m\u001b[0m\u001b[0m\n\u001b[0m\u001b[0;32m     39\u001b[0m     \u001b[1;32melse\u001b[0m\u001b[1;33m:\u001b[0m\u001b[1;33m\u001b[0m\u001b[1;33m\u001b[0m\u001b[0m\n\u001b[0;32m     40\u001b[0m         \u001b[0mprint\u001b[0m\u001b[1;33m(\u001b[0m\u001b[0mmsg_dict\u001b[0m\u001b[1;33m[\u001b[0m\u001b[0mmsg_new\u001b[0m\u001b[1;33m[\u001b[0m\u001b[1;36m0\u001b[0m\u001b[1;33m]\u001b[0m\u001b[1;33m]\u001b[0m\u001b[1;33m)\u001b[0m\u001b[1;33m\u001b[0m\u001b[1;33m\u001b[0m\u001b[0m\n",
      "\u001b[1;32m~\\AppData\\Local\\Temp\\ipykernel_12544\\3248315472.py\u001b[0m in \u001b[0;36mGeneralSystemMessages\u001b[1;34m(serial, msg_old)\u001b[0m\n\u001b[0;32m     36\u001b[0m     \u001b[1;32mif\u001b[0m \u001b[0mend_cmd_tag\u001b[0m \u001b[1;33m!=\u001b[0m \u001b[1;34mb'\\x18'\u001b[0m\u001b[1;33m:\u001b[0m\u001b[1;33m\u001b[0m\u001b[1;33m\u001b[0m\u001b[0m\n\u001b[0;32m     37\u001b[0m         \u001b[0mprint\u001b[0m\u001b[1;33m(\u001b[0m\u001b[1;34m\"Recall GeneralSystemMessages(serial, msg_new)\\n\"\u001b[0m\u001b[1;33m)\u001b[0m\u001b[1;33m\u001b[0m\u001b[1;33m\u001b[0m\u001b[0m\n\u001b[1;32m---> 38\u001b[1;33m         \u001b[0mGeneralSystemMessages\u001b[0m\u001b[1;33m(\u001b[0m\u001b[0mserial\u001b[0m\u001b[1;33m,\u001b[0m \u001b[0mmsg_new\u001b[0m\u001b[1;33m)\u001b[0m\u001b[1;33m\u001b[0m\u001b[1;33m\u001b[0m\u001b[0m\n\u001b[0m\u001b[0;32m     39\u001b[0m     \u001b[1;32melse\u001b[0m\u001b[1;33m:\u001b[0m\u001b[1;33m\u001b[0m\u001b[1;33m\u001b[0m\u001b[0m\n\u001b[0;32m     40\u001b[0m         \u001b[0mprint\u001b[0m\u001b[1;33m(\u001b[0m\u001b[0mmsg_dict\u001b[0m\u001b[1;33m[\u001b[0m\u001b[0mmsg_new\u001b[0m\u001b[1;33m[\u001b[0m\u001b[1;36m0\u001b[0m\u001b[1;33m]\u001b[0m\u001b[1;33m]\u001b[0m\u001b[1;33m)\u001b[0m\u001b[1;33m\u001b[0m\u001b[1;33m\u001b[0m\u001b[0m\n",
      "\u001b[1;32m~\\AppData\\Local\\Temp\\ipykernel_12544\\3248315472.py\u001b[0m in \u001b[0;36mGeneralSystemMessages\u001b[1;34m(serial, msg_old)\u001b[0m\n\u001b[0;32m     36\u001b[0m     \u001b[1;32mif\u001b[0m \u001b[0mend_cmd_tag\u001b[0m \u001b[1;33m!=\u001b[0m \u001b[1;34mb'\\x18'\u001b[0m\u001b[1;33m:\u001b[0m\u001b[1;33m\u001b[0m\u001b[1;33m\u001b[0m\u001b[0m\n\u001b[0;32m     37\u001b[0m         \u001b[0mprint\u001b[0m\u001b[1;33m(\u001b[0m\u001b[1;34m\"Recall GeneralSystemMessages(serial, msg_new)\\n\"\u001b[0m\u001b[1;33m)\u001b[0m\u001b[1;33m\u001b[0m\u001b[1;33m\u001b[0m\u001b[0m\n\u001b[1;32m---> 38\u001b[1;33m         \u001b[0mGeneralSystemMessages\u001b[0m\u001b[1;33m(\u001b[0m\u001b[0mserial\u001b[0m\u001b[1;33m,\u001b[0m \u001b[0mmsg_new\u001b[0m\u001b[1;33m)\u001b[0m\u001b[1;33m\u001b[0m\u001b[1;33m\u001b[0m\u001b[0m\n\u001b[0m\u001b[0;32m     39\u001b[0m     \u001b[1;32melse\u001b[0m\u001b[1;33m:\u001b[0m\u001b[1;33m\u001b[0m\u001b[1;33m\u001b[0m\u001b[0m\n\u001b[0;32m     40\u001b[0m         \u001b[0mprint\u001b[0m\u001b[1;33m(\u001b[0m\u001b[0mmsg_dict\u001b[0m\u001b[1;33m[\u001b[0m\u001b[0mmsg_new\u001b[0m\u001b[1;33m[\u001b[0m\u001b[1;36m0\u001b[0m\u001b[1;33m]\u001b[0m\u001b[1;33m]\u001b[0m\u001b[1;33m)\u001b[0m\u001b[1;33m\u001b[0m\u001b[1;33m\u001b[0m\u001b[0m\n",
      "\u001b[1;32m~\\AppData\\Local\\Temp\\ipykernel_12544\\3248315472.py\u001b[0m in \u001b[0;36mGeneralSystemMessages\u001b[1;34m(serial, msg_old)\u001b[0m\n\u001b[0;32m     36\u001b[0m     \u001b[1;32mif\u001b[0m \u001b[0mend_cmd_tag\u001b[0m \u001b[1;33m!=\u001b[0m \u001b[1;34mb'\\x18'\u001b[0m\u001b[1;33m:\u001b[0m\u001b[1;33m\u001b[0m\u001b[1;33m\u001b[0m\u001b[0m\n\u001b[0;32m     37\u001b[0m         \u001b[0mprint\u001b[0m\u001b[1;33m(\u001b[0m\u001b[1;34m\"Recall GeneralSystemMessages(serial, msg_new)\\n\"\u001b[0m\u001b[1;33m)\u001b[0m\u001b[1;33m\u001b[0m\u001b[1;33m\u001b[0m\u001b[0m\n\u001b[1;32m---> 38\u001b[1;33m         \u001b[0mGeneralSystemMessages\u001b[0m\u001b[1;33m(\u001b[0m\u001b[0mserial\u001b[0m\u001b[1;33m,\u001b[0m \u001b[0mmsg_new\u001b[0m\u001b[1;33m)\u001b[0m\u001b[1;33m\u001b[0m\u001b[1;33m\u001b[0m\u001b[0m\n\u001b[0m\u001b[0;32m     39\u001b[0m     \u001b[1;32melse\u001b[0m\u001b[1;33m:\u001b[0m\u001b[1;33m\u001b[0m\u001b[1;33m\u001b[0m\u001b[0m\n\u001b[0;32m     40\u001b[0m         \u001b[0mprint\u001b[0m\u001b[1;33m(\u001b[0m\u001b[0mmsg_dict\u001b[0m\u001b[1;33m[\u001b[0m\u001b[0mmsg_new\u001b[0m\u001b[1;33m[\u001b[0m\u001b[1;36m0\u001b[0m\u001b[1;33m]\u001b[0m\u001b[1;33m]\u001b[0m\u001b[1;33m)\u001b[0m\u001b[1;33m\u001b[0m\u001b[1;33m\u001b[0m\u001b[0m\n",
      "\u001b[1;32m~\\AppData\\Local\\Temp\\ipykernel_12544\\3248315472.py\u001b[0m in \u001b[0;36mGeneralSystemMessages\u001b[1;34m(serial, msg_old)\u001b[0m\n\u001b[0;32m     36\u001b[0m     \u001b[1;32mif\u001b[0m \u001b[0mend_cmd_tag\u001b[0m \u001b[1;33m!=\u001b[0m \u001b[1;34mb'\\x18'\u001b[0m\u001b[1;33m:\u001b[0m\u001b[1;33m\u001b[0m\u001b[1;33m\u001b[0m\u001b[0m\n\u001b[0;32m     37\u001b[0m         \u001b[0mprint\u001b[0m\u001b[1;33m(\u001b[0m\u001b[1;34m\"Recall GeneralSystemMessages(serial, msg_new)\\n\"\u001b[0m\u001b[1;33m)\u001b[0m\u001b[1;33m\u001b[0m\u001b[1;33m\u001b[0m\u001b[0m\n\u001b[1;32m---> 38\u001b[1;33m         \u001b[0mGeneralSystemMessages\u001b[0m\u001b[1;33m(\u001b[0m\u001b[0mserial\u001b[0m\u001b[1;33m,\u001b[0m \u001b[0mmsg_new\u001b[0m\u001b[1;33m)\u001b[0m\u001b[1;33m\u001b[0m\u001b[1;33m\u001b[0m\u001b[0m\n\u001b[0m\u001b[0;32m     39\u001b[0m     \u001b[1;32melse\u001b[0m\u001b[1;33m:\u001b[0m\u001b[1;33m\u001b[0m\u001b[1;33m\u001b[0m\u001b[0m\n\u001b[0;32m     40\u001b[0m         \u001b[0mprint\u001b[0m\u001b[1;33m(\u001b[0m\u001b[0mmsg_dict\u001b[0m\u001b[1;33m[\u001b[0m\u001b[0mmsg_new\u001b[0m\u001b[1;33m[\u001b[0m\u001b[1;36m0\u001b[0m\u001b[1;33m]\u001b[0m\u001b[1;33m]\u001b[0m\u001b[1;33m)\u001b[0m\u001b[1;33m\u001b[0m\u001b[1;33m\u001b[0m\u001b[0m\n",
      "\u001b[1;32m~\\AppData\\Local\\Temp\\ipykernel_12544\\3248315472.py\u001b[0m in \u001b[0;36mGeneralSystemMessages\u001b[1;34m(serial, msg_old)\u001b[0m\n\u001b[0;32m     36\u001b[0m     \u001b[1;32mif\u001b[0m \u001b[0mend_cmd_tag\u001b[0m \u001b[1;33m!=\u001b[0m \u001b[1;34mb'\\x18'\u001b[0m\u001b[1;33m:\u001b[0m\u001b[1;33m\u001b[0m\u001b[1;33m\u001b[0m\u001b[0m\n\u001b[0;32m     37\u001b[0m         \u001b[0mprint\u001b[0m\u001b[1;33m(\u001b[0m\u001b[1;34m\"Recall GeneralSystemMessages(serial, msg_new)\\n\"\u001b[0m\u001b[1;33m)\u001b[0m\u001b[1;33m\u001b[0m\u001b[1;33m\u001b[0m\u001b[0m\n\u001b[1;32m---> 38\u001b[1;33m         \u001b[0mGeneralSystemMessages\u001b[0m\u001b[1;33m(\u001b[0m\u001b[0mserial\u001b[0m\u001b[1;33m,\u001b[0m \u001b[0mmsg_new\u001b[0m\u001b[1;33m)\u001b[0m\u001b[1;33m\u001b[0m\u001b[1;33m\u001b[0m\u001b[0m\n\u001b[0m\u001b[0;32m     39\u001b[0m     \u001b[1;32melse\u001b[0m\u001b[1;33m:\u001b[0m\u001b[1;33m\u001b[0m\u001b[1;33m\u001b[0m\u001b[0m\n\u001b[0;32m     40\u001b[0m         \u001b[0mprint\u001b[0m\u001b[1;33m(\u001b[0m\u001b[0mmsg_dict\u001b[0m\u001b[1;33m[\u001b[0m\u001b[0mmsg_new\u001b[0m\u001b[1;33m[\u001b[0m\u001b[1;36m0\u001b[0m\u001b[1;33m]\u001b[0m\u001b[1;33m]\u001b[0m\u001b[1;33m)\u001b[0m\u001b[1;33m\u001b[0m\u001b[1;33m\u001b[0m\u001b[0m\n",
      "\u001b[1;32m~\\AppData\\Local\\Temp\\ipykernel_12544\\3248315472.py\u001b[0m in \u001b[0;36mGeneralSystemMessages\u001b[1;34m(serial, msg_old)\u001b[0m\n\u001b[0;32m     36\u001b[0m     \u001b[1;32mif\u001b[0m \u001b[0mend_cmd_tag\u001b[0m \u001b[1;33m!=\u001b[0m \u001b[1;34mb'\\x18'\u001b[0m\u001b[1;33m:\u001b[0m\u001b[1;33m\u001b[0m\u001b[1;33m\u001b[0m\u001b[0m\n\u001b[0;32m     37\u001b[0m         \u001b[0mprint\u001b[0m\u001b[1;33m(\u001b[0m\u001b[1;34m\"Recall GeneralSystemMessages(serial, msg_new)\\n\"\u001b[0m\u001b[1;33m)\u001b[0m\u001b[1;33m\u001b[0m\u001b[1;33m\u001b[0m\u001b[0m\n\u001b[1;32m---> 38\u001b[1;33m         \u001b[0mGeneralSystemMessages\u001b[0m\u001b[1;33m(\u001b[0m\u001b[0mserial\u001b[0m\u001b[1;33m,\u001b[0m \u001b[0mmsg_new\u001b[0m\u001b[1;33m)\u001b[0m\u001b[1;33m\u001b[0m\u001b[1;33m\u001b[0m\u001b[0m\n\u001b[0m\u001b[0;32m     39\u001b[0m     \u001b[1;32melse\u001b[0m\u001b[1;33m:\u001b[0m\u001b[1;33m\u001b[0m\u001b[1;33m\u001b[0m\u001b[0m\n\u001b[0;32m     40\u001b[0m         \u001b[0mprint\u001b[0m\u001b[1;33m(\u001b[0m\u001b[0mmsg_dict\u001b[0m\u001b[1;33m[\u001b[0m\u001b[0mmsg_new\u001b[0m\u001b[1;33m[\u001b[0m\u001b[1;36m0\u001b[0m\u001b[1;33m]\u001b[0m\u001b[1;33m]\u001b[0m\u001b[1;33m)\u001b[0m\u001b[1;33m\u001b[0m\u001b[1;33m\u001b[0m\u001b[0m\n",
      "\u001b[1;32m~\\AppData\\Local\\Temp\\ipykernel_12544\\3248315472.py\u001b[0m in \u001b[0;36mGeneralSystemMessages\u001b[1;34m(serial, msg_old)\u001b[0m\n\u001b[0;32m     36\u001b[0m     \u001b[1;32mif\u001b[0m \u001b[0mend_cmd_tag\u001b[0m \u001b[1;33m!=\u001b[0m \u001b[1;34mb'\\x18'\u001b[0m\u001b[1;33m:\u001b[0m\u001b[1;33m\u001b[0m\u001b[1;33m\u001b[0m\u001b[0m\n\u001b[0;32m     37\u001b[0m         \u001b[0mprint\u001b[0m\u001b[1;33m(\u001b[0m\u001b[1;34m\"Recall GeneralSystemMessages(serial, msg_new)\\n\"\u001b[0m\u001b[1;33m)\u001b[0m\u001b[1;33m\u001b[0m\u001b[1;33m\u001b[0m\u001b[0m\n\u001b[1;32m---> 38\u001b[1;33m         \u001b[0mGeneralSystemMessages\u001b[0m\u001b[1;33m(\u001b[0m\u001b[0mserial\u001b[0m\u001b[1;33m,\u001b[0m \u001b[0mmsg_new\u001b[0m\u001b[1;33m)\u001b[0m\u001b[1;33m\u001b[0m\u001b[1;33m\u001b[0m\u001b[0m\n\u001b[0m\u001b[0;32m     39\u001b[0m     \u001b[1;32melse\u001b[0m\u001b[1;33m:\u001b[0m\u001b[1;33m\u001b[0m\u001b[1;33m\u001b[0m\u001b[0m\n\u001b[0;32m     40\u001b[0m         \u001b[0mprint\u001b[0m\u001b[1;33m(\u001b[0m\u001b[0mmsg_dict\u001b[0m\u001b[1;33m[\u001b[0m\u001b[0mmsg_new\u001b[0m\u001b[1;33m[\u001b[0m\u001b[1;36m0\u001b[0m\u001b[1;33m]\u001b[0m\u001b[1;33m]\u001b[0m\u001b[1;33m)\u001b[0m\u001b[1;33m\u001b[0m\u001b[1;33m\u001b[0m\u001b[0m\n",
      "\u001b[1;32m~\\AppData\\Local\\Temp\\ipykernel_12544\\3248315472.py\u001b[0m in \u001b[0;36mGeneralSystemMessages\u001b[1;34m(serial, msg_old)\u001b[0m\n\u001b[0;32m     36\u001b[0m     \u001b[1;32mif\u001b[0m \u001b[0mend_cmd_tag\u001b[0m \u001b[1;33m!=\u001b[0m \u001b[1;34mb'\\x18'\u001b[0m\u001b[1;33m:\u001b[0m\u001b[1;33m\u001b[0m\u001b[1;33m\u001b[0m\u001b[0m\n\u001b[0;32m     37\u001b[0m         \u001b[0mprint\u001b[0m\u001b[1;33m(\u001b[0m\u001b[1;34m\"Recall GeneralSystemMessages(serial, msg_new)\\n\"\u001b[0m\u001b[1;33m)\u001b[0m\u001b[1;33m\u001b[0m\u001b[1;33m\u001b[0m\u001b[0m\n\u001b[1;32m---> 38\u001b[1;33m         \u001b[0mGeneralSystemMessages\u001b[0m\u001b[1;33m(\u001b[0m\u001b[0mserial\u001b[0m\u001b[1;33m,\u001b[0m \u001b[0mmsg_new\u001b[0m\u001b[1;33m)\u001b[0m\u001b[1;33m\u001b[0m\u001b[1;33m\u001b[0m\u001b[0m\n\u001b[0m\u001b[0;32m     39\u001b[0m     \u001b[1;32melse\u001b[0m\u001b[1;33m:\u001b[0m\u001b[1;33m\u001b[0m\u001b[1;33m\u001b[0m\u001b[0m\n\u001b[0;32m     40\u001b[0m         \u001b[0mprint\u001b[0m\u001b[1;33m(\u001b[0m\u001b[0mmsg_dict\u001b[0m\u001b[1;33m[\u001b[0m\u001b[0mmsg_new\u001b[0m\u001b[1;33m[\u001b[0m\u001b[1;36m0\u001b[0m\u001b[1;33m]\u001b[0m\u001b[1;33m]\u001b[0m\u001b[1;33m)\u001b[0m\u001b[1;33m\u001b[0m\u001b[1;33m\u001b[0m\u001b[0m\n",
      "\u001b[1;32m~\\AppData\\Local\\Temp\\ipykernel_12544\\3248315472.py\u001b[0m in \u001b[0;36mGeneralSystemMessages\u001b[1;34m(serial, msg_old)\u001b[0m\n\u001b[0;32m     36\u001b[0m     \u001b[1;32mif\u001b[0m \u001b[0mend_cmd_tag\u001b[0m \u001b[1;33m!=\u001b[0m \u001b[1;34mb'\\x18'\u001b[0m\u001b[1;33m:\u001b[0m\u001b[1;33m\u001b[0m\u001b[1;33m\u001b[0m\u001b[0m\n\u001b[0;32m     37\u001b[0m         \u001b[0mprint\u001b[0m\u001b[1;33m(\u001b[0m\u001b[1;34m\"Recall GeneralSystemMessages(serial, msg_new)\\n\"\u001b[0m\u001b[1;33m)\u001b[0m\u001b[1;33m\u001b[0m\u001b[1;33m\u001b[0m\u001b[0m\n\u001b[1;32m---> 38\u001b[1;33m         \u001b[0mGeneralSystemMessages\u001b[0m\u001b[1;33m(\u001b[0m\u001b[0mserial\u001b[0m\u001b[1;33m,\u001b[0m \u001b[0mmsg_new\u001b[0m\u001b[1;33m)\u001b[0m\u001b[1;33m\u001b[0m\u001b[1;33m\u001b[0m\u001b[0m\n\u001b[0m\u001b[0;32m     39\u001b[0m     \u001b[1;32melse\u001b[0m\u001b[1;33m:\u001b[0m\u001b[1;33m\u001b[0m\u001b[1;33m\u001b[0m\u001b[0m\n\u001b[0;32m     40\u001b[0m         \u001b[0mprint\u001b[0m\u001b[1;33m(\u001b[0m\u001b[0mmsg_dict\u001b[0m\u001b[1;33m[\u001b[0m\u001b[0mmsg_new\u001b[0m\u001b[1;33m[\u001b[0m\u001b[1;36m0\u001b[0m\u001b[1;33m]\u001b[0m\u001b[1;33m]\u001b[0m\u001b[1;33m)\u001b[0m\u001b[1;33m\u001b[0m\u001b[1;33m\u001b[0m\u001b[0m\n",
      "\u001b[1;32m~\\AppData\\Local\\Temp\\ipykernel_12544\\3248315472.py\u001b[0m in \u001b[0;36mGeneralSystemMessages\u001b[1;34m(serial, msg_old)\u001b[0m\n\u001b[0;32m     36\u001b[0m     \u001b[1;32mif\u001b[0m \u001b[0mend_cmd_tag\u001b[0m \u001b[1;33m!=\u001b[0m \u001b[1;34mb'\\x18'\u001b[0m\u001b[1;33m:\u001b[0m\u001b[1;33m\u001b[0m\u001b[1;33m\u001b[0m\u001b[0m\n\u001b[0;32m     37\u001b[0m         \u001b[0mprint\u001b[0m\u001b[1;33m(\u001b[0m\u001b[1;34m\"Recall GeneralSystemMessages(serial, msg_new)\\n\"\u001b[0m\u001b[1;33m)\u001b[0m\u001b[1;33m\u001b[0m\u001b[1;33m\u001b[0m\u001b[0m\n\u001b[1;32m---> 38\u001b[1;33m         \u001b[0mGeneralSystemMessages\u001b[0m\u001b[1;33m(\u001b[0m\u001b[0mserial\u001b[0m\u001b[1;33m,\u001b[0m \u001b[0mmsg_new\u001b[0m\u001b[1;33m)\u001b[0m\u001b[1;33m\u001b[0m\u001b[1;33m\u001b[0m\u001b[0m\n\u001b[0m\u001b[0;32m     39\u001b[0m     \u001b[1;32melse\u001b[0m\u001b[1;33m:\u001b[0m\u001b[1;33m\u001b[0m\u001b[1;33m\u001b[0m\u001b[0m\n\u001b[0;32m     40\u001b[0m         \u001b[0mprint\u001b[0m\u001b[1;33m(\u001b[0m\u001b[0mmsg_dict\u001b[0m\u001b[1;33m[\u001b[0m\u001b[0mmsg_new\u001b[0m\u001b[1;33m[\u001b[0m\u001b[1;36m0\u001b[0m\u001b[1;33m]\u001b[0m\u001b[1;33m]\u001b[0m\u001b[1;33m)\u001b[0m\u001b[1;33m\u001b[0m\u001b[1;33m\u001b[0m\u001b[0m\n",
      "\u001b[1;32m~\\AppData\\Local\\Temp\\ipykernel_12544\\3248315472.py\u001b[0m in \u001b[0;36mGeneralSystemMessages\u001b[1;34m(serial, msg_old)\u001b[0m\n\u001b[0;32m     36\u001b[0m     \u001b[1;32mif\u001b[0m \u001b[0mend_cmd_tag\u001b[0m \u001b[1;33m!=\u001b[0m \u001b[1;34mb'\\x18'\u001b[0m\u001b[1;33m:\u001b[0m\u001b[1;33m\u001b[0m\u001b[1;33m\u001b[0m\u001b[0m\n\u001b[0;32m     37\u001b[0m         \u001b[0mprint\u001b[0m\u001b[1;33m(\u001b[0m\u001b[1;34m\"Recall GeneralSystemMessages(serial, msg_new)\\n\"\u001b[0m\u001b[1;33m)\u001b[0m\u001b[1;33m\u001b[0m\u001b[1;33m\u001b[0m\u001b[0m\n\u001b[1;32m---> 38\u001b[1;33m         \u001b[0mGeneralSystemMessages\u001b[0m\u001b[1;33m(\u001b[0m\u001b[0mserial\u001b[0m\u001b[1;33m,\u001b[0m \u001b[0mmsg_new\u001b[0m\u001b[1;33m)\u001b[0m\u001b[1;33m\u001b[0m\u001b[1;33m\u001b[0m\u001b[0m\n\u001b[0m\u001b[0;32m     39\u001b[0m     \u001b[1;32melse\u001b[0m\u001b[1;33m:\u001b[0m\u001b[1;33m\u001b[0m\u001b[1;33m\u001b[0m\u001b[0m\n\u001b[0;32m     40\u001b[0m         \u001b[0mprint\u001b[0m\u001b[1;33m(\u001b[0m\u001b[0mmsg_dict\u001b[0m\u001b[1;33m[\u001b[0m\u001b[0mmsg_new\u001b[0m\u001b[1;33m[\u001b[0m\u001b[1;36m0\u001b[0m\u001b[1;33m]\u001b[0m\u001b[1;33m]\u001b[0m\u001b[1;33m)\u001b[0m\u001b[1;33m\u001b[0m\u001b[1;33m\u001b[0m\u001b[0m\n",
      "\u001b[1;32m~\\AppData\\Local\\Temp\\ipykernel_12544\\3248315472.py\u001b[0m in \u001b[0;36mGeneralSystemMessages\u001b[1;34m(serial, msg_old)\u001b[0m\n\u001b[0;32m     36\u001b[0m     \u001b[1;32mif\u001b[0m \u001b[0mend_cmd_tag\u001b[0m \u001b[1;33m!=\u001b[0m \u001b[1;34mb'\\x18'\u001b[0m\u001b[1;33m:\u001b[0m\u001b[1;33m\u001b[0m\u001b[1;33m\u001b[0m\u001b[0m\n\u001b[0;32m     37\u001b[0m         \u001b[0mprint\u001b[0m\u001b[1;33m(\u001b[0m\u001b[1;34m\"Recall GeneralSystemMessages(serial, msg_new)\\n\"\u001b[0m\u001b[1;33m)\u001b[0m\u001b[1;33m\u001b[0m\u001b[1;33m\u001b[0m\u001b[0m\n\u001b[1;32m---> 38\u001b[1;33m         \u001b[0mGeneralSystemMessages\u001b[0m\u001b[1;33m(\u001b[0m\u001b[0mserial\u001b[0m\u001b[1;33m,\u001b[0m \u001b[0mmsg_new\u001b[0m\u001b[1;33m)\u001b[0m\u001b[1;33m\u001b[0m\u001b[1;33m\u001b[0m\u001b[0m\n\u001b[0m\u001b[0;32m     39\u001b[0m     \u001b[1;32melse\u001b[0m\u001b[1;33m:\u001b[0m\u001b[1;33m\u001b[0m\u001b[1;33m\u001b[0m\u001b[0m\n\u001b[0;32m     40\u001b[0m         \u001b[0mprint\u001b[0m\u001b[1;33m(\u001b[0m\u001b[0mmsg_dict\u001b[0m\u001b[1;33m[\u001b[0m\u001b[0mmsg_new\u001b[0m\u001b[1;33m[\u001b[0m\u001b[1;36m0\u001b[0m\u001b[1;33m]\u001b[0m\u001b[1;33m]\u001b[0m\u001b[1;33m)\u001b[0m\u001b[1;33m\u001b[0m\u001b[1;33m\u001b[0m\u001b[0m\n",
      "\u001b[1;32m~\\AppData\\Local\\Temp\\ipykernel_12544\\3248315472.py\u001b[0m in \u001b[0;36mGeneralSystemMessages\u001b[1;34m(serial, msg_old)\u001b[0m\n\u001b[0;32m     36\u001b[0m     \u001b[1;32mif\u001b[0m \u001b[0mend_cmd_tag\u001b[0m \u001b[1;33m!=\u001b[0m \u001b[1;34mb'\\x18'\u001b[0m\u001b[1;33m:\u001b[0m\u001b[1;33m\u001b[0m\u001b[1;33m\u001b[0m\u001b[0m\n\u001b[0;32m     37\u001b[0m         \u001b[0mprint\u001b[0m\u001b[1;33m(\u001b[0m\u001b[1;34m\"Recall GeneralSystemMessages(serial, msg_new)\\n\"\u001b[0m\u001b[1;33m)\u001b[0m\u001b[1;33m\u001b[0m\u001b[1;33m\u001b[0m\u001b[0m\n\u001b[1;32m---> 38\u001b[1;33m         \u001b[0mGeneralSystemMessages\u001b[0m\u001b[1;33m(\u001b[0m\u001b[0mserial\u001b[0m\u001b[1;33m,\u001b[0m \u001b[0mmsg_new\u001b[0m\u001b[1;33m)\u001b[0m\u001b[1;33m\u001b[0m\u001b[1;33m\u001b[0m\u001b[0m\n\u001b[0m\u001b[0;32m     39\u001b[0m     \u001b[1;32melse\u001b[0m\u001b[1;33m:\u001b[0m\u001b[1;33m\u001b[0m\u001b[1;33m\u001b[0m\u001b[0m\n\u001b[0;32m     40\u001b[0m         \u001b[0mprint\u001b[0m\u001b[1;33m(\u001b[0m\u001b[0mmsg_dict\u001b[0m\u001b[1;33m[\u001b[0m\u001b[0mmsg_new\u001b[0m\u001b[1;33m[\u001b[0m\u001b[1;36m0\u001b[0m\u001b[1;33m]\u001b[0m\u001b[1;33m]\u001b[0m\u001b[1;33m)\u001b[0m\u001b[1;33m\u001b[0m\u001b[1;33m\u001b[0m\u001b[0m\n",
      "\u001b[1;32m~\\AppData\\Local\\Temp\\ipykernel_12544\\3248315472.py\u001b[0m in \u001b[0;36mGeneralSystemMessages\u001b[1;34m(serial, msg_old)\u001b[0m\n\u001b[0;32m     36\u001b[0m     \u001b[1;32mif\u001b[0m \u001b[0mend_cmd_tag\u001b[0m \u001b[1;33m!=\u001b[0m \u001b[1;34mb'\\x18'\u001b[0m\u001b[1;33m:\u001b[0m\u001b[1;33m\u001b[0m\u001b[1;33m\u001b[0m\u001b[0m\n\u001b[0;32m     37\u001b[0m         \u001b[0mprint\u001b[0m\u001b[1;33m(\u001b[0m\u001b[1;34m\"Recall GeneralSystemMessages(serial, msg_new)\\n\"\u001b[0m\u001b[1;33m)\u001b[0m\u001b[1;33m\u001b[0m\u001b[1;33m\u001b[0m\u001b[0m\n\u001b[1;32m---> 38\u001b[1;33m         \u001b[0mGeneralSystemMessages\u001b[0m\u001b[1;33m(\u001b[0m\u001b[0mserial\u001b[0m\u001b[1;33m,\u001b[0m \u001b[0mmsg_new\u001b[0m\u001b[1;33m)\u001b[0m\u001b[1;33m\u001b[0m\u001b[1;33m\u001b[0m\u001b[0m\n\u001b[0m\u001b[0;32m     39\u001b[0m     \u001b[1;32melse\u001b[0m\u001b[1;33m:\u001b[0m\u001b[1;33m\u001b[0m\u001b[1;33m\u001b[0m\u001b[0m\n\u001b[0;32m     40\u001b[0m         \u001b[0mprint\u001b[0m\u001b[1;33m(\u001b[0m\u001b[0mmsg_dict\u001b[0m\u001b[1;33m[\u001b[0m\u001b[0mmsg_new\u001b[0m\u001b[1;33m[\u001b[0m\u001b[1;36m0\u001b[0m\u001b[1;33m]\u001b[0m\u001b[1;33m]\u001b[0m\u001b[1;33m)\u001b[0m\u001b[1;33m\u001b[0m\u001b[1;33m\u001b[0m\u001b[0m\n",
      "\u001b[1;32m~\\AppData\\Local\\Temp\\ipykernel_12544\\3248315472.py\u001b[0m in \u001b[0;36mGeneralSystemMessages\u001b[1;34m(serial, msg_old)\u001b[0m\n\u001b[0;32m     36\u001b[0m     \u001b[1;32mif\u001b[0m \u001b[0mend_cmd_tag\u001b[0m \u001b[1;33m!=\u001b[0m \u001b[1;34mb'\\x18'\u001b[0m\u001b[1;33m:\u001b[0m\u001b[1;33m\u001b[0m\u001b[1;33m\u001b[0m\u001b[0m\n\u001b[0;32m     37\u001b[0m         \u001b[0mprint\u001b[0m\u001b[1;33m(\u001b[0m\u001b[1;34m\"Recall GeneralSystemMessages(serial, msg_new)\\n\"\u001b[0m\u001b[1;33m)\u001b[0m\u001b[1;33m\u001b[0m\u001b[1;33m\u001b[0m\u001b[0m\n\u001b[1;32m---> 38\u001b[1;33m         \u001b[0mGeneralSystemMessages\u001b[0m\u001b[1;33m(\u001b[0m\u001b[0mserial\u001b[0m\u001b[1;33m,\u001b[0m \u001b[0mmsg_new\u001b[0m\u001b[1;33m)\u001b[0m\u001b[1;33m\u001b[0m\u001b[1;33m\u001b[0m\u001b[0m\n\u001b[0m\u001b[0;32m     39\u001b[0m     \u001b[1;32melse\u001b[0m\u001b[1;33m:\u001b[0m\u001b[1;33m\u001b[0m\u001b[1;33m\u001b[0m\u001b[0m\n\u001b[0;32m     40\u001b[0m         \u001b[0mprint\u001b[0m\u001b[1;33m(\u001b[0m\u001b[0mmsg_dict\u001b[0m\u001b[1;33m[\u001b[0m\u001b[0mmsg_new\u001b[0m\u001b[1;33m[\u001b[0m\u001b[1;36m0\u001b[0m\u001b[1;33m]\u001b[0m\u001b[1;33m]\u001b[0m\u001b[1;33m)\u001b[0m\u001b[1;33m\u001b[0m\u001b[1;33m\u001b[0m\u001b[0m\n",
      "\u001b[1;32m~\\AppData\\Local\\Temp\\ipykernel_12544\\3248315472.py\u001b[0m in \u001b[0;36mGeneralSystemMessages\u001b[1;34m(serial, msg_old)\u001b[0m\n\u001b[0;32m     36\u001b[0m     \u001b[1;32mif\u001b[0m \u001b[0mend_cmd_tag\u001b[0m \u001b[1;33m!=\u001b[0m \u001b[1;34mb'\\x18'\u001b[0m\u001b[1;33m:\u001b[0m\u001b[1;33m\u001b[0m\u001b[1;33m\u001b[0m\u001b[0m\n\u001b[0;32m     37\u001b[0m         \u001b[0mprint\u001b[0m\u001b[1;33m(\u001b[0m\u001b[1;34m\"Recall GeneralSystemMessages(serial, msg_new)\\n\"\u001b[0m\u001b[1;33m)\u001b[0m\u001b[1;33m\u001b[0m\u001b[1;33m\u001b[0m\u001b[0m\n\u001b[1;32m---> 38\u001b[1;33m         \u001b[0mGeneralSystemMessages\u001b[0m\u001b[1;33m(\u001b[0m\u001b[0mserial\u001b[0m\u001b[1;33m,\u001b[0m \u001b[0mmsg_new\u001b[0m\u001b[1;33m)\u001b[0m\u001b[1;33m\u001b[0m\u001b[1;33m\u001b[0m\u001b[0m\n\u001b[0m\u001b[0;32m     39\u001b[0m     \u001b[1;32melse\u001b[0m\u001b[1;33m:\u001b[0m\u001b[1;33m\u001b[0m\u001b[1;33m\u001b[0m\u001b[0m\n\u001b[0;32m     40\u001b[0m         \u001b[0mprint\u001b[0m\u001b[1;33m(\u001b[0m\u001b[0mmsg_dict\u001b[0m\u001b[1;33m[\u001b[0m\u001b[0mmsg_new\u001b[0m\u001b[1;33m[\u001b[0m\u001b[1;36m0\u001b[0m\u001b[1;33m]\u001b[0m\u001b[1;33m]\u001b[0m\u001b[1;33m)\u001b[0m\u001b[1;33m\u001b[0m\u001b[1;33m\u001b[0m\u001b[0m\n",
      "\u001b[1;32m~\\AppData\\Local\\Temp\\ipykernel_12544\\3248315472.py\u001b[0m in \u001b[0;36mGeneralSystemMessages\u001b[1;34m(serial, msg_old)\u001b[0m\n\u001b[0;32m     36\u001b[0m     \u001b[1;32mif\u001b[0m \u001b[0mend_cmd_tag\u001b[0m \u001b[1;33m!=\u001b[0m \u001b[1;34mb'\\x18'\u001b[0m\u001b[1;33m:\u001b[0m\u001b[1;33m\u001b[0m\u001b[1;33m\u001b[0m\u001b[0m\n\u001b[0;32m     37\u001b[0m         \u001b[0mprint\u001b[0m\u001b[1;33m(\u001b[0m\u001b[1;34m\"Recall GeneralSystemMessages(serial, msg_new)\\n\"\u001b[0m\u001b[1;33m)\u001b[0m\u001b[1;33m\u001b[0m\u001b[1;33m\u001b[0m\u001b[0m\n\u001b[1;32m---> 38\u001b[1;33m         \u001b[0mGeneralSystemMessages\u001b[0m\u001b[1;33m(\u001b[0m\u001b[0mserial\u001b[0m\u001b[1;33m,\u001b[0m \u001b[0mmsg_new\u001b[0m\u001b[1;33m)\u001b[0m\u001b[1;33m\u001b[0m\u001b[1;33m\u001b[0m\u001b[0m\n\u001b[0m\u001b[0;32m     39\u001b[0m     \u001b[1;32melse\u001b[0m\u001b[1;33m:\u001b[0m\u001b[1;33m\u001b[0m\u001b[1;33m\u001b[0m\u001b[0m\n\u001b[0;32m     40\u001b[0m         \u001b[0mprint\u001b[0m\u001b[1;33m(\u001b[0m\u001b[0mmsg_dict\u001b[0m\u001b[1;33m[\u001b[0m\u001b[0mmsg_new\u001b[0m\u001b[1;33m[\u001b[0m\u001b[1;36m0\u001b[0m\u001b[1;33m]\u001b[0m\u001b[1;33m]\u001b[0m\u001b[1;33m)\u001b[0m\u001b[1;33m\u001b[0m\u001b[1;33m\u001b[0m\u001b[0m\n",
      "\u001b[1;32m~\\AppData\\Local\\Temp\\ipykernel_12544\\3248315472.py\u001b[0m in \u001b[0;36mGeneralSystemMessages\u001b[1;34m(serial, msg_old)\u001b[0m\n\u001b[0;32m     36\u001b[0m     \u001b[1;32mif\u001b[0m \u001b[0mend_cmd_tag\u001b[0m \u001b[1;33m!=\u001b[0m \u001b[1;34mb'\\x18'\u001b[0m\u001b[1;33m:\u001b[0m\u001b[1;33m\u001b[0m\u001b[1;33m\u001b[0m\u001b[0m\n\u001b[0;32m     37\u001b[0m         \u001b[0mprint\u001b[0m\u001b[1;33m(\u001b[0m\u001b[1;34m\"Recall GeneralSystemMessages(serial, msg_new)\\n\"\u001b[0m\u001b[1;33m)\u001b[0m\u001b[1;33m\u001b[0m\u001b[1;33m\u001b[0m\u001b[0m\n\u001b[1;32m---> 38\u001b[1;33m         \u001b[0mGeneralSystemMessages\u001b[0m\u001b[1;33m(\u001b[0m\u001b[0mserial\u001b[0m\u001b[1;33m,\u001b[0m \u001b[0mmsg_new\u001b[0m\u001b[1;33m)\u001b[0m\u001b[1;33m\u001b[0m\u001b[1;33m\u001b[0m\u001b[0m\n\u001b[0m\u001b[0;32m     39\u001b[0m     \u001b[1;32melse\u001b[0m\u001b[1;33m:\u001b[0m\u001b[1;33m\u001b[0m\u001b[1;33m\u001b[0m\u001b[0m\n\u001b[0;32m     40\u001b[0m         \u001b[0mprint\u001b[0m\u001b[1;33m(\u001b[0m\u001b[0mmsg_dict\u001b[0m\u001b[1;33m[\u001b[0m\u001b[0mmsg_new\u001b[0m\u001b[1;33m[\u001b[0m\u001b[1;36m0\u001b[0m\u001b[1;33m]\u001b[0m\u001b[1;33m]\u001b[0m\u001b[1;33m)\u001b[0m\u001b[1;33m\u001b[0m\u001b[1;33m\u001b[0m\u001b[0m\n",
      "\u001b[1;32m~\\AppData\\Local\\Temp\\ipykernel_12544\\3248315472.py\u001b[0m in \u001b[0;36mGeneralSystemMessages\u001b[1;34m(serial, msg_old)\u001b[0m\n\u001b[0;32m     36\u001b[0m     \u001b[1;32mif\u001b[0m \u001b[0mend_cmd_tag\u001b[0m \u001b[1;33m!=\u001b[0m \u001b[1;34mb'\\x18'\u001b[0m\u001b[1;33m:\u001b[0m\u001b[1;33m\u001b[0m\u001b[1;33m\u001b[0m\u001b[0m\n\u001b[0;32m     37\u001b[0m         \u001b[0mprint\u001b[0m\u001b[1;33m(\u001b[0m\u001b[1;34m\"Recall GeneralSystemMessages(serial, msg_new)\\n\"\u001b[0m\u001b[1;33m)\u001b[0m\u001b[1;33m\u001b[0m\u001b[1;33m\u001b[0m\u001b[0m\n\u001b[1;32m---> 38\u001b[1;33m         \u001b[0mGeneralSystemMessages\u001b[0m\u001b[1;33m(\u001b[0m\u001b[0mserial\u001b[0m\u001b[1;33m,\u001b[0m \u001b[0mmsg_new\u001b[0m\u001b[1;33m)\u001b[0m\u001b[1;33m\u001b[0m\u001b[1;33m\u001b[0m\u001b[0m\n\u001b[0m\u001b[0;32m     39\u001b[0m     \u001b[1;32melse\u001b[0m\u001b[1;33m:\u001b[0m\u001b[1;33m\u001b[0m\u001b[1;33m\u001b[0m\u001b[0m\n\u001b[0;32m     40\u001b[0m         \u001b[0mprint\u001b[0m\u001b[1;33m(\u001b[0m\u001b[0mmsg_dict\u001b[0m\u001b[1;33m[\u001b[0m\u001b[0mmsg_new\u001b[0m\u001b[1;33m[\u001b[0m\u001b[1;36m0\u001b[0m\u001b[1;33m]\u001b[0m\u001b[1;33m]\u001b[0m\u001b[1;33m)\u001b[0m\u001b[1;33m\u001b[0m\u001b[1;33m\u001b[0m\u001b[0m\n",
      "\u001b[1;32m~\\AppData\\Local\\Temp\\ipykernel_12544\\3248315472.py\u001b[0m in \u001b[0;36mGeneralSystemMessages\u001b[1;34m(serial, msg_old)\u001b[0m\n\u001b[0;32m     36\u001b[0m     \u001b[1;32mif\u001b[0m \u001b[0mend_cmd_tag\u001b[0m \u001b[1;33m!=\u001b[0m \u001b[1;34mb'\\x18'\u001b[0m\u001b[1;33m:\u001b[0m\u001b[1;33m\u001b[0m\u001b[1;33m\u001b[0m\u001b[0m\n\u001b[0;32m     37\u001b[0m         \u001b[0mprint\u001b[0m\u001b[1;33m(\u001b[0m\u001b[1;34m\"Recall GeneralSystemMessages(serial, msg_new)\\n\"\u001b[0m\u001b[1;33m)\u001b[0m\u001b[1;33m\u001b[0m\u001b[1;33m\u001b[0m\u001b[0m\n\u001b[1;32m---> 38\u001b[1;33m         \u001b[0mGeneralSystemMessages\u001b[0m\u001b[1;33m(\u001b[0m\u001b[0mserial\u001b[0m\u001b[1;33m,\u001b[0m \u001b[0mmsg_new\u001b[0m\u001b[1;33m)\u001b[0m\u001b[1;33m\u001b[0m\u001b[1;33m\u001b[0m\u001b[0m\n\u001b[0m\u001b[0;32m     39\u001b[0m     \u001b[1;32melse\u001b[0m\u001b[1;33m:\u001b[0m\u001b[1;33m\u001b[0m\u001b[1;33m\u001b[0m\u001b[0m\n\u001b[0;32m     40\u001b[0m         \u001b[0mprint\u001b[0m\u001b[1;33m(\u001b[0m\u001b[0mmsg_dict\u001b[0m\u001b[1;33m[\u001b[0m\u001b[0mmsg_new\u001b[0m\u001b[1;33m[\u001b[0m\u001b[1;36m0\u001b[0m\u001b[1;33m]\u001b[0m\u001b[1;33m]\u001b[0m\u001b[1;33m)\u001b[0m\u001b[1;33m\u001b[0m\u001b[1;33m\u001b[0m\u001b[0m\n",
      "\u001b[1;32m~\\AppData\\Local\\Temp\\ipykernel_12544\\3248315472.py\u001b[0m in \u001b[0;36mGeneralSystemMessages\u001b[1;34m(serial, msg_old)\u001b[0m\n\u001b[0;32m     36\u001b[0m     \u001b[1;32mif\u001b[0m \u001b[0mend_cmd_tag\u001b[0m \u001b[1;33m!=\u001b[0m \u001b[1;34mb'\\x18'\u001b[0m\u001b[1;33m:\u001b[0m\u001b[1;33m\u001b[0m\u001b[1;33m\u001b[0m\u001b[0m\n\u001b[0;32m     37\u001b[0m         \u001b[0mprint\u001b[0m\u001b[1;33m(\u001b[0m\u001b[1;34m\"Recall GeneralSystemMessages(serial, msg_new)\\n\"\u001b[0m\u001b[1;33m)\u001b[0m\u001b[1;33m\u001b[0m\u001b[1;33m\u001b[0m\u001b[0m\n\u001b[1;32m---> 38\u001b[1;33m         \u001b[0mGeneralSystemMessages\u001b[0m\u001b[1;33m(\u001b[0m\u001b[0mserial\u001b[0m\u001b[1;33m,\u001b[0m \u001b[0mmsg_new\u001b[0m\u001b[1;33m)\u001b[0m\u001b[1;33m\u001b[0m\u001b[1;33m\u001b[0m\u001b[0m\n\u001b[0m\u001b[0;32m     39\u001b[0m     \u001b[1;32melse\u001b[0m\u001b[1;33m:\u001b[0m\u001b[1;33m\u001b[0m\u001b[1;33m\u001b[0m\u001b[0m\n\u001b[0;32m     40\u001b[0m         \u001b[0mprint\u001b[0m\u001b[1;33m(\u001b[0m\u001b[0mmsg_dict\u001b[0m\u001b[1;33m[\u001b[0m\u001b[0mmsg_new\u001b[0m\u001b[1;33m[\u001b[0m\u001b[1;36m0\u001b[0m\u001b[1;33m]\u001b[0m\u001b[1;33m]\u001b[0m\u001b[1;33m)\u001b[0m\u001b[1;33m\u001b[0m\u001b[1;33m\u001b[0m\u001b[0m\n",
      "\u001b[1;32m~\\AppData\\Local\\Temp\\ipykernel_12544\\3248315472.py\u001b[0m in \u001b[0;36mGeneralSystemMessages\u001b[1;34m(serial, msg_old)\u001b[0m\n\u001b[0;32m     36\u001b[0m     \u001b[1;32mif\u001b[0m \u001b[0mend_cmd_tag\u001b[0m \u001b[1;33m!=\u001b[0m \u001b[1;34mb'\\x18'\u001b[0m\u001b[1;33m:\u001b[0m\u001b[1;33m\u001b[0m\u001b[1;33m\u001b[0m\u001b[0m\n\u001b[0;32m     37\u001b[0m         \u001b[0mprint\u001b[0m\u001b[1;33m(\u001b[0m\u001b[1;34m\"Recall GeneralSystemMessages(serial, msg_new)\\n\"\u001b[0m\u001b[1;33m)\u001b[0m\u001b[1;33m\u001b[0m\u001b[1;33m\u001b[0m\u001b[0m\n\u001b[1;32m---> 38\u001b[1;33m         \u001b[0mGeneralSystemMessages\u001b[0m\u001b[1;33m(\u001b[0m\u001b[0mserial\u001b[0m\u001b[1;33m,\u001b[0m \u001b[0mmsg_new\u001b[0m\u001b[1;33m)\u001b[0m\u001b[1;33m\u001b[0m\u001b[1;33m\u001b[0m\u001b[0m\n\u001b[0m\u001b[0;32m     39\u001b[0m     \u001b[1;32melse\u001b[0m\u001b[1;33m:\u001b[0m\u001b[1;33m\u001b[0m\u001b[1;33m\u001b[0m\u001b[0m\n\u001b[0;32m     40\u001b[0m         \u001b[0mprint\u001b[0m\u001b[1;33m(\u001b[0m\u001b[0mmsg_dict\u001b[0m\u001b[1;33m[\u001b[0m\u001b[0mmsg_new\u001b[0m\u001b[1;33m[\u001b[0m\u001b[1;36m0\u001b[0m\u001b[1;33m]\u001b[0m\u001b[1;33m]\u001b[0m\u001b[1;33m)\u001b[0m\u001b[1;33m\u001b[0m\u001b[1;33m\u001b[0m\u001b[0m\n",
      "\u001b[1;32m~\\AppData\\Local\\Temp\\ipykernel_12544\\3248315472.py\u001b[0m in \u001b[0;36mGeneralSystemMessages\u001b[1;34m(serial, msg_old)\u001b[0m\n\u001b[0;32m     36\u001b[0m     \u001b[1;32mif\u001b[0m \u001b[0mend_cmd_tag\u001b[0m \u001b[1;33m!=\u001b[0m \u001b[1;34mb'\\x18'\u001b[0m\u001b[1;33m:\u001b[0m\u001b[1;33m\u001b[0m\u001b[1;33m\u001b[0m\u001b[0m\n\u001b[0;32m     37\u001b[0m         \u001b[0mprint\u001b[0m\u001b[1;33m(\u001b[0m\u001b[1;34m\"Recall GeneralSystemMessages(serial, msg_new)\\n\"\u001b[0m\u001b[1;33m)\u001b[0m\u001b[1;33m\u001b[0m\u001b[1;33m\u001b[0m\u001b[0m\n\u001b[1;32m---> 38\u001b[1;33m         \u001b[0mGeneralSystemMessages\u001b[0m\u001b[1;33m(\u001b[0m\u001b[0mserial\u001b[0m\u001b[1;33m,\u001b[0m \u001b[0mmsg_new\u001b[0m\u001b[1;33m)\u001b[0m\u001b[1;33m\u001b[0m\u001b[1;33m\u001b[0m\u001b[0m\n\u001b[0m\u001b[0;32m     39\u001b[0m     \u001b[1;32melse\u001b[0m\u001b[1;33m:\u001b[0m\u001b[1;33m\u001b[0m\u001b[1;33m\u001b[0m\u001b[0m\n\u001b[0;32m     40\u001b[0m         \u001b[0mprint\u001b[0m\u001b[1;33m(\u001b[0m\u001b[0mmsg_dict\u001b[0m\u001b[1;33m[\u001b[0m\u001b[0mmsg_new\u001b[0m\u001b[1;33m[\u001b[0m\u001b[1;36m0\u001b[0m\u001b[1;33m]\u001b[0m\u001b[1;33m]\u001b[0m\u001b[1;33m)\u001b[0m\u001b[1;33m\u001b[0m\u001b[1;33m\u001b[0m\u001b[0m\n",
      "\u001b[1;32m~\\AppData\\Local\\Temp\\ipykernel_12544\\3248315472.py\u001b[0m in \u001b[0;36mGeneralSystemMessages\u001b[1;34m(serial, msg_old)\u001b[0m\n\u001b[0;32m     36\u001b[0m     \u001b[1;32mif\u001b[0m \u001b[0mend_cmd_tag\u001b[0m \u001b[1;33m!=\u001b[0m \u001b[1;34mb'\\x18'\u001b[0m\u001b[1;33m:\u001b[0m\u001b[1;33m\u001b[0m\u001b[1;33m\u001b[0m\u001b[0m\n\u001b[0;32m     37\u001b[0m         \u001b[0mprint\u001b[0m\u001b[1;33m(\u001b[0m\u001b[1;34m\"Recall GeneralSystemMessages(serial, msg_new)\\n\"\u001b[0m\u001b[1;33m)\u001b[0m\u001b[1;33m\u001b[0m\u001b[1;33m\u001b[0m\u001b[0m\n\u001b[1;32m---> 38\u001b[1;33m         \u001b[0mGeneralSystemMessages\u001b[0m\u001b[1;33m(\u001b[0m\u001b[0mserial\u001b[0m\u001b[1;33m,\u001b[0m \u001b[0mmsg_new\u001b[0m\u001b[1;33m)\u001b[0m\u001b[1;33m\u001b[0m\u001b[1;33m\u001b[0m\u001b[0m\n\u001b[0m\u001b[0;32m     39\u001b[0m     \u001b[1;32melse\u001b[0m\u001b[1;33m:\u001b[0m\u001b[1;33m\u001b[0m\u001b[1;33m\u001b[0m\u001b[0m\n\u001b[0;32m     40\u001b[0m         \u001b[0mprint\u001b[0m\u001b[1;33m(\u001b[0m\u001b[0mmsg_dict\u001b[0m\u001b[1;33m[\u001b[0m\u001b[0mmsg_new\u001b[0m\u001b[1;33m[\u001b[0m\u001b[1;36m0\u001b[0m\u001b[1;33m]\u001b[0m\u001b[1;33m]\u001b[0m\u001b[1;33m)\u001b[0m\u001b[1;33m\u001b[0m\u001b[1;33m\u001b[0m\u001b[0m\n",
      "\u001b[1;32m~\\AppData\\Local\\Temp\\ipykernel_12544\\3248315472.py\u001b[0m in \u001b[0;36mGeneralSystemMessages\u001b[1;34m(serial, msg_old)\u001b[0m\n\u001b[0;32m     36\u001b[0m     \u001b[1;32mif\u001b[0m \u001b[0mend_cmd_tag\u001b[0m \u001b[1;33m!=\u001b[0m \u001b[1;34mb'\\x18'\u001b[0m\u001b[1;33m:\u001b[0m\u001b[1;33m\u001b[0m\u001b[1;33m\u001b[0m\u001b[0m\n\u001b[0;32m     37\u001b[0m         \u001b[0mprint\u001b[0m\u001b[1;33m(\u001b[0m\u001b[1;34m\"Recall GeneralSystemMessages(serial, msg_new)\\n\"\u001b[0m\u001b[1;33m)\u001b[0m\u001b[1;33m\u001b[0m\u001b[1;33m\u001b[0m\u001b[0m\n\u001b[1;32m---> 38\u001b[1;33m         \u001b[0mGeneralSystemMessages\u001b[0m\u001b[1;33m(\u001b[0m\u001b[0mserial\u001b[0m\u001b[1;33m,\u001b[0m \u001b[0mmsg_new\u001b[0m\u001b[1;33m)\u001b[0m\u001b[1;33m\u001b[0m\u001b[1;33m\u001b[0m\u001b[0m\n\u001b[0m\u001b[0;32m     39\u001b[0m     \u001b[1;32melse\u001b[0m\u001b[1;33m:\u001b[0m\u001b[1;33m\u001b[0m\u001b[1;33m\u001b[0m\u001b[0m\n\u001b[0;32m     40\u001b[0m         \u001b[0mprint\u001b[0m\u001b[1;33m(\u001b[0m\u001b[0mmsg_dict\u001b[0m\u001b[1;33m[\u001b[0m\u001b[0mmsg_new\u001b[0m\u001b[1;33m[\u001b[0m\u001b[1;36m0\u001b[0m\u001b[1;33m]\u001b[0m\u001b[1;33m]\u001b[0m\u001b[1;33m)\u001b[0m\u001b[1;33m\u001b[0m\u001b[1;33m\u001b[0m\u001b[0m\n",
      "\u001b[1;32m~\\AppData\\Local\\Temp\\ipykernel_12544\\3248315472.py\u001b[0m in \u001b[0;36mGeneralSystemMessages\u001b[1;34m(serial, msg_old)\u001b[0m\n\u001b[0;32m     36\u001b[0m     \u001b[1;32mif\u001b[0m \u001b[0mend_cmd_tag\u001b[0m \u001b[1;33m!=\u001b[0m \u001b[1;34mb'\\x18'\u001b[0m\u001b[1;33m:\u001b[0m\u001b[1;33m\u001b[0m\u001b[1;33m\u001b[0m\u001b[0m\n\u001b[0;32m     37\u001b[0m         \u001b[0mprint\u001b[0m\u001b[1;33m(\u001b[0m\u001b[1;34m\"Recall GeneralSystemMessages(serial, msg_new)\\n\"\u001b[0m\u001b[1;33m)\u001b[0m\u001b[1;33m\u001b[0m\u001b[1;33m\u001b[0m\u001b[0m\n\u001b[1;32m---> 38\u001b[1;33m         \u001b[0mGeneralSystemMessages\u001b[0m\u001b[1;33m(\u001b[0m\u001b[0mserial\u001b[0m\u001b[1;33m,\u001b[0m \u001b[0mmsg_new\u001b[0m\u001b[1;33m)\u001b[0m\u001b[1;33m\u001b[0m\u001b[1;33m\u001b[0m\u001b[0m\n\u001b[0m\u001b[0;32m     39\u001b[0m     \u001b[1;32melse\u001b[0m\u001b[1;33m:\u001b[0m\u001b[1;33m\u001b[0m\u001b[1;33m\u001b[0m\u001b[0m\n\u001b[0;32m     40\u001b[0m         \u001b[0mprint\u001b[0m\u001b[1;33m(\u001b[0m\u001b[0mmsg_dict\u001b[0m\u001b[1;33m[\u001b[0m\u001b[0mmsg_new\u001b[0m\u001b[1;33m[\u001b[0m\u001b[1;36m0\u001b[0m\u001b[1;33m]\u001b[0m\u001b[1;33m]\u001b[0m\u001b[1;33m)\u001b[0m\u001b[1;33m\u001b[0m\u001b[1;33m\u001b[0m\u001b[0m\n",
      "\u001b[1;32m~\\AppData\\Local\\Temp\\ipykernel_12544\\3248315472.py\u001b[0m in \u001b[0;36mGeneralSystemMessages\u001b[1;34m(serial, msg_old)\u001b[0m\n\u001b[0;32m     36\u001b[0m     \u001b[1;32mif\u001b[0m \u001b[0mend_cmd_tag\u001b[0m \u001b[1;33m!=\u001b[0m \u001b[1;34mb'\\x18'\u001b[0m\u001b[1;33m:\u001b[0m\u001b[1;33m\u001b[0m\u001b[1;33m\u001b[0m\u001b[0m\n\u001b[0;32m     37\u001b[0m         \u001b[0mprint\u001b[0m\u001b[1;33m(\u001b[0m\u001b[1;34m\"Recall GeneralSystemMessages(serial, msg_new)\\n\"\u001b[0m\u001b[1;33m)\u001b[0m\u001b[1;33m\u001b[0m\u001b[1;33m\u001b[0m\u001b[0m\n\u001b[1;32m---> 38\u001b[1;33m         \u001b[0mGeneralSystemMessages\u001b[0m\u001b[1;33m(\u001b[0m\u001b[0mserial\u001b[0m\u001b[1;33m,\u001b[0m \u001b[0mmsg_new\u001b[0m\u001b[1;33m)\u001b[0m\u001b[1;33m\u001b[0m\u001b[1;33m\u001b[0m\u001b[0m\n\u001b[0m\u001b[0;32m     39\u001b[0m     \u001b[1;32melse\u001b[0m\u001b[1;33m:\u001b[0m\u001b[1;33m\u001b[0m\u001b[1;33m\u001b[0m\u001b[0m\n\u001b[0;32m     40\u001b[0m         \u001b[0mprint\u001b[0m\u001b[1;33m(\u001b[0m\u001b[0mmsg_dict\u001b[0m\u001b[1;33m[\u001b[0m\u001b[0mmsg_new\u001b[0m\u001b[1;33m[\u001b[0m\u001b[1;36m0\u001b[0m\u001b[1;33m]\u001b[0m\u001b[1;33m]\u001b[0m\u001b[1;33m)\u001b[0m\u001b[1;33m\u001b[0m\u001b[1;33m\u001b[0m\u001b[0m\n",
      "\u001b[1;32m~\\AppData\\Local\\Temp\\ipykernel_12544\\3248315472.py\u001b[0m in \u001b[0;36mGeneralSystemMessages\u001b[1;34m(serial, msg_old)\u001b[0m\n\u001b[0;32m     36\u001b[0m     \u001b[1;32mif\u001b[0m \u001b[0mend_cmd_tag\u001b[0m \u001b[1;33m!=\u001b[0m \u001b[1;34mb'\\x18'\u001b[0m\u001b[1;33m:\u001b[0m\u001b[1;33m\u001b[0m\u001b[1;33m\u001b[0m\u001b[0m\n\u001b[0;32m     37\u001b[0m         \u001b[0mprint\u001b[0m\u001b[1;33m(\u001b[0m\u001b[1;34m\"Recall GeneralSystemMessages(serial, msg_new)\\n\"\u001b[0m\u001b[1;33m)\u001b[0m\u001b[1;33m\u001b[0m\u001b[1;33m\u001b[0m\u001b[0m\n\u001b[1;32m---> 38\u001b[1;33m         \u001b[0mGeneralSystemMessages\u001b[0m\u001b[1;33m(\u001b[0m\u001b[0mserial\u001b[0m\u001b[1;33m,\u001b[0m \u001b[0mmsg_new\u001b[0m\u001b[1;33m)\u001b[0m\u001b[1;33m\u001b[0m\u001b[1;33m\u001b[0m\u001b[0m\n\u001b[0m\u001b[0;32m     39\u001b[0m     \u001b[1;32melse\u001b[0m\u001b[1;33m:\u001b[0m\u001b[1;33m\u001b[0m\u001b[1;33m\u001b[0m\u001b[0m\n\u001b[0;32m     40\u001b[0m         \u001b[0mprint\u001b[0m\u001b[1;33m(\u001b[0m\u001b[0mmsg_dict\u001b[0m\u001b[1;33m[\u001b[0m\u001b[0mmsg_new\u001b[0m\u001b[1;33m[\u001b[0m\u001b[1;36m0\u001b[0m\u001b[1;33m]\u001b[0m\u001b[1;33m]\u001b[0m\u001b[1;33m)\u001b[0m\u001b[1;33m\u001b[0m\u001b[1;33m\u001b[0m\u001b[0m\n",
      "\u001b[1;32m~\\AppData\\Local\\Temp\\ipykernel_12544\\3248315472.py\u001b[0m in \u001b[0;36mGeneralSystemMessages\u001b[1;34m(serial, msg_old)\u001b[0m\n\u001b[0;32m     36\u001b[0m     \u001b[1;32mif\u001b[0m \u001b[0mend_cmd_tag\u001b[0m \u001b[1;33m!=\u001b[0m \u001b[1;34mb'\\x18'\u001b[0m\u001b[1;33m:\u001b[0m\u001b[1;33m\u001b[0m\u001b[1;33m\u001b[0m\u001b[0m\n\u001b[0;32m     37\u001b[0m         \u001b[0mprint\u001b[0m\u001b[1;33m(\u001b[0m\u001b[1;34m\"Recall GeneralSystemMessages(serial, msg_new)\\n\"\u001b[0m\u001b[1;33m)\u001b[0m\u001b[1;33m\u001b[0m\u001b[1;33m\u001b[0m\u001b[0m\n\u001b[1;32m---> 38\u001b[1;33m         \u001b[0mGeneralSystemMessages\u001b[0m\u001b[1;33m(\u001b[0m\u001b[0mserial\u001b[0m\u001b[1;33m,\u001b[0m \u001b[0mmsg_new\u001b[0m\u001b[1;33m)\u001b[0m\u001b[1;33m\u001b[0m\u001b[1;33m\u001b[0m\u001b[0m\n\u001b[0m\u001b[0;32m     39\u001b[0m     \u001b[1;32melse\u001b[0m\u001b[1;33m:\u001b[0m\u001b[1;33m\u001b[0m\u001b[1;33m\u001b[0m\u001b[0m\n\u001b[0;32m     40\u001b[0m         \u001b[0mprint\u001b[0m\u001b[1;33m(\u001b[0m\u001b[0mmsg_dict\u001b[0m\u001b[1;33m[\u001b[0m\u001b[0mmsg_new\u001b[0m\u001b[1;33m[\u001b[0m\u001b[1;36m0\u001b[0m\u001b[1;33m]\u001b[0m\u001b[1;33m]\u001b[0m\u001b[1;33m)\u001b[0m\u001b[1;33m\u001b[0m\u001b[1;33m\u001b[0m\u001b[0m\n",
      "\u001b[1;32m~\\AppData\\Local\\Temp\\ipykernel_12544\\3248315472.py\u001b[0m in \u001b[0;36mGeneralSystemMessages\u001b[1;34m(serial, msg_old)\u001b[0m\n\u001b[0;32m     36\u001b[0m     \u001b[1;32mif\u001b[0m \u001b[0mend_cmd_tag\u001b[0m \u001b[1;33m!=\u001b[0m \u001b[1;34mb'\\x18'\u001b[0m\u001b[1;33m:\u001b[0m\u001b[1;33m\u001b[0m\u001b[1;33m\u001b[0m\u001b[0m\n\u001b[0;32m     37\u001b[0m         \u001b[0mprint\u001b[0m\u001b[1;33m(\u001b[0m\u001b[1;34m\"Recall GeneralSystemMessages(serial, msg_new)\\n\"\u001b[0m\u001b[1;33m)\u001b[0m\u001b[1;33m\u001b[0m\u001b[1;33m\u001b[0m\u001b[0m\n\u001b[1;32m---> 38\u001b[1;33m         \u001b[0mGeneralSystemMessages\u001b[0m\u001b[1;33m(\u001b[0m\u001b[0mserial\u001b[0m\u001b[1;33m,\u001b[0m \u001b[0mmsg_new\u001b[0m\u001b[1;33m)\u001b[0m\u001b[1;33m\u001b[0m\u001b[1;33m\u001b[0m\u001b[0m\n\u001b[0m\u001b[0;32m     39\u001b[0m     \u001b[1;32melse\u001b[0m\u001b[1;33m:\u001b[0m\u001b[1;33m\u001b[0m\u001b[1;33m\u001b[0m\u001b[0m\n\u001b[0;32m     40\u001b[0m         \u001b[0mprint\u001b[0m\u001b[1;33m(\u001b[0m\u001b[0mmsg_dict\u001b[0m\u001b[1;33m[\u001b[0m\u001b[0mmsg_new\u001b[0m\u001b[1;33m[\u001b[0m\u001b[1;36m0\u001b[0m\u001b[1;33m]\u001b[0m\u001b[1;33m]\u001b[0m\u001b[1;33m)\u001b[0m\u001b[1;33m\u001b[0m\u001b[1;33m\u001b[0m\u001b[0m\n",
      "\u001b[1;32m~\\AppData\\Local\\Temp\\ipykernel_12544\\3248315472.py\u001b[0m in \u001b[0;36mGeneralSystemMessages\u001b[1;34m(serial, msg_old)\u001b[0m\n\u001b[0;32m     36\u001b[0m     \u001b[1;32mif\u001b[0m \u001b[0mend_cmd_tag\u001b[0m \u001b[1;33m!=\u001b[0m \u001b[1;34mb'\\x18'\u001b[0m\u001b[1;33m:\u001b[0m\u001b[1;33m\u001b[0m\u001b[1;33m\u001b[0m\u001b[0m\n\u001b[0;32m     37\u001b[0m         \u001b[0mprint\u001b[0m\u001b[1;33m(\u001b[0m\u001b[1;34m\"Recall GeneralSystemMessages(serial, msg_new)\\n\"\u001b[0m\u001b[1;33m)\u001b[0m\u001b[1;33m\u001b[0m\u001b[1;33m\u001b[0m\u001b[0m\n\u001b[1;32m---> 38\u001b[1;33m         \u001b[0mGeneralSystemMessages\u001b[0m\u001b[1;33m(\u001b[0m\u001b[0mserial\u001b[0m\u001b[1;33m,\u001b[0m \u001b[0mmsg_new\u001b[0m\u001b[1;33m)\u001b[0m\u001b[1;33m\u001b[0m\u001b[1;33m\u001b[0m\u001b[0m\n\u001b[0m\u001b[0;32m     39\u001b[0m     \u001b[1;32melse\u001b[0m\u001b[1;33m:\u001b[0m\u001b[1;33m\u001b[0m\u001b[1;33m\u001b[0m\u001b[0m\n\u001b[0;32m     40\u001b[0m         \u001b[0mprint\u001b[0m\u001b[1;33m(\u001b[0m\u001b[0mmsg_dict\u001b[0m\u001b[1;33m[\u001b[0m\u001b[0mmsg_new\u001b[0m\u001b[1;33m[\u001b[0m\u001b[1;36m0\u001b[0m\u001b[1;33m]\u001b[0m\u001b[1;33m]\u001b[0m\u001b[1;33m)\u001b[0m\u001b[1;33m\u001b[0m\u001b[1;33m\u001b[0m\u001b[0m\n",
      "\u001b[1;32m~\\AppData\\Local\\Temp\\ipykernel_12544\\3248315472.py\u001b[0m in \u001b[0;36mGeneralSystemMessages\u001b[1;34m(serial, msg_old)\u001b[0m\n\u001b[0;32m     38\u001b[0m         \u001b[0mGeneralSystemMessages\u001b[0m\u001b[1;33m(\u001b[0m\u001b[0mserial\u001b[0m\u001b[1;33m,\u001b[0m \u001b[0mmsg_new\u001b[0m\u001b[1;33m)\u001b[0m\u001b[1;33m\u001b[0m\u001b[1;33m\u001b[0m\u001b[0m\n\u001b[0;32m     39\u001b[0m     \u001b[1;32melse\u001b[0m\u001b[1;33m:\u001b[0m\u001b[1;33m\u001b[0m\u001b[1;33m\u001b[0m\u001b[0m\n\u001b[1;32m---> 40\u001b[1;33m         \u001b[0mprint\u001b[0m\u001b[1;33m(\u001b[0m\u001b[0mmsg_dict\u001b[0m\u001b[1;33m[\u001b[0m\u001b[0mmsg_new\u001b[0m\u001b[1;33m[\u001b[0m\u001b[1;36m0\u001b[0m\u001b[1;33m]\u001b[0m\u001b[1;33m]\u001b[0m\u001b[1;33m)\u001b[0m\u001b[1;33m\u001b[0m\u001b[1;33m\u001b[0m\u001b[0m\n\u001b[0m\u001b[0;32m     41\u001b[0m         \u001b[0mprint\u001b[0m\u001b[1;33m(\u001b[0m\u001b[1;34m\"msg_new:\"\u001b[0m\u001b[1;33m,\u001b[0m\u001b[0mmsg_new\u001b[0m\u001b[1;33m)\u001b[0m\u001b[1;33m\u001b[0m\u001b[1;33m\u001b[0m\u001b[0m\n\u001b[0;32m     42\u001b[0m         \u001b[0mprint\u001b[0m\u001b[1;33m(\u001b[0m\u001b[1;34m\"msg_old:\"\u001b[0m\u001b[1;33m,\u001b[0m\u001b[0mmsg_old\u001b[0m\u001b[1;33m)\u001b[0m\u001b[1;33m\u001b[0m\u001b[1;33m\u001b[0m\u001b[0m\n",
      "\u001b[1;31mKeyError\u001b[0m: b'\\x92'"
     ]
    }
   ],
   "source": [
    "StartStopMeasurement(ser)"
   ]
  },
  {
   "cell_type": "code",
   "execution_count": 18,
   "id": "1900f657-5060-4983-a64a-c710e71dbff2",
   "metadata": {},
   "outputs": [
    {
     "name": "stdout",
     "output_type": "stream",
     "text": [
      "start tag: b'\\x02'\n",
      "msg_new len: 3\n",
      "None\n",
      "None\n"
     ]
    }
   ],
   "source": [
    "StopMeasurement(ser)"
   ]
  },
  {
   "cell_type": "code",
   "execution_count": 41,
   "id": "e2177488-2d4b-433a-9dbb-918b9c09afdb",
   "metadata": {},
   "outputs": [
    {
     "data": {
      "text/plain": [
       "b'\\xc0'"
      ]
     },
     "execution_count": 41,
     "metadata": {},
     "output_type": "execute_result"
    }
   ],
   "source": [
    "ser.read()"
   ]
  },
  {
   "cell_type": "code",
   "execution_count": null,
   "id": "d9167299-5c8c-4ee5-bc15-1ea85b9809d7",
   "metadata": {},
   "outputs": [],
   "source": [
    "mx = 0\n",
    "while ser.read() != None: #4000+\n",
    "    ser.read()\n",
    "    mx += 1\n",
    "print(mx)"
   ]
  },
  {
   "cell_type": "code",
   "execution_count": 6,
   "id": "498e9ea3-b1b6-4ae5-aac5-07ea897cd2a4",
   "metadata": {},
   "outputs": [
    {
     "data": {
      "text/plain": [
       "825260080"
      ]
     },
     "execution_count": 6,
     "metadata": {},
     "output_type": "execute_result"
    }
   ],
   "source": [
    "int.from_bytes(b'0x01', byteorder='little')"
   ]
  },
  {
   "cell_type": "code",
   "execution_count": 11,
   "id": "1240f218-c683-4f30-b321-ca29232e195d",
   "metadata": {},
   "outputs": [
    {
     "data": {
      "text/plain": [
       "0"
      ]
     },
     "execution_count": 11,
     "metadata": {},
     "output_type": "execute_result"
    }
   ],
   "source": [
    "int.from_bytes(bytes(0xA2), byteorder='little')"
   ]
  },
  {
   "cell_type": "code",
   "execution_count": 13,
   "id": "632d3495-0455-4490-ab04-c1260d99fff5",
   "metadata": {},
   "outputs": [
    {
     "data": {
      "text/plain": [
       "24"
      ]
     },
     "execution_count": 13,
     "metadata": {},
     "output_type": "execute_result"
    }
   ],
   "source": [
    "int(0x18)"
   ]
  },
  {
   "cell_type": "code",
   "execution_count": null,
   "id": "83b1408f-62c9-4e35-a38d-eb3c267e4ea6",
   "metadata": {},
   "outputs": [],
   "source": []
  }
 ],
 "metadata": {
  "kernelspec": {
   "display_name": "Python 3 (ipykernel)",
   "language": "python",
   "name": "python3"
  },
  "language_info": {
   "codemirror_mode": {
    "name": "ipython",
    "version": 3
   },
   "file_extension": ".py",
   "mimetype": "text/x-python",
   "name": "python",
   "nbconvert_exporter": "python",
   "pygments_lexer": "ipython3",
   "version": "3.9.13"
  }
 },
 "nbformat": 4,
 "nbformat_minor": 5
}
