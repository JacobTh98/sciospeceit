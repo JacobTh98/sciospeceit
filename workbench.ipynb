{
 "cells": [
  {
   "cell_type": "code",
   "execution_count": 26,
   "id": "41807824-2c70-461a-a166-403ec69b3dd4",
   "metadata": {},
   "outputs": [],
   "source": [
    "def SystemMessageCallback(serial, prnt_msg: bool = True, ret_hex_int: int = 0):\n",
    "    \"\"\"Reads the message buffer of a serial connection. Also prints out the general system message.\n",
    "    serial      ... serial connection\n",
    "    prnt_msg    ... print out the buffer\n",
    "    ret_hex_int ... Parameters -> ['none','hex', 'int', 'both']\n",
    "\n",
    "    \"\"\"\n",
    "    msg_dict = {\n",
    "        \"0x01\": \"No message inside the message buffer\",\n",
    "        \"0x02\": \"Timeout: Communication-timeout (less data than expected)\",\n",
    "        \"0x04\": \"Wake-Up Message: System boot ready\",\n",
    "        \"0x11\": \"TCP-Socket: Valid TCP client-socket connection\",\n",
    "        \"0x81\": \"Not-Acknowledge: Command has not been executed\",\n",
    "        \"0x82\": \"Not-Acknowledge: Command could not be recognized\",\n",
    "        \"0x83\": \"Command-Acknowledge: Command has been executed successfully\",\n",
    "        \"0x84\": \"System-Ready Message: System is operational and ready to receive data\",\n",
    "        \"0x91\": \"Data holdup: Measurement data could not be sent via the master interface\",\n",
    "    }\n",
    "    timeout_count = 0\n",
    "    received = []\n",
    "    received_hex = []\n",
    "    data_count = 0\n",
    "\n",
    "    while True:\n",
    "        buffer = serial.read()\n",
    "        if buffer:\n",
    "            received.extend(buffer)\n",
    "            data_count += len(buffer)\n",
    "            timeout_count = 0\n",
    "            continue\n",
    "        timeout_count += 1\n",
    "        if timeout_count >= 1:\n",
    "            # Break if we haven't received any data\n",
    "            break\n",
    "\n",
    "        received = \"\".join(str(received))  # If you need all the data\n",
    "    received_hex = [hex(receive) for receive in received]\n",
    "    try:\n",
    "        msg_idx = received_hex.index(\"0x18\")\n",
    "        print(msg_dict[received_hex[msg_idx + 2]])\n",
    "    except BaseException:\n",
    "        print(msg_dict[\"0x01\"])\n",
    "        prnt_msg = False\n",
    "    if prnt_msg:\n",
    "        print(\"message buffer:\\n\", received_hex)\n",
    "        print(\"message length:\\t\", data_count)\n",
    "\n",
    "    if ret_hex_int == \"none\":\n",
    "        return\n",
    "    elif ret_hex_int == \"hex\":\n",
    "        return received_hex\n",
    "    elif ret_hex_int == \"int\":\n",
    "        return received\n",
    "    elif ret_hex_int == \"both\":\n",
    "        return received, received_hex"
   ]
  },
  {
   "cell_type": "code",
   "execution_count": 2,
   "id": "5d3d0d3f",
   "metadata": {
    "vscode": {
     "languageId": "plaintext"
    }
   },
   "outputs": [],
   "source": [
    "import time\n",
    "\n",
    "import numpy as np\n",
    "\n",
    "import sciopy as sc\n",
    "from sciopy.setup_m import SystemMessageCallback"
   ]
  },
  {
   "cell_type": "code",
   "execution_count": 3,
   "id": "5c6477da-353d-44a7-b506-ee788e8383c6",
   "metadata": {},
   "outputs": [
    {
     "data": {
      "text/plain": [
       "['COM1', 'COM3']"
      ]
     },
     "execution_count": 3,
     "metadata": {},
     "output_type": "execute_result"
    }
   ],
   "source": [
    "sc.available_serial_ports()"
   ]
  },
  {
   "cell_type": "code",
   "execution_count": 4,
   "id": "07164164",
   "metadata": {
    "vscode": {
     "languageId": "plaintext"
    }
   },
   "outputs": [
    {
     "name": "stdout",
     "output_type": "stream",
     "text": [
      "Connection to COM3 is established.\n"
     ]
    }
   ],
   "source": [
    "ser = sc.connect_COM_port(\"COM3\", timeout=1)"
   ]
  },
  {
   "cell_type": "code",
   "execution_count": 5,
   "id": "653bd1df-3875-471c-a2d9-e8f1d0e8c427",
   "metadata": {},
   "outputs": [],
   "source": [
    "def GetFirmwareIDs(serial):\n",
    "    \"\"\"Get firmware IDs\"\"\"\n",
    "    serial.write(bytearray([0xD2, 0x00, 0xD2]))\n",
    "    SystemMessageCallback(serial)"
   ]
  },
  {
   "cell_type": "code",
   "execution_count": 6,
   "id": "62d9f2d5-2f6e-427b-9d95-c3233dbe79e2",
   "metadata": {},
   "outputs": [
    {
     "name": "stdout",
     "output_type": "stream",
     "text": [
      "message buffer:\n",
      " ['0xd2', '0x1e', '0x1', '0x11', '0x0', '0x19', '0x0', '0xb', '0x40', '0x0', '0x9', '0x0', '0x25', '0x2', '0xc9', '0x0', '0xf', '0x1', '0x11', '0x0', '0x19', '0x0', '0xb', '0x40', '0x0', '0x9', '0x0', '0x25', '0x2', '0xc9', '0x0', '0xf', '0xd2', '0x18', '0x1', '0x83', '0x18']\n",
      "message length:\t 33\n",
      "Command-Acknowledge: Command has been executed successfully\n"
     ]
    }
   ],
   "source": [
    "GetFirmwareIDs(ser)"
   ]
  },
  {
   "cell_type": "code",
   "execution_count": 9,
   "id": "8e8fb52e-7718-4de2-97e1-dd6dcfef9be3",
   "metadata": {},
   "outputs": [],
   "source": [
    "def SoftwareReset(serial):\n",
    "    serial.write(bytearray([0xA1, 0x00, 0xA1]))\n",
    "    SystemMessageCallback(serial)"
   ]
  },
  {
   "cell_type": "code",
   "execution_count": 10,
   "id": "2f4fcb3f-e300-4cda-a1ec-924c40ef0c95",
   "metadata": {},
   "outputs": [
    {
     "name": "stdout",
     "output_type": "stream",
     "text": [
      "message buffer:\n",
      " ['0x18', '0x1', '0x83', '0x18']\n",
      "message length:\t 0\n",
      "Command-Acknowledge: Command has been executed successfully\n"
     ]
    }
   ],
   "source": [
    "SoftwareReset(ser)"
   ]
  },
  {
   "cell_type": "code",
   "execution_count": 26,
   "id": "0f619c59-fb96-4c86-8dcc-fe0646ba2861",
   "metadata": {},
   "outputs": [],
   "source": [
    "def ResetMeasurementSetup(serial):\n",
    "    serial.write(bytearray([0xB0, 0x01, 0x01, 0xB0]))\n",
    "    SystemMessageCallback(serial)"
   ]
  },
  {
   "cell_type": "code",
   "execution_count": 27,
   "id": "135d771a-45a5-44e8-9eb2-6f2eadd23cbf",
   "metadata": {},
   "outputs": [
    {
     "ename": "SerialException",
     "evalue": "WriteFile failed (PermissionError(13, 'Das Gerät erkennt den Befehl nicht.', None, 22))",
     "output_type": "error",
     "traceback": [
      "\u001b[1;31m---------------------------------------------------------------------------\u001b[0m",
      "\u001b[1;31mSerialException\u001b[0m                           Traceback (most recent call last)",
      "\u001b[1;32m~\\AppData\\Local\\Temp\\ipykernel_1884\\1169192300.py\u001b[0m in \u001b[0;36m<module>\u001b[1;34m\u001b[0m\n\u001b[1;32m----> 1\u001b[1;33m \u001b[0mResetMeasurementSetup\u001b[0m\u001b[1;33m(\u001b[0m\u001b[0mser\u001b[0m\u001b[1;33m)\u001b[0m\u001b[1;33m\u001b[0m\u001b[1;33m\u001b[0m\u001b[0m\n\u001b[0m",
      "\u001b[1;32m~\\AppData\\Local\\Temp\\ipykernel_1884\\3492829495.py\u001b[0m in \u001b[0;36mResetMeasurementSetup\u001b[1;34m(serial)\u001b[0m\n\u001b[0;32m      1\u001b[0m \u001b[1;32mdef\u001b[0m \u001b[0mResetMeasurementSetup\u001b[0m\u001b[1;33m(\u001b[0m\u001b[0mserial\u001b[0m\u001b[1;33m)\u001b[0m\u001b[1;33m:\u001b[0m\u001b[1;33m\u001b[0m\u001b[1;33m\u001b[0m\u001b[0m\n\u001b[1;32m----> 2\u001b[1;33m     \u001b[0mserial\u001b[0m\u001b[1;33m.\u001b[0m\u001b[0mwrite\u001b[0m\u001b[1;33m(\u001b[0m\u001b[0mbytearray\u001b[0m\u001b[1;33m(\u001b[0m\u001b[1;33m[\u001b[0m\u001b[1;36m0xB0\u001b[0m\u001b[1;33m,\u001b[0m \u001b[1;36m0x01\u001b[0m\u001b[1;33m,\u001b[0m \u001b[1;36m0x01\u001b[0m\u001b[1;33m,\u001b[0m \u001b[1;36m0xB0\u001b[0m\u001b[1;33m]\u001b[0m\u001b[1;33m)\u001b[0m\u001b[1;33m)\u001b[0m\u001b[1;33m\u001b[0m\u001b[1;33m\u001b[0m\u001b[0m\n\u001b[0m\u001b[0;32m      3\u001b[0m     \u001b[0mSystemMessageCallback\u001b[0m\u001b[1;33m(\u001b[0m\u001b[0mserial\u001b[0m\u001b[1;33m)\u001b[0m\u001b[1;33m\u001b[0m\u001b[1;33m\u001b[0m\u001b[0m\n",
      "\u001b[1;32m~\\AppData\\Roaming\\Python\\Python39\\site-packages\\serial\\serialwin32.py\u001b[0m in \u001b[0;36mwrite\u001b[1;34m(self, data)\u001b[0m\n\u001b[0;32m    315\u001b[0m             \u001b[1;32mif\u001b[0m \u001b[0mself\u001b[0m\u001b[1;33m.\u001b[0m\u001b[0m_write_timeout\u001b[0m \u001b[1;33m!=\u001b[0m \u001b[1;36m0\u001b[0m\u001b[1;33m:\u001b[0m  \u001b[1;31m# if blocking (None) or w/ write timeout (>0)\u001b[0m\u001b[1;33m\u001b[0m\u001b[1;33m\u001b[0m\u001b[0m\n\u001b[0;32m    316\u001b[0m                 \u001b[1;32mif\u001b[0m \u001b[1;32mnot\u001b[0m \u001b[0msuccess\u001b[0m \u001b[1;32mand\u001b[0m \u001b[0mwin32\u001b[0m\u001b[1;33m.\u001b[0m\u001b[0mGetLastError\u001b[0m\u001b[1;33m(\u001b[0m\u001b[1;33m)\u001b[0m \u001b[1;32mnot\u001b[0m \u001b[1;32min\u001b[0m \u001b[1;33m(\u001b[0m\u001b[0mwin32\u001b[0m\u001b[1;33m.\u001b[0m\u001b[0mERROR_SUCCESS\u001b[0m\u001b[1;33m,\u001b[0m \u001b[0mwin32\u001b[0m\u001b[1;33m.\u001b[0m\u001b[0mERROR_IO_PENDING\u001b[0m\u001b[1;33m)\u001b[0m\u001b[1;33m:\u001b[0m\u001b[1;33m\u001b[0m\u001b[1;33m\u001b[0m\u001b[0m\n\u001b[1;32m--> 317\u001b[1;33m                     \u001b[1;32mraise\u001b[0m \u001b[0mSerialException\u001b[0m\u001b[1;33m(\u001b[0m\u001b[1;34m\"WriteFile failed ({!r})\"\u001b[0m\u001b[1;33m.\u001b[0m\u001b[0mformat\u001b[0m\u001b[1;33m(\u001b[0m\u001b[0mctypes\u001b[0m\u001b[1;33m.\u001b[0m\u001b[0mWinError\u001b[0m\u001b[1;33m(\u001b[0m\u001b[1;33m)\u001b[0m\u001b[1;33m)\u001b[0m\u001b[1;33m)\u001b[0m\u001b[1;33m\u001b[0m\u001b[1;33m\u001b[0m\u001b[0m\n\u001b[0m\u001b[0;32m    318\u001b[0m \u001b[1;33m\u001b[0m\u001b[0m\n\u001b[0;32m    319\u001b[0m                 \u001b[1;31m# Wait for the write to complete.\u001b[0m\u001b[1;33m\u001b[0m\u001b[1;33m\u001b[0m\u001b[0m\n",
      "\u001b[1;31mSerialException\u001b[0m: WriteFile failed (PermissionError(13, 'Das Gerät erkennt den Befehl nicht.', None, 22))"
     ]
    }
   ],
   "source": [
    "ResetMeasurementSetup(ser)"
   ]
  },
  {
   "cell_type": "markdown",
   "id": "b2a9ba54-0e5d-4738-b8b5-7143ab63de9c",
   "metadata": {},
   "source": [
    "# Final Running schedule"
   ]
  },
  {
   "cell_type": "code",
   "execution_count": 36,
   "id": "df94e7a6-3858-4d81-a945-d30b83bc4905",
   "metadata": {},
   "outputs": [],
   "source": [
    "def Config_01(serial) -> None:\n",
    "    serial.write(bytearray([0xB0, 0x01, 0x01, 0xB0]))\n",
    "    # SystemMessageCallback(ser)\n",
    "    serial.write(bytearray([0xB0, 0x03, 0x02, 0x00, 0x01, 0xB0]))  # Burst count\n",
    "    # SystemMessageCallback(ser)\n",
    "    serial.write(\n",
    "        bytearray(\n",
    "            [0xB0, 0x09, 0x05, 0x3F, 0x50, 0x62, 0x4D, 0xD2, 0xF1, 0xA9, 0xFC, 0xB0]\n",
    "        )\n",
    "    )\n",
    "    # SystemMessageCallback(ser)\n",
    "    serial.write(bytearray([0xB0, 0x02, 0x0D, 0x01, 0xB0]))\n",
    "    # SystemMessageCallback(ser)\n",
    "    serial.write(bytearray([0xB0, 0x03, 0x09, 0x01, 0x00, 0xB0]))\n",
    "    # SystemMessageCallback(ser)\n",
    "    serial.write(bytearray([0xB0, 0x03, 0x08, 0x01, 0x01, 0xB0]))\n",
    "    # SystemMessageCallback(ser)\n",
    "    serial.write(bytearray([0xB0, 0x02, 0x0C, 0x01, 0xB0]))\n",
    "    # SystemMessageCallback(ser)\n",
    "    serial.write(bytearray([0xB0, 0x05, 0x03, 0x40, 0x00, 0x00, 0x00, 0xB0]))\n",
    "    # SystemMessageCallback(ser)\n",
    "    serial.write(\n",
    "        bytearray(\n",
    "            [\n",
    "                0xB0,\n",
    "                0x0C,\n",
    "                0x04,\n",
    "                0x44,\n",
    "                0x7A,\n",
    "                0x00,\n",
    "                0x00,\n",
    "                0x44,\n",
    "                0x7A,\n",
    "                0x00,\n",
    "                0x00,\n",
    "                0x00,\n",
    "                0x01,\n",
    "                0x00,\n",
    "                0xB0,\n",
    "            ]\n",
    "        )\n",
    "    )\n",
    "    # SystemMessageCallback(ser)\n",
    "    serial.write(bytearray([0xB0, 0x03, 0x06, 0x01, 0x02, 0xB0]))\n",
    "    # SystemMessageCallback(ser)\n",
    "    serial.write(bytearray([0xB0, 0x03, 0x06, 0x02, 0x03, 0xB0]))\n",
    "    # SystemMessageCallback(ser)\n",
    "    serial.write(bytearray([0xB0, 0x03, 0x06, 0x03, 0x04, 0xB0]))\n",
    "    # SystemMessageCallback(ser)\n",
    "    serial.write(bytearray([0xB0, 0x03, 0x06, 0x04, 0x05, 0xB0]))\n",
    "    # SystemMessageCallback(ser)\n",
    "    serial.write(bytearray([0xB0, 0x03, 0x06, 0x05, 0x06, 0xB0]))\n",
    "    # SystemMessageCallback(ser)\n",
    "    serial.write(bytearray([0xB0, 0x03, 0x06, 0x06, 0x07, 0xB0]))\n",
    "    # SystemMessageCallback(ser)\n",
    "    serial.write(bytearray([0xB0, 0x03, 0x06, 0x07, 0x08, 0xB0]))\n",
    "    # SystemMessageCallback(ser)\n",
    "    serial.write(bytearray([0xB0, 0x03, 0x06, 0x08, 0x09, 0xB0]))\n",
    "    # SystemMessageCallback(ser)\n",
    "    serial.write(bytearray([0xB0, 0x03, 0x06, 0x09, 0x0A, 0xB0]))\n",
    "    # SystemMessageCallback(ser)\n",
    "    serial.write(bytearray([0xB0, 0x03, 0x06, 0x0A, 0x0B, 0xB0]))\n",
    "    # SystemMessageCallback(ser)\n",
    "    serial.write(bytearray([0xB0, 0x03, 0x06, 0x0B, 0x0C, 0xB0]))\n",
    "    # SystemMessageCallback(ser)\n",
    "    serial.write(bytearray([0xB0, 0x03, 0x06, 0x0C, 0x0D, 0xB0]))\n",
    "    # SystemMessageCallback(ser)\n",
    "    serial.write(bytearray([0xB0, 0x03, 0x06, 0x0D, 0x0E, 0xB0]))\n",
    "    # SystemMessageCallback(ser)\n",
    "    serial.write(bytearray([0xB0, 0x03, 0x06, 0x0E, 0x0F, 0xB0]))\n",
    "    # SystemMessageCallback(ser)\n",
    "    serial.write(bytearray([0xB0, 0x03, 0x06, 0x0F, 0x10, 0xB0]))\n",
    "    # SystemMessageCallback(ser)\n",
    "    serial.write(bytearray([0xB0, 0x03, 0x06, 0x10, 0x11, 0xB0]))\n",
    "    # SystemMessageCallback(ser)\n",
    "    serial.write(bytearray([0xB0, 0x03, 0x06, 0x11, 0x12, 0xB0]))\n",
    "    # SystemMessageCallback(ser)\n",
    "    serial.write(bytearray([0xB0, 0x03, 0x06, 0x12, 0x13, 0xB0]))\n",
    "    # SystemMessageCallback(ser)\n",
    "    serial.write(bytearray([0xB0, 0x03, 0x06, 0x13, 0x14, 0xB0]))\n",
    "    # SystemMessageCallback(ser)\n",
    "    serial.write(bytearray([0xB0, 0x03, 0x06, 0x14, 0x15, 0xB0]))\n",
    "    # SystemMessageCallback(ser)\n",
    "    serial.write(bytearray([0xB0, 0x03, 0x06, 0x15, 0x16, 0xB0]))\n",
    "    # SystemMessageCallback(ser)\n",
    "    serial.write(bytearray([0xB0, 0x03, 0x06, 0x16, 0x17, 0xB0]))\n",
    "    # SystemMessageCallback(ser)\n",
    "    serial.write(bytearray([0xB0, 0x03, 0x06, 0x17, 0x18, 0xB0]))\n",
    "    # SystemMessageCallback(ser)\n",
    "    serial.write(bytearray([0xB0, 0x03, 0x06, 0x18, 0x19, 0xB0]))\n",
    "    # SystemMessageCallback(ser)\n",
    "    serial.write(bytearray([0xB0, 0x03, 0x06, 0x19, 0x1A, 0xB0]))\n",
    "    # SystemMessageCallback(ser)\n",
    "    serial.write(bytearray([0xB0, 0x03, 0x06, 0x1A, 0x1B, 0xB0]))\n",
    "    # SystemMessageCallback(ser)\n",
    "    serial.write(bytearray([0xB0, 0x03, 0x06, 0x1B, 0x1C, 0xB0]))\n",
    "    # SystemMessageCallback\n",
    "    serial.write(bytearray([0xB0, 0x03, 0x06, 0x1C, 0x1D, 0xB0]))\n",
    "    # SystemMessageCallback(ser)\n",
    "    serial.write(bytearray([0xB0, 0x03, 0x06, 0x1D, 0x1E, 0xB0]))\n",
    "    # SystemMessageCallback(ser)\n",
    "    serial.write(bytearray([0xB0, 0x03, 0x06, 0x1E, 0x1F, 0xB0]))\n",
    "    # SystemMessageCallback(ser)\n",
    "    serial.write(bytearray([0xB0, 0x03, 0x06, 0x1F, 0x20, 0xB0]))\n",
    "    # SystemMessageCallback(ser)\n",
    "    serial.write(bytearray([0xB0, 0x03, 0x06, 0x20, 0x01, 0xB0]))\n",
    "    # SystemMessageCallback(ser)\n",
    "    serial.write(bytearray([0xB1, 0x01, 0x03, 0xB1]))\n",
    "    # SystemMessageCallback(ser)\n",
    "    serial.write(bytearray([0xB2, 0x02, 0x01, 0x01, 0xB2]))\n",
    "    # SystemMessageCallback(ser)\n",
    "    serial.write(bytearray([0xB2, 0x02, 0x03, 0x01, 0xB2]))\n",
    "    # SystemMessageCallback(ser)\n",
    "    serial.write(bytearray([0xB2, 0x02, 0x02, 0x01, 0xB2]))\n",
    "    # SystemMessageCallback(ser)\n",
    "    SystemMessageCallback(ser)\n",
    "    # serial.write(bytearray([0xB4, 0x01, 0x01, 0xB4]))\n",
    "    # sleep(10)\n",
    "    # serial.write(bytearray([0xB4, 0x01, 0x00, 0xB4]))"
   ]
  },
  {
   "cell_type": "code",
   "execution_count": 46,
   "id": "99c37ac3-cc33-4359-a83c-d4d052ea21f9",
   "metadata": {},
   "outputs": [],
   "source": [
    "def StartStopMeasurement(serial):\n",
    "    serial.write(bytearray([0xB4, 0x01, 0x01, 0xB4]))\n",
    "    measurement_data_int, measurement_data_hex = SystemMessageCallback(\n",
    "        serial, ret_hex_int=\"both\"\n",
    "    )\n",
    "    print(\"Stopping measurement:\")\n",
    "    serial.write(bytearray([0xB4, 0x01, 0x00, 0xB4]))\n",
    "    SystemMessageCallback(serial, ret_hex_int=\"int\")\n",
    "    return measurement_data_int, measurement_data_hex\n",
    "\n",
    "\n",
    "def StopMeasurement(serial):\n",
    "    serial.write(bytearray([0xB4, 0x01, 0x00, 0xB4]))\n",
    "    SystemMessageCallback(serial)"
   ]
  },
  {
   "cell_type": "code",
   "execution_count": 47,
   "id": "5aca80ed-4fc9-42f6-949d-09227281f8dd",
   "metadata": {},
   "outputs": [
    {
     "name": "stdout",
     "output_type": "stream",
     "text": [
      "Command-Acknowledge: Command has been executed successfully\n",
      "message buffer:\n",
      " ['0x18', '0x1', '0x83', '0x18', '0x18', '0x1', '0x83', '0x18', '0x18', '0x1', '0x83', '0x18', '0x18', '0x1', '0x83', '0x18', '0x18', '0x1', '0x83', '0x18', '0x18', '0x1', '0x83', '0x18', '0x18', '0x1', '0x83', '0x18', '0x18', '0x1', '0x83', '0x18', '0x18', '0x1', '0x83', '0x18', '0x18', '0x1', '0x83', '0x18', '0x18', '0x1', '0x83', '0x18', '0x18', '0x1', '0x83', '0x18', '0x18', '0x1', '0x83', '0x18', '0x18', '0x1', '0x83', '0x18', '0x18', '0x1', '0x83', '0x18', '0x18', '0x1', '0x83', '0x18', '0x18', '0x1', '0x83', '0x18', '0x18', '0x1', '0x83', '0x18', '0x18', '0x1', '0x83', '0x18', '0x18', '0x1', '0x83', '0x18', '0x18', '0x1', '0x83', '0x18', '0x18', '0x1', '0x83', '0x18', '0x18', '0x1', '0x83', '0x18', '0x18', '0x1', '0x83', '0x18', '0x18', '0x1', '0x83', '0x18', '0x18', '0x1', '0x83', '0x18', '0x18', '0x1', '0x83', '0x18', '0x18', '0x1', '0x83', '0x18', '0x18', '0x1', '0x83', '0x18', '0x18', '0x1', '0x83', '0x18', '0x18', '0x1', '0x83', '0x18', '0x18', '0x1', '0x83', '0x18', '0x18', '0x1', '0x83', '0x18', '0x18', '0x1', '0x83', '0x18', '0x18', '0x1', '0x83', '0x18', '0x18', '0x1', '0x83', '0x18', '0x18', '0x1', '0x83', '0x18', '0x18', '0x1', '0x83', '0x18', '0x18', '0x1', '0x83', '0x18', '0x18', '0x1', '0x83', '0x18', '0x18', '0x1', '0x83', '0x18', '0xb1', '0x5', '0x3', '0x40', '0x0', '0x0', '0x0', '0xb1', '0x18', '0x1', '0x83', '0x18', '0x18', '0x1', '0x83', '0x18', '0x18', '0x1', '0x83', '0x18', '0x18', '0x1', '0x83', '0x18']\n",
      "message length:\t 188\n"
     ]
    }
   ],
   "source": [
    "Config_01(ser)"
   ]
  },
  {
   "cell_type": "code",
   "execution_count": 48,
   "id": "685999b1-2b92-4c9d-8a57-1753f2354cf2",
   "metadata": {},
   "outputs": [
    {
     "name": "stdout",
     "output_type": "stream",
     "text": [
      "No message inside the message buffer\n"
     ]
    }
   ],
   "source": [
    "SystemMessageCallback(ser)"
   ]
  },
  {
   "cell_type": "code",
   "execution_count": null,
   "id": "34fc96be-29a6-4c3c-9d69-687695f251ec",
   "metadata": {},
   "outputs": [],
   "source": [
    "measurement_data_int, measurement_data_hex = StartStopMeasurement(ser)"
   ]
  },
  {
   "cell_type": "code",
   "execution_count": 52,
   "id": "3322784c-7bfc-49e5-9e6e-2abb41513cbf",
   "metadata": {},
   "outputs": [],
   "source": [
    "np.savez(\n",
    "    \"test_messung_burstCnt_1.npz\",\n",
    "    data_hex=measurement_data_hex,\n",
    "    data_int=measurement_data_int,\n",
    ")"
   ]
  },
  {
   "cell_type": "code",
   "execution_count": 18,
   "id": "1900f657-5060-4983-a64a-c710e71dbff2",
   "metadata": {},
   "outputs": [
    {
     "name": "stdout",
     "output_type": "stream",
     "text": [
      "start tag: b'\\x02'\n",
      "msg_new len: 3\n",
      "None\n",
      "None\n"
     ]
    }
   ],
   "source": [
    "StopMeasurement(ser)"
   ]
  },
  {
   "cell_type": "code",
   "execution_count": 41,
   "id": "e2177488-2d4b-433a-9dbb-918b9c09afdb",
   "metadata": {},
   "outputs": [
    {
     "data": {
      "text/plain": [
       "b'\\xc0'"
      ]
     },
     "execution_count": 41,
     "metadata": {},
     "output_type": "execute_result"
    }
   ],
   "source": [
    "ser.read()"
   ]
  },
  {
   "cell_type": "code",
   "execution_count": null,
   "id": "d9167299-5c8c-4ee5-bc15-1ea85b9809d7",
   "metadata": {},
   "outputs": [],
   "source": [
    "mx = 0\n",
    "while ser.read() != None:  # 4000+\n",
    "    ser.read()\n",
    "    mx += 1\n",
    "print(mx)"
   ]
  },
  {
   "cell_type": "code",
   "execution_count": 6,
   "id": "498e9ea3-b1b6-4ae5-aac5-07ea897cd2a4",
   "metadata": {},
   "outputs": [
    {
     "data": {
      "text/plain": [
       "825260080"
      ]
     },
     "execution_count": 6,
     "metadata": {},
     "output_type": "execute_result"
    }
   ],
   "source": [
    "int.from_bytes(b\"0x01\", byteorder=\"little\")"
   ]
  },
  {
   "cell_type": "code",
   "execution_count": 11,
   "id": "1240f218-c683-4f30-b321-ca29232e195d",
   "metadata": {},
   "outputs": [
    {
     "data": {
      "text/plain": [
       "0"
      ]
     },
     "execution_count": 11,
     "metadata": {},
     "output_type": "execute_result"
    }
   ],
   "source": [
    "int.from_bytes(bytes(0xA2), byteorder=\"little\")"
   ]
  },
  {
   "cell_type": "code",
   "execution_count": 13,
   "id": "632d3495-0455-4490-ab04-c1260d99fff5",
   "metadata": {},
   "outputs": [
    {
     "data": {
      "text/plain": [
       "24"
      ]
     },
     "execution_count": 13,
     "metadata": {},
     "output_type": "execute_result"
    }
   ],
   "source": [
    "int(0x18)"
   ]
  }
 ],
 "metadata": {
  "kernelspec": {
   "display_name": "Python 3 (ipykernel)",
   "language": "python",
   "name": "python3"
  },
  "language_info": {
   "codemirror_mode": {
    "name": "ipython",
    "version": 3
   },
   "file_extension": ".py",
   "mimetype": "text/x-python",
   "name": "python",
   "nbconvert_exporter": "python",
   "pygments_lexer": "ipython3",
   "version": "3.9.12"
  }
 },
 "nbformat": 4,
 "nbformat_minor": 5
}
