{
 "cells": [
  {
   "cell_type": "code",
   "execution_count": 44,
   "id": "39338140-743b-41a4-9158-63c09c9683b8",
   "metadata": {},
   "outputs": [],
   "source": [
    "import sciopy as sc\n",
    "import numpy as np\n",
    "from sciopy.sciopy_dataclasses import SingleFrame#, ScioSpecMeasurementConfig\n",
    "import struct\n",
    "from dataclasses import dataclass"
   ]
  },
  {
   "cell_type": "code",
   "execution_count": 45,
   "id": "499d4178-4699-475b-a819-3df8e7c3e9b6",
   "metadata": {},
   "outputs": [],
   "source": [
    "@dataclass\n",
    "class ScioSpecMeasurementConfig:\n",
    "    com_port: str\n",
    "    burst_count: int\n",
    "    n_el: int\n",
    "    channel_group: list\n",
    "    actual_sample: int\n",
    "    s_path: str\n",
    "    object: str"
   ]
  },
  {
   "cell_type": "code",
   "execution_count": 2,
   "id": "1965da21-b5f6-4bbb-979b-362191467f7b",
   "metadata": {},
   "outputs": [
    {
     "data": {
      "text/plain": [
       "\u001b[1;31mSignature:\u001b[0m\n",
       "\u001b[0msc\u001b[0m\u001b[1;33m.\u001b[0m\u001b[0mconfiguration_02\u001b[0m\u001b[1;33m(\u001b[0m\u001b[1;33m\n",
       "\u001b[0m    \u001b[0mserial\u001b[0m\u001b[1;33m,\u001b[0m\u001b[1;33m\n",
       "\u001b[0m    \u001b[0mcnf\u001b[0m\u001b[1;33m:\u001b[0m \u001b[0msciopy\u001b[0m\u001b[1;33m.\u001b[0m\u001b[0msciopy_dataclasses\u001b[0m\u001b[1;33m.\u001b[0m\u001b[0mScioSpecMeasurementConfig\u001b[0m\u001b[1;33m,\u001b[0m\u001b[1;33m\n",
       "\u001b[0m\u001b[1;33m)\u001b[0m \u001b[1;33m->\u001b[0m \u001b[0msciopy\u001b[0m\u001b[1;33m.\u001b[0m\u001b[0msciopy_dataclasses\u001b[0m\u001b[1;33m.\u001b[0m\u001b[0mScioSpecMeasurementConfig\u001b[0m\u001b[1;33m\u001b[0m\u001b[1;33m\u001b[0m\u001b[0m\n",
       "\u001b[1;31mDocstring:\u001b[0m\n",
       "Amplitude [mA]      1.0\n",
       "Range [V]           +/-5\n",
       "Framerate           1\n",
       "Gain                1\n",
       "Burst Count         5\n",
       "\n",
       "Min f [Hz]          1000\n",
       "Max f [Hz]          1000\n",
       "Steps               1\n",
       "Scale               LINEAR\n",
       "\n",
       "Measure Mode        Single Ended\n",
       "Switch Type         Reed Relais\n",
       "\n",
       "Channel Group Wizart:\n",
       "\n",
       "Num. of Inj.        16\n",
       "Chanel Group        Skip 0\n",
       "\u001b[1;31mFile:\u001b[0m      c:\\users\\sciospeceit\\appdata\\roaming\\python\\python39\\site-packages\\sciopy\\configurations.py\n",
       "\u001b[1;31mType:\u001b[0m      function\n"
      ]
     },
     "metadata": {},
     "output_type": "display_data"
    }
   ],
   "source": [
    "sc.configuration_02?"
   ]
  },
  {
   "cell_type": "code",
   "execution_count": 3,
   "id": "7fafecb7-6ba1-4cc0-9c41-f876c4515282",
   "metadata": {},
   "outputs": [
    {
     "data": {
      "text/plain": [
       "\u001b[1;31mSignature:\u001b[0m\n",
       "\u001b[0msc\u001b[0m\u001b[1;33m.\u001b[0m\u001b[0mconfiguration_04\u001b[0m\u001b[1;33m(\u001b[0m\u001b[1;33m\n",
       "\u001b[0m    \u001b[0mserial\u001b[0m\u001b[1;33m,\u001b[0m\u001b[1;33m\n",
       "\u001b[0m    \u001b[0mcnf\u001b[0m\u001b[1;33m:\u001b[0m \u001b[0msciopy\u001b[0m\u001b[1;33m.\u001b[0m\u001b[0msciopy_dataclasses\u001b[0m\u001b[1;33m.\u001b[0m\u001b[0mScioSpecMeasurementConfig\u001b[0m\u001b[1;33m,\u001b[0m\u001b[1;33m\n",
       "\u001b[0m\u001b[1;33m)\u001b[0m \u001b[1;33m->\u001b[0m \u001b[0msciopy\u001b[0m\u001b[1;33m.\u001b[0m\u001b[0msciopy_dataclasses\u001b[0m\u001b[1;33m.\u001b[0m\u001b[0mScioSpecMeasurementConfig\u001b[0m\u001b[1;33m\u001b[0m\u001b[1;33m\u001b[0m\u001b[0m\n",
       "\u001b[1;31mDocstring:\u001b[0m\n",
       "Amplitude [mA]      1.0\n",
       "Range [V]           +/-5\n",
       "Framerate           5\n",
       "Gain                1\n",
       "Burst Count         100\n",
       "\n",
       "Min f [Hz]          15_000\n",
       "Max f [Hz]          15_000\n",
       "Steps               1\n",
       "Scale               LINEAR\n",
       "\n",
       "Measure Mode        Single Ended\n",
       "Switch Type         Reed Relais\n",
       "\n",
       "Channel Group Wizart:\n",
       "\n",
       "Num. of Inj.        32\n",
       "Chanel Group        Skip 0\n",
       "\u001b[1;31mFile:\u001b[0m      c:\\users\\sciospeceit\\appdata\\roaming\\python\\python39\\site-packages\\sciopy\\configurations.py\n",
       "\u001b[1;31mType:\u001b[0m      function\n"
      ]
     },
     "metadata": {},
     "output_type": "display_data"
    }
   ],
   "source": [
    "sc.configuration_04?"
   ]
  },
  {
   "cell_type": "code",
   "execution_count": 63,
   "id": "ee5f7550-c436-478d-9636-8758510a301f",
   "metadata": {},
   "outputs": [],
   "source": [
    "tmp_16 = np.load('sciospeceit/pyender/tmp_data/meas_ele_16_bc_5.npy', allow_pickle=True)\n",
    "tmp_32 = np.load('sciospeceit/pyender/tmp_data/meas_ele_32_bc_5.npy', allow_pickle=True)"
   ]
  },
  {
   "cell_type": "code",
   "execution_count": 64,
   "id": "0aa17132-55b3-4760-a335-1d142ff0a457",
   "metadata": {},
   "outputs": [
    {
     "name": "stdout",
     "output_type": "stream",
     "text": [
      "(44804,)\n",
      "(89604,)\n"
     ]
    }
   ],
   "source": [
    "print(tmp_16.shape)\n",
    "print(tmp_32.shape)"
   ]
  },
  {
   "cell_type": "code",
   "execution_count": 65,
   "id": "33651751-54da-4664-af23-ded939fd032e",
   "metadata": {},
   "outputs": [
    {
     "data": {
      "text/plain": [
       "5"
      ]
     },
     "execution_count": 65,
     "metadata": {},
     "output_type": "execute_result"
    }
   ],
   "source": [
    "sc_m_cnf = ScioSpecMeasurementConfig('COM3', burst_count=5, channel_group=[1], n_el=16, actual_sample=0, s_path='', object='circle')\n",
    "sc_m_cnf.burst_count"
   ]
  },
  {
   "cell_type": "code",
   "execution_count": 70,
   "id": "4e5f61b2-9b6c-44ba-89ee-6c43484e1c56",
   "metadata": {},
   "outputs": [],
   "source": [
    "def reshape_full_message_in_bursts(lst: list, cnf: ScioSpecMeasurementConfig)->np.ndarray:\n",
    "    \"\"\"\n",
    "    Gets the full message buffer.\n",
    "    \n",
    "    Example:- input: n_el=16 -> lst.shape=(44804) | n_el=32 -> lst.shape=(89604,)\n",
    "            - delete acknowledgement message: lst.shape=(4480,0) | lst.shape=(89600,)\n",
    "            - split this depending on burst count: split_list.shape=(5, 8960) | split_list.shape=(5, 17920)\n",
    "    \"\"\"\n",
    "    split_list = []\n",
    "    msg_len = 140\n",
    "    # delete acknowledgement message\n",
    "    lst = lst[4:]\n",
    "    # split in burst count messages\n",
    "    split_length = lst.shape[0]//cnf.burst_count\n",
    "    for split in range(cnf.burst_count):\n",
    "        split_list.append(lst[split*split_length:(split+1)*split_length])\n",
    "    return np.array(split_list)\n",
    "\n",
    "\n",
    "from sciopy import parse_single_frame\n",
    "\n",
    "def split_bursts_in_framge(split_list:np.ndarray, cnf : ScioSpecMeasurementConfig)->np.ndarray:\n",
    "    \"\"\"\n",
    "    \n",
    "    \"\"\"\n",
    "    msg_len = 140 # Constant\n",
    "    frame = [] # Channel group depending frame\n",
    "    burst_frame = [] # single burst count frame with channel depending frame\n",
    "    subframe_length = split_list.shape[1]//msg_len\n",
    "    for bursts in range(cnf.burst_count): # Iterate over bursts \n",
    "        tmp_split_list = np.reshape(split_list[bursts],(subframe_length,msg_len))\n",
    "        for subframe in range(subframe_length):\n",
    "            parsed_sgl_frame = parse_single_frame(tmp_split_list[subframe])\n",
    "            # Select the right channel group data\n",
    "            if parsed_sgl_frame.channel_group in cnf.channel_group:\n",
    "                frame.append(parsed_sgl_frame)\n",
    "        burst_frame.append(frame)\n",
    "        frame = [] # Reset channel depending single burst frame\n",
    "    return np.array(burst_frame) "
   ]
  },
  {
   "cell_type": "code",
   "execution_count": 71,
   "id": "674d7064-acef-4c81-8ef0-034f5cfa91e4",
   "metadata": {},
   "outputs": [
    {
     "data": {
      "text/plain": [
       "ScioSpecMeasurementConfig(com_port='COM3', burst_count=5, n_el=16, channel_group=[1], actual_sample=0, s_path='', object='circle')"
      ]
     },
     "execution_count": 71,
     "metadata": {},
     "output_type": "execute_result"
    }
   ],
   "source": [
    "sc_m_cnf"
   ]
  },
  {
   "cell_type": "code",
   "execution_count": 96,
   "id": "c3daa057-fbcc-41e5-83c2-344d57c28f41",
   "metadata": {},
   "outputs": [],
   "source": [
    "return_16 = reshape_full_message_in_bursts(tmp_16, sc_m_cnf)\n",
    "return_32 = reshape_full_message_in_bursts(tmp_32, sc_m_cnf)"
   ]
  },
  {
   "cell_type": "code",
   "execution_count": 97,
   "id": "ae6ac5c6-cb4d-44c5-a8ff-e5c979cb0310",
   "metadata": {},
   "outputs": [],
   "source": [
    "sc_m_cnf.channel_group=[1]\n",
    "return_16_2 = split_bursts_in_framge(return_16, sc_m_cnf)\n",
    "sc_m_cnf.channel_group=[1,2]\n",
    "sc_m_cnf.n_el=32\n",
    "return_32_2 = split_bursts_in_framge(return_32, sc_m_cnf)"
   ]
  },
  {
   "cell_type": "code",
   "execution_count": 98,
   "id": "67368944-eedb-4962-9186-50f9e00e5b3b",
   "metadata": {},
   "outputs": [
    {
     "data": {
      "text/plain": [
       "(5, 16)"
      ]
     },
     "execution_count": 98,
     "metadata": {},
     "output_type": "execute_result"
    }
   ],
   "source": [
    "return_16_2.shape"
   ]
  },
  {
   "cell_type": "code",
   "execution_count": 100,
   "id": "d96e4382-4eec-4de3-af05-64d3b9a6c879",
   "metadata": {},
   "outputs": [
    {
     "name": "stdout",
     "output_type": "stream",
     "text": [
      "(16,)\n",
      "(16,)\n",
      "(16,)\n",
      "(16,)\n",
      "(16,)\n"
     ]
    }
   ],
   "source": [
    "for ele in return_16_2:\n",
    "    print(ele.shape)"
   ]
  },
  {
   "cell_type": "code",
   "execution_count": null,
   "id": "96359f41-9555-4551-b487-cef5339fe038",
   "metadata": {},
   "outputs": [],
   "source": [
    "# update computing of the channel group"
   ]
  },
  {
   "cell_type": "code",
   "execution_count": 87,
   "id": "46d3b84d-04e9-4ca3-b3b3-cf5a8be23684",
   "metadata": {},
   "outputs": [
    {
     "name": "stdout",
     "output_type": "stream",
     "text": [
      "['1' '2']\n",
      "['2' '3']\n",
      "['3' '4']\n",
      "['4' '5']\n",
      "['5' '6']\n",
      "['6' '7']\n",
      "['7' '8']\n",
      "['8' '9']\n",
      "['9' 'a']\n",
      "['a' 'b']\n",
      "['b' 'c']\n",
      "['c' 'd']\n",
      "['d' 'e']\n",
      "['e' 'f']\n",
      "['f' '10']\n",
      "['10' '1']\n"
     ]
    }
   ],
   "source": [
    "for ele in return_16_2[0]:\n",
    "    print(ele.excitation_stgs)"
   ]
  },
  {
   "cell_type": "code",
   "execution_count": null,
   "id": "d917b341-fc7a-4b32-a49a-9e341ebffe70",
   "metadata": {},
   "outputs": [],
   "source": [
    "ari = ['f']"
   ]
  },
  {
   "cell_type": "code",
   "execution_count": 95,
   "id": "ae0725ae-c416-4243-b002-69647ca82d85",
   "metadata": {},
   "outputs": [
    {
     "data": {
      "text/plain": [
       "10"
      ]
     },
     "execution_count": 95,
     "metadata": {},
     "output_type": "execute_result"
    }
   ],
   "source": [
    "0x0a"
   ]
  }
 ],
 "metadata": {
  "kernelspec": {
   "display_name": "Python 3 (ipykernel)",
   "language": "python",
   "name": "python3"
  },
  "language_info": {
   "codemirror_mode": {
    "name": "ipython",
    "version": 3
   },
   "file_extension": ".py",
   "mimetype": "text/x-python",
   "name": "python",
   "nbconvert_exporter": "python",
   "pygments_lexer": "ipython3",
   "version": "3.9.13"
  }
 },
 "nbformat": 4,
 "nbformat_minor": 5
}
