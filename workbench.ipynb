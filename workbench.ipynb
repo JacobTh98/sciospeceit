{
 "cells": [
  {
   "cell_type": "code",
   "execution_count": 1,
   "id": "5d3d0d3f",
   "metadata": {
    "vscode": {
     "languageId": "plaintext"
    }
   },
   "outputs": [
    {
     "ename": "ImportError",
     "evalue": "attempted relative import with no known parent package",
     "output_type": "error",
     "traceback": [
      "\u001b[1;31m---------------------------------------------------------------------------\u001b[0m",
      "\u001b[1;31mImportError\u001b[0m                               Traceback (most recent call last)",
      "\u001b[1;32m~\\AppData\\Local\\Temp\\ipykernel_7096\\153585506.py\u001b[0m in \u001b[0;36m<module>\u001b[1;34m\u001b[0m\n\u001b[0;32m      1\u001b[0m \u001b[1;32mimport\u001b[0m \u001b[0mnumpy\u001b[0m \u001b[1;32mas\u001b[0m \u001b[0mnp\u001b[0m\u001b[1;33m\u001b[0m\u001b[1;33m\u001b[0m\u001b[0m\n\u001b[0;32m      2\u001b[0m \u001b[1;32mimport\u001b[0m \u001b[0msciopy\u001b[0m \u001b[1;32mas\u001b[0m \u001b[0msc\u001b[0m\u001b[1;33m\u001b[0m\u001b[1;33m\u001b[0m\u001b[0m\n\u001b[1;32m----> 3\u001b[1;33m \u001b[1;32mfrom\u001b[0m \u001b[1;33m.\u001b[0m\u001b[0msciopy\u001b[0m\u001b[1;33m.\u001b[0m\u001b[0msetup_m\u001b[0m \u001b[1;32mimport\u001b[0m \u001b[0mGeneralSystemMessages\u001b[0m\u001b[1;33m,\u001b[0m \u001b[0mSoftwareReset\u001b[0m\u001b[1;33m,\u001b[0m \u001b[0mSetLED_Mode\u001b[0m\u001b[1;33m\u001b[0m\u001b[1;33m\u001b[0m\u001b[0m\n\u001b[0m",
      "\u001b[1;31mImportError\u001b[0m: attempted relative import with no known parent package"
     ]
    }
   ],
   "source": [
    "import numpy as np\n",
    "import sciopy as sc\n",
    "from .sciopy.setup_m import GeneralSystemMessages, SoftwareReset, SetLED_Mode"
   ]
  },
  {
   "cell_type": "code",
   "execution_count": 2,
   "id": "07164164",
   "metadata": {
    "vscode": {
     "languageId": "plaintext"
    }
   },
   "outputs": [
    {
     "name": "stdout",
     "output_type": "stream",
     "text": [
      "Connection to COM3 is established.\n"
     ]
    }
   ],
   "source": [
    "ser = sc.connect_COM_port()"
   ]
  },
  {
   "cell_type": "code",
   "execution_count": 3,
   "id": "0ba66c7a-a004-4222-9d39-b72d7618c044",
   "metadata": {},
   "outputs": [
    {
     "name": "stdout",
     "output_type": "stream",
     "text": [
      "Object `GeneralSystemMessages` not found.\n"
     ]
    }
   ],
   "source": [
    "GeneralSystemMessages?"
   ]
  },
  {
   "cell_type": "code",
   "execution_count": 5,
   "id": "2187912b-38d7-4f3a-ac24-8a257523b641",
   "metadata": {},
   "outputs": [
    {
     "data": {
      "text/plain": [
       "bytearray(b'\\xd2\\x00\\xd2')"
      ]
     },
     "execution_count": 5,
     "metadata": {},
     "output_type": "execute_result"
    }
   ],
   "source": [
    "bytearray([0xD2, 0x00, 0xD2])"
   ]
  },
  {
   "cell_type": "code",
   "execution_count": null,
   "id": "65d156fa-79e6-4989-b49c-ba4f3c5bd263",
   "metadata": {},
   "outputs": [],
   "source": []
  }
 ],
 "metadata": {
  "kernelspec": {
   "display_name": "Python 3 (ipykernel)",
   "language": "python",
   "name": "python3"
  },
  "language_info": {
   "codemirror_mode": {
    "name": "ipython",
    "version": 3
   },
   "file_extension": ".py",
   "mimetype": "text/x-python",
   "name": "python",
   "nbconvert_exporter": "python",
   "pygments_lexer": "ipython3",
   "version": "3.9.13"
  }
 },
 "nbformat": 4,
 "nbformat_minor": 5
}
