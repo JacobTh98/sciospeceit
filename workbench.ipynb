{
 "cells": [
  {
   "cell_type": "code",
   "execution_count": 1,
   "id": "d1906913-781b-4b42-af1f-4ad99d385fc8",
   "metadata": {},
   "outputs": [],
   "source": [
    "from sciopy.doteit import convert_fulldir_doteit_to_pickle, list_all_files, list_eit_files, convert_fulldir_doteit_to_npz\n",
    "import numpy as np"
   ]
  },
  {
   "cell_type": "code",
   "execution_count": 2,
   "id": "2126e690-1a48-4a54-baed-4c958a22257c",
   "metadata": {},
   "outputs": [],
   "source": [
    "path = \"sciopy/demo_eit_files/\""
   ]
  },
  {
   "cell_type": "code",
   "execution_count": 3,
   "id": "df7d6eae-1a81-461a-acf4-f63b313e9440",
   "metadata": {},
   "outputs": [
    {
     "name": "stdout",
     "output_type": "stream",
     "text": [
      "['20230106_Demo_00002.npz', '20230106_Demo_00001.eit', '20230106_Demo_00002.eit', '20230106_Demo_00002.pickle', '20230106_Demo_00001.pickle', '20230106_Demo_00001.npz']\n",
      "---\n"
     ]
    },
    {
     "data": {
      "text/plain": [
       "['20230106_Demo_00001.eit', '20230106_Demo_00002.eit']"
      ]
     },
     "execution_count": 3,
     "metadata": {},
     "output_type": "execute_result"
    }
   ],
   "source": [
    "list_all_files(path)\n",
    "print(\"---\")\n",
    "list_eit_files(path)"
   ]
  },
  {
   "cell_type": "code",
   "execution_count": 4,
   "id": "b7bf5ea7-f36a-4aee-a1d6-9a2de33dd8f5",
   "metadata": {},
   "outputs": [
    {
     "name": "stdout",
     "output_type": "stream",
     "text": [
      "converted: 20230106_Demo_00001.eit\n",
      "converted: 20230106_Demo_00002.eit\n",
      "\t Saved in sciopy/demo_eit_files/\n"
     ]
    }
   ],
   "source": [
    "convert_fulldir_doteit_to_pickle(path,path)"
   ]
  },
  {
   "cell_type": "code",
   "execution_count": 5,
   "id": "f12cbef5-2e29-4d5c-a286-d1336c07ede1",
   "metadata": {},
   "outputs": [],
   "source": [
    "convert_fulldir_doteit_to_npz(path, path)"
   ]
  },
  {
   "cell_type": "code",
   "execution_count": 6,
   "id": "8546ffaa-4eb2-4543-82e3-3629d1bf7a82",
   "metadata": {},
   "outputs": [],
   "source": [
    "tmp = np.load(\"sciopy/demo_eit_files/20230106_Demo_00001.npz\", allow_pickle=True)"
   ]
  },
  {
   "cell_type": "code",
   "execution_count": 9,
   "id": "05b78af6-5622-4f3a-8d9f-196130cffe61",
   "metadata": {},
   "outputs": [
    {
     "data": {
      "text/plain": [
       "['number_of_header',\n",
       " 'file_version_number',\n",
       " 'setup_name',\n",
       " 'date_time',\n",
       " 'f_min',\n",
       " 'f_max',\n",
       " 'f_scale',\n",
       " 'f_count',\n",
       " 'current_amplitude',\n",
       " 'framerate',\n",
       " 'phase_correct_parameter',\n",
       " 'uknwn_1',\n",
       " 'uknwn_2',\n",
       " 'uknwn_3',\n",
       " 'uknwn_4',\n",
       " 'uknwn_5',\n",
       " 'MeasurementChannels',\n",
       " 'MeasurementChannelsIndependentFromInjectionPattern',\n",
       " '1_2',\n",
       " '2_3',\n",
       " '3_4',\n",
       " '4_5',\n",
       " '5_6',\n",
       " '6_7',\n",
       " '7_8',\n",
       " '8_9',\n",
       " '9_10',\n",
       " '10_11',\n",
       " '11_12',\n",
       " '12_13',\n",
       " '13_14',\n",
       " '14_15',\n",
       " '15_16',\n",
       " '16_1']"
      ]
     },
     "execution_count": 9,
     "metadata": {},
     "output_type": "execute_result"
    }
   ],
   "source": [
    "tmp.files"
   ]
  },
  {
   "cell_type": "code",
   "execution_count": 13,
   "id": "0e2e3bec-f4e5-4d8f-b67c-a6b3899067fd",
   "metadata": {},
   "outputs": [
    {
     "data": {
      "text/plain": [
       "array([ 2.85044980e+00-4.20448589e+00j, -2.77969265e+00+4.25676155e+00j,\n",
       "       -1.05672553e-01+1.17018610e-01j, -2.22792849e-02+2.37032101e-02j,\n",
       "        1.31353998e-04-1.49357365e-04j, -1.28606829e-04+4.50146646e-04j,\n",
       "        8.85261339e-04-5.20203088e-04j, -2.89308809e-04+5.86860522e-04j,\n",
       "       -1.52167759e-03+1.82940229e-03j,  1.38645212e-03-1.08278403e-03j,\n",
       "       -1.12597714e-03+1.52634177e-03j,  4.71215579e-04-6.58066419e-05j,\n",
       "       -1.25261163e-03+1.59113575e-03j, -6.78137294e-04+1.03234861e-03j,\n",
       "        7.72840693e-04-3.98834934e-04j,  2.99755484e-03-2.68526445e-03j,\n",
       "       -4.19782437e-02+4.01074179e-02j, -1.08093563e-02+9.01706796e-03j,\n",
       "       -3.36044724e-03+3.60259181e-03j,  4.16425709e-03-4.82629193e-03j,\n",
       "        4.03135046e-02-4.61260490e-02j,  2.01822212e-03-1.11453771e-03j,\n",
       "        7.66449841e-03-6.18149480e-03j, -2.37276297e-04+4.23412770e-04j,\n",
       "       -9.48097440e-04+1.09885831e-03j, -2.54370796e-04+2.89741700e-04j,\n",
       "       -9.67934786e-04+8.74107180e-04j, -5.95528167e-04+4.36416274e-04j,\n",
       "       -8.65021371e-04+6.64531020e-04j, -3.37000983e-03+3.01688118e-03j,\n",
       "       -1.31663564e-03+1.09919370e-03j, -1.02223910e-03+7.47498125e-04j,\n",
       "       -5.60958497e-02+5.09305075e-02j,  7.12595589e-04-1.67420064e-03j,\n",
       "       -2.94924877e-03+2.69676046e-03j,  5.37807029e-03-4.61815251e-03j,\n",
       "        4.73249480e-02-4.67485413e-02j,  2.38729198e-03-9.14151431e-04j,\n",
       "        5.89245232e-03-4.32969816e-03j,  1.19904915e-04+1.72853135e-04j,\n",
       "       -8.22992588e-04+7.59424816e-04j, -1.34036418e-05+1.08056171e-04j,\n",
       "       -7.55122572e-04+6.82602811e-04j, -4.32749948e-04+3.14161356e-04j,\n",
       "       -7.23411446e-04+4.43963479e-04j, -2.79416679e-03+2.22604536e-03j,\n",
       "       -1.20954390e-03+8.38485546e-04j, -1.07395533e-03+7.01615529e-04j,\n",
       "       -4.12801579e-02+3.83909903e-02j, -4.41977894e-03+3.33291991e-03j,\n",
       "       -1.07252933e-02+1.23015363e-02j,  2.20327191e-02-2.21352354e-02j,\n",
       "        4.57197167e-02-4.91042174e-02j,  2.81656161e-03-1.18433696e-03j,\n",
       "        6.21065404e-03-3.78628122e-03j,  1.88164617e-04+1.50529333e-04j,\n",
       "       -6.28426438e-04+6.98037969e-04j,  2.58062617e-04-5.32653175e-05j,\n",
       "        3.46579211e-04-4.02780497e-05j,  4.10532486e-03-3.09729413e-03j,\n",
       "       -4.20485716e-03+4.23880899e-03j,  2.35087797e-03-1.04215962e-03j,\n",
       "        1.13469763e-02-7.19114440e-03j,  2.26171650e-02-1.59248691e-02j])"
      ]
     },
     "execution_count": 13,
     "metadata": {},
     "output_type": "execute_result"
    }
   ],
   "source": [
    "tmp['1_2']"
   ]
  },
  {
   "cell_type": "code",
   "execution_count": null,
   "id": "8e497775-bcbe-4f4e-a9d2-e85ee012384f",
   "metadata": {},
   "outputs": [],
   "source": []
  }
 ],
 "metadata": {
  "kernelspec": {
   "display_name": "Python 3 (ipykernel)",
   "language": "python",
   "name": "python3"
  },
  "language_info": {
   "codemirror_mode": {
    "name": "ipython",
    "version": 3
   },
   "file_extension": ".py",
   "mimetype": "text/x-python",
   "name": "python",
   "nbconvert_exporter": "python",
   "pygments_lexer": "ipython3",
   "version": "3.9.12"
  }
 },
 "nbformat": 4,
 "nbformat_minor": 5
}
