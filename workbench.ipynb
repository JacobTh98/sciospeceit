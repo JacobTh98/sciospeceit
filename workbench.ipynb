{
 "cells": [
  {
   "cell_type": "code",
   "execution_count": 1,
   "metadata": {},
   "outputs": [
    {
     "name": "stdout",
     "output_type": "stream",
     "text": [
      "Could not import module: serial\n"
     ]
    }
   ],
   "source": [
    "import sciopy as scpy"
   ]
  },
  {
   "cell_type": "code",
   "execution_count": 2,
   "metadata": {},
   "outputs": [
    {
     "data": {
      "text/plain": [
       "['print_syntax',\n",
       " 'print_general_system_messages',\n",
       " 'print_acknowledge_messages',\n",
       " 'print_command_list',\n",
       " 'available_serial_ports',\n",
       " 'connect_COM_port']"
      ]
     },
     "execution_count": 2,
     "metadata": {},
     "output_type": "execute_result"
    }
   ],
   "source": [
    "scpy.__all__"
   ]
  },
  {
   "cell_type": "code",
   "execution_count": 3,
   "metadata": {},
   "outputs": [
    {
     "name": "stdout",
     "output_type": "stream",
     "text": [
      "test Com3.\n"
     ]
    }
   ],
   "source": [
    "msg = \"test {i}.\".format(i=\"Com3\")\n",
    "print(msg)"
   ]
  },
  {
   "cell_type": "code",
   "execution_count": null,
   "metadata": {},
   "outputs": [],
   "source": []
  }
 ],
 "metadata": {
  "kernelspec": {
   "display_name": "Python 3",
   "language": "python",
   "name": "python3"
  },
  "language_info": {
   "codemirror_mode": {
    "name": "ipython",
    "version": 3
   },
   "file_extension": ".py",
   "mimetype": "text/x-python",
   "name": "python",
   "nbconvert_exporter": "python",
   "pygments_lexer": "ipython3",
   "version": "3.11.1"
  },
  "orig_nbformat": 4,
  "vscode": {
   "interpreter": {
    "hash": "3763944a4a3920393802e3ea07712e60c320e6d6d7c6984563aa6b68a161f9d3"
   }
  }
 },
 "nbformat": 4,
 "nbformat_minor": 2
}
