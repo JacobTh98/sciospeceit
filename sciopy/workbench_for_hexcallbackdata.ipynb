{
 "cells": [
  {
   "cell_type": "code",
   "execution_count": 124,
   "id": "e3e471c4-01bb-4e9e-a2eb-8d340becddea",
   "metadata": {},
   "outputs": [],
   "source": [
    "import numpy as np"
   ]
  },
  {
   "cell_type": "code",
   "execution_count": 190,
   "id": "3348fb9e-a605-4677-8536-598c1abe052e",
   "metadata": {},
   "outputs": [
    {
     "data": {
      "text/plain": [
       "['data_hex', 'data_int']"
      ]
     },
     "execution_count": 190,
     "metadata": {},
     "output_type": "execute_result"
    }
   ],
   "source": [
    "tmp = np.load(\"../test_messung_burstCnt_1.npz\", allow_pickle=True)\n",
    "tmp.files"
   ]
  },
  {
   "cell_type": "code",
   "execution_count": 191,
   "id": "7360d0b8-aa0d-4102-a565-75b28cf71345",
   "metadata": {},
   "outputs": [],
   "source": [
    "def conv_hex_list(lst: list):\n",
    "    data = [ele.replace(\"0x\", \"\") for ele in lst]\n",
    "\n",
    "    data_new = []\n",
    "    for ele in data:\n",
    "        if len(ele) == 1:\n",
    "            apdx = \"0\"\n",
    "            data_new.append(apdx + ele)\n",
    "        else:\n",
    "            apdx = \"0x\"\n",
    "            data_new.append(ele)\n",
    "    data_new = [bytes.fromhex(ele) for ele in data_new]\n",
    "    int_data = [int.from_bytes(ele, 'big') for ele in data_new]\n",
    "    return data_new, int_data"
   ]
  },
  {
   "cell_type": "code",
   "execution_count": 192,
   "id": "93de3109-83b7-4682-be33-e58dd8051fd7",
   "metadata": {},
   "outputs": [],
   "source": [
    "dt_hex, dt_int = conv_hex_list(tmp[\"data_hex\"])"
   ]
  },
  {
   "cell_type": "code",
   "execution_count": 200,
   "id": "a12889d3-10e0-40b7-b9a9-cdd8e254c8d8",
   "metadata": {},
   "outputs": [
    {
     "data": {
      "text/plain": [
       "[b'\\xf7',\n",
       " b']',\n",
       " b'\\xde',\n",
       " b'\\xb5',\n",
       " b'\\xff',\n",
       " b'\\xaf',\n",
       " b'\\x95',\n",
       " b'\\xb5',\n",
       " b'\\xf7',\n",
       " b']',\n",
       " b'\\xde',\n",
       " b'\\xb5',\n",
       " b'\\xff',\n",
       " b'\\xaf',\n",
       " b'\\x95',\n",
       " b'\\xb5',\n",
       " b'\\xf7',\n",
       " b']',\n",
       " b'\\xde',\n",
       " b'\\xb4']"
      ]
     },
     "execution_count": 200,
     "metadata": {},
     "output_type": "execute_result"
    }
   ],
   "source": [
    "dt_hex[len(dt_hex)-20:]"
   ]
  },
  {
   "cell_type": "code",
   "execution_count": 198,
   "id": "bd0c808d-961f-47bd-8d37-8a6af6698bb3",
   "metadata": {},
   "outputs": [
    {
     "data": {
      "text/plain": [
       "17914"
      ]
     },
     "execution_count": 198,
     "metadata": {},
     "output_type": "execute_result"
    }
   ],
   "source": [
    "len(dt_hex)-10"
   ]
  },
  {
   "cell_type": "code",
   "execution_count": 199,
   "id": "7f349f88-a358-4cf9-bae9-3d9ed84ca774",
   "metadata": {},
   "outputs": [
    {
     "data": {
      "text/plain": [
       "array(['0xde', '0xb5', '0xff', '0xaf', '0x95', '0xb5', '0xf7', '0x5d',\n",
       "       '0xde', '0xb4'], dtype='<U4')"
      ]
     },
     "execution_count": 199,
     "metadata": {},
     "output_type": "execute_result"
    }
   ],
   "source": [
    "tmp[\"data_hex\"][17914:]"
   ]
  },
  {
   "cell_type": "code",
   "execution_count": null,
   "id": "bcf60329-08b3-4f07-9bc4-ac09311f1f07",
   "metadata": {},
   "outputs": [],
   "source": []
  }
 ],
 "metadata": {
  "kernelspec": {
   "display_name": "Python 3 (ipykernel)",
   "language": "python",
   "name": "python3"
  },
  "language_info": {
   "codemirror_mode": {
    "name": "ipython",
    "version": 3
   },
   "file_extension": ".py",
   "mimetype": "text/x-python",
   "name": "python",
   "nbconvert_exporter": "python",
   "pygments_lexer": "ipython3",
   "version": "3.9.12"
  }
 },
 "nbformat": 4,
 "nbformat_minor": 5
}
