{
 "cells": [
  {
   "cell_type": "code",
   "execution_count": 244,
   "id": "e3e471c4-01bb-4e9e-a2eb-8d340becddea",
   "metadata": {},
   "outputs": [],
   "source": [
    "import struct\n",
    "from dataclasses import dataclass\n",
    "from typing import List, Tuple, Union\n",
    "\n",
    "import matplotlib.pyplot as plt\n",
    "import numpy as np"
   ]
  },
  {
   "cell_type": "code",
   "execution_count": 211,
   "id": "3348fb9e-a605-4677-8536-598c1abe052e",
   "metadata": {},
   "outputs": [
    {
     "data": {
      "text/plain": [
       "['data_hex', 'data_int']"
      ]
     },
     "execution_count": 211,
     "metadata": {},
     "output_type": "execute_result"
    }
   ],
   "source": [
    "tmp = np.load(\"../test_messung_burstCnt_1.npz\", allow_pickle=True)\n",
    "tmp.files"
   ]
  },
  {
   "cell_type": "code",
   "execution_count": 300,
   "id": "7360d0b8-aa0d-4102-a565-75b28cf71345",
   "metadata": {},
   "outputs": [],
   "source": [
    "def del_hex_in_list(lst: list) -> list:\n",
    "    return [\n",
    "        \"0\" + ele.replace(\"0x\", \"\") if len(ele) == 1 else ele.replace(\"0x\", \"\")\n",
    "        for ele in lst\n",
    "    ]\n",
    "\n",
    "\n",
    "def bytesarray_to_float(bytes_array: np.ndarray) -> float:\n",
    "    bytes_array = [int(b, 16) for b in bytes_array]\n",
    "    bytes_array = bytes(bytes_array)\n",
    "    return struct.unpack(\"!f\", bytes(bytes_array))[0]\n",
    "\n",
    "\n",
    "def bytesarray_to_int(bytes_array: np.ndarray) -> int:\n",
    "    bytes_array = bytesarray_to_byteslist(bytes_array)\n",
    "    return int.from_bytes(bytes_array, \"big\")\n",
    "\n",
    "\n",
    "def bytesarray_to_byteslist(bytes_array: np.ndarray) -> list:\n",
    "    bytes_array = [int(b, 16) for b in bytes_array]\n",
    "    return bytes(bytes_array)\n",
    "\n",
    "\n",
    "def reshape_measurement_buffer(lst: list) -> np.ndarray:\n",
    "    idx_b4 = [i for i, ele in enumerate(lst) if ele == \"b4\"]\n",
    "    idx_b4 = np.array(idx_b4)\n",
    "    step = abs(idx_b4[1] - idx_b4[0]) + 1\n",
    "    return np.array(\n",
    "        [lst[i : i + step] for i in range(idx_b4[0], idx_b4[-1] + step, step)],\n",
    "        dtype=list,\n",
    "    )[:-1]\n",
    "\n",
    "\n",
    "@dataclass\n",
    "class BaseSettingForEstimation:\n",
    "    active_channel_groups: np.ndarray\n",
    "    burst_count: int\n",
    "\n",
    "\n",
    "@dataclass\n",
    "class SingleFrame:\n",
    "    start_tag: List[str]\n",
    "    channel_group: str\n",
    "    excitation_stgs: List[str]\n",
    "    frequency_row: List[str]\n",
    "    timestamp: int  # [ms]\n",
    "    ch_1: complex\n",
    "    ch_2: complex\n",
    "    ch_3: complex\n",
    "    ch_4: complex\n",
    "    ch_5: complex\n",
    "    ch_6: complex\n",
    "    ch_7: complex\n",
    "    ch_8: complex\n",
    "    ch_9: complex\n",
    "    ch_10: complex\n",
    "    ch_11: complex\n",
    "    ch_12: complex\n",
    "    ch_13: complex\n",
    "    ch_14: complex\n",
    "    ch_15: complex\n",
    "    ch_16: complex\n",
    "    end_tag: str\n",
    "\n",
    "\n",
    "def parse_single_frame(lst_ele: np.ndarray) -> SingleFrame:\n",
    "    channels = {}\n",
    "    enum = 0\n",
    "    for i in range(11, 135, 8):\n",
    "        enum += 1\n",
    "        channels[f\"ch_{enum}\"] = complex(\n",
    "            bytesarray_to_float(lst_ele[i : i + 4]),\n",
    "            bytesarray_to_float(lst_ele[i + 4 : i + 8]),\n",
    "        )\n",
    "\n",
    "    excitation_stgs = np.array([ele for ele in lst_ele[3:5]])\n",
    "\n",
    "    sgl_frm = SingleFrame(\n",
    "        start_tag=lst_ele[0],\n",
    "        channel_group=int(lst_ele[2]),\n",
    "        excitation_stgs=excitation_stgs,\n",
    "        frequency_row=lst_ele[5:7],\n",
    "        timestamp=bytesarray_to_int(lst_ele[7:11]),\n",
    "        **channels,\n",
    "        end_tag=lst_ele[139],\n",
    "    )\n",
    "    return sgl_frm"
   ]
  },
  {
   "cell_type": "code",
   "execution_count": 301,
   "id": "8740ed88-22c8-4f19-ab03-1061c65bd8af",
   "metadata": {},
   "outputs": [
    {
     "data": {
      "text/plain": [
       "BaseSettingForEstimation(active_channel_groups=array([1]), burst_count=1)"
      ]
     },
     "execution_count": 301,
     "metadata": {},
     "output_type": "execute_result"
    }
   ],
   "source": [
    "# base_stgs_for_est = BaseSettingForEstimation(np.array([1]), 1)\n",
    "base_stgs_for_est"
   ]
  },
  {
   "cell_type": "code",
   "execution_count": 302,
   "id": "93de3109-83b7-4682-be33-e58dd8051fd7",
   "metadata": {},
   "outputs": [],
   "source": [
    "lst = del_hex_in_list(tmp[\"data_hex\"])"
   ]
  },
  {
   "cell_type": "code",
   "execution_count": 308,
   "id": "cc7e03db-9e1b-477a-a822-6c2f61045189",
   "metadata": {},
   "outputs": [],
   "source": [
    "l = reshape_measurement_buffer(lst)"
   ]
  },
  {
   "cell_type": "code",
   "execution_count": 309,
   "id": "a667348c-bb48-4d43-8f2d-7e6e052f80b9",
   "metadata": {},
   "outputs": [
    {
     "data": {
      "text/plain": [
       "numpy.ndarray"
      ]
     },
     "execution_count": 309,
     "metadata": {},
     "output_type": "execute_result"
    }
   ],
   "source": [
    "type(l)"
   ]
  },
  {
   "cell_type": "code",
   "execution_count": 313,
   "id": "95448f41-b972-4540-a323-29f929e94665",
   "metadata": {},
   "outputs": [],
   "source": [
    "def get_channel_group_img(reshaped_measurement_buffer: np.ndarray, channel_grout: int):\n",
    "    img = np.empty((0,16))\n",
    "    for i, sf in enumerate(reshaped_measurement_buffer):\n",
    "        tmp_f = parse_single_frame(sf)\n",
    "        if tmp_f.channel_group == channel_grout:\n",
    "            tmp_f = tmp_f.__dict__\n",
    "            tmp_row = np.array([tmp_f[f\"ch_{ch_n}\"] for ch_n in range(1, 17)])\n",
    "            img = np.vstack((img, abs(tmp_row)))\n",
    "    img = np.delete(np.matrix(img), 0, axis=0)\n",
    "    print(\"Shape:\", img.shape)\n",
    "    return img"
   ]
  },
  {
   "cell_type": "code",
   "execution_count": 322,
   "id": "7f349f88-a358-4cf9-bae9-3d9ed84ca774",
   "metadata": {},
   "outputs": [
    {
     "name": "stdout",
     "output_type": "stream",
     "text": [
      "Shape: (32, 16)\n"
     ]
    },
    {
     "data": {
      "text/plain": [
       "<matplotlib.image.AxesImage at 0x7efdf2dcbd30>"
      ]
     },
     "execution_count": 322,
     "metadata": {},
     "output_type": "execute_result"
    },
    {
     "data": {
      "image/png": "[encoded data removed]",
      "text/plain": [
       "<Figure size 432x288 with 1 Axes>"
      ]
     },
     "metadata": {
      "needs_background": "light"
     },
     "output_type": "display_data"
    }
   ],
   "source": [
    "plt.imshow(get_channel_group_img(l, 1))"
   ]
  },
  {
   "cell_type": "code",
   "execution_count": null,
   "id": "b471726e-d46f-48c3-b9ea-472c6c4c6f24",
   "metadata": {},
   "outputs": [],
   "source": []
  }
 ],
 "metadata": {
  "kernelspec": {
   "display_name": "Python 3 (ipykernel)",
   "language": "python",
   "name": "python3"
  },
  "language_info": {
   "codemirror_mode": {
    "name": "ipython",
    "version": 3
   },
   "file_extension": ".py",
   "mimetype": "text/x-python",
   "name": "python",
   "nbconvert_exporter": "python",
   "pygments_lexer": "ipython3",
   "version": "3.9.12"
  }
 },
 "nbformat": 4,
 "nbformat_minor": 5
}
