{
 "cells": [
  {
   "cell_type": "code",
   "execution_count": 1,
   "id": "e3e471c4-01bb-4e9e-a2eb-8d340becddea",
   "metadata": {},
   "outputs": [],
   "source": [
    "import numpy as np"
   ]
  },
  {
   "cell_type": "code",
   "execution_count": 8,
   "id": "3348fb9e-a605-4677-8536-598c1abe052e",
   "metadata": {},
   "outputs": [
    {
     "data": {
      "text/plain": [
       "['data_hex', 'data_int']"
      ]
     },
     "execution_count": 8,
     "metadata": {},
     "output_type": "execute_result"
    }
   ],
   "source": [
    "tmp = np.load('../test_messung_burstCnt_1.npz', allow_pickle=True)\n",
    "tmp.files"
   ]
  },
  {
   "cell_type": "code",
   "execution_count": 11,
   "id": "8a0e9938-04d1-4dba-95e4-230a78de1950",
   "metadata": {},
   "outputs": [
    {
     "data": {
      "text/plain": [
       "array(['0x18', '0x1', '0x83', ..., '0x5d', '0xde', '0xb4'], dtype='<U4')"
      ]
     },
     "execution_count": 11,
     "metadata": {},
     "output_type": "execute_result"
    }
   ],
   "source": [
    "tmp['data_hex']"
   ]
  },
  {
   "cell_type": "code",
   "execution_count": 13,
   "id": "766aaa5f-95cf-4b05-bfc6-3c3de8fd99f2",
   "metadata": {},
   "outputs": [
    {
     "ename": "ValueError",
     "evalue": "invalid literal for int() with base 10: b'0x1'",
     "output_type": "error",
     "traceback": [
      "\u001b[0;31m---------------------------------------------------------------------------\u001b[0m",
      "\u001b[0;31mValueError\u001b[0m                                Traceback (most recent call last)",
      "Input \u001b[0;32mIn [13]\u001b[0m, in \u001b[0;36m<cell line: 1>\u001b[0;34m()\u001b[0m\n\u001b[0;32m----> 1\u001b[0m \u001b[38;5;28;43mint\u001b[39;49m\u001b[43m(\u001b[49m\u001b[38;5;124;43mb\u001b[39;49m\u001b[38;5;124;43m'\u001b[39;49m\u001b[38;5;124;43m0x1\u001b[39;49m\u001b[38;5;124;43m'\u001b[39;49m\u001b[43m)\u001b[49m\n",
      "\u001b[0;31mValueError\u001b[0m: invalid literal for int() with base 10: b'0x1'"
     ]
    }
   ],
   "source": [
    "int(b'0x1')"
   ]
  },
  {
   "cell_type": "code",
   "execution_count": 15,
   "id": "7d326b1b-8409-40a8-8ef5-3eb711897295",
   "metadata": {},
   "outputs": [
    {
     "data": {
      "text/plain": [
       "array([ 24,   1, 131, ...,  93, 222, 180], dtype=int32)"
      ]
     },
     "execution_count": 15,
     "metadata": {},
     "output_type": "execute_result"
    }
   ],
   "source": [
    "tmp['data_int']"
   ]
  },
  {
   "cell_type": "code",
   "execution_count": 17,
   "id": "203c3b47-12fa-4f8e-93ba-3d99e04b4aaa",
   "metadata": {},
   "outputs": [
    {
     "ename": "ValueError",
     "evalue": "invalid literal for int() with base 10: '0x18'",
     "output_type": "error",
     "traceback": [
      "\u001b[0;31m---------------------------------------------------------------------------\u001b[0m",
      "\u001b[0;31mValueError\u001b[0m                                Traceback (most recent call last)",
      "Input \u001b[0;32mIn [17]\u001b[0m, in \u001b[0;36m<cell line: 1>\u001b[0;34m()\u001b[0m\n\u001b[0;32m----> 1\u001b[0m \u001b[38;5;28;43mint\u001b[39;49m\u001b[43m(\u001b[49m\u001b[43mtmp\u001b[49m\u001b[43m[\u001b[49m\u001b[38;5;124;43m'\u001b[39;49m\u001b[38;5;124;43mdata_hex\u001b[39;49m\u001b[38;5;124;43m'\u001b[39;49m\u001b[43m]\u001b[49m\u001b[43m[\u001b[49m\u001b[38;5;241;43m0\u001b[39;49m\u001b[43m]\u001b[49m\u001b[43m)\u001b[49m\n",
      "\u001b[0;31mValueError\u001b[0m: invalid literal for int() with base 10: '0x18'"
     ]
    }
   ],
   "source": [
    "int(tmp['data_hex'][0])"
   ]
  },
  {
   "cell_type": "code",
   "execution_count": 21,
   "id": "d4a5bc43-fc76-4caf-a938-f18597f7c3fe",
   "metadata": {},
   "outputs": [
    {
     "ename": "TypeError",
     "evalue": "string argument without an encoding",
     "output_type": "error",
     "traceback": [
      "\u001b[0;31m---------------------------------------------------------------------------\u001b[0m",
      "\u001b[0;31mTypeError\u001b[0m                                 Traceback (most recent call last)",
      "Input \u001b[0;32mIn [21]\u001b[0m, in \u001b[0;36m<cell line: 1>\u001b[0;34m()\u001b[0m\n\u001b[0;32m----> 1\u001b[0m \u001b[38;5;28mint\u001b[39m\u001b[38;5;241m.\u001b[39mfrom_bytes(\u001b[38;5;28;43mbytes\u001b[39;49m\u001b[43m(\u001b[49m\u001b[43mtmp\u001b[49m\u001b[43m[\u001b[49m\u001b[38;5;124;43m'\u001b[39;49m\u001b[38;5;124;43mdata_hex\u001b[39;49m\u001b[38;5;124;43m'\u001b[39;49m\u001b[43m]\u001b[49m\u001b[43m[\u001b[49m\u001b[38;5;241;43m0\u001b[39;49m\u001b[43m]\u001b[49m\u001b[43m)\u001b[49m)\n",
      "\u001b[0;31mTypeError\u001b[0m: string argument without an encoding"
     ]
    }
   ],
   "source": [
    "int.from_bytes(bytes(tmp['data_hex'][0]))"
   ]
  },
  {
   "cell_type": "code",
   "execution_count": 28,
   "id": "bf38238c-55f8-419c-a57d-8c8b3331053a",
   "metadata": {},
   "outputs": [
    {
     "data": {
      "text/plain": [
       "'0x18'"
      ]
     },
     "execution_count": 28,
     "metadata": {},
     "output_type": "execute_result"
    }
   ],
   "source": [
    "tmp['data_hex'][0]"
   ]
  },
  {
   "cell_type": "code",
   "execution_count": null,
   "id": "b08556bd-c763-4d7d-b97f-a135932be0a7",
   "metadata": {},
   "outputs": [],
   "source": []
  }
 ],
 "metadata": {
  "kernelspec": {
   "display_name": "Python 3 (ipykernel)",
   "language": "python",
   "name": "python3"
  },
  "language_info": {
   "codemirror_mode": {
    "name": "ipython",
    "version": 3
   },
   "file_extension": ".py",
   "mimetype": "text/x-python",
   "name": "python",
   "nbconvert_exporter": "python",
   "pygments_lexer": "ipython3",
   "version": "3.9.12"
  }
 },
 "nbformat": 4,
 "nbformat_minor": 5
}
