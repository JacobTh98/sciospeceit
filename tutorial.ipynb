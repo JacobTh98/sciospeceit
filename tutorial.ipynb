{
 "cells": [
  {
   "cell_type": "markdown",
   "id": "2a4aed6d-ade7-494d-9ffe-f2c536df9ab9",
   "metadata": {},
   "source": [
    "# Import Requirements"
   ]
  },
  {
   "cell_type": "code",
   "execution_count": null,
   "id": "66e85d7c-3594-4fb0-b213-2c71d014900a",
   "metadata": {
    "tags": []
   },
   "outputs": [],
   "source": [
    "import csv\n",
    "\n",
    "import matplotlib.pyplot as plt\n",
    "import numpy as np\n",
    "import pandas as pd\n",
    "\n",
    "from sciopy import plot_mesh"
   ]
  },
  {
   "cell_type": "code",
   "execution_count": null,
   "id": "191bd60d-2f24-446a-9912-f85b94766dd4",
   "metadata": {
    "tags": []
   },
   "outputs": [],
   "source": [
    "# define load path\n",
    "lpath = \"data_csv/adj_data_csv/d_10_adj_16_csv/r_40_mm.csv\""
   ]
  },
  {
   "cell_type": "markdown",
   "id": "38dec5cd-07dd-40a6-8a52-c16530838711",
   "metadata": {},
   "source": [
    "# Load `.csv` as dictionary"
   ]
  },
  {
   "cell_type": "code",
   "execution_count": null,
   "id": "d08e6215-da02-47de-ae84-f3325d140dcc",
   "metadata": {
    "tags": []
   },
   "outputs": [],
   "source": [
    "input_file = csv.DictReader(open(lpath))"
   ]
  },
  {
   "cell_type": "code",
   "execution_count": null,
   "id": "2e28155c-6059-4b07-8bcd-dfad61589706",
   "metadata": {
    "tags": []
   },
   "outputs": [],
   "source": [
    "data_list = [ele for ele in csv.DictReader(open(lpath))]"
   ]
  },
  {
   "cell_type": "code",
   "execution_count": null,
   "id": "11174dd9-1320-49c0-a255-25de76132632",
   "metadata": {
    "tags": []
   },
   "outputs": [],
   "source": [
    "# uncomment to print data\n",
    "# print(data_list)"
   ]
  },
  {
   "cell_type": "markdown",
   "id": "9ae40bdd-3bea-4d41-bb3e-a8793732be36",
   "metadata": {},
   "source": [
    "# Load `.csv` as pandas dataframe"
   ]
  },
  {
   "cell_type": "code",
   "execution_count": null,
   "id": "59b96b1c-0c59-4e2e-8d10-265578930269",
   "metadata": {
    "tags": []
   },
   "outputs": [],
   "source": [
    "data_pd = pd.read_csv(lpath)"
   ]
  },
  {
   "cell_type": "code",
   "execution_count": null,
   "id": "7e97441e-88bc-4306-a821-000885a2dbab",
   "metadata": {
    "tags": []
   },
   "outputs": [],
   "source": [
    "# uncomment to print data\n",
    "data_pd"
   ]
  },
  {
   "cell_type": "markdown",
   "id": "57312fe6-6fa4-4f9d-a9ca-4d022207ef6e",
   "metadata": {},
   "source": [
    "# Extract Single Measurement\n",
    "\n",
    "If you load the pre-defined data set `lpath=\"adj_data/d_10_adj_16_csv/r_40_mm.csv\"` you can see that 14400 rows include 900 measurements (14400/n_el = 14400/16 = 900).\n",
    "To get the full data from one single measurement sample (`n_sample`) we have to append the 16 different injections/measurements."
   ]
  },
  {
   "cell_type": "code",
   "execution_count": null,
   "id": "04c978d0-c3ff-4a2d-bc14-20d07f6d30e9",
   "metadata": {
    "tags": []
   },
   "outputs": [],
   "source": [
    "len(data_list) / 16"
   ]
  },
  {
   "cell_type": "code",
   "execution_count": null,
   "id": "338f8d04-a405-4203-9893-ef1b0cd9e2f1",
   "metadata": {
    "tags": []
   },
   "outputs": [],
   "source": [
    "# select sample 10868\n",
    "sgl_frame = data_pd[data_pd[\"n_sample\"] == 10868]"
   ]
  },
  {
   "cell_type": "code",
   "execution_count": null,
   "id": "a278c9f8-e054-4ebe-b101-75a2bc2a7ee5",
   "metadata": {
    "tags": []
   },
   "outputs": [],
   "source": [
    "sgl_frame"
   ]
  },
  {
   "cell_type": "code",
   "execution_count": null,
   "id": "e9de3779-10c3-41ca-b302-f760c7001807",
   "metadata": {
    "tags": []
   },
   "outputs": [],
   "source": [
    "# extract only the potential data as matrix\n",
    "pot_data = np.array(sgl_frame.iloc[:, 16:], dtype=complex)"
   ]
  },
  {
   "cell_type": "code",
   "execution_count": null,
   "id": "c267f9d6-0150-4e36-8af2-96f034a4e2d3",
   "metadata": {
    "tags": []
   },
   "outputs": [],
   "source": [
    "# plot the potential matrix.\n",
    "plt.imshow(np.abs(pot_data))\n",
    "plt.show()\n",
    "# you can see the adjacent injection pattern due to the colored pixels."
   ]
  },
  {
   "cell_type": "markdown",
   "id": "219b5533-515c-48f3-b99a-75721764cf93",
   "metadata": {},
   "source": [
    "# Shape it to a potential vector"
   ]
  },
  {
   "cell_type": "code",
   "execution_count": null,
   "id": "6d91828c-0880-4d2e-bd52-eddf6a509015",
   "metadata": {
    "tags": []
   },
   "outputs": [],
   "source": [
    "p_vec = np.concatenate(np.reshape(pot_data, (16**2, 1)))"
   ]
  },
  {
   "cell_type": "code",
   "execution_count": null,
   "id": "1ffb2a0e-9407-407f-9455-2a3476e09ab0",
   "metadata": {
    "tags": []
   },
   "outputs": [],
   "source": [
    "plt.stem(np.abs(p_vec))\n",
    "plt.show()"
   ]
  },
  {
   "cell_type": "markdown",
   "id": "8515102e-9ab2-4881-bc77-9f39244381c3",
   "metadata": {
    "tags": []
   },
   "source": [
    "# Get all Indices Inside a Pandas Dataframe"
   ]
  },
  {
   "cell_type": "code",
   "execution_count": null,
   "id": "61e8d32b-41dc-4415-8bf7-c253b8b41868",
   "metadata": {
    "tags": []
   },
   "outputs": [],
   "source": [
    "idxs = np.unique(data_pd[\"n_sample\"])"
   ]
  },
  {
   "cell_type": "code",
   "execution_count": null,
   "id": "875dc4d8-ea99-46b3-a251-a7700c531378",
   "metadata": {
    "tags": []
   },
   "outputs": [],
   "source": [
    "# prints the total number of measurements inside the loaded .csv\n",
    "print(f\"total number of measurements: {len(idxs)}\")"
   ]
  },
  {
   "cell_type": "markdown",
   "id": "fcd03b0d-20c3-47e3-9c2b-2840d2773814",
   "metadata": {},
   "source": [
    "# Iterate over all indices and extract potential vector"
   ]
  },
  {
   "cell_type": "code",
   "execution_count": null,
   "id": "e6bf203d-b960-4209-9ebd-4a4c84f7195d",
   "metadata": {
    "tags": []
   },
   "outputs": [],
   "source": [
    "# create empty dictionary\n",
    "p_vec_r_40_mm = {\"idx\": [], \"phi\": [], \"p_vec\": []}  # add the parameters you need...\n",
    "\n",
    "# iterate over indices\n",
    "for idx in idxs:\n",
    "    # get single indices frame\n",
    "    sgl_frame = data_pd[data_pd[\"n_sample\"] == idx]\n",
    "    # extract potential data as matrix\n",
    "    pot_data = np.array(sgl_frame.iloc[:, 16:], dtype=complex)\n",
    "    # append p_vec\n",
    "    p_vec_r_40_mm[\"p_vec\"].append(np.concatenate(np.reshape(pot_data, (16**2, 1))))\n",
    "    # append radial position phi\n",
    "    p_vec_r_40_mm[\"phi\"].append(np.array(sgl_frame.iloc[:, 10])[0])\n",
    "    # append index\n",
    "    p_vec_r_40_mm[\"idx\"].append(idx)"
   ]
  },
  {
   "cell_type": "code",
   "execution_count": null,
   "id": "f8f6ad7b-6aa3-45af-be32-02dde009f2e9",
   "metadata": {
    "tags": []
   },
   "outputs": [],
   "source": [
    "# p_vec_r_40_mm"
   ]
  },
  {
   "cell_type": "markdown",
   "id": "37ee7f9b-dfd1-4f4d-aa9c-c60bb32a5071",
   "metadata": {},
   "source": [
    "# Load `.npz` File"
   ]
  },
  {
   "cell_type": "code",
   "execution_count": null,
   "id": "5d9f83fb-2546-4115-94e3-411820169b16",
   "metadata": {},
   "outputs": [],
   "source": [
    "tmp = np.load(\"data_npz/adj_data_npz/d_10_adj_16_npz/sample_000000.npz\", allow_pickle=True)\n",
    "tmp.files"
   ]
  },
  {
   "cell_type": "code",
   "execution_count": null,
   "id": "ed6748da-0374-4f6d-b128-6971c8067bf4",
   "metadata": {},
   "outputs": [],
   "source": [
    "plot_mesh(tmp[\"mesh\"].tolist())"
   ]
  },
  {
   "cell_type": "markdown",
   "id": "2d89e230-91b1-462c-a018-aea57dcdd2ff",
   "metadata": {},
   "source": [
    "#### Questions: `jacob.thoenes@uni-rostock.de`"
   ]
  }
 ],
 "metadata": {
  "kernelspec": {
   "display_name": "Python 3 (ipykernel)",
   "language": "python",
   "name": "python3"
  },
  "language_info": {
   "codemirror_mode": {
    "name": "ipython",
    "version": 3
   },
   "file_extension": ".py",
   "mimetype": "text/x-python",
   "name": "python",
   "nbconvert_exporter": "python",
   "pygments_lexer": "ipython3",
   "version": "3.10.6"
  }
 },
 "nbformat": 4,
 "nbformat_minor": 5
}
