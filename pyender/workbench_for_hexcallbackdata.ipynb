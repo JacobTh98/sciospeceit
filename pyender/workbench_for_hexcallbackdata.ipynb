{
 "cells": [
  {
   "cell_type": "markdown",
   "id": "3792d923-b5c2-44cc-92c5-4e88aadcc78c",
   "metadata": {},
   "source": [
    "# Serial Handling"
   ]
  },
  {
   "cell_type": "code",
   "execution_count": 1,
   "id": "c7f54154-7193-421e-9e7b-5115046fdadd",
   "metadata": {
    "vscode": {
     "languageId": "plaintext"
    }
   },
   "outputs": [],
   "source": [
    "import os\n",
    "import time\n",
    "from typing import List, Union\n",
    "\n",
    "import matplotlib.pyplot as plt\n",
    "import numpy as np\n",
    "\n",
    "from sciopy import (\n",
    "    GetFirmwareIDs,\n",
    "    StartStopMeasurement,\n",
    "    SystemMessageCallback,\n",
    "    available_serial_ports,\n",
    "    connect_COM_port,\n",
    "    del_hex_in_list,\n",
    "    parse_to_full_frame,\n",
    "    reshape_burst_buffer,\n",
    ")"
   ]
  },
  {
   "cell_type": "code",
   "execution_count": 3,
   "id": "c1c8ae08-2e98-4e05-a309-6407218ff416",
   "metadata": {},
   "outputs": [
    {
     "data": {
      "text/plain": [
       "[]"
      ]
     },
     "execution_count": 3,
     "metadata": {},
     "output_type": "execute_result"
    }
   ],
   "source": [
    "available_serial_ports()"
   ]
  },
  {
   "cell_type": "code",
   "execution_count": 140,
   "id": "6902dd1b-e74d-4cca-b51f-501bb7e2d0f4",
   "metadata": {
    "vscode": {
     "languageId": "plaintext"
    }
   },
   "outputs": [
    {
     "name": "stdout",
     "output_type": "stream",
     "text": [
      "Connection to COM3 is established.\n"
     ]
    }
   ],
   "source": [
    "ser = connect_COM_port(\"COM3\", timeout=1)"
   ]
  },
  {
   "cell_type": "code",
   "execution_count": 6,
   "id": "98dd4e8f-011d-4617-98a2-12b0e58cee12",
   "metadata": {},
   "outputs": [
    {
     "name": "stdout",
     "output_type": "stream",
     "text": [
      "Command-Acknowledge: Command has been executed successfully\n",
      "message buffer:\n",
      " ['0xd2', '0x1e', '0x1', '0x11', '0x0', '0x19', '0x0', '0xb', '0x40', '0x0', '0x9', '0x0', '0x25', '0x2', '0xc9', '0x0', '0xf', '0x1', '0x11', '0x0', '0x19', '0x0', '0xb', '0x40', '0x0', '0x9', '0x0', '0x25', '0x2', '0xc9', '0x0', '0xf', '0xd2', '0x18', '0x1', '0x83', '0x18']\n",
      "message length:\t 37\n"
     ]
    }
   ],
   "source": [
    "GetFirmwareIDs(ser)"
   ]
  },
  {
   "cell_type": "code",
   "execution_count": 7,
   "id": "600dcd91-e0b9-47b3-ab8b-f228ddccd15b",
   "metadata": {},
   "outputs": [],
   "source": [
    "from sciopy.default_configurations import configuration_01"
   ]
  },
  {
   "cell_type": "code",
   "execution_count": 9,
   "id": "108c8aee-9b06-4264-b699-064847347bd1",
   "metadata": {},
   "outputs": [
    {
     "name": "stdout",
     "output_type": "stream",
     "text": [
      "Command-Acknowledge: Command has been executed successfully\n",
      "message buffer:\n",
      " ['0x18', '0x1', '0x83', '0x18', '0x18', '0x1', '0x83', '0x18', '0x18', '0x1', '0x83', '0x18', '0x18', '0x1', '0x83', '0x18', '0x18', '0x1', '0x83', '0x18', '0x18', '0x1', '0x83', '0x18', '0x18', '0x1', '0x83', '0x18', '0x18', '0x1', '0x83', '0x18', '0x18', '0x1', '0x83', '0x18', '0x18', '0x1', '0x83', '0x18', '0x18', '0x1', '0x83', '0x18', '0x18', '0x1', '0x83', '0x18', '0x18', '0x1', '0x83', '0x18', '0x18', '0x1', '0x83', '0x18', '0x18', '0x1', '0x83', '0x18', '0x18', '0x1', '0x83', '0x18', '0x18', '0x1', '0x83', '0x18', '0x18', '0x1', '0x83', '0x18', '0x18', '0x1', '0x83', '0x18', '0x18', '0x1', '0x83', '0x18', '0x18', '0x1', '0x83', '0x18', '0x18', '0x1', '0x83', '0x18', '0x18', '0x1', '0x83', '0x18', '0x18', '0x1', '0x83', '0x18', '0x18', '0x1', '0x83', '0x18', '0x18', '0x1', '0x83', '0x18', '0x18', '0x1', '0x83', '0x18', '0x18', '0x1', '0x83', '0x18', '0x18', '0x1', '0x83', '0x18', '0x18', '0x1', '0x83', '0x18', '0x18', '0x1', '0x83', '0x18', '0x18', '0x1', '0x83', '0x18', '0x18', '0x1', '0x83', '0x18', '0x18', '0x1', '0x83', '0x18', '0x18', '0x1', '0x83', '0x18', '0x18', '0x1', '0x83', '0x18', '0x18', '0x1', '0x83', '0x18', '0x18', '0x1', '0x83', '0x18', '0x18', '0x1', '0x83', '0x18', '0x18', '0x1', '0x83', '0x18', '0x18', '0x1', '0x83', '0x18', '0xb1', '0x5', '0x3', '0x40', '0x0', '0x0', '0x0', '0xb1', '0x18', '0x1', '0x83', '0x18', '0x18', '0x1', '0x83', '0x18', '0x18', '0x1', '0x83', '0x18', '0x18', '0x1', '0x83', '0x18']\n",
      "message length:\t 188\n"
     ]
    }
   ],
   "source": [
    "configuration_01(ser)  # tbd in ender gui\n",
    "SystemMessageCallback(ser)  # tbd: repeat or print one time the acknowlegement"
   ]
  },
  {
   "cell_type": "raw",
   "id": "85bf7241-7f4c-4599-b20a-650c08adbdc4",
   "metadata": {},
   "source": [
    "cnts = np.array([1,2,10,20,40,50,100])\n",
    "\n",
    "for cnt in cnts:\n",
    "    brst_cnt = bytearray([0xB0, 0x03, 0x02, 0x00, cnt, 0xB0])\n",
    "    print(\"Burst count:\",brst_cnt[4],\"\\n\")\n",
    "    # Write burst count\n",
    "    ser.write(brst_cnt)\n",
    "    SystemMessageCallback(ser)\n",
    "\n",
    "    start_time = time.time()\n",
    "    measurement_data_hex = StartStopMeasurement(ser)\n",
    "\n",
    "    total_time = time.time() - start_time\n",
    "    print(\"--- %s seconds ---\" % (total_time))\n",
    "    np.savez(f'wrkbnch_data/brstcnt_{cnt}.npz',\n",
    "             measurement_data_hex = measurement_data_hex,\n",
    "             total_time = total_time, \n",
    "             msg_len= len(measurement_data_hex),\n",
    "            )\n",
    "    print(\"-------------------------\")\n",
    "\n",
    "SystemMessageCallback(ser)"
   ]
  },
  {
   "cell_type": "raw",
   "id": "0019a6b6-a9c3-4430-8d80-28933b00db2c",
   "metadata": {},
   "source": [
    "perf_dct = {\"total_time\": [], \"msg_len\": [], \"burst_count\": []}\n",
    "for cnt in cnts:\n",
    "    print(cnt)\n",
    "    try:\n",
    "        tmp = np.load(f\"wrkbnch_data/brstcnt_{cnt}.npz\", allow_pickle=True)\n",
    "        perf_dct[\"total_time\"].append(tmp[\"total_time\"].tolist())\n",
    "        perf_dct[\"msg_len\"].append(tmp[\"msg_len\"].tolist())\n",
    "        perf_dct[\"burst_count\"].append(cnt)\n",
    "    except:\n",
    "        print(fls, \"not readable\")"
   ]
  },
  {
   "cell_type": "raw",
   "id": "40ea4abd-8e1b-4f1c-bed7-4abb90c77a33",
   "metadata": {},
   "source": [
    "perf_dct_gui = {\"total_time\": [], \"msg_len\": [], \"burst_count\": []}\n",
    "for cnt in cnts:\n",
    "    print(cnt)\n",
    "    try:\n",
    "        tmp = np.load(f\"wrkbnch_data/gui_brstcnt_{cnt}.npz\", allow_pickle=True)\n",
    "        perf_dct_gui[\"total_time\"].append(tmp[\"total_time\"].tolist())\n",
    "        perf_dct_gui[\"msg_len\"].append(tmp[\"msg_len\"].tolist())\n",
    "        perf_dct_gui[\"burst_count\"].append(cnt)\n",
    "    except:\n",
    "        print(fls, \"not readable\")"
   ]
  },
  {
   "cell_type": "raw",
   "id": "d857d4d0-7341-46b4-af5b-23831e06595d",
   "metadata": {},
   "source": [
    "fnt = \"DejaVu Sans\"\n",
    "plt.figure(figsize=(9, 5))\n",
    "plt.grid()\n",
    "plt.title(\n",
    "    \"Speed performance estimation between direct ScioSpec burst count and\\n for-loop measurement of burst count 1 using the GUI.\",\n",
    "    font=fnt,\n",
    ")\n",
    "plt.scatter(\n",
    "    perf_dct[\"burst_count\"], perf_dct[\"total_time\"], label=\"Burst count ScioSpec\"\n",
    ")\n",
    "plt.plot(perf_dct[\"burst_count\"], perf_dct[\"total_time\"], \"-.\", linewidth=1)\n",
    "\n",
    "plt.scatter(\n",
    "    perf_dct_gui[\"burst_count\"], perf_dct_gui[\"total_time\"], label=\"For loop GUI\"\n",
    ")\n",
    "plt.plot(perf_dct_gui[\"burst_count\"], perf_dct_gui[\"total_time\"], \"-.\", linewidth=1)\n",
    "plt.xlabel(\"Burst count\", font=fnt)\n",
    "plt.ylabel(\"Time [s]\", font=fnt)\n",
    "plt.yticks(ticks=np.arange(0, 300, 30))\n",
    "# plt.plot(perf_dct['burst_count'] ,1.2*perf_dct['total_time'],'-.', linewidth=1)\n",
    "# plt.scatter(np.arange(0,100,10),np.arange(0,100,10)*2.7)\n",
    "plt.legend()\n",
    "plt.tight_layout()\n",
    "# plt.savefig('../images/perf_est_ScioSpec_burst_for_/pic_01.png', dpi=300)\n",
    "plt.show()"
   ]
  },
  {
   "cell_type": "markdown",
   "id": "5d4d645e-3a58-4155-9d96-f7b2758cc5ff",
   "metadata": {},
   "source": [
    "# Burst count  > 1 splitting"
   ]
  },
  {
   "cell_type": "code",
   "execution_count": 48,
   "id": "ee9210a8-a6b5-469d-8d45-a554fd2d3215",
   "metadata": {},
   "outputs": [
    {
     "data": {
      "text/plain": [
       "[49, 1]"
      ]
     },
     "execution_count": 48,
     "metadata": {},
     "output_type": "execute_result"
    }
   ],
   "source": [
    "def reduce_burst_to_less_x(\n",
    "    brst_cnt: Union[int, list], leq: int = 100\n",
    ") -> Union[List[int], int]:\n",
    "    \"\"\"TBD\"\"\"\n",
    "    if type(brst_cnt) == list and brst_cnt[-1] > leq:\n",
    "        rst = brst_cnt[-1] - leq\n",
    "        brst_cnt[-1] = leq\n",
    "        brst_cnt.append(rst)\n",
    "        reduce_burst_to_less_x(brst_cnt, leq)\n",
    "    if type(brst_cnt) == int and brst_cnt > leq:\n",
    "        brst_cnt = [leq, brst_cnt - leq]\n",
    "        reduce_burst_to_less_x(brst_cnt, leq)\n",
    "    return brst_cnt\n",
    "\n",
    "\n",
    "reduce_burst_to_less_x(50, 49)"
   ]
  },
  {
   "cell_type": "code",
   "execution_count": 2,
   "id": "e748fc26-2785-41b0-8a14-405d2c33416c",
   "metadata": {},
   "outputs": [],
   "source": [
    "tmp_1 = np.load(\"wrkbnch_data/brstcnt_1.npz\", allow_pickle=True)\n",
    "tmp_2 = np.load(\"wrkbnch_data/brstcnt_2.npz\", allow_pickle=True)\n",
    "tmp_10 = np.load(\"wrkbnch_data/brstcnt_10.npz\", allow_pickle=True)\n",
    "\n",
    "tmp_gui = np.load(\"wrkbnch_data/gui_brstcnt_1.npz\", allow_pickle=True)"
   ]
  },
  {
   "cell_type": "code",
   "execution_count": 3,
   "id": "a7f2bb4f-6435-4c47-8f0b-6e453b06e8a5",
   "metadata": {},
   "outputs": [
    {
     "data": {
      "text/plain": [
       "['measurement_data_hex', 'total_time', 'msg_len']"
      ]
     },
     "execution_count": 3,
     "metadata": {},
     "output_type": "execute_result"
    }
   ],
   "source": [
    "tmp_1.files"
   ]
  },
  {
   "cell_type": "code",
   "execution_count": 4,
   "id": "8748d9e1-9553-44b1-a733-c9aae6b81d50",
   "metadata": {},
   "outputs": [],
   "source": [
    "lst = tmp_1[\"measurement_data_hex\"]\n",
    "# lst = true_reshaping(lst)"
   ]
  },
  {
   "cell_type": "code",
   "execution_count": 9,
   "id": "188b0a90-7ae0-4834-9054-7d80537c864e",
   "metadata": {},
   "outputs": [],
   "source": [
    "lst = del_hex_in_list(tmp_1[\"measurement_data_hex\"])"
   ]
  },
  {
   "cell_type": "code",
   "execution_count": 10,
   "id": "ed812867-7d7a-425f-b637-beb9f2e1ca8f",
   "metadata": {},
   "outputs": [],
   "source": [
    "resh_lst = reshape_burst_buffer(lst, burst_count=1)  # len(2)\n",
    "# resh_lst"
   ]
  },
  {
   "cell_type": "code",
   "execution_count": 12,
   "id": "89aa59bd-da9c-4f48-b928-bf50cbf2bcd5",
   "metadata": {},
   "outputs": [
    {
     "ename": "IndexError",
     "evalue": "list index out of range",
     "output_type": "error",
     "traceback": [
      "\u001b[0;31m---------------------------------------------------------------------------\u001b[0m",
      "\u001b[0;31mIndexError\u001b[0m                                Traceback (most recent call last)",
      "Input \u001b[0;32mIn [12]\u001b[0m, in \u001b[0;36m<cell line: 1>\u001b[0;34m()\u001b[0m\n\u001b[0;32m----> 1\u001b[0m parse_to_full_frame(\u001b[43mresh_lst\u001b[49m\u001b[43m[\u001b[49m\u001b[38;5;241;43m1\u001b[39;49m\u001b[43m]\u001b[49m)\n",
      "\u001b[0;31mIndexError\u001b[0m: list index out of range"
     ]
    }
   ],
   "source": [
    "parse_to_full_frame(resh_lst[1])"
   ]
  },
  {
   "cell_type": "code",
   "execution_count": 43,
   "id": "d0f89288-26d4-4660-89d5-baff6d0c0c0e",
   "metadata": {},
   "outputs": [
    {
     "name": "stdout",
     "output_type": "stream",
     "text": [
      "(128, 140)\n",
      "(128, 140)\n",
      "(128, 140)\n",
      "(128, 140)\n",
      "(128, 140)\n",
      "(128, 140)\n",
      "(128, 140)\n",
      "(128, 140)\n",
      "(128, 140)\n",
      "(128, 140)\n"
     ]
    }
   ],
   "source": [
    "for lsts in resh_lst:\n",
    "    print(lsts.shape)"
   ]
  },
  {
   "cell_type": "code",
   "execution_count": 29,
   "id": "5a0957ae-252e-45fc-9c72-ed3b1d135c8a",
   "metadata": {},
   "outputs": [],
   "source": [
    "from dataclasses import dataclass\n",
    "\n",
    "\n",
    "@dataclass\n",
    "class SingleFrame:\n",
    "    start_tag: List[str]\n",
    "    channel_group: str\n",
    "    excitation_stgs: List[str]\n",
    "    frequency_row: List[str]\n",
    "    timestamp: int  # [ms]\n",
    "    ch_1: complex\n",
    "    ch_2: complex\n",
    "    ch_3: complex\n",
    "    ch_4: complex\n",
    "    ch_5: complex\n",
    "    ch_6: complex\n",
    "    ch_7: complex\n",
    "    ch_8: complex\n",
    "    ch_9: complex\n",
    "    ch_10: complex\n",
    "    ch_11: complex\n",
    "    ch_12: complex\n",
    "    ch_13: complex\n",
    "    ch_14: complex\n",
    "    ch_15: complex\n",
    "    ch_16: complex\n",
    "    end_tag: str\n",
    "\n",
    "\n",
    "def bytesarray_to_float(bytes_array: np.ndarray) -> float:\n",
    "    bytes_array = [int(b, 16) for b in bytes_array]\n",
    "    bytes_array = bytes(bytes_array)\n",
    "    return struct.unpack(\"!f\", bytes(bytes_array))[0]\n",
    "\n",
    "\n",
    "def parse_single_frame(lst_ele: np.ndarray) -> SingleFrame:\n",
    "    channels = {}\n",
    "    enum = 0\n",
    "    for i in range(11, 135, 8):\n",
    "        enum += 1\n",
    "        channels[f\"ch_{enum}\"] = complex(\n",
    "            bytesarray_to_float(lst_ele[i : i + 4]),\n",
    "            bytesarray_to_float(lst_ele[i + 4 : i + 8]),\n",
    "        )\n",
    "\n",
    "    excitation_stgs = np.array([ele for ele in lst_ele[3:5]])\n",
    "\n",
    "    sgl_frm = SingleFrame(\n",
    "        start_tag=lst_ele[0],\n",
    "        channel_group=int(lst_ele[2]),\n",
    "        excitation_stgs=excitation_stgs,\n",
    "        frequency_row=lst_ele[5:7],\n",
    "        timestamp=bytesarray_to_int(lst_ele[7:11]),\n",
    "        **channels,\n",
    "        end_tag=lst_ele[139],\n",
    "    )\n",
    "    return sgl_frm"
   ]
  },
  {
   "cell_type": "code",
   "execution_count": 50,
   "id": "627f44c7-65a6-422b-a438-d092104e86a1",
   "metadata": {},
   "outputs": [
    {
     "data": {
      "text/plain": [
       "128"
      ]
     },
     "execution_count": 50,
     "metadata": {},
     "output_type": "execute_result"
    }
   ],
   "source": [
    "resh_lst[0].shape[0]"
   ]
  },
  {
   "cell_type": "code",
   "execution_count": 60,
   "id": "f273bb70-1767-4cb9-b2d7-083ac3d7f8c9",
   "metadata": {},
   "outputs": [],
   "source": [
    "def delete_hex_notation(reshaped_lst: list) -> list:\n",
    "    \"\"\"TBD\"\"\"\n",
    "    for idx, arr in enumerate(reshaped_lst):\n",
    "        for x in range(reshaped_lst[idx].shape[0]):\n",
    "            for y in range(reshaped_lst[idx].shape[1]):\n",
    "                reshaped_lst[idx][x, y].replace(\"0x\", \" \")\n",
    "    return reshaped_lst"
   ]
  },
  {
   "cell_type": "code",
   "execution_count": 61,
   "id": "0c57404b-cf65-43c2-99a6-9853a8637321",
   "metadata": {},
   "outputs": [
    {
     "name": "stdout",
     "output_type": "stream",
     "text": [
      "0\n",
      "(128, 140)\n",
      "1\n",
      "(128, 140)\n"
     ]
    },
    {
     "data": {
      "text/plain": [
       "[array([['0xb4', '0x89', '0x1', ..., '0x70', '0xfa', '0xb4'],\n",
       "        ['0xb4', '0x89', '0x2', ..., '0x5d', '0xde', '0xb4'],\n",
       "        ['0xb4', '0x89', '0x3', ..., '0x5d', '0xde', '0xb4'],\n",
       "        ...,\n",
       "        ['0xb4', '0x89', '0x2', ..., '0xbf', '0x72', '0xb4'],\n",
       "        ['0xb4', '0x89', '0x3', ..., '0x5d', '0xde', '0xb4'],\n",
       "        ['0xb4', '0x89', '0x4', ..., '0x5d', '0xde', '0xb4']], dtype='<U4'),\n",
       " array([['0xb4', '0x89', '0x1', ..., '0x73', '0xc3', '0xb4'],\n",
       "        ['0xb4', '0x89', '0x2', ..., '0x5f', '0xcd', '0xb4'],\n",
       "        ['0xb4', '0x89', '0x3', ..., '0x5d', '0xde', '0xb4'],\n",
       "        ...,\n",
       "        ['0xb4', '0x89', '0x2', ..., '0xca', '0x51', '0xb4'],\n",
       "        ['0xb4', '0x89', '0x3', ..., '0x5d', '0xde', '0xb4'],\n",
       "        ['0xb4', '0x89', '0x4', ..., '0x5d', '0xde', '0xb4']], dtype='<U4')]"
      ]
     },
     "execution_count": 61,
     "metadata": {},
     "output_type": "execute_result"
    }
   ],
   "source": [
    "delete_hex_notation(resh_lst)"
   ]
  },
  {
   "cell_type": "code",
   "execution_count": 55,
   "id": "f3b9292f-81a1-4fc7-883c-001281dcc833",
   "metadata": {},
   "outputs": [
    {
     "data": {
      "text/plain": [
       "4480.0"
      ]
     },
     "execution_count": 55,
     "metadata": {},
     "output_type": "execute_result"
    }
   ],
   "source": [
    "(128 * 140) / 4"
   ]
  },
  {
   "cell_type": "markdown",
   "id": "2564934b-1545-47de-960e-ae4deea8c657",
   "metadata": {},
   "source": [
    "# Hexcallback"
   ]
  },
  {
   "cell_type": "code",
   "execution_count": 131,
   "id": "e3e471c4-01bb-4e9e-a2eb-8d340becddea",
   "metadata": {},
   "outputs": [],
   "source": [
    "import struct\n",
    "from dataclasses import dataclass\n",
    "from typing import List, Tuple, Union\n",
    "\n",
    "import matplotlib.pyplot as plt\n",
    "import numpy as np"
   ]
  },
  {
   "cell_type": "code",
   "execution_count": 184,
   "id": "7360d0b8-aa0d-4102-a565-75b28cf71345",
   "metadata": {},
   "outputs": [],
   "source": [
    "def del_hex_in_list(lst: list) -> list:\n",
    "    return [\n",
    "        \"0\" + ele.replace(\"0x\", \"\") if len(ele) == 1 else ele.replace(\"0x\", \"\")\n",
    "        for ele in lst\n",
    "    ]\n",
    "\n",
    "\n",
    "def bytesarray_to_float(bytes_array: np.ndarray) -> float:\n",
    "    bytes_array = [int(b, 16) for b in bytes_array]\n",
    "    bytes_array = bytes(bytes_array)\n",
    "    return struct.unpack(\"!f\", bytes(bytes_array))[0]\n",
    "\n",
    "\n",
    "def bytesarray_to_int(bytes_array: np.ndarray) -> int:\n",
    "    bytes_array = bytesarray_to_byteslist(bytes_array)\n",
    "    return int.from_bytes(bytes_array, \"big\")\n",
    "\n",
    "\n",
    "def bytesarray_to_byteslist(bytes_array: np.ndarray) -> list:\n",
    "    bytes_array = [int(b, 16) for b in bytes_array]\n",
    "    return bytes(bytes_array)\n",
    "\n",
    "\n",
    "def reshape_measurement_buffer(lst: list) -> np.ndarray:\n",
    "    \"\"\"False\"\"\"\n",
    "    idx_b4 = [i for i, ele in enumerate(lst) if ele == \"b4\"]\n",
    "    idx_b4 = np.array(idx_b4)\n",
    "    step = abs(idx_b4[1] - idx_b4[0]) + 1\n",
    "    print(\"FALSE\")\n",
    "    return np.array(\n",
    "        [lst[i : i + step] for i in range(idx_b4[0], idx_b4[-1] + step, step)],\n",
    "        dtype=list,\n",
    "    )[:-1]\n",
    "\n",
    "\n",
    "@dataclass\n",
    "class BaseSettingForEstimation:\n",
    "    active_channel_groups: np.ndarray\n",
    "    burst_count: int\n",
    "\n",
    "\n",
    "@dataclass\n",
    "class SingleFrame:\n",
    "    start_tag: List[str]\n",
    "    channel_group: str\n",
    "    excitation_stgs: List[str]\n",
    "    frequency_row: List[str]\n",
    "    timestamp: int  # [ms]\n",
    "    ch_1: complex\n",
    "    ch_2: complex\n",
    "    ch_3: complex\n",
    "    ch_4: complex\n",
    "    ch_5: complex\n",
    "    ch_6: complex\n",
    "    ch_7: complex\n",
    "    ch_8: complex\n",
    "    ch_9: complex\n",
    "    ch_10: complex\n",
    "    ch_11: complex\n",
    "    ch_12: complex\n",
    "    ch_13: complex\n",
    "    ch_14: complex\n",
    "    ch_15: complex\n",
    "    ch_16: complex\n",
    "    end_tag: str\n",
    "\n",
    "\n",
    "def parse_single_frame(lst_ele: np.ndarray) -> SingleFrame:\n",
    "    channels = {}\n",
    "    enum = 0\n",
    "    for i in range(11, 135, 8):\n",
    "        enum += 1\n",
    "        channels[f\"ch_{enum}\"] = complex(\n",
    "            bytesarray_to_float(lst_ele[i : i + 4]),\n",
    "            bytesarray_to_float(lst_ele[i + 4 : i + 8]),\n",
    "        )\n",
    "\n",
    "    excitation_stgs = np.array([ele for ele in lst_ele[3:5]])\n",
    "\n",
    "    sgl_frm = SingleFrame(\n",
    "        start_tag=lst_ele[0],\n",
    "        channel_group=int(lst_ele[2]),\n",
    "        excitation_stgs=excitation_stgs,\n",
    "        frequency_row=lst_ele[5:7],\n",
    "        timestamp=bytesarray_to_int(lst_ele[7:11]),\n",
    "        **channels,\n",
    "        end_tag=lst_ele[139],\n",
    "    )\n",
    "    return sgl_frm"
   ]
  },
  {
   "cell_type": "code",
   "execution_count": 143,
   "id": "8740ed88-22c8-4f19-ab03-1061c65bd8af",
   "metadata": {},
   "outputs": [],
   "source": [
    "# base_stgs_for_est = BaseSettingForEstimation(np.array([1]), 1)\n",
    "# base_stgs_for_est\n",
    "from sciopy.sciopy_dataclasses import ScioSpecMeasurementConfig"
   ]
  },
  {
   "cell_type": "code",
   "execution_count": 135,
   "id": "5da75aa2-e6e0-4a07-b049-4d1ceb0664f0",
   "metadata": {},
   "outputs": [
    {
     "ename": "FileNotFoundError",
     "evalue": "[Errno 2] No such file or directory: 'tmp_data/sample_000000.npz'",
     "output_type": "error",
     "traceback": [
      "\u001b[0;31m---------------------------------------------------------------------------\u001b[0m",
      "\u001b[0;31mFileNotFoundError\u001b[0m                         Traceback (most recent call last)",
      "Input \u001b[0;32mIn [135]\u001b[0m, in \u001b[0;36m<cell line: 1>\u001b[0;34m()\u001b[0m\n\u001b[0;32m----> 1\u001b[0m measurement_data \u001b[38;5;241m=\u001b[39m \u001b[43mnp\u001b[49m\u001b[38;5;241;43m.\u001b[39;49m\u001b[43mload\u001b[49m\u001b[43m(\u001b[49m\u001b[38;5;124;43m\"\u001b[39;49m\u001b[38;5;124;43mtmp_data/sample_000000.npz\u001b[39;49m\u001b[38;5;124;43m\"\u001b[39;49m\u001b[43m,\u001b[49m\u001b[43m \u001b[49m\u001b[43mallow_pickle\u001b[49m\u001b[38;5;241;43m=\u001b[39;49m\u001b[38;5;28;43;01mTrue\u001b[39;49;00m\u001b[43m)\u001b[49m\n\u001b[1;32m      2\u001b[0m measurement_data\u001b[38;5;241m.\u001b[39mfiles\n",
      "File \u001b[0;32m~/anaconda3/lib/python3.9/site-packages/numpy/lib/npyio.py:407\u001b[0m, in \u001b[0;36mload\u001b[0;34m(file, mmap_mode, allow_pickle, fix_imports, encoding)\u001b[0m\n\u001b[1;32m    405\u001b[0m     own_fid \u001b[38;5;241m=\u001b[39m \u001b[38;5;28;01mFalse\u001b[39;00m\n\u001b[1;32m    406\u001b[0m \u001b[38;5;28;01melse\u001b[39;00m:\n\u001b[0;32m--> 407\u001b[0m     fid \u001b[38;5;241m=\u001b[39m stack\u001b[38;5;241m.\u001b[39menter_context(\u001b[38;5;28;43mopen\u001b[39;49m\u001b[43m(\u001b[49m\u001b[43mos_fspath\u001b[49m\u001b[43m(\u001b[49m\u001b[43mfile\u001b[49m\u001b[43m)\u001b[49m\u001b[43m,\u001b[49m\u001b[43m \u001b[49m\u001b[38;5;124;43m\"\u001b[39;49m\u001b[38;5;124;43mrb\u001b[39;49m\u001b[38;5;124;43m\"\u001b[39;49m\u001b[43m)\u001b[49m)\n\u001b[1;32m    408\u001b[0m     own_fid \u001b[38;5;241m=\u001b[39m \u001b[38;5;28;01mTrue\u001b[39;00m\n\u001b[1;32m    410\u001b[0m \u001b[38;5;66;03m# Code to distinguish from NumPy binary files and pickles.\u001b[39;00m\n",
      "\u001b[0;31mFileNotFoundError\u001b[0m: [Errno 2] No such file or directory: 'tmp_data/sample_000000.npz'"
     ]
    }
   ],
   "source": [
    "measurement_data = np.load(\"tmp_data/sample_000000.npz\", allow_pickle=True)\n",
    "measurement_data.files"
   ]
  },
  {
   "cell_type": "code",
   "execution_count": 11,
   "id": "10f3cb4b-fb47-4f2a-a056-bdfeffba4397",
   "metadata": {},
   "outputs": [],
   "source": [
    "# measurement_data['data'][0]"
   ]
  },
  {
   "cell_type": "code",
   "execution_count": 13,
   "id": "c23467cf-0352-4859-9eae-23f7322c6353",
   "metadata": {},
   "outputs": [
    {
     "data": {
      "text/plain": [
       "SingleFrame(start_tag='b4', channel_group=1, excitation_stgs=array(['1', '2'], dtype='<U1'), frequency_row=['0', '0'], timestamp=0, ch_1=(1.2251087427139282-0.3391319215297699j), ch_2=(-1.224099040031433+0.3421427309513092j), ch_3=(-0.06761793792247772-0.06170428544282913j), ch_4=(-0.008094284683465958-0.009728801436722279j), ch_5=(0.000978139229118824-4.024095323984511e-05j), ch_6=(3.0159530069795437e-05-0.00040526792872697115j), ch_7=(0.00041833764407783747+4.4160933612147346e-05j), ch_8=(-0.00011541175626916811-0.0005447313887998462j), ch_9=(-0.0007664732984267175-0.0011936132796108723j), ch_10=(0.0006124393548816442+0.0002588862262200564j), ch_11=(-0.000496247666887939-0.00100342882797122j), ch_12=(0.0005513371434062719+3.0604478524765e-05j), ch_13=(-0.0010232159402221441-0.0014807317638769746j), ch_14=(-0.00011219223233638331-0.0005662826588377357j), ch_15=(0.0008729307446628809+0.0005239679594524205j), ch_16=(0.001715516671538353+0.0013162072282284498j), end_tag='b4')"
      ]
     },
     "execution_count": 13,
     "metadata": {},
     "output_type": "execute_result"
    }
   ],
   "source": [
    "parse_single_frame(measurement_data[\"data\"][0])"
   ]
  },
  {
   "cell_type": "code",
   "execution_count": 28,
   "id": "efd3005a-2ad9-4b4c-bd6c-9ca5c607cf8a",
   "metadata": {},
   "outputs": [],
   "source": [
    "def parse_to_full_frame(measurement_data: np.ndarray) -> np.ndarray:\n",
    "    \"\"\"Parses any measured byte representation into the dataclass SingleFrame\"\"\"\n",
    "    data_frame = []\n",
    "    for i, sf in enumerate(measurement_data):\n",
    "        data_frame.append(parse_single_frame(sf))\n",
    "    return np.array(data_frame)"
   ]
  },
  {
   "cell_type": "code",
   "execution_count": 29,
   "id": "225d6431-0435-431e-a259-1270a6d3b439",
   "metadata": {},
   "outputs": [
    {
     "data": {
      "text/plain": [
       "\u001b[1;31mSignature:\u001b[0m \u001b[0mparse_to_full_frame\u001b[0m\u001b[1;33m(\u001b[0m\u001b[0mmeasurement_data\u001b[0m\u001b[1;33m:\u001b[0m \u001b[0mnumpy\u001b[0m\u001b[1;33m.\u001b[0m\u001b[0mndarray\u001b[0m\u001b[1;33m)\u001b[0m \u001b[1;33m->\u001b[0m \u001b[0mnumpy\u001b[0m\u001b[1;33m.\u001b[0m\u001b[0mndarray\u001b[0m\u001b[1;33m\u001b[0m\u001b[1;33m\u001b[0m\u001b[0m\n",
       "\u001b[1;31mDocstring:\u001b[0m <no docstring>\n",
       "\u001b[1;31mFile:\u001b[0m      c:\\users\\sciospeceit\\appdata\\local\\temp\\ipykernel_3516\\1481531900.py\n",
       "\u001b[1;31mType:\u001b[0m      function\n"
      ]
     },
     "metadata": {},
     "output_type": "display_data"
    }
   ],
   "source": [
    "parse_to_full_frame?"
   ]
  },
  {
   "cell_type": "code",
   "execution_count": 33,
   "id": "530a9ad7-5fe2-4656-896d-95caa9f7f325",
   "metadata": {},
   "outputs": [
    {
     "data": {
      "text/plain": [
       "__main__.SingleFrame"
      ]
     },
     "execution_count": 33,
     "metadata": {},
     "output_type": "execute_result"
    }
   ],
   "source": [
    "type(parse_to_full_frame(measurement_data[\"data\"])[0])"
   ]
  },
  {
   "cell_type": "code",
   "execution_count": 7,
   "id": "95448f41-b972-4540-a323-29f929e94665",
   "metadata": {},
   "outputs": [],
   "source": [
    "def get_channel_group_img(reshaped_measurement_buffer: np.ndarray, channel_group: int):\n",
    "    img = np.empty((0, 16))\n",
    "    for i, sf in enumerate(reshaped_measurement_buffer):\n",
    "        tmp_f = parse_single_frame(sf)\n",
    "        if tmp_f.channel_group == channel_group:\n",
    "            tmp_f = tmp_f.__dict__\n",
    "            tmp_row = np.array([tmp_f[f\"ch_{ch_n}\"] for ch_n in range(1, 17)])\n",
    "            img = np.vstack((img, abs(tmp_row)))\n",
    "    img = np.delete(np.matrix(img), 0, axis=0)\n",
    "    print(\"Shape:\", img.shape)\n",
    "    return img"
   ]
  },
  {
   "cell_type": "code",
   "execution_count": 8,
   "id": "7f349f88-a358-4cf9-bae9-3d9ed84ca774",
   "metadata": {},
   "outputs": [
    {
     "ename": "error",
     "evalue": "unpack requires a buffer of 4 bytes",
     "output_type": "error",
     "traceback": [
      "\u001b[1;31m---------------------------------------------------------------------------\u001b[0m",
      "\u001b[1;31merror\u001b[0m                                     Traceback (most recent call last)",
      "\u001b[1;32m~\\AppData\\Local\\Temp\\ipykernel_3516\\819308903.py\u001b[0m in \u001b[0;36m<module>\u001b[1;34m\u001b[0m\n\u001b[1;32m----> 1\u001b[1;33m \u001b[0mplt\u001b[0m\u001b[1;33m.\u001b[0m\u001b[0mimshow\u001b[0m\u001b[1;33m(\u001b[0m\u001b[0mget_channel_group_img\u001b[0m\u001b[1;33m(\u001b[0m\u001b[0mmeasurement_data\u001b[0m\u001b[1;33m,\u001b[0m \u001b[1;36m1\u001b[0m\u001b[1;33m)\u001b[0m\u001b[1;33m)\u001b[0m\u001b[1;33m\u001b[0m\u001b[1;33m\u001b[0m\u001b[0m\n\u001b[0m",
      "\u001b[1;32m~\\AppData\\Local\\Temp\\ipykernel_3516\\1829772183.py\u001b[0m in \u001b[0;36mget_channel_group_img\u001b[1;34m(reshaped_measurement_buffer, channel_group)\u001b[0m\n\u001b[0;32m      2\u001b[0m     \u001b[0mimg\u001b[0m \u001b[1;33m=\u001b[0m \u001b[0mnp\u001b[0m\u001b[1;33m.\u001b[0m\u001b[0mempty\u001b[0m\u001b[1;33m(\u001b[0m\u001b[1;33m(\u001b[0m\u001b[1;36m0\u001b[0m\u001b[1;33m,\u001b[0m \u001b[1;36m16\u001b[0m\u001b[1;33m)\u001b[0m\u001b[1;33m)\u001b[0m\u001b[1;33m\u001b[0m\u001b[1;33m\u001b[0m\u001b[0m\n\u001b[0;32m      3\u001b[0m     \u001b[1;32mfor\u001b[0m \u001b[0mi\u001b[0m\u001b[1;33m,\u001b[0m \u001b[0msf\u001b[0m \u001b[1;32min\u001b[0m \u001b[0menumerate\u001b[0m\u001b[1;33m(\u001b[0m\u001b[0mreshaped_measurement_buffer\u001b[0m\u001b[1;33m)\u001b[0m\u001b[1;33m:\u001b[0m\u001b[1;33m\u001b[0m\u001b[1;33m\u001b[0m\u001b[0m\n\u001b[1;32m----> 4\u001b[1;33m         \u001b[0mtmp_f\u001b[0m \u001b[1;33m=\u001b[0m \u001b[0mparse_single_frame\u001b[0m\u001b[1;33m(\u001b[0m\u001b[0msf\u001b[0m\u001b[1;33m)\u001b[0m\u001b[1;33m\u001b[0m\u001b[1;33m\u001b[0m\u001b[0m\n\u001b[0m\u001b[0;32m      5\u001b[0m         \u001b[1;32mif\u001b[0m \u001b[0mtmp_f\u001b[0m\u001b[1;33m.\u001b[0m\u001b[0mchannel_group\u001b[0m \u001b[1;33m==\u001b[0m \u001b[0mchannel_group\u001b[0m\u001b[1;33m:\u001b[0m\u001b[1;33m\u001b[0m\u001b[1;33m\u001b[0m\u001b[0m\n\u001b[0;32m      6\u001b[0m             \u001b[0mtmp_f\u001b[0m \u001b[1;33m=\u001b[0m \u001b[0mtmp_f\u001b[0m\u001b[1;33m.\u001b[0m\u001b[0m__dict__\u001b[0m\u001b[1;33m\u001b[0m\u001b[1;33m\u001b[0m\u001b[0m\n",
      "\u001b[1;32m~\\AppData\\Local\\Temp\\ipykernel_3516\\3147819937.py\u001b[0m in \u001b[0;36mparse_single_frame\u001b[1;34m(lst_ele)\u001b[0m\n\u001b[0;32m     70\u001b[0m         \u001b[0menum\u001b[0m \u001b[1;33m+=\u001b[0m \u001b[1;36m1\u001b[0m\u001b[1;33m\u001b[0m\u001b[1;33m\u001b[0m\u001b[0m\n\u001b[0;32m     71\u001b[0m         channels[f\"ch_{enum}\"] = complex(\n\u001b[1;32m---> 72\u001b[1;33m             \u001b[0mbytesarray_to_float\u001b[0m\u001b[1;33m(\u001b[0m\u001b[0mlst_ele\u001b[0m\u001b[1;33m[\u001b[0m\u001b[0mi\u001b[0m \u001b[1;33m:\u001b[0m \u001b[0mi\u001b[0m \u001b[1;33m+\u001b[0m \u001b[1;36m4\u001b[0m\u001b[1;33m]\u001b[0m\u001b[1;33m)\u001b[0m\u001b[1;33m,\u001b[0m\u001b[1;33m\u001b[0m\u001b[1;33m\u001b[0m\u001b[0m\n\u001b[0m\u001b[0;32m     73\u001b[0m             \u001b[0mbytesarray_to_float\u001b[0m\u001b[1;33m(\u001b[0m\u001b[0mlst_ele\u001b[0m\u001b[1;33m[\u001b[0m\u001b[0mi\u001b[0m \u001b[1;33m+\u001b[0m \u001b[1;36m4\u001b[0m \u001b[1;33m:\u001b[0m \u001b[0mi\u001b[0m \u001b[1;33m+\u001b[0m \u001b[1;36m8\u001b[0m\u001b[1;33m]\u001b[0m\u001b[1;33m)\u001b[0m\u001b[1;33m,\u001b[0m\u001b[1;33m\u001b[0m\u001b[1;33m\u001b[0m\u001b[0m\n\u001b[0;32m     74\u001b[0m         )\n",
      "\u001b[1;32m~\\AppData\\Local\\Temp\\ipykernel_3516\\3147819937.py\u001b[0m in \u001b[0;36mbytesarray_to_float\u001b[1;34m(bytes_array)\u001b[0m\n\u001b[0;32m      9\u001b[0m     \u001b[0mbytes_array\u001b[0m \u001b[1;33m=\u001b[0m \u001b[1;33m[\u001b[0m\u001b[0mint\u001b[0m\u001b[1;33m(\u001b[0m\u001b[0mb\u001b[0m\u001b[1;33m,\u001b[0m \u001b[1;36m16\u001b[0m\u001b[1;33m)\u001b[0m \u001b[1;32mfor\u001b[0m \u001b[0mb\u001b[0m \u001b[1;32min\u001b[0m \u001b[0mbytes_array\u001b[0m\u001b[1;33m]\u001b[0m\u001b[1;33m\u001b[0m\u001b[1;33m\u001b[0m\u001b[0m\n\u001b[0;32m     10\u001b[0m     \u001b[0mbytes_array\u001b[0m \u001b[1;33m=\u001b[0m \u001b[0mbytes\u001b[0m\u001b[1;33m(\u001b[0m\u001b[0mbytes_array\u001b[0m\u001b[1;33m)\u001b[0m\u001b[1;33m\u001b[0m\u001b[1;33m\u001b[0m\u001b[0m\n\u001b[1;32m---> 11\u001b[1;33m     \u001b[1;32mreturn\u001b[0m \u001b[0mstruct\u001b[0m\u001b[1;33m.\u001b[0m\u001b[0munpack\u001b[0m\u001b[1;33m(\u001b[0m\u001b[1;34m\"!f\"\u001b[0m\u001b[1;33m,\u001b[0m \u001b[0mbytes\u001b[0m\u001b[1;33m(\u001b[0m\u001b[0mbytes_array\u001b[0m\u001b[1;33m)\u001b[0m\u001b[1;33m)\u001b[0m\u001b[1;33m[\u001b[0m\u001b[1;36m0\u001b[0m\u001b[1;33m]\u001b[0m\u001b[1;33m\u001b[0m\u001b[1;33m\u001b[0m\u001b[0m\n\u001b[0m\u001b[0;32m     12\u001b[0m \u001b[1;33m\u001b[0m\u001b[0m\n\u001b[0;32m     13\u001b[0m \u001b[1;33m\u001b[0m\u001b[0m\n",
      "\u001b[1;31merror\u001b[0m: unpack requires a buffer of 4 bytes"
     ]
    }
   ],
   "source": [
    "plt.imshow(get_channel_group_img(measurement_data, 1))"
   ]
  },
  {
   "cell_type": "markdown",
   "id": "3c505cc3-c4a8-4205-bd9f-a4760d25fafc",
   "metadata": {},
   "source": [
    "# Save data to pickle"
   ]
  },
  {
   "cell_type": "code",
   "execution_count": 25,
   "id": "93807698-380c-4a7a-835c-c97f4757a8b5",
   "metadata": {},
   "outputs": [],
   "source": [
    "import os\n",
    "import pickle\n",
    "from typing import Union\n",
    "\n",
    "from ender_sciospec_classes import CircleDrivePattern, KartesianDrivePattern\n",
    "from sciopy.sciopy_dataclasses import ScioSpecMeasurementConfig\n",
    "\n",
    "\n",
    "def split_pickle_to_classes(\n",
    "    pkl_data: list,\n",
    ") -> Union[ScioSpecMeasurementConfig, CircleDrivePattern, KartesianDrivePattern]:\n",
    "\n",
    "    return pkl_data[0], pkl_data[1], pkl_data[2]"
   ]
  },
  {
   "cell_type": "code",
   "execution_count": null,
   "id": "f33d1d96-6c46-4218-880e-4ee7eae69de9",
   "metadata": {},
   "outputs": [],
   "source": [
    "# os.remove('meas_cnf.pkl')"
   ]
  },
  {
   "cell_type": "code",
   "execution_count": null,
   "id": "a42244e2-ce72-4dd8-9386-693ffe88c105",
   "metadata": {},
   "outputs": [],
   "source": [
    "with open(\"meas_cnf.pkl\", \"rb\") as f:\n",
    "    meas_cnf = pickle.load(f)"
   ]
  },
  {
   "cell_type": "code",
   "execution_count": null,
   "id": "165d49ea-5f24-4a14-86db-6f1756b432fd",
   "metadata": {},
   "outputs": [],
   "source": [
    "(\n",
    "    scio_spec_measurement_config,\n",
    "    circledrivepattern,\n",
    "    kartesiandrivepattern,\n",
    ") = split_pickle_to_classes(meas_cnf)"
   ]
  },
  {
   "cell_type": "code",
   "execution_count": null,
   "id": "40657b44-ddf5-4268-87c0-f37966907887",
   "metadata": {},
   "outputs": [
    {
     "data": {
      "text/plain": [
       "ScioSpecMeasurementConfig(com_port='COM3', sample_per_step=10, actual_sample=0, s_path='tmp_data/', object='circle')"
      ]
     },
     "execution_count": 39,
     "metadata": {},
     "output_type": "execute_result"
    }
   ],
   "source": [
    "scio_spec_measurement_config"
   ]
  },
  {
   "cell_type": "code",
   "execution_count": null,
   "id": "6925b5ff-4963-4eba-92c1-b1cbb082fb13",
   "metadata": {},
   "outputs": [
    {
     "data": {
      "text/plain": [
       "CircleDrivePattern(active=True, wait_at_pos=1, radius=100, phi_steps=45, abs_x_posis=array([280.        , 250.71067812, 180.        , 109.28932188,\n",
       "        80.        , 109.28932188, 180.        , 250.71067812]), abs_y_posis=array([180.        , 250.71067812, 280.        , 250.71067812,\n",
       "       180.        , 109.28932188,  80.        , 109.28932188]), abs_z_posis=0, motion_speed=1500, n_points=0, actual_point=0)"
      ]
     },
     "execution_count": 40,
     "metadata": {},
     "output_type": "execute_result"
    }
   ],
   "source": [
    "circledrivepattern"
   ]
  },
  {
   "cell_type": "code",
   "execution_count": null,
   "id": "2e54227c-8cdb-4dae-9bc4-07fe44f1e875",
   "metadata": {},
   "outputs": [
    {
     "data": {
      "text/plain": [
       "KartesianDrivePattern(active=False, wait_at_pos=1, motion_speed=1500, x_start=160, y_start=160, x_stop=180, y_stop=180, x_stp_num=10, y_stp_num=10, abs_x_posis=array([0.]), abs_y_posis=array([0.]), abs_z_posis=array([0.]), n_points=0, actual_point=0)"
      ]
     },
     "execution_count": 41,
     "metadata": {},
     "output_type": "execute_result"
    }
   ],
   "source": [
    "kartesiandrivepattern"
   ]
  },
  {
   "cell_type": "code",
   "execution_count": null,
   "id": "a3ea78bb-9428-43f3-bfc9-d8d757eeb124",
   "metadata": {},
   "outputs": [],
   "source": [
    "import time"
   ]
  },
  {
   "cell_type": "markdown",
   "id": "7f10813b-2228-4a64-9cb8-c4d8f5649a64",
   "metadata": {},
   "source": [
    "# Control saved data"
   ]
  },
  {
   "cell_type": "code",
   "execution_count": 2,
   "id": "048d877d-22e5-4fbc-a866-9a98e16755f8",
   "metadata": {},
   "outputs": [
    {
     "data": {
      "text/plain": [
       "['config', 'data', 'enderstat', 'circledrivepattern', 'kartesiandrivepattern']"
      ]
     },
     "execution_count": 2,
     "metadata": {},
     "output_type": "execute_result"
    }
   ],
   "source": [
    "import numpy as np\n",
    "\n",
    "measurement_data = np.load(\"tmp_data/sample_000000.npz\", allow_pickle=True)\n",
    "measurement_data.files"
   ]
  },
  {
   "cell_type": "code",
   "execution_count": null,
   "id": "1926dd9f-4ffd-4e32-8a2b-bd9d5c62d00a",
   "metadata": {},
   "outputs": [],
   "source": []
  }
 ],
 "metadata": {
  "kernelspec": {
   "display_name": "Python 3 (ipykernel)",
   "language": "python",
   "name": "python3"
  },
  "language_info": {
   "codemirror_mode": {
    "name": "ipython",
    "version": 3
   },
   "file_extension": ".py",
   "mimetype": "text/x-python",
   "name": "python",
   "nbconvert_exporter": "python",
   "pygments_lexer": "ipython3",
   "version": "3.9.12"
  }
 },
 "nbformat": 4,
 "nbformat_minor": 5
}
