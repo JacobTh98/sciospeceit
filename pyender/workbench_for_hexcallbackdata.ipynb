{
 "cells": [
  {
   "cell_type": "markdown",
   "id": "3792d923-b5c2-44cc-92c5-4e88aadcc78c",
   "metadata": {},
   "source": [
    "# Serial Handling"
   ]
  },
  {
   "cell_type": "raw",
   "id": "b3ae6218-1ba7-4082-9348-48f66a115631",
   "metadata": {},
   "source": [
    "def SystemMessageCallback(serial, prnt_msg: bool = True, ret_hex_int: int = 0):\n",
    "    \"\"\"Reads the message buffer of a serial connection. Also prints out the general system message.\n",
    "    serial      ... serial connection\n",
    "    prnt_msg    ... print out the buffer\n",
    "    ret_hex_int ... Parameters -> ['none','hex', 'int', 'both']\n",
    "\n",
    "    @v=1.0.3\n",
    "    \"\"\"\n",
    "    msg_dict = {\n",
    "        \"0x01\": \"No message inside the message buffer\",\n",
    "        \"0x02\": \"Timeout: Communication-timeout (less data than expected)\",\n",
    "        \"0x04\": \"Wake-Up Message: System boot ready\",\n",
    "        \"0x11\": \"TCP-Socket: Valid TCP client-socket connection\",\n",
    "        \"0x81\": \"Not-Acknowledge: Command has not been executed\",\n",
    "        \"0x82\": \"Not-Acknowledge: Command could not be recognized\",\n",
    "        \"0x83\": \"Command-Acknowledge: Command has been executed successfully\",\n",
    "        \"0x84\": \"System-Ready Message: System is operational and ready to receive data\",\n",
    "        \"0x91\": \"Data holdup: Measurement data could not be sent via the master interface\",\n",
    "    }\n",
    "    timeout_count = 0\n",
    "    received = []\n",
    "    received_hex = []\n",
    "    data_count = 0\n",
    "\n",
    "    while True:\n",
    "        buffer = serial.read()\n",
    "        if buffer:\n",
    "            received.extend(buffer)\n",
    "            data_count += len(buffer)\n",
    "            timeout_count = 0\n",
    "            continue\n",
    "        timeout_count += 1\n",
    "        if timeout_count >= 1:\n",
    "            # Break if we haven't received any data\n",
    "            break\n",
    "\n",
    "        received = \"\".join(str(received))  # If you need all the data\n",
    "    received_hex = [hex(receive) for receive in received]\n",
    "    try:\n",
    "        msg_idx = received_hex.index(\"0x18\")\n",
    "        print(msg_dict[received_hex[msg_idx + 2]])\n",
    "    except BaseException:\n",
    "        print(msg_dict[\"0x01\"])\n",
    "        prnt_msg = False\n",
    "    if prnt_msg:\n",
    "        print(\"message buffer:\\n\", received_hex)\n",
    "        print(\"message length:\\t\", data_count)\n",
    "\n",
    "    if ret_hex_int == \"none\":\n",
    "        return\n",
    "    elif ret_hex_int == \"hex\":\n",
    "        return received_hex\n",
    "    elif ret_hex_int == \"int\":\n",
    "        return received\n",
    "    elif ret_hex_int == \"both\":\n",
    "        return received, received_hex"
   ]
  },
  {
   "cell_type": "code",
   "execution_count": 1,
   "id": "c7f54154-7193-421e-9e7b-5115046fdadd",
   "metadata": {
    "vscode": {
     "languageId": "plaintext"
    }
   },
   "outputs": [],
   "source": [
    "import time\n",
    "\n",
    "import numpy as np\n",
    "from sciopy.com_handling import available_serial_ports, connect_COM_port\n",
    "from sciopy import StartStopMeasurement, SystemMessageCallback"
   ]
  },
  {
   "cell_type": "code",
   "execution_count": 2,
   "id": "c1c8ae08-2e98-4e05-a309-6407218ff416",
   "metadata": {},
   "outputs": [
    {
     "data": {
      "text/plain": [
       "['COM1', 'COM3']"
      ]
     },
     "execution_count": 2,
     "metadata": {},
     "output_type": "execute_result"
    }
   ],
   "source": [
    "available_serial_ports()"
   ]
  },
  {
   "cell_type": "code",
   "execution_count": 3,
   "id": "6902dd1b-e74d-4cca-b51f-501bb7e2d0f4",
   "metadata": {
    "vscode": {
     "languageId": "plaintext"
    }
   },
   "outputs": [
    {
     "name": "stdout",
     "output_type": "stream",
     "text": [
      "Connection to COM3 is established.\n"
     ]
    }
   ],
   "source": [
    "ser = connect_COM_port(\"COM3\", timeout=1)"
   ]
  },
  {
   "cell_type": "code",
   "execution_count": 4,
   "id": "dc7ca827-c65a-4239-9d53-a2a1119ba5ee",
   "metadata": {},
   "outputs": [
    {
     "data": {
      "text/plain": [
       "\u001b[1;31mSignature:\u001b[0m\n",
       "\u001b[0mSystemMessageCallback\u001b[0m\u001b[1;33m(\u001b[0m\u001b[1;33m\n",
       "\u001b[0m    \u001b[0mserial\u001b[0m\u001b[1;33m,\u001b[0m\u001b[1;33m\n",
       "\u001b[0m    \u001b[0mprnt_msg\u001b[0m\u001b[1;33m:\u001b[0m \u001b[0mbool\u001b[0m \u001b[1;33m=\u001b[0m \u001b[1;32mTrue\u001b[0m\u001b[1;33m,\u001b[0m\u001b[1;33m\n",
       "\u001b[0m    \u001b[0mret_hex_int\u001b[0m\u001b[1;33m:\u001b[0m \u001b[0mOptional\u001b[0m\u001b[1;33m[\u001b[0m\u001b[0mstr\u001b[0m\u001b[1;33m]\u001b[0m \u001b[1;33m=\u001b[0m \u001b[1;32mNone\u001b[0m\u001b[1;33m,\u001b[0m\u001b[1;33m\n",
       "\u001b[0m\u001b[1;33m)\u001b[0m\u001b[1;33m\u001b[0m\u001b[1;33m\u001b[0m\u001b[0m\n",
       "\u001b[1;31mDocstring:\u001b[0m\n",
       "Reads the message buffer of a serial connection. Also prints out the general system message.\n",
       "serial      ... serial connection\n",
       "prnt_msg    ... print out the buffer\n",
       "ret_hex_int ... Parameters -> ['none','hex', 'int', 'both']\n",
       "\n",
       "@v=1.0.4\n",
       "\u001b[1;31mFile:\u001b[0m      c:\\users\\sciospeceit\\desktop\\sciospeceit\\pyender\\sciopy\\setup_m.py\n",
       "\u001b[1;31mType:\u001b[0m      function\n"
      ]
     },
     "metadata": {},
     "output_type": "display_data"
    }
   ],
   "source": [
    "SystemMessageCallback?"
   ]
  },
  {
   "cell_type": "code",
   "execution_count": 5,
   "id": "4d867f1a-a7f6-4e65-aa49-296ab00181ed",
   "metadata": {},
   "outputs": [],
   "source": [
    "def GetFirmwareIDs(serial):\n",
    "    \"\"\"Get firmware IDs\"\"\"\n",
    "    serial.write(bytearray([0xD2, 0x00, 0xD2]))\n",
    "    SystemMessageCallback(serial)"
   ]
  },
  {
   "cell_type": "code",
   "execution_count": 6,
   "id": "98dd4e8f-011d-4617-98a2-12b0e58cee12",
   "metadata": {},
   "outputs": [
    {
     "name": "stdout",
     "output_type": "stream",
     "text": [
      "Command-Acknowledge: Command has been executed successfully\n",
      "message buffer:\n",
      " ['0xd2', '0x1e', '0x1', '0x11', '0x0', '0x19', '0x0', '0xb', '0x40', '0x0', '0x9', '0x0', '0x25', '0x2', '0xc9', '0x0', '0xf', '0x1', '0x11', '0x0', '0x19', '0x0', '0xb', '0x40', '0x0', '0x9', '0x0', '0x25', '0x2', '0xc9', '0x0', '0xf', '0xd2', '0x18', '0x1', '0x83', '0x18']\n",
      "message length:\t 37\n"
     ]
    }
   ],
   "source": [
    "GetFirmwareIDs(ser)"
   ]
  },
  {
   "cell_type": "code",
   "execution_count": 7,
   "id": "600dcd91-e0b9-47b3-ab8b-f228ddccd15b",
   "metadata": {},
   "outputs": [],
   "source": [
    "from sciopy.default_configurations import configuration_01"
   ]
  },
  {
   "cell_type": "raw",
   "id": "913fc4e3-48fb-4d77-9d73-e7a413d7e67f",
   "metadata": {},
   "source": [
    "def StartStopMeasurement(serial):\n",
    "    serial.write(bytearray([0xB4, 0x01, 0x01, 0xB4]))\n",
    "    measurement_data_hex = SystemMessageCallback(\n",
    "        serial, prnt_msg=False, ret_hex_int=\"hex\"\n",
    "    )\n",
    "    print(\"Stopping measurement:\")\n",
    "    serial.write(bytearray([0xB4, 0x01, 0x00, 0xB4]))\n",
    "    SystemMessageCallback(serial, prnt_msg=False, ret_hex_int=\"int\")\n",
    "    return measurement_data_hex\n",
    "\n",
    "\n",
    "def StopMeasurement(serial):\n",
    "    serial.write(bytearray([0xB4, 0x01, 0x00, 0xB4]))\n",
    "    SystemMessageCallback(serial)"
   ]
  },
  {
   "cell_type": "code",
   "execution_count": 8,
   "id": "108c8aee-9b06-4264-b699-064847347bd1",
   "metadata": {},
   "outputs": [
    {
     "name": "stdout",
     "output_type": "stream",
     "text": [
      "Command-Acknowledge: Command has been executed successfully\n",
      "message buffer:\n",
      " ['0x18', '0x1', '0x83', '0x18', '0x18', '0x1', '0x83', '0x18', '0x18', '0x1', '0x83', '0x18', '0x18', '0x1', '0x83', '0x18', '0x18', '0x1', '0x83', '0x18', '0x18', '0x1', '0x83', '0x18', '0x18', '0x1', '0x83', '0x18', '0x18', '0x1', '0x83', '0x18', '0x18', '0x1', '0x83', '0x18', '0x18', '0x1', '0x83', '0x18', '0x18', '0x1', '0x83', '0x18', '0x18', '0x1', '0x83', '0x18', '0x18', '0x1', '0x83', '0x18', '0x18', '0x1', '0x83', '0x18', '0x18', '0x1', '0x83', '0x18', '0x18', '0x1', '0x83', '0x18', '0x18', '0x1', '0x83', '0x18', '0x18', '0x1', '0x83', '0x18', '0x18', '0x1', '0x83', '0x18', '0x18', '0x1', '0x83', '0x18', '0x18', '0x1', '0x83', '0x18', '0x18', '0x1', '0x83', '0x18', '0x18', '0x1', '0x83', '0x18', '0x18', '0x1', '0x83', '0x18', '0x18', '0x1', '0x83', '0x18', '0x18', '0x1', '0x83', '0x18', '0x18', '0x1', '0x83', '0x18', '0x18', '0x1', '0x83', '0x18', '0x18', '0x1', '0x83', '0x18', '0x18', '0x1', '0x83', '0x18', '0x18', '0x1', '0x83', '0x18', '0x18', '0x1', '0x83', '0x18', '0x18', '0x1', '0x83', '0x18', '0x18', '0x1', '0x83', '0x18', '0x18', '0x1', '0x83', '0x18', '0x18', '0x1', '0x83', '0x18', '0x18', '0x1', '0x83', '0x18', '0x18', '0x1', '0x83', '0x18', '0x18', '0x1', '0x83', '0x18', '0x18', '0x1', '0x83', '0x18', '0x18', '0x1', '0x83', '0x18', '0xb1', '0x5', '0x3', '0x40', '0x0', '0x0', '0x0', '0xb1', '0x18', '0x1', '0x83', '0x18', '0x18', '0x1', '0x83', '0x18', '0x18', '0x1', '0x83', '0x18', '0x18', '0x1', '0x83', '0x18']\n",
      "message length:\t 188\n"
     ]
    }
   ],
   "source": [
    "configuration_01(ser)  # tbd in ender gui\n",
    "SystemMessageCallback(ser)"
   ]
  },
  {
   "cell_type": "code",
   "execution_count": 25,
   "id": "4b76a353-171e-4c9d-8695-7a3579d9ac41",
   "metadata": {},
   "outputs": [
    {
     "data": {
      "text/plain": [
       "6"
      ]
     },
     "execution_count": 25,
     "metadata": {},
     "output_type": "execute_result"
    }
   ],
   "source": [
    "# Write burst count\n",
    "ser.write(bytearray([0xB0, 0x03, 0x02, 0x00, 0x01, 0xB0]))"
   ]
  },
  {
   "cell_type": "code",
   "execution_count": 26,
   "id": "e208dc62-569a-46c1-bc63-727d97d9e576",
   "metadata": {},
   "outputs": [
    {
     "name": "stdout",
     "output_type": "stream",
     "text": [
      "Command-Acknowledge: Command has been executed successfully\n",
      "message buffer:\n",
      " ['0x18', '0x1', '0x83', '0x18']\n",
      "message length:\t 4\n"
     ]
    }
   ],
   "source": [
    "SystemMessageCallback(ser)"
   ]
  },
  {
   "cell_type": "code",
   "execution_count": 9,
   "id": "2fcdbcf3-752c-4724-820a-821132a5992b",
   "metadata": {},
   "outputs": [
    {
     "name": "stdout",
     "output_type": "stream",
     "text": [
      "Starting measurement:\n",
      "Stopping measurement:\n"
     ]
    }
   ],
   "source": [
    "measurement_data_hex = StartStopMeasurement(ser)"
   ]
  },
  {
   "cell_type": "code",
   "execution_count": 10,
   "id": "646b61e3-57ba-4e67-b768-506764438cb7",
   "metadata": {},
   "outputs": [
    {
     "data": {
      "text/plain": [
       "17924"
      ]
     },
     "execution_count": 10,
     "metadata": {},
     "output_type": "execute_result"
    }
   ],
   "source": [
    "len(measurement_data_hex)"
   ]
  },
  {
   "cell_type": "code",
   "execution_count": 13,
   "id": "14b6de2f-d41b-47ae-a91f-e9121a7f8d12",
   "metadata": {},
   "outputs": [
    {
     "name": "stdout",
     "output_type": "stream",
     "text": [
      "17924\n",
      "['0x18', '0x1', '0x83', '0x18', '0xb4', '0x89', '0x1', '0x1', '0x2', '0x0']\n",
      "['0xde', '0xb5', '0xff', '0xaf', '0x95', '0xb5', '0xf7', '0x5d', '0xde', '0xb4']\n"
     ]
    }
   ],
   "source": [
    "print(len(measurement_data_hex))\n",
    "\n",
    "print(measurement_data_hex[:10])\n",
    "print(measurement_data_hex[len(measurement_data_hex) - 10 :])"
   ]
  },
  {
   "cell_type": "code",
   "execution_count": 14,
   "id": "cb5bfdc4-fa4b-4862-bb48-29de6e37a7ab",
   "metadata": {},
   "outputs": [],
   "source": [
    "# np.save('hex_bc_200.npy', measurement_data_hex)"
   ]
  },
  {
   "cell_type": "markdown",
   "id": "2564934b-1545-47de-960e-ae4deea8c657",
   "metadata": {},
   "source": [
    "# Hexcallback"
   ]
  },
  {
   "cell_type": "code",
   "execution_count": 1,
   "id": "e3e471c4-01bb-4e9e-a2eb-8d340becddea",
   "metadata": {},
   "outputs": [],
   "source": [
    "import struct\n",
    "from dataclasses import dataclass\n",
    "from typing import List, Tuple, Union\n",
    "\n",
    "import matplotlib.pyplot as plt\n",
    "import numpy as np"
   ]
  },
  {
   "cell_type": "code",
   "execution_count": 2,
   "id": "7360d0b8-aa0d-4102-a565-75b28cf71345",
   "metadata": {},
   "outputs": [],
   "source": [
    "def del_hex_in_list(lst: list) -> list:\n",
    "    return [\n",
    "        \"0\" + ele.replace(\"0x\", \"\") if len(ele) == 1 else ele.replace(\"0x\", \"\")\n",
    "        for ele in lst\n",
    "    ]\n",
    "\n",
    "\n",
    "def bytesarray_to_float(bytes_array: np.ndarray) -> float:\n",
    "    bytes_array = [int(b, 16) for b in bytes_array]\n",
    "    bytes_array = bytes(bytes_array)\n",
    "    return struct.unpack(\"!f\", bytes(bytes_array))[0]\n",
    "\n",
    "\n",
    "def bytesarray_to_int(bytes_array: np.ndarray) -> int:\n",
    "    bytes_array = bytesarray_to_byteslist(bytes_array)\n",
    "    return int.from_bytes(bytes_array, \"big\")\n",
    "\n",
    "\n",
    "def bytesarray_to_byteslist(bytes_array: np.ndarray) -> list:\n",
    "    bytes_array = [int(b, 16) for b in bytes_array]\n",
    "    return bytes(bytes_array)\n",
    "\n",
    "\n",
    "def reshape_measurement_buffer(lst: list) -> np.ndarray:\n",
    "    idx_b4 = [i for i, ele in enumerate(lst) if ele == \"b4\"]\n",
    "    idx_b4 = np.array(idx_b4)\n",
    "    step = abs(idx_b4[1] - idx_b4[0]) + 1\n",
    "    return np.array(\n",
    "        [lst[i : i + step] for i in range(idx_b4[0], idx_b4[-1] + step, step)],\n",
    "        dtype=list,\n",
    "    )[:-1]\n",
    "\n",
    "\n",
    "@dataclass\n",
    "class BaseSettingForEstimation:\n",
    "    active_channel_groups: np.ndarray\n",
    "    burst_count: int\n",
    "\n",
    "\n",
    "@dataclass\n",
    "class SingleFrame:\n",
    "    start_tag: List[str]\n",
    "    channel_group: str\n",
    "    excitation_stgs: List[str]\n",
    "    frequency_row: List[str]\n",
    "    timestamp: int  # [ms]\n",
    "    ch_1: complex\n",
    "    ch_2: complex\n",
    "    ch_3: complex\n",
    "    ch_4: complex\n",
    "    ch_5: complex\n",
    "    ch_6: complex\n",
    "    ch_7: complex\n",
    "    ch_8: complex\n",
    "    ch_9: complex\n",
    "    ch_10: complex\n",
    "    ch_11: complex\n",
    "    ch_12: complex\n",
    "    ch_13: complex\n",
    "    ch_14: complex\n",
    "    ch_15: complex\n",
    "    ch_16: complex\n",
    "    end_tag: str\n",
    "\n",
    "\n",
    "def parse_single_frame(lst_ele: np.ndarray) -> SingleFrame:\n",
    "    channels = {}\n",
    "    enum = 0\n",
    "    for i in range(11, 135, 8):\n",
    "        enum += 1\n",
    "        channels[f\"ch_{enum}\"] = complex(\n",
    "            bytesarray_to_float(lst_ele[i : i + 4]),\n",
    "            bytesarray_to_float(lst_ele[i + 4 : i + 8]),\n",
    "        )\n",
    "\n",
    "    excitation_stgs = np.array([ele for ele in lst_ele[3:5]])\n",
    "\n",
    "    sgl_frm = SingleFrame(\n",
    "        start_tag=lst_ele[0],\n",
    "        channel_group=int(lst_ele[2]),\n",
    "        excitation_stgs=excitation_stgs,\n",
    "        frequency_row=lst_ele[5:7],\n",
    "        timestamp=bytesarray_to_int(lst_ele[7:11]),\n",
    "        **channels,\n",
    "        end_tag=lst_ele[139],\n",
    "    )\n",
    "    return sgl_frm"
   ]
  },
  {
   "cell_type": "code",
   "execution_count": 3,
   "id": "8740ed88-22c8-4f19-ab03-1061c65bd8af",
   "metadata": {},
   "outputs": [],
   "source": [
    "# base_stgs_for_est = BaseSettingForEstimation(np.array([1]), 1)\n",
    "# base_stgs_for_est\n",
    "from sciopy.sciopy_dataclasses import ScioSpecMeasurementConfig"
   ]
  },
  {
   "cell_type": "code",
   "execution_count": 4,
   "id": "5da75aa2-e6e0-4a07-b049-4d1ceb0664f0",
   "metadata": {},
   "outputs": [
    {
     "data": {
      "text/plain": [
       "['config', 'data', 'enderstat', 'circledrivepattern', 'kartesiandrivepattern']"
      ]
     },
     "execution_count": 4,
     "metadata": {},
     "output_type": "execute_result"
    }
   ],
   "source": [
    "measurement_data = np.load(\"tmp_data/sample_000000.npz\", allow_pickle=True)\n",
    "measurement_data.files"
   ]
  },
  {
   "cell_type": "code",
   "execution_count": 11,
   "id": "10f3cb4b-fb47-4f2a-a056-bdfeffba4397",
   "metadata": {},
   "outputs": [],
   "source": [
    "#measurement_data['data'][0]"
   ]
  },
  {
   "cell_type": "code",
   "execution_count": 13,
   "id": "c23467cf-0352-4859-9eae-23f7322c6353",
   "metadata": {},
   "outputs": [
    {
     "data": {
      "text/plain": [
       "SingleFrame(start_tag='b4', channel_group=1, excitation_stgs=array(['1', '2'], dtype='<U1'), frequency_row=['0', '0'], timestamp=0, ch_1=(1.2251087427139282-0.3391319215297699j), ch_2=(-1.224099040031433+0.3421427309513092j), ch_3=(-0.06761793792247772-0.06170428544282913j), ch_4=(-0.008094284683465958-0.009728801436722279j), ch_5=(0.000978139229118824-4.024095323984511e-05j), ch_6=(3.0159530069795437e-05-0.00040526792872697115j), ch_7=(0.00041833764407783747+4.4160933612147346e-05j), ch_8=(-0.00011541175626916811-0.0005447313887998462j), ch_9=(-0.0007664732984267175-0.0011936132796108723j), ch_10=(0.0006124393548816442+0.0002588862262200564j), ch_11=(-0.000496247666887939-0.00100342882797122j), ch_12=(0.0005513371434062719+3.0604478524765e-05j), ch_13=(-0.0010232159402221441-0.0014807317638769746j), ch_14=(-0.00011219223233638331-0.0005662826588377357j), ch_15=(0.0008729307446628809+0.0005239679594524205j), ch_16=(0.001715516671538353+0.0013162072282284498j), end_tag='b4')"
      ]
     },
     "execution_count": 13,
     "metadata": {},
     "output_type": "execute_result"
    }
   ],
   "source": [
    "parse_single_frame(measurement_data['data'][0])"
   ]
  },
  {
   "cell_type": "code",
   "execution_count": 28,
   "id": "efd3005a-2ad9-4b4c-bd6c-9ca5c607cf8a",
   "metadata": {},
   "outputs": [],
   "source": [
    "def parse_to_full_frame(measurement_data:np.ndarray)->np.ndarray:\n",
    "    \"\"\"Parses any measured byte representation into the dataclass SingleFrame\"\"\"\n",
    "    data_frame = []\n",
    "    for i, sf in enumerate(measurement_data):\n",
    "        data_frame.append(parse_single_frame(sf))\n",
    "    return np.array(data_frame)"
   ]
  },
  {
   "cell_type": "code",
   "execution_count": 29,
   "id": "225d6431-0435-431e-a259-1270a6d3b439",
   "metadata": {},
   "outputs": [
    {
     "data": {
      "text/plain": [
       "\u001b[1;31mSignature:\u001b[0m \u001b[0mparse_to_full_frame\u001b[0m\u001b[1;33m(\u001b[0m\u001b[0mmeasurement_data\u001b[0m\u001b[1;33m:\u001b[0m \u001b[0mnumpy\u001b[0m\u001b[1;33m.\u001b[0m\u001b[0mndarray\u001b[0m\u001b[1;33m)\u001b[0m \u001b[1;33m->\u001b[0m \u001b[0mnumpy\u001b[0m\u001b[1;33m.\u001b[0m\u001b[0mndarray\u001b[0m\u001b[1;33m\u001b[0m\u001b[1;33m\u001b[0m\u001b[0m\n",
       "\u001b[1;31mDocstring:\u001b[0m <no docstring>\n",
       "\u001b[1;31mFile:\u001b[0m      c:\\users\\sciospeceit\\appdata\\local\\temp\\ipykernel_3516\\1481531900.py\n",
       "\u001b[1;31mType:\u001b[0m      function\n"
      ]
     },
     "metadata": {},
     "output_type": "display_data"
    }
   ],
   "source": [
    "parse_to_full_frame?"
   ]
  },
  {
   "cell_type": "code",
   "execution_count": 33,
   "id": "530a9ad7-5fe2-4656-896d-95caa9f7f325",
   "metadata": {},
   "outputs": [
    {
     "data": {
      "text/plain": [
       "__main__.SingleFrame"
      ]
     },
     "execution_count": 33,
     "metadata": {},
     "output_type": "execute_result"
    }
   ],
   "source": [
    "type(parse_to_full_frame(measurement_data['data'])[0])"
   ]
  },
  {
   "cell_type": "code",
   "execution_count": 7,
   "id": "95448f41-b972-4540-a323-29f929e94665",
   "metadata": {},
   "outputs": [],
   "source": [
    "def get_channel_group_img(reshaped_measurement_buffer: np.ndarray, channel_group: int):\n",
    "    img = np.empty((0, 16))\n",
    "    for i, sf in enumerate(reshaped_measurement_buffer):\n",
    "        tmp_f = parse_single_frame(sf)\n",
    "        if tmp_f.channel_group == channel_group:\n",
    "            tmp_f = tmp_f.__dict__\n",
    "            tmp_row = np.array([tmp_f[f\"ch_{ch_n}\"] for ch_n in range(1, 17)])\n",
    "            img = np.vstack((img, abs(tmp_row)))\n",
    "    img = np.delete(np.matrix(img), 0, axis=0)\n",
    "    print(\"Shape:\", img.shape)\n",
    "    return img"
   ]
  },
  {
   "cell_type": "code",
   "execution_count": 8,
   "id": "7f349f88-a358-4cf9-bae9-3d9ed84ca774",
   "metadata": {},
   "outputs": [
    {
     "ename": "error",
     "evalue": "unpack requires a buffer of 4 bytes",
     "output_type": "error",
     "traceback": [
      "\u001b[1;31m---------------------------------------------------------------------------\u001b[0m",
      "\u001b[1;31merror\u001b[0m                                     Traceback (most recent call last)",
      "\u001b[1;32m~\\AppData\\Local\\Temp\\ipykernel_3516\\819308903.py\u001b[0m in \u001b[0;36m<module>\u001b[1;34m\u001b[0m\n\u001b[1;32m----> 1\u001b[1;33m \u001b[0mplt\u001b[0m\u001b[1;33m.\u001b[0m\u001b[0mimshow\u001b[0m\u001b[1;33m(\u001b[0m\u001b[0mget_channel_group_img\u001b[0m\u001b[1;33m(\u001b[0m\u001b[0mmeasurement_data\u001b[0m\u001b[1;33m,\u001b[0m \u001b[1;36m1\u001b[0m\u001b[1;33m)\u001b[0m\u001b[1;33m)\u001b[0m\u001b[1;33m\u001b[0m\u001b[1;33m\u001b[0m\u001b[0m\n\u001b[0m",
      "\u001b[1;32m~\\AppData\\Local\\Temp\\ipykernel_3516\\1829772183.py\u001b[0m in \u001b[0;36mget_channel_group_img\u001b[1;34m(reshaped_measurement_buffer, channel_group)\u001b[0m\n\u001b[0;32m      2\u001b[0m     \u001b[0mimg\u001b[0m \u001b[1;33m=\u001b[0m \u001b[0mnp\u001b[0m\u001b[1;33m.\u001b[0m\u001b[0mempty\u001b[0m\u001b[1;33m(\u001b[0m\u001b[1;33m(\u001b[0m\u001b[1;36m0\u001b[0m\u001b[1;33m,\u001b[0m \u001b[1;36m16\u001b[0m\u001b[1;33m)\u001b[0m\u001b[1;33m)\u001b[0m\u001b[1;33m\u001b[0m\u001b[1;33m\u001b[0m\u001b[0m\n\u001b[0;32m      3\u001b[0m     \u001b[1;32mfor\u001b[0m \u001b[0mi\u001b[0m\u001b[1;33m,\u001b[0m \u001b[0msf\u001b[0m \u001b[1;32min\u001b[0m \u001b[0menumerate\u001b[0m\u001b[1;33m(\u001b[0m\u001b[0mreshaped_measurement_buffer\u001b[0m\u001b[1;33m)\u001b[0m\u001b[1;33m:\u001b[0m\u001b[1;33m\u001b[0m\u001b[1;33m\u001b[0m\u001b[0m\n\u001b[1;32m----> 4\u001b[1;33m         \u001b[0mtmp_f\u001b[0m \u001b[1;33m=\u001b[0m \u001b[0mparse_single_frame\u001b[0m\u001b[1;33m(\u001b[0m\u001b[0msf\u001b[0m\u001b[1;33m)\u001b[0m\u001b[1;33m\u001b[0m\u001b[1;33m\u001b[0m\u001b[0m\n\u001b[0m\u001b[0;32m      5\u001b[0m         \u001b[1;32mif\u001b[0m \u001b[0mtmp_f\u001b[0m\u001b[1;33m.\u001b[0m\u001b[0mchannel_group\u001b[0m \u001b[1;33m==\u001b[0m \u001b[0mchannel_group\u001b[0m\u001b[1;33m:\u001b[0m\u001b[1;33m\u001b[0m\u001b[1;33m\u001b[0m\u001b[0m\n\u001b[0;32m      6\u001b[0m             \u001b[0mtmp_f\u001b[0m \u001b[1;33m=\u001b[0m \u001b[0mtmp_f\u001b[0m\u001b[1;33m.\u001b[0m\u001b[0m__dict__\u001b[0m\u001b[1;33m\u001b[0m\u001b[1;33m\u001b[0m\u001b[0m\n",
      "\u001b[1;32m~\\AppData\\Local\\Temp\\ipykernel_3516\\3147819937.py\u001b[0m in \u001b[0;36mparse_single_frame\u001b[1;34m(lst_ele)\u001b[0m\n\u001b[0;32m     70\u001b[0m         \u001b[0menum\u001b[0m \u001b[1;33m+=\u001b[0m \u001b[1;36m1\u001b[0m\u001b[1;33m\u001b[0m\u001b[1;33m\u001b[0m\u001b[0m\n\u001b[0;32m     71\u001b[0m         channels[f\"ch_{enum}\"] = complex(\n\u001b[1;32m---> 72\u001b[1;33m             \u001b[0mbytesarray_to_float\u001b[0m\u001b[1;33m(\u001b[0m\u001b[0mlst_ele\u001b[0m\u001b[1;33m[\u001b[0m\u001b[0mi\u001b[0m \u001b[1;33m:\u001b[0m \u001b[0mi\u001b[0m \u001b[1;33m+\u001b[0m \u001b[1;36m4\u001b[0m\u001b[1;33m]\u001b[0m\u001b[1;33m)\u001b[0m\u001b[1;33m,\u001b[0m\u001b[1;33m\u001b[0m\u001b[1;33m\u001b[0m\u001b[0m\n\u001b[0m\u001b[0;32m     73\u001b[0m             \u001b[0mbytesarray_to_float\u001b[0m\u001b[1;33m(\u001b[0m\u001b[0mlst_ele\u001b[0m\u001b[1;33m[\u001b[0m\u001b[0mi\u001b[0m \u001b[1;33m+\u001b[0m \u001b[1;36m4\u001b[0m \u001b[1;33m:\u001b[0m \u001b[0mi\u001b[0m \u001b[1;33m+\u001b[0m \u001b[1;36m8\u001b[0m\u001b[1;33m]\u001b[0m\u001b[1;33m)\u001b[0m\u001b[1;33m,\u001b[0m\u001b[1;33m\u001b[0m\u001b[1;33m\u001b[0m\u001b[0m\n\u001b[0;32m     74\u001b[0m         )\n",
      "\u001b[1;32m~\\AppData\\Local\\Temp\\ipykernel_3516\\3147819937.py\u001b[0m in \u001b[0;36mbytesarray_to_float\u001b[1;34m(bytes_array)\u001b[0m\n\u001b[0;32m      9\u001b[0m     \u001b[0mbytes_array\u001b[0m \u001b[1;33m=\u001b[0m \u001b[1;33m[\u001b[0m\u001b[0mint\u001b[0m\u001b[1;33m(\u001b[0m\u001b[0mb\u001b[0m\u001b[1;33m,\u001b[0m \u001b[1;36m16\u001b[0m\u001b[1;33m)\u001b[0m \u001b[1;32mfor\u001b[0m \u001b[0mb\u001b[0m \u001b[1;32min\u001b[0m \u001b[0mbytes_array\u001b[0m\u001b[1;33m]\u001b[0m\u001b[1;33m\u001b[0m\u001b[1;33m\u001b[0m\u001b[0m\n\u001b[0;32m     10\u001b[0m     \u001b[0mbytes_array\u001b[0m \u001b[1;33m=\u001b[0m \u001b[0mbytes\u001b[0m\u001b[1;33m(\u001b[0m\u001b[0mbytes_array\u001b[0m\u001b[1;33m)\u001b[0m\u001b[1;33m\u001b[0m\u001b[1;33m\u001b[0m\u001b[0m\n\u001b[1;32m---> 11\u001b[1;33m     \u001b[1;32mreturn\u001b[0m \u001b[0mstruct\u001b[0m\u001b[1;33m.\u001b[0m\u001b[0munpack\u001b[0m\u001b[1;33m(\u001b[0m\u001b[1;34m\"!f\"\u001b[0m\u001b[1;33m,\u001b[0m \u001b[0mbytes\u001b[0m\u001b[1;33m(\u001b[0m\u001b[0mbytes_array\u001b[0m\u001b[1;33m)\u001b[0m\u001b[1;33m)\u001b[0m\u001b[1;33m[\u001b[0m\u001b[1;36m0\u001b[0m\u001b[1;33m]\u001b[0m\u001b[1;33m\u001b[0m\u001b[1;33m\u001b[0m\u001b[0m\n\u001b[0m\u001b[0;32m     12\u001b[0m \u001b[1;33m\u001b[0m\u001b[0m\n\u001b[0;32m     13\u001b[0m \u001b[1;33m\u001b[0m\u001b[0m\n",
      "\u001b[1;31merror\u001b[0m: unpack requires a buffer of 4 bytes"
     ]
    }
   ],
   "source": [
    "plt.imshow(get_channel_group_img(measurement_data, 1))"
   ]
  },
  {
   "cell_type": "markdown",
   "id": "3c505cc3-c4a8-4205-bd9f-a4760d25fafc",
   "metadata": {},
   "source": [
    "# Save data to pickle"
   ]
  },
  {
   "cell_type": "code",
   "execution_count": 25,
   "id": "93807698-380c-4a7a-835c-c97f4757a8b5",
   "metadata": {},
   "outputs": [],
   "source": [
    "import pickle\n",
    "from typing import Union\n",
    "import os\n",
    "\n",
    "\n",
    "from ender_sciospec_classes import CircleDrivePattern, KartesianDrivePattern\n",
    "from sciopy.sciopy_dataclasses import ScioSpecMeasurementConfig\n",
    "\n",
    "\n",
    "def split_pickle_to_classes(\n",
    "    pkl_data: list,\n",
    ") -> Union[ScioSpecMeasurementConfig, CircleDrivePattern, KartesianDrivePattern]:\n",
    "\n",
    "    return pkl_data[0], pkl_data[1], pkl_data[2]"
   ]
  },
  {
   "cell_type": "code",
   "execution_count": null,
   "id": "f33d1d96-6c46-4218-880e-4ee7eae69de9",
   "metadata": {},
   "outputs": [],
   "source": [
    "#os.remove('meas_cnf.pkl')"
   ]
  },
  {
   "cell_type": "code",
   "execution_count": null,
   "id": "a42244e2-ce72-4dd8-9386-693ffe88c105",
   "metadata": {},
   "outputs": [],
   "source": [
    "with open(\"meas_cnf.pkl\", \"rb\") as f:\n",
    "    meas_cnf = pickle.load(f)"
   ]
  },
  {
   "cell_type": "code",
   "execution_count": null,
   "id": "165d49ea-5f24-4a14-86db-6f1756b432fd",
   "metadata": {},
   "outputs": [],
   "source": [
    "scio_spec_measurement_config,circledrivepattern,kartesiandrivepattern = split_pickle_to_classes(meas_cnf)"
   ]
  },
  {
   "cell_type": "code",
   "execution_count": null,
   "id": "40657b44-ddf5-4268-87c0-f37966907887",
   "metadata": {},
   "outputs": [
    {
     "data": {
      "text/plain": [
       "ScioSpecMeasurementConfig(com_port='COM3', sample_per_step=10, actual_sample=0, s_path='tmp_data/', object='circle')"
      ]
     },
     "execution_count": 39,
     "metadata": {},
     "output_type": "execute_result"
    }
   ],
   "source": [
    "scio_spec_measurement_config"
   ]
  },
  {
   "cell_type": "code",
   "execution_count": null,
   "id": "6925b5ff-4963-4eba-92c1-b1cbb082fb13",
   "metadata": {},
   "outputs": [
    {
     "data": {
      "text/plain": [
       "CircleDrivePattern(active=True, wait_at_pos=1, radius=100, phi_steps=45, abs_x_posis=array([280.        , 250.71067812, 180.        , 109.28932188,\n",
       "        80.        , 109.28932188, 180.        , 250.71067812]), abs_y_posis=array([180.        , 250.71067812, 280.        , 250.71067812,\n",
       "       180.        , 109.28932188,  80.        , 109.28932188]), abs_z_posis=0, motion_speed=1500, n_points=0, actual_point=0)"
      ]
     },
     "execution_count": 40,
     "metadata": {},
     "output_type": "execute_result"
    }
   ],
   "source": [
    "circledrivepattern"
   ]
  },
  {
   "cell_type": "code",
   "execution_count": null,
   "id": "2e54227c-8cdb-4dae-9bc4-07fe44f1e875",
   "metadata": {},
   "outputs": [
    {
     "data": {
      "text/plain": [
       "KartesianDrivePattern(active=False, wait_at_pos=1, motion_speed=1500, x_start=160, y_start=160, x_stop=180, y_stop=180, x_stp_num=10, y_stp_num=10, abs_x_posis=array([0.]), abs_y_posis=array([0.]), abs_z_posis=array([0.]), n_points=0, actual_point=0)"
      ]
     },
     "execution_count": 41,
     "metadata": {},
     "output_type": "execute_result"
    }
   ],
   "source": [
    "kartesiandrivepattern"
   ]
  },
  {
   "cell_type": "code",
   "execution_count": null,
   "id": "a3ea78bb-9428-43f3-bfc9-d8d757eeb124",
   "metadata": {},
   "outputs": [],
   "source": [
    "import time"
   ]
  },
  {
   "cell_type": "markdown",
   "id": "7f10813b-2228-4a64-9cb8-c4d8f5649a64",
   "metadata": {},
   "source": [
    "# Control saved data"
   ]
  },
  {
   "cell_type": "code",
   "execution_count": 2,
   "id": "048d877d-22e5-4fbc-a866-9a98e16755f8",
   "metadata": {},
   "outputs": [
    {
     "data": {
      "text/plain": [
       "['config', 'data', 'enderstat', 'circledrivepattern', 'kartesiandrivepattern']"
      ]
     },
     "execution_count": 2,
     "metadata": {},
     "output_type": "execute_result"
    }
   ],
   "source": [
    "import numpy as np\n",
    "measurement_data = np.load(\"tmp_data/sample_000000.npz\", allow_pickle=True)\n",
    "measurement_data.files"
   ]
  },
  {
   "cell_type": "code",
   "execution_count": null,
   "id": "1926dd9f-4ffd-4e32-8a2b-bd9d5c62d00a",
   "metadata": {},
   "outputs": [],
   "source": []
  }
 ],
 "metadata": {
  "kernelspec": {
   "display_name": "Python 3 (ipykernel)",
   "language": "python",
   "name": "python3"
  },
  "language_info": {
   "codemirror_mode": {
    "name": "ipython",
    "version": 3
   },
   "file_extension": ".py",
   "mimetype": "text/x-python",
   "name": "python",
   "nbconvert_exporter": "python",
   "pygments_lexer": "ipython3",
   "version": "3.9.13"
  }
 },
 "nbformat": 4,
 "nbformat_minor": 5
}
