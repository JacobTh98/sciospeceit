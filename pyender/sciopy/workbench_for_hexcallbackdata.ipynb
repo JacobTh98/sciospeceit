{
 "cells": [
  {
   "cell_type": "markdown",
   "id": "3792d923-b5c2-44cc-92c5-4e88aadcc78c",
   "metadata": {},
   "source": [
    "# Serial Handling"
   ]
  },
  {
   "cell_type": "code",
   "execution_count": 12,
   "id": "be384808-697c-4f1b-8ceb-48e7e4cf35fa",
   "metadata": {},
   "outputs": [],
   "source": [
    "def SystemMessageCallback(serial, prnt_msg: bool = True, ret_hex_int: int = 0):\n",
    "    \"\"\"Reads the message buffer of a serial connection. Also prints out the general system message.\n",
    "    serial      ... serial connection\n",
    "    prnt_msg    ... print out the buffer\n",
    "    ret_hex_int ... Parameters -> ['none','hex', 'int', 'both']\n",
    "\n",
    "    @v=1.0.3\n",
    "    \"\"\"\n",
    "    msg_dict = {\n",
    "        \"0x01\": \"No message inside the message buffer\",\n",
    "        \"0x02\": \"Timeout: Communication-timeout (less data than expected)\",\n",
    "        \"0x04\": \"Wake-Up Message: System boot ready\",\n",
    "        \"0x11\": \"TCP-Socket: Valid TCP client-socket connection\",\n",
    "        \"0x81\": \"Not-Acknowledge: Command has not been executed\",\n",
    "        \"0x82\": \"Not-Acknowledge: Command could not be recognized\",\n",
    "        \"0x83\": \"Command-Acknowledge: Command has been executed successfully\",\n",
    "        \"0x84\": \"System-Ready Message: System is operational and ready to receive data\",\n",
    "        \"0x91\": \"Data holdup: Measurement data could not be sent via the master interface\",\n",
    "    }\n",
    "    timeout_count = 0\n",
    "    received = []\n",
    "    received_hex = []\n",
    "    data_count = 0\n",
    "\n",
    "    while True:\n",
    "        buffer = serial.read()\n",
    "        if buffer:\n",
    "            received.extend(buffer)\n",
    "            data_count += len(buffer)\n",
    "            timeout_count = 0\n",
    "            continue\n",
    "        timeout_count += 1\n",
    "        if timeout_count >= 1:\n",
    "            # Break if we haven't received any data\n",
    "            break\n",
    "\n",
    "        received = \"\".join(str(received))  # If you need all the data\n",
    "    received_hex = [hex(receive) for receive in received]\n",
    "    try:\n",
    "        msg_idx = received_hex.index(\"0x18\")\n",
    "        print(msg_dict[received_hex[msg_idx + 2]])\n",
    "    except BaseException:\n",
    "        print(msg_dict[\"0x01\"])\n",
    "        prnt_msg = False\n",
    "    if prnt_msg:\n",
    "        print(\"message buffer:\\n\", received_hex)\n",
    "        print(\"message length:\\t\", data_count)\n",
    "\n",
    "    if ret_hex_int == \"none\":\n",
    "        return\n",
    "    elif ret_hex_int == \"hex\":\n",
    "        return received_hex\n",
    "    elif ret_hex_int == \"int\":\n",
    "        return received\n",
    "    elif ret_hex_int == \"both\":\n",
    "        return received, received_hex"
   ]
  },
  {
   "cell_type": "code",
   "execution_count": 2,
   "id": "c7f54154-7193-421e-9e7b-5115046fdadd",
   "metadata": {
    "vscode": {
     "languageId": "plaintext"
    }
   },
   "outputs": [],
   "source": [
    "import time\n",
    "\n",
    "import numpy as np\n",
    "from com_handling import available_serial_ports, connect_COM_port"
   ]
  },
  {
   "cell_type": "code",
   "execution_count": 3,
   "id": "c1c8ae08-2e98-4e05-a309-6407218ff416",
   "metadata": {},
   "outputs": [
    {
     "data": {
      "text/plain": [
       "['COM1', 'COM3']"
      ]
     },
     "execution_count": 3,
     "metadata": {},
     "output_type": "execute_result"
    }
   ],
   "source": [
    "available_serial_ports()"
   ]
  },
  {
   "cell_type": "code",
   "execution_count": 4,
   "id": "6902dd1b-e74d-4cca-b51f-501bb7e2d0f4",
   "metadata": {
    "vscode": {
     "languageId": "plaintext"
    }
   },
   "outputs": [
    {
     "name": "stdout",
     "output_type": "stream",
     "text": [
      "Connection to COM3 is established.\n"
     ]
    }
   ],
   "source": [
    "ser = connect_COM_port(\"COM3\", timeout=1)"
   ]
  },
  {
   "cell_type": "code",
   "execution_count": 5,
   "id": "4d867f1a-a7f6-4e65-aa49-296ab00181ed",
   "metadata": {},
   "outputs": [],
   "source": [
    "def GetFirmwareIDs(serial):\n",
    "    \"\"\"Get firmware IDs\"\"\"\n",
    "    serial.write(bytearray([0xD2, 0x00, 0xD2]))\n",
    "    SystemMessageCallback(serial)"
   ]
  },
  {
   "cell_type": "code",
   "execution_count": 6,
   "id": "98dd4e8f-011d-4617-98a2-12b0e58cee12",
   "metadata": {},
   "outputs": [
    {
     "name": "stdout",
     "output_type": "stream",
     "text": [
      "Command-Acknowledge: Command has been executed successfully\n",
      "message buffer:\n",
      " ['0xd2', '0x1e', '0x1', '0x11', '0x0', '0x19', '0x0', '0xb', '0x40', '0x0', '0x9', '0x0', '0x25', '0x2', '0xc9', '0x0', '0xf', '0x1', '0x11', '0x0', '0x19', '0x0', '0xb', '0x40', '0x0', '0x9', '0x0', '0x25', '0x2', '0xc9', '0x0', '0xf', '0xd2', '0x18', '0x1', '0x83', '0x18']\n",
      "message length:\t 37\n"
     ]
    }
   ],
   "source": [
    "GetFirmwareIDs(ser)"
   ]
  },
  {
   "cell_type": "code",
   "execution_count": 7,
   "id": "600dcd91-e0b9-47b3-ab8b-f228ddccd15b",
   "metadata": {},
   "outputs": [],
   "source": [
    "from default_configurations import configuration_01"
   ]
  },
  {
   "cell_type": "code",
   "execution_count": 21,
   "id": "d98144f6-5cf3-4905-8415-84be46819661",
   "metadata": {},
   "outputs": [],
   "source": [
    "def StartStopMeasurement(serial):\n",
    "    serial.write(bytearray([0xB4, 0x01, 0x01, 0xB4]))\n",
    "    measurement_data_hex = SystemMessageCallback(\n",
    "        serial, prnt_msg=False, ret_hex_int=\"hex\"\n",
    "    )\n",
    "    print(\"Stopping measurement:\")\n",
    "    serial.write(bytearray([0xB4, 0x01, 0x00, 0xB4]))\n",
    "    SystemMessageCallback(serial, prnt_msg=False, ret_hex_int=\"int\")\n",
    "    return measurement_data_hex\n",
    "\n",
    "\n",
    "def StopMeasurement(serial):\n",
    "    serial.write(bytearray([0xB4, 0x01, 0x00, 0xB4]))\n",
    "    SystemMessageCallback(serial)"
   ]
  },
  {
   "cell_type": "code",
   "execution_count": 47,
   "id": "108c8aee-9b06-4264-b699-064847347bd1",
   "metadata": {},
   "outputs": [
    {
     "name": "stdout",
     "output_type": "stream",
     "text": [
      "Command-Acknowledge: Command has been executed successfully\n",
      "message buffer:\n",
      " ['0x18', '0x1', '0x83', '0x18', '0x18', '0x1', '0x83', '0x18', '0x18', '0x1', '0x83', '0x18', '0x18', '0x1', '0x83', '0x18', '0x18', '0x1', '0x83', '0x18', '0x18', '0x1', '0x83', '0x18', '0x18', '0x1', '0x83', '0x18', '0x18', '0x1', '0x83', '0x18', '0x18', '0x1', '0x83', '0x18', '0x18', '0x1', '0x83', '0x18', '0x18', '0x1', '0x83', '0x18', '0x18', '0x1', '0x83', '0x18', '0x18', '0x1', '0x83', '0x18', '0x18', '0x1', '0x83', '0x18', '0x18', '0x1', '0x83', '0x18', '0x18', '0x1', '0x83', '0x18', '0x18', '0x1', '0x83', '0x18', '0x18', '0x1', '0x83', '0x18', '0x18', '0x1', '0x83', '0x18', '0x18', '0x1', '0x83', '0x18', '0x18', '0x1', '0x83', '0x18', '0x18', '0x1', '0x83', '0x18', '0x18', '0x1', '0x83', '0x18', '0x18', '0x1', '0x83', '0x18', '0x18', '0x1', '0x83', '0x18', '0x18', '0x1', '0x83', '0x18', '0x18', '0x1', '0x83', '0x18', '0x18', '0x1', '0x83', '0x18', '0x18', '0x1', '0x83', '0x18', '0x18', '0x1', '0x83', '0x18', '0x18', '0x1', '0x83', '0x18', '0x18', '0x1', '0x83', '0x18', '0x18', '0x1', '0x83', '0x18', '0x18', '0x1', '0x83', '0x18', '0x18', '0x1', '0x83', '0x18', '0x18', '0x1', '0x83', '0x18', '0x18', '0x1', '0x83', '0x18', '0x18', '0x1', '0x83', '0x18', '0x18', '0x1', '0x83', '0x18', '0x18', '0x1', '0x83', '0x18', '0x18', '0x1', '0x83', '0x18', '0xb1', '0x5', '0x3', '0x40', '0x0', '0x0', '0x0', '0xb1', '0x18', '0x1', '0x83', '0x18', '0x18', '0x1', '0x83', '0x18', '0x18', '0x1', '0x83', '0x18', '0x18', '0x1', '0x83', '0x18', '0x18', '0x1', '0x83', '0x18', '0x18', '0x1', '0x83', '0x18', '0x18', '0x1', '0x83', '0x18', '0x18', '0x1', '0x83', '0x18', '0x18', '0x1', '0x83', '0x18', '0x18', '0x1', '0x83', '0x18', '0x18', '0x1', '0x83', '0x18', '0x18', '0x1', '0x83', '0x18', '0x18', '0x1', '0x83', '0x18', '0x18', '0x1', '0x83', '0x18', '0x18', '0x1', '0x83', '0x18', '0x18', '0x1', '0x83', '0x18', '0x18', '0x1', '0x83', '0x18', '0x18', '0x1', '0x83', '0x18', '0x18', '0x1', '0x83', '0x18', '0x18', '0x1', '0x83', '0x18', '0x18', '0x1', '0x83', '0x18', '0x18', '0x1', '0x83', '0x18', '0x18', '0x1', '0x83', '0x18', '0x18', '0x1', '0x83', '0x18', '0x18', '0x1', '0x83', '0x18', '0x18', '0x1', '0x83', '0x18', '0x18', '0x1', '0x83', '0x18', '0x18', '0x1', '0x83', '0x18', '0x18', '0x1', '0x83', '0x18', '0x18', '0x1', '0x83', '0x18', '0x18', '0x1', '0x83', '0x18', '0x18', '0x1', '0x83', '0x18', '0x18', '0x1', '0x83', '0x18', '0x18', '0x1', '0x83', '0x18', '0x18', '0x1', '0x83', '0x18', '0x18', '0x1', '0x83', '0x18', '0x18', '0x1', '0x83', '0x18', '0x18', '0x1', '0x83', '0x18', '0x18', '0x1', '0x83', '0x18', '0x18', '0x1', '0x83', '0x18', '0x18', '0x1', '0x83', '0x18', '0x18', '0x1', '0x83', '0x18', '0x18', '0x1', '0x83', '0x18', '0x18', '0x1', '0x83', '0x18', '0x18', '0x1', '0x83', '0x18', '0xb1', '0x5', '0x3', '0x40', '0x0', '0x0', '0x0', '0xb1', '0x18', '0x1', '0x83', '0x18', '0x18', '0x1', '0x83', '0x18', '0x18', '0x1', '0x83', '0x18', '0x18', '0x1', '0x83', '0x18']\n",
      "message length:\t 376\n"
     ]
    }
   ],
   "source": [
    "configuration_01(ser) #tbd in ender gui\n",
    "SystemMessageCallback(ser)"
   ]
  },
  {
   "cell_type": "code",
   "execution_count": 85,
   "id": "4b76a353-171e-4c9d-8695-7a3579d9ac41",
   "metadata": {},
   "outputs": [
    {
     "data": {
      "text/plain": [
       "6"
      ]
     },
     "execution_count": 85,
     "metadata": {},
     "output_type": "execute_result"
    }
   ],
   "source": [
    "# Write burst count\n",
    "ser.write(bytearray([0xB0, 0x03, 0x02, 0x00, 0x01, 0xB0]))"
   ]
  },
  {
   "cell_type": "code",
   "execution_count": 87,
   "id": "e208dc62-569a-46c1-bc63-727d97d9e576",
   "metadata": {},
   "outputs": [
    {
     "name": "stdout",
     "output_type": "stream",
     "text": [
      "No message inside the message buffer\n"
     ]
    }
   ],
   "source": [
    "SystemMessageCallback(ser)"
   ]
  },
  {
   "cell_type": "code",
   "execution_count": 88,
   "id": "2fcdbcf3-752c-4724-820a-821132a5992b",
   "metadata": {},
   "outputs": [
    {
     "name": "stdout",
     "output_type": "stream",
     "text": [
      "Command-Acknowledge: Command has been executed successfully\n",
      "Stopping measurement:\n",
      "Command-Acknowledge: Command has been executed successfully\n"
     ]
    }
   ],
   "source": [
    "measurement_data_hex = StartStopMeasurement(ser)"
   ]
  },
  {
   "cell_type": "code",
   "execution_count": 89,
   "id": "14b6de2f-d41b-47ae-a91f-e9121a7f8d12",
   "metadata": {},
   "outputs": [
    {
     "data": {
      "text/plain": [
       "17924"
      ]
     },
     "execution_count": 89,
     "metadata": {},
     "output_type": "execute_result"
    }
   ],
   "source": [
    "len(measurement_data_hex)"
   ]
  },
  {
   "cell_type": "code",
   "execution_count": 84,
   "id": "cb5bfdc4-fa4b-4862-bb48-29de6e37a7ab",
   "metadata": {},
   "outputs": [],
   "source": [
    "# np.save('hex_bc_200.npy', measurement_data_hex)"
   ]
  },
  {
   "cell_type": "markdown",
   "id": "2564934b-1545-47de-960e-ae4deea8c657",
   "metadata": {},
   "source": [
    "# Hexcallback"
   ]
  },
  {
   "cell_type": "code",
   "execution_count": 32,
   "id": "e3e471c4-01bb-4e9e-a2eb-8d340becddea",
   "metadata": {},
   "outputs": [],
   "source": [
    "import struct\n",
    "from dataclasses import dataclass\n",
    "from typing import List, Tuple, Union\n",
    "\n",
    "import matplotlib.pyplot as plt\n",
    "import numpy as np"
   ]
  },
  {
   "cell_type": "code",
   "execution_count": 91,
   "id": "3348fb9e-a605-4677-8536-598c1abe052e",
   "metadata": {},
   "outputs": [],
   "source": [
    "measurement_data_hex = np.load(\"hex_bc_1.npy\", allow_pickle=True)"
   ]
  },
  {
   "cell_type": "code",
   "execution_count": 92,
   "id": "ee375311-009d-4ffc-b2f0-958c160931bf",
   "metadata": {},
   "outputs": [
    {
     "data": {
      "text/plain": [
       "array(['0x18', '0x1', '0x83', ..., '0x5d', '0xde', '0xb4'], dtype='<U4')"
      ]
     },
     "execution_count": 92,
     "metadata": {},
     "output_type": "execute_result"
    }
   ],
   "source": [
    "measurement_data_hex"
   ]
  },
  {
   "cell_type": "code",
   "execution_count": 93,
   "id": "7360d0b8-aa0d-4102-a565-75b28cf71345",
   "metadata": {},
   "outputs": [],
   "source": [
    "def del_hex_in_list(lst: list) -> list:\n",
    "    return [\n",
    "        \"0\" + ele.replace(\"0x\", \"\") if len(ele) == 1 else ele.replace(\"0x\", \"\")\n",
    "        for ele in lst\n",
    "    ]\n",
    "\n",
    "\n",
    "def bytesarray_to_float(bytes_array: np.ndarray) -> float:\n",
    "    bytes_array = [int(b, 16) for b in bytes_array]\n",
    "    bytes_array = bytes(bytes_array)\n",
    "    return struct.unpack(\"!f\", bytes(bytes_array))[0]\n",
    "\n",
    "\n",
    "def bytesarray_to_int(bytes_array: np.ndarray) -> int:\n",
    "    bytes_array = bytesarray_to_byteslist(bytes_array)\n",
    "    return int.from_bytes(bytes_array, \"big\")\n",
    "\n",
    "\n",
    "def bytesarray_to_byteslist(bytes_array: np.ndarray) -> list:\n",
    "    bytes_array = [int(b, 16) for b in bytes_array]\n",
    "    return bytes(bytes_array)\n",
    "\n",
    "\n",
    "def reshape_measurement_buffer(lst: list) -> np.ndarray:\n",
    "    idx_b4 = [i for i, ele in enumerate(lst) if ele == \"b4\"]\n",
    "    idx_b4 = np.array(idx_b4)\n",
    "    step = abs(idx_b4[1] - idx_b4[0]) + 1\n",
    "    return np.array(\n",
    "        [lst[i : i + step] for i in range(idx_b4[0], idx_b4[-1] + step, step)],\n",
    "        dtype=list,\n",
    "    )[:-1]\n",
    "\n",
    "\n",
    "@dataclass\n",
    "class BaseSettingForEstimation:\n",
    "    active_channel_groups: np.ndarray\n",
    "    burst_count: int\n",
    "\n",
    "\n",
    "@dataclass\n",
    "class SingleFrame:\n",
    "    start_tag: List[str]\n",
    "    channel_group: str\n",
    "    excitation_stgs: List[str]\n",
    "    frequency_row: List[str]\n",
    "    timestamp: int  # [ms]\n",
    "    ch_1: complex\n",
    "    ch_2: complex\n",
    "    ch_3: complex\n",
    "    ch_4: complex\n",
    "    ch_5: complex\n",
    "    ch_6: complex\n",
    "    ch_7: complex\n",
    "    ch_8: complex\n",
    "    ch_9: complex\n",
    "    ch_10: complex\n",
    "    ch_11: complex\n",
    "    ch_12: complex\n",
    "    ch_13: complex\n",
    "    ch_14: complex\n",
    "    ch_15: complex\n",
    "    ch_16: complex\n",
    "    end_tag: str\n",
    "\n",
    "\n",
    "def parse_single_frame(lst_ele: np.ndarray) -> SingleFrame:\n",
    "    channels = {}\n",
    "    enum = 0\n",
    "    for i in range(11, 135, 8):\n",
    "        enum += 1\n",
    "        channels[f\"ch_{enum}\"] = complex(\n",
    "            bytesarray_to_float(lst_ele[i : i + 4]),\n",
    "            bytesarray_to_float(lst_ele[i + 4 : i + 8]),\n",
    "        )\n",
    "\n",
    "    excitation_stgs = np.array([ele for ele in lst_ele[3:5]])\n",
    "\n",
    "    sgl_frm = SingleFrame(\n",
    "        start_tag=lst_ele[0],\n",
    "        channel_group=int(lst_ele[2]),\n",
    "        excitation_stgs=excitation_stgs,\n",
    "        frequency_row=lst_ele[5:7],\n",
    "        timestamp=bytesarray_to_int(lst_ele[7:11]),\n",
    "        **channels,\n",
    "        end_tag=lst_ele[139],\n",
    "    )\n",
    "    return sgl_frm"
   ]
  },
  {
   "cell_type": "code",
   "execution_count": 94,
   "id": "8740ed88-22c8-4f19-ab03-1061c65bd8af",
   "metadata": {},
   "outputs": [],
   "source": [
    "# base_stgs_for_est = BaseSettingForEstimation(np.array([1]), 1)\n",
    "# base_stgs_for_est"
   ]
  },
  {
   "cell_type": "code",
   "execution_count": 95,
   "id": "93de3109-83b7-4682-be33-e58dd8051fd7",
   "metadata": {},
   "outputs": [],
   "source": [
    "lst = del_hex_in_list(measurement_data_hex)  # tmp[\"data_hex\"]"
   ]
  },
  {
   "cell_type": "code",
   "execution_count": 96,
   "id": "cc7e03db-9e1b-477a-a822-6c2f61045189",
   "metadata": {},
   "outputs": [],
   "source": [
    "l = reshape_measurement_buffer(lst)"
   ]
  },
  {
   "cell_type": "code",
   "execution_count": 97,
   "id": "95448f41-b972-4540-a323-29f929e94665",
   "metadata": {},
   "outputs": [],
   "source": [
    "def get_channel_group_img(reshaped_measurement_buffer: np.ndarray, channel_grout: int):\n",
    "    img = np.empty((0, 16))\n",
    "    for i, sf in enumerate(reshaped_measurement_buffer):\n",
    "        tmp_f = parse_single_frame(sf)\n",
    "        if tmp_f.channel_group == channel_grout:\n",
    "            tmp_f = tmp_f.__dict__\n",
    "            tmp_row = np.array([tmp_f[f\"ch_{ch_n}\"] for ch_n in range(1, 17)])\n",
    "            img = np.vstack((img, abs(tmp_row)))\n",
    "    img = np.delete(np.matrix(img), 0, axis=0)\n",
    "    print(\"Shape:\", img.shape)\n",
    "    return img"
   ]
  },
  {
   "cell_type": "code",
   "execution_count": 98,
   "id": "7f349f88-a358-4cf9-bae9-3d9ed84ca774",
   "metadata": {},
   "outputs": [
    {
     "ename": "error",
     "evalue": "unpack requires a buffer of 4 bytes",
     "output_type": "error",
     "traceback": [
      "\u001b[0;31m---------------------------------------------------------------------------\u001b[0m",
      "\u001b[0;31merror\u001b[0m                                     Traceback (most recent call last)",
      "Input \u001b[0;32mIn [98]\u001b[0m, in \u001b[0;36m<cell line: 1>\u001b[0;34m()\u001b[0m\n\u001b[0;32m----> 1\u001b[0m plt\u001b[38;5;241m.\u001b[39mimshow(\u001b[43mget_channel_group_img\u001b[49m\u001b[43m(\u001b[49m\u001b[43ml\u001b[49m\u001b[43m,\u001b[49m\u001b[43m \u001b[49m\u001b[38;5;241;43m1\u001b[39;49m\u001b[43m)\u001b[49m)\n",
      "Input \u001b[0;32mIn [97]\u001b[0m, in \u001b[0;36mget_channel_group_img\u001b[0;34m(reshaped_measurement_buffer, channel_grout)\u001b[0m\n\u001b[1;32m      2\u001b[0m img \u001b[38;5;241m=\u001b[39m np\u001b[38;5;241m.\u001b[39mempty((\u001b[38;5;241m0\u001b[39m, \u001b[38;5;241m16\u001b[39m))\n\u001b[1;32m      3\u001b[0m \u001b[38;5;28;01mfor\u001b[39;00m i, sf \u001b[38;5;129;01min\u001b[39;00m \u001b[38;5;28menumerate\u001b[39m(reshaped_measurement_buffer):\n\u001b[0;32m----> 4\u001b[0m     tmp_f \u001b[38;5;241m=\u001b[39m \u001b[43mparse_single_frame\u001b[49m\u001b[43m(\u001b[49m\u001b[43msf\u001b[49m\u001b[43m)\u001b[49m\n\u001b[1;32m      5\u001b[0m     \u001b[38;5;28;01mif\u001b[39;00m tmp_f\u001b[38;5;241m.\u001b[39mchannel_group \u001b[38;5;241m==\u001b[39m channel_grout:\n\u001b[1;32m      6\u001b[0m         tmp_f \u001b[38;5;241m=\u001b[39m tmp_f\u001b[38;5;241m.\u001b[39m\u001b[38;5;18m__dict__\u001b[39m\n",
      "Input \u001b[0;32mIn [93]\u001b[0m, in \u001b[0;36mparse_single_frame\u001b[0;34m(lst_ele)\u001b[0m\n\u001b[1;32m     69\u001b[0m \u001b[38;5;28;01mfor\u001b[39;00m i \u001b[38;5;129;01min\u001b[39;00m \u001b[38;5;28mrange\u001b[39m(\u001b[38;5;241m11\u001b[39m, \u001b[38;5;241m135\u001b[39m, \u001b[38;5;241m8\u001b[39m):\n\u001b[1;32m     70\u001b[0m     enum \u001b[38;5;241m+\u001b[39m\u001b[38;5;241m=\u001b[39m \u001b[38;5;241m1\u001b[39m\n\u001b[1;32m     71\u001b[0m     channels[\u001b[38;5;124mf\u001b[39m\u001b[38;5;124m\"\u001b[39m\u001b[38;5;124mch_\u001b[39m\u001b[38;5;132;01m{\u001b[39;00menum\u001b[38;5;132;01m}\u001b[39;00m\u001b[38;5;124m\"\u001b[39m] \u001b[38;5;241m=\u001b[39m \u001b[38;5;28mcomplex\u001b[39m(\n\u001b[0;32m---> 72\u001b[0m         \u001b[43mbytesarray_to_float\u001b[49m\u001b[43m(\u001b[49m\u001b[43mlst_ele\u001b[49m\u001b[43m[\u001b[49m\u001b[43mi\u001b[49m\u001b[43m \u001b[49m\u001b[43m:\u001b[49m\u001b[43m \u001b[49m\u001b[43mi\u001b[49m\u001b[43m \u001b[49m\u001b[38;5;241;43m+\u001b[39;49m\u001b[43m \u001b[49m\u001b[38;5;241;43m4\u001b[39;49m\u001b[43m]\u001b[49m\u001b[43m)\u001b[49m,\n\u001b[1;32m     73\u001b[0m         bytesarray_to_float(lst_ele[i \u001b[38;5;241m+\u001b[39m \u001b[38;5;241m4\u001b[39m : i \u001b[38;5;241m+\u001b[39m \u001b[38;5;241m8\u001b[39m]),\n\u001b[1;32m     74\u001b[0m     )\n\u001b[1;32m     76\u001b[0m excitation_stgs \u001b[38;5;241m=\u001b[39m np\u001b[38;5;241m.\u001b[39marray([ele \u001b[38;5;28;01mfor\u001b[39;00m ele \u001b[38;5;129;01min\u001b[39;00m lst_ele[\u001b[38;5;241m3\u001b[39m:\u001b[38;5;241m5\u001b[39m]])\n\u001b[1;32m     78\u001b[0m sgl_frm \u001b[38;5;241m=\u001b[39m SingleFrame(\n\u001b[1;32m     79\u001b[0m     start_tag\u001b[38;5;241m=\u001b[39mlst_ele[\u001b[38;5;241m0\u001b[39m],\n\u001b[1;32m     80\u001b[0m     channel_group\u001b[38;5;241m=\u001b[39m\u001b[38;5;28mint\u001b[39m(lst_ele[\u001b[38;5;241m2\u001b[39m]),\n\u001b[0;32m   (...)\u001b[0m\n\u001b[1;32m     85\u001b[0m     end_tag\u001b[38;5;241m=\u001b[39mlst_ele[\u001b[38;5;241m139\u001b[39m],\n\u001b[1;32m     86\u001b[0m )\n",
      "Input \u001b[0;32mIn [93]\u001b[0m, in \u001b[0;36mbytesarray_to_float\u001b[0;34m(bytes_array)\u001b[0m\n\u001b[1;32m      9\u001b[0m bytes_array \u001b[38;5;241m=\u001b[39m [\u001b[38;5;28mint\u001b[39m(b, \u001b[38;5;241m16\u001b[39m) \u001b[38;5;28;01mfor\u001b[39;00m b \u001b[38;5;129;01min\u001b[39;00m bytes_array]\n\u001b[1;32m     10\u001b[0m bytes_array \u001b[38;5;241m=\u001b[39m \u001b[38;5;28mbytes\u001b[39m(bytes_array)\n\u001b[0;32m---> 11\u001b[0m \u001b[38;5;28;01mreturn\u001b[39;00m \u001b[43mstruct\u001b[49m\u001b[38;5;241;43m.\u001b[39;49m\u001b[43munpack\u001b[49m\u001b[43m(\u001b[49m\u001b[38;5;124;43m\"\u001b[39;49m\u001b[38;5;124;43m!f\u001b[39;49m\u001b[38;5;124;43m\"\u001b[39;49m\u001b[43m,\u001b[49m\u001b[43m \u001b[49m\u001b[38;5;28;43mbytes\u001b[39;49m\u001b[43m(\u001b[49m\u001b[43mbytes_array\u001b[49m\u001b[43m)\u001b[49m\u001b[43m)\u001b[49m[\u001b[38;5;241m0\u001b[39m]\n",
      "\u001b[0;31merror\u001b[0m: unpack requires a buffer of 4 bytes"
     ]
    }
   ],
   "source": [
    "plt.imshow(get_channel_group_img(l, 1))"
   ]
  },
  {
   "cell_type": "code",
   "execution_count": 99,
   "id": "b471726e-d46f-48c3-b9ea-472c6c4c6f24",
   "metadata": {},
   "outputs": [
    {
     "ename": "error",
     "evalue": "unpack requires a buffer of 4 bytes",
     "output_type": "error",
     "traceback": [
      "\u001b[0;31m---------------------------------------------------------------------------\u001b[0m",
      "\u001b[0;31merror\u001b[0m                                     Traceback (most recent call last)",
      "Input \u001b[0;32mIn [99]\u001b[0m, in \u001b[0;36m<cell line: 1>\u001b[0;34m()\u001b[0m\n\u001b[0;32m----> 1\u001b[0m \u001b[43mparse_single_frame\u001b[49m\u001b[43m(\u001b[49m\u001b[43ml\u001b[49m\u001b[43m[\u001b[49m\u001b[38;5;241;43m2\u001b[39;49m\u001b[43m]\u001b[49m\u001b[43m)\u001b[49m\n",
      "Input \u001b[0;32mIn [93]\u001b[0m, in \u001b[0;36mparse_single_frame\u001b[0;34m(lst_ele)\u001b[0m\n\u001b[1;32m     69\u001b[0m \u001b[38;5;28;01mfor\u001b[39;00m i \u001b[38;5;129;01min\u001b[39;00m \u001b[38;5;28mrange\u001b[39m(\u001b[38;5;241m11\u001b[39m, \u001b[38;5;241m135\u001b[39m, \u001b[38;5;241m8\u001b[39m):\n\u001b[1;32m     70\u001b[0m     enum \u001b[38;5;241m+\u001b[39m\u001b[38;5;241m=\u001b[39m \u001b[38;5;241m1\u001b[39m\n\u001b[1;32m     71\u001b[0m     channels[\u001b[38;5;124mf\u001b[39m\u001b[38;5;124m\"\u001b[39m\u001b[38;5;124mch_\u001b[39m\u001b[38;5;132;01m{\u001b[39;00menum\u001b[38;5;132;01m}\u001b[39;00m\u001b[38;5;124m\"\u001b[39m] \u001b[38;5;241m=\u001b[39m \u001b[38;5;28mcomplex\u001b[39m(\n\u001b[0;32m---> 72\u001b[0m         \u001b[43mbytesarray_to_float\u001b[49m\u001b[43m(\u001b[49m\u001b[43mlst_ele\u001b[49m\u001b[43m[\u001b[49m\u001b[43mi\u001b[49m\u001b[43m \u001b[49m\u001b[43m:\u001b[49m\u001b[43m \u001b[49m\u001b[43mi\u001b[49m\u001b[43m \u001b[49m\u001b[38;5;241;43m+\u001b[39;49m\u001b[43m \u001b[49m\u001b[38;5;241;43m4\u001b[39;49m\u001b[43m]\u001b[49m\u001b[43m)\u001b[49m,\n\u001b[1;32m     73\u001b[0m         bytesarray_to_float(lst_ele[i \u001b[38;5;241m+\u001b[39m \u001b[38;5;241m4\u001b[39m : i \u001b[38;5;241m+\u001b[39m \u001b[38;5;241m8\u001b[39m]),\n\u001b[1;32m     74\u001b[0m     )\n\u001b[1;32m     76\u001b[0m excitation_stgs \u001b[38;5;241m=\u001b[39m np\u001b[38;5;241m.\u001b[39marray([ele \u001b[38;5;28;01mfor\u001b[39;00m ele \u001b[38;5;129;01min\u001b[39;00m lst_ele[\u001b[38;5;241m3\u001b[39m:\u001b[38;5;241m5\u001b[39m]])\n\u001b[1;32m     78\u001b[0m sgl_frm \u001b[38;5;241m=\u001b[39m SingleFrame(\n\u001b[1;32m     79\u001b[0m     start_tag\u001b[38;5;241m=\u001b[39mlst_ele[\u001b[38;5;241m0\u001b[39m],\n\u001b[1;32m     80\u001b[0m     channel_group\u001b[38;5;241m=\u001b[39m\u001b[38;5;28mint\u001b[39m(lst_ele[\u001b[38;5;241m2\u001b[39m]),\n\u001b[0;32m   (...)\u001b[0m\n\u001b[1;32m     85\u001b[0m     end_tag\u001b[38;5;241m=\u001b[39mlst_ele[\u001b[38;5;241m139\u001b[39m],\n\u001b[1;32m     86\u001b[0m )\n",
      "Input \u001b[0;32mIn [93]\u001b[0m, in \u001b[0;36mbytesarray_to_float\u001b[0;34m(bytes_array)\u001b[0m\n\u001b[1;32m      9\u001b[0m bytes_array \u001b[38;5;241m=\u001b[39m [\u001b[38;5;28mint\u001b[39m(b, \u001b[38;5;241m16\u001b[39m) \u001b[38;5;28;01mfor\u001b[39;00m b \u001b[38;5;129;01min\u001b[39;00m bytes_array]\n\u001b[1;32m     10\u001b[0m bytes_array \u001b[38;5;241m=\u001b[39m \u001b[38;5;28mbytes\u001b[39m(bytes_array)\n\u001b[0;32m---> 11\u001b[0m \u001b[38;5;28;01mreturn\u001b[39;00m \u001b[43mstruct\u001b[49m\u001b[38;5;241;43m.\u001b[39;49m\u001b[43munpack\u001b[49m\u001b[43m(\u001b[49m\u001b[38;5;124;43m\"\u001b[39;49m\u001b[38;5;124;43m!f\u001b[39;49m\u001b[38;5;124;43m\"\u001b[39;49m\u001b[43m,\u001b[49m\u001b[43m \u001b[49m\u001b[38;5;28;43mbytes\u001b[39;49m\u001b[43m(\u001b[49m\u001b[43mbytes_array\u001b[49m\u001b[43m)\u001b[49m\u001b[43m)\u001b[49m[\u001b[38;5;241m0\u001b[39m]\n",
      "\u001b[0;31merror\u001b[0m: unpack requires a buffer of 4 bytes"
     ]
    }
   ],
   "source": [
    "parse_single_frame(l[2])"
   ]
  },
  {
   "cell_type": "code",
   "execution_count": 100,
   "id": "efc4619a-c7b6-48ec-9856-1a68f41ff076",
   "metadata": {},
   "outputs": [
    {
     "data": {
      "text/plain": [
       "134"
      ]
     },
     "execution_count": 100,
     "metadata": {},
     "output_type": "execute_result"
    }
   ],
   "source": [
    "len(l)#1"
   ]
  },
  {
   "cell_type": "code",
   "execution_count": 90,
   "id": "decd45fb-ca10-48be-9b1b-09098abe3910",
   "metadata": {},
   "outputs": [
    {
     "data": {
      "text/plain": [
       "287"
      ]
     },
     "execution_count": 90,
     "metadata": {},
     "output_type": "execute_result"
    }
   ],
   "source": [
    "len(l)#2"
   ]
  },
  {
   "cell_type": "code",
   "execution_count": 101,
   "id": "89c61349-a321-4a22-aaf8-42de0c35aebe",
   "metadata": {},
   "outputs": [
    {
     "data": {
      "text/plain": [
       "268"
      ]
     },
     "execution_count": 101,
     "metadata": {},
     "output_type": "execute_result"
    }
   ],
   "source": [
    "134*2"
   ]
  },
  {
   "cell_type": "code",
   "execution_count": 102,
   "id": "3dbcd4cd-ef52-4518-9096-ecc36f6dfbb6",
   "metadata": {},
   "outputs": [
    {
     "data": {
      "text/plain": [
       "19"
      ]
     },
     "execution_count": 102,
     "metadata": {},
     "output_type": "execute_result"
    }
   ],
   "source": [
    "287-268"
   ]
  },
  {
   "cell_type": "code",
   "execution_count": null,
   "id": "cf90ce56-7e02-40cc-b1ae-3b98847df1a5",
   "metadata": {},
   "outputs": [],
   "source": []
  }
 ],
 "metadata": {
  "kernelspec": {
   "display_name": "Python 3 (ipykernel)",
   "language": "python",
   "name": "python3"
  },
  "language_info": {
   "codemirror_mode": {
    "name": "ipython",
    "version": 3
   },
   "file_extension": ".py",
   "mimetype": "text/x-python",
   "name": "python",
   "nbconvert_exporter": "python",
   "pygments_lexer": "ipython3",
   "version": "3.9.12"
  }
 },
 "nbformat": 4,
 "nbformat_minor": 5
}
