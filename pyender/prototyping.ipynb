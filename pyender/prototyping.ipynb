{
 "cells": [
  {
   "cell_type": "code",
   "execution_count": 1,
   "id": "c463ae14-6175-405a-8037-e0808591b3bb",
   "metadata": {},
   "outputs": [],
   "source": [
    "try:\n",
    "    import serial\n",
    "    from serial import Serial\n",
    "except ImportError:\n",
    "    print(\"Could not import module: serial\")\n",
    "\n",
    "    \n",
    "import time\n",
    "from datetime import datetime\n",
    "import numpy as np\n",
    "import matplotlib.pyplot as plt\n",
    "import sys\n",
    "\n",
    "# https://reprap.org/wiki/G-code#M17:_Enable.2FPower_all_stepper_motors"
   ]
  },
  {
   "cell_type": "code",
   "execution_count": 2,
   "id": "8adc1bfa-ea60-4537-946e-cce543043608",
   "metadata": {},
   "outputs": [],
   "source": [
    "def available_serial_ports() -> list:\n",
    "    \"\"\"Lists serial port names\n",
    "\n",
    "    :raises EnvironmentError:\n",
    "        On unsupported or unknown platforms\n",
    "    :returns:\n",
    "        A list of the serial ports available on the system\n",
    "    \"\"\"\n",
    "    if sys.platform.startswith(\"win\"):\n",
    "        ports = [\"COM%s\" % (i + 1) for i in range(256)]\n",
    "    elif sys.platform.startswith(\"linux\") or sys.platform.startswith(\"cygwin\"):\n",
    "        # this excludes your current terminal \"/dev/tty\"\n",
    "        ports = glob.glob(\"/dev/tty[A-Za-z]*\")\n",
    "    elif sys.platform.startswith(\"darwin\"):\n",
    "        ports = glob.glob(\"/dev/tty.*\")\n",
    "    else:\n",
    "        raise EnvironmentError(\"Unsupported platform\")\n",
    "\n",
    "    result = []\n",
    "    for port in ports:\n",
    "        try:\n",
    "            s = serial.Serial(port)\n",
    "            s.close()\n",
    "            result.append(port)\n",
    "        except (OSError, serial.SerialException):\n",
    "            pass\n",
    "    return result\n",
    "\n",
    "def connect_COM_port(port: str = \"COM4\", baudrate: int = 115200, timeout: int = 1):\n",
    "    \"\"\"\n",
    "    Etablishes a serial connection to a given com port.\n",
    "    Returnes the serial connection\n",
    "    \"\"\"\n",
    "\n",
    "    ser = serial.Serial(\n",
    "        port=port,\n",
    "        baudrate=baudrate,\n",
    "        parity=serial.PARITY_NONE,\n",
    "        stopbits=serial.STOPBITS_ONE,\n",
    "        bytesize=serial.EIGHTBITS,\n",
    "    )\n",
    "\n",
    "    print(\"Connection to\", ser.name, \"is established.\")\n",
    "    return ser"
   ]
  },
  {
   "cell_type": "code",
   "execution_count": 3,
   "id": "48f4b236-0462-4798-9bb7-e203e0151439",
   "metadata": {},
   "outputs": [
    {
     "data": {
      "text/plain": [
       "['COM1', 'COM4']"
      ]
     },
     "execution_count": 3,
     "metadata": {},
     "output_type": "execute_result"
    }
   ],
   "source": [
    "available_serial_ports()"
   ]
  },
  {
   "cell_type": "code",
   "execution_count": 4,
   "id": "68af4f5b-f2d7-42a8-a619-4b914266b753",
   "metadata": {},
   "outputs": [],
   "source": [
    "#ser = connect_COM_port(port=\"COM4\")"
   ]
  },
  {
   "cell_type": "markdown",
   "id": "d174f4a6-ec93-45fe-b5dd-0052542e7c15",
   "metadata": {},
   "source": [
    "# Printer settings\n",
    "- Port: COM4\n",
    "- Baudrate: 115200"
   ]
  },
  {
   "cell_type": "code",
   "execution_count": 6,
   "id": "8e0dc301-8cb6-4b11-8a0c-0ba6766364ef",
   "metadata": {},
   "outputs": [],
   "source": [
    "## Commands for Ender 5\n",
    "\n",
    "def move_to_absolute_x(x_abs, F_mm_min:int=1500):\n",
    "    \"\"\"\n",
    "    x_abs : absolute x position\n",
    "    F_mm_min : movement speed in [mm/min]\n",
    "    \"\"\"\n",
    "    command(ser, f\"G0 X{x_abs} F{F_mm_min}\\r\\n\")\n",
    "    \n",
    "def move_to_absolute_y(y_abs, F_mm_min:int=1500):\n",
    "    \"\"\"\n",
    "    x_abs : absolute x position\n",
    "    F_mm_min : movement speed in [mm/min]\n",
    "    \"\"\"\n",
    "    command(ser, f\"G0 Y{y_abs} F{F_mm_min}\\r\\n\")\n",
    "    \n",
    "def move_to_absolute_z(z_abs, F_mm_min:int=1500):\n",
    "    \"\"\"\n",
    "    x_abs : absolute x position\n",
    "    F_mm_min : movement speed in [mm/min]\n",
    "    \"\"\"\n",
    "    command(ser, f\"G0 Z{z_abs} F{F_mm_min}\\r\\n\")\n",
    "\n",
    "def move_to_absolute_x_y(x_abs, y_abs, F_mm_min:int=1500):\n",
    "    \"\"\"\n",
    "    x_abs : absolute x position\n",
    "    y_abs : absolute y position\n",
    "    F_mm_min : movement speed in [mm/min]\n",
    "    \"\"\"\n",
    "    command(ser, f\"G0 X{x_abs} Y{y_abs} F{F_mm_min}\\r\\n\")\n",
    "\n",
    "def disable_steppers():\n",
    "    command(ser, \"M18 X Y Z E\\r\\n\")\n",
    "    \n",
    "def enable_steppers():\n",
    "    command(ser, \"M17 X Y Z E\\r\\n\")\n",
    "    \n",
    "def x_y_home(F_mm_min:int=1500):\n",
    "    command(ser, f\"G28 X0 Y0 F{F_mm_min}\\r\\n\")\n",
    "\n",
    "def x_y_center(F_mm_min:int=1500):\n",
    "    command(ser, f\"G0 X180 Y180 F{F_mm_min}\\r\\n\")\n",
    "    \n",
    "def turn_of_fan():\n",
    "    command(ser, \"M106 S0\\r\\n\")\n",
    "    \n",
    "def init_axis():\n",
    "    x_y_home()\n",
    "    x_y_center()\n",
    "    turn_of_fan()\n",
    "    print(\"X,Y axis are centered at X(180), Y(180)\")\n",
    "\n",
    "def circle_clockwise(X,Y,I=180,J=180, F_mm_min:int=1500, clock:bool=True):\n",
    "    \"\"\"\n",
    "    clock : True = clockwise, False = counter-clockwise\n",
    "    X : The position to move to on the X axis\n",
    "    Y : The position to move to on the Y axis\n",
    "    I : The point in X space from the current X position to maintain a constant distance from\n",
    "    J : The point in Y space from the current Y position to maintain a constant distance from\n",
    "    F_mm_min : The feedrate per minute of the move between the starting point and ending point (if supplied)\n",
    "    \"\"\"\n",
    "    if clock:\n",
    "        command(ser, f\"G2 X{X} Y{Y} I{I} J{J} F{F_mm_min}\\r\\n\")\n",
    "    else:\n",
    "        command(ser, f\"G3 X{X} Y{Y} I{I} J{J} F{F_mm_min}\\r\\n\")\n",
    "        \n",
    "def command(ser, command):\n",
    "    start_time = datetime.now()\n",
    "    ser.write(str.encode(command)) \n",
    "    time.sleep(1)\n",
    "    while True:\n",
    "        line = ser.readline()\n",
    "        print(line)\n",
    "\n",
    "        if line == b'ok\\n':\n",
    "            break"
   ]
  },
  {
   "cell_type": "code",
   "execution_count": 7,
   "id": "ceb2d049-1c5a-46d8-9503-35109a6da66c",
   "metadata": {},
   "outputs": [],
   "source": [
    "ser = serial.Serial('COM4', 115200)\n",
    "time.sleep(1)"
   ]
  },
  {
   "cell_type": "code",
   "execution_count": 195,
   "id": "1feb6b52-9c09-4203-b553-317c787d563e",
   "metadata": {},
   "outputs": [],
   "source": [
    "# Math commands\n",
    "\n",
    "def compute_abs_x_y_from_r_phi(r,phi_step)-> np.ndarray:\n",
    "    \"\"\"\n",
    "    Returns a P(x,y) array with the relating trajectory positions.\n",
    "    Fixpoint/start is the Ender 5 center at P(180,180)\n",
    "    \n",
    "    r : absolute radial movement trajectory [mm]\n",
    "    phi_step : angle step [°]\n",
    "    \n",
    "    returns:\n",
    "        P_xy : Array with x,y steps\n",
    "    \"\"\"\n",
    "    x0,y0 = 180,180\n",
    "    angles = np.radians(np.arange(0,360,phi_step))\n",
    "    x = r*np.cos(angles)+x0\n",
    "    y = r*np.sin(angles)+y0\n",
    "    print(\"Number of measurement points:\", len(x))\n",
    "    return x,y"
   ]
  },
  {
   "cell_type": "code",
   "execution_count": 196,
   "id": "41685c25-bccc-4bc2-9092-3a5ef9b56459",
   "metadata": {},
   "outputs": [
    {
     "name": "stdout",
     "output_type": "stream",
     "text": [
      "Number of measurement points: 36\n"
     ]
    }
   ],
   "source": [
    "x,y = compute_abs_x_y_from_r_phi(10,10)"
   ]
  },
  {
   "cell_type": "code",
   "execution_count": 197,
   "id": "6978deb3-5a07-4929-8d0a-3cfd294343f2",
   "metadata": {},
   "outputs": [],
   "source": [
    "def plot_x_y_circle(x,y):\n",
    "    plt.figure(figsize=(8,8))\n",
    "    plt.xlim((0,350))\n",
    "    plt.grid()\n",
    "    plt.vlines(180,0,500,  linestyles='dotted', color=\"black\")\n",
    "    plt.hlines(180,0,500,  linestyles='dotted', color=\"black\")\n",
    "    plt.ylim((0,350))\n",
    "    plt.xlabel(\"absolute x[mm]\")\n",
    "    \n",
    "    plt.ylabel(\"absolute y[mm]\")\n",
    "    plt.scatter(x,y, label=\"Measurement points\", marker='*')\n",
    "    plt.legend()\n",
    "    plt.show()"
   ]
  },
  {
   "cell_type": "code",
   "execution_count": 198,
   "id": "d4c3de2e-ffff-40cf-ac1d-8a3005ffe263",
   "metadata": {},
   "outputs": [
    {
     "name": "stdout",
     "output_type": "stream",
     "text": [
      "b'echo:busy: processing\\n'\n",
      "b'echo:busy: processing\\n'\n",
      "b'echo:busy: processing\\n'\n",
      "b'echo:busy: processing\\n'\n",
      "b'X:360.00 Y:360.00 Z:5.00 E:0.00 Count X:28800 Y:28800 Z:4000\\n'\n",
      "b'ok\\n'\n",
      "b'ok\\n'\n",
      "b'ok\\n'\n",
      "X,Y axis are centered at X(180), Y(180)\n"
     ]
    }
   ],
   "source": [
    "init_axis()"
   ]
  },
  {
   "cell_type": "code",
   "execution_count": 204,
   "id": "b9e2bcac-988d-47ba-a99b-5ab36411f297",
   "metadata": {},
   "outputs": [
    {
     "name": "stdout",
     "output_type": "stream",
     "text": [
      "Number of measurement points: 18\n"
     ]
    },
    {
     "data": {
      "image/png": "[encoded data removed]",
      "text/plain": [
       "<Figure size 800x800 with 1 Axes>"
      ]
     },
     "metadata": {},
     "output_type": "display_data"
    }
   ],
   "source": [
    "x,y = compute_abs_x_y_from_r_phi(50,20) # r = 50mm\n",
    "plot_x_y_circle(x,y)"
   ]
  },
  {
   "cell_type": "code",
   "execution_count": 205,
   "id": "5c552df6-4e7b-4398-8345-0a8be775545a",
   "metadata": {},
   "outputs": [
    {
     "name": "stdout",
     "output_type": "stream",
     "text": [
      "b'ok\\n'\n",
      "Start/Stop Measure at P(230.0,180.0).\n",
      "b'ok\\n'\n",
      "Start/Stop Measure at P(226.98,197.1).\n",
      "b'ok\\n'\n",
      "Start/Stop Measure at P(218.3,212.14).\n",
      "b'ok\\n'\n",
      "Start/Stop Measure at P(205.0,223.3).\n",
      "b'ok\\n'\n",
      "Start/Stop Measure at P(188.68,229.24).\n",
      "b'ok\\n'\n",
      "Start/Stop Measure at P(171.32,229.24).\n",
      "b'ok\\n'\n",
      "Start/Stop Measure at P(155.0,223.3).\n",
      "b'ok\\n'\n",
      "Start/Stop Measure at P(141.7,212.14).\n",
      "b'ok\\n'\n",
      "Start/Stop Measure at P(133.02,197.1).\n",
      "b'ok\\n'\n",
      "Start/Stop Measure at P(130.0,180.0).\n",
      "b'ok\\n'\n",
      "Start/Stop Measure at P(133.02,162.9).\n",
      "b'ok\\n'\n",
      "Start/Stop Measure at P(141.7,147.86).\n",
      "b'ok\\n'\n",
      "Start/Stop Measure at P(155.0,136.7).\n",
      "b'ok\\n'\n",
      "Start/Stop Measure at P(171.32,130.76).\n",
      "b'ok\\n'\n",
      "Start/Stop Measure at P(188.68,130.76).\n",
      "b'ok\\n'\n",
      "Start/Stop Measure at P(205.0,136.7).\n",
      "b'ok\\n'\n",
      "Start/Stop Measure at P(218.3,147.86).\n",
      "b'ok\\n'\n",
      "Start/Stop Measure at P(226.98,162.9).\n"
     ]
    }
   ],
   "source": [
    "for x_step,y_step in zip(x,y):\n",
    "    move_to_absolute_x_y(x_step, y_step)\n",
    "    print(f\"Start/Stop Measure at P({np.round(x_step,2)},{np.round(y_step,2)}).\")\n",
    "    \n",
    "print(\"Finished\")"
   ]
  }
 ],
 "metadata": {
  "kernelspec": {
   "display_name": "Python 3 (ipykernel)",
   "language": "python",
   "name": "python3"
  },
  "language_info": {
   "codemirror_mode": {
    "name": "ipython",
    "version": 3
   },
   "file_extension": ".py",
   "mimetype": "text/x-python",
   "name": "python",
   "nbconvert_exporter": "python",
   "pygments_lexer": "ipython3",
   "version": "3.9.13"
  }
 },
 "nbformat": 4,
 "nbformat_minor": 5
}
